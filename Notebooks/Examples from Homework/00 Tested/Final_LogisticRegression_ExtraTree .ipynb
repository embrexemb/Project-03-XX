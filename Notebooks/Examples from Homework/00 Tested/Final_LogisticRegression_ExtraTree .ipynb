{
 "cells": [
  {
   "cell_type": "code",
   "execution_count": 1,
   "metadata": {},
   "outputs": [],
   "source": [
    "import pandas as pd\n",
    "\n",
    "# Hide warning messages in notebook\n",
    "import warnings\n",
    "warnings.filterwarnings('ignore')"
   ]
  },
  {
   "cell_type": "markdown",
   "metadata": {},
   "source": [
    "# Read the CSV and Perform Basic Data Cleaning"
   ]
  },
  {
   "cell_type": "code",
   "execution_count": 2,
   "metadata": {},
   "outputs": [
    {
     "data": {
      "text/html": [
       "<div>\n",
       "<style scoped>\n",
       "    .dataframe tbody tr th:only-of-type {\n",
       "        vertical-align: middle;\n",
       "    }\n",
       "\n",
       "    .dataframe tbody tr th {\n",
       "        vertical-align: top;\n",
       "    }\n",
       "\n",
       "    .dataframe thead th {\n",
       "        text-align: right;\n",
       "    }\n",
       "</style>\n",
       "<table border=\"1\" class=\"dataframe\">\n",
       "  <thead>\n",
       "    <tr style=\"text-align: right;\">\n",
       "      <th></th>\n",
       "      <th>koi_disposition</th>\n",
       "      <th>koi_fpflag_nt</th>\n",
       "      <th>koi_fpflag_ss</th>\n",
       "      <th>koi_fpflag_co</th>\n",
       "      <th>koi_fpflag_ec</th>\n",
       "      <th>koi_period</th>\n",
       "      <th>koi_period_err1</th>\n",
       "      <th>koi_period_err2</th>\n",
       "      <th>koi_time0bk</th>\n",
       "      <th>koi_time0bk_err1</th>\n",
       "      <th>...</th>\n",
       "      <th>koi_steff_err2</th>\n",
       "      <th>koi_slogg</th>\n",
       "      <th>koi_slogg_err1</th>\n",
       "      <th>koi_slogg_err2</th>\n",
       "      <th>koi_srad</th>\n",
       "      <th>koi_srad_err1</th>\n",
       "      <th>koi_srad_err2</th>\n",
       "      <th>ra</th>\n",
       "      <th>dec</th>\n",
       "      <th>koi_kepmag</th>\n",
       "    </tr>\n",
       "  </thead>\n",
       "  <tbody>\n",
       "    <tr>\n",
       "      <th>0</th>\n",
       "      <td>CONFIRMED</td>\n",
       "      <td>0</td>\n",
       "      <td>0</td>\n",
       "      <td>0</td>\n",
       "      <td>0</td>\n",
       "      <td>54.418383</td>\n",
       "      <td>2.479000e-04</td>\n",
       "      <td>-2.479000e-04</td>\n",
       "      <td>162.513840</td>\n",
       "      <td>0.003520</td>\n",
       "      <td>...</td>\n",
       "      <td>-81</td>\n",
       "      <td>4.467</td>\n",
       "      <td>0.064</td>\n",
       "      <td>-0.096</td>\n",
       "      <td>0.927</td>\n",
       "      <td>0.105</td>\n",
       "      <td>-0.061</td>\n",
       "      <td>291.93423</td>\n",
       "      <td>48.141651</td>\n",
       "      <td>15.347</td>\n",
       "    </tr>\n",
       "    <tr>\n",
       "      <th>1</th>\n",
       "      <td>FALSE POSITIVE</td>\n",
       "      <td>0</td>\n",
       "      <td>1</td>\n",
       "      <td>0</td>\n",
       "      <td>0</td>\n",
       "      <td>19.899140</td>\n",
       "      <td>1.490000e-05</td>\n",
       "      <td>-1.490000e-05</td>\n",
       "      <td>175.850252</td>\n",
       "      <td>0.000581</td>\n",
       "      <td>...</td>\n",
       "      <td>-176</td>\n",
       "      <td>4.544</td>\n",
       "      <td>0.044</td>\n",
       "      <td>-0.176</td>\n",
       "      <td>0.868</td>\n",
       "      <td>0.233</td>\n",
       "      <td>-0.078</td>\n",
       "      <td>297.00482</td>\n",
       "      <td>48.134129</td>\n",
       "      <td>15.436</td>\n",
       "    </tr>\n",
       "    <tr>\n",
       "      <th>2</th>\n",
       "      <td>FALSE POSITIVE</td>\n",
       "      <td>0</td>\n",
       "      <td>1</td>\n",
       "      <td>0</td>\n",
       "      <td>0</td>\n",
       "      <td>1.736952</td>\n",
       "      <td>2.630000e-07</td>\n",
       "      <td>-2.630000e-07</td>\n",
       "      <td>170.307565</td>\n",
       "      <td>0.000115</td>\n",
       "      <td>...</td>\n",
       "      <td>-174</td>\n",
       "      <td>4.564</td>\n",
       "      <td>0.053</td>\n",
       "      <td>-0.168</td>\n",
       "      <td>0.791</td>\n",
       "      <td>0.201</td>\n",
       "      <td>-0.067</td>\n",
       "      <td>285.53461</td>\n",
       "      <td>48.285210</td>\n",
       "      <td>15.597</td>\n",
       "    </tr>\n",
       "    <tr>\n",
       "      <th>3</th>\n",
       "      <td>CONFIRMED</td>\n",
       "      <td>0</td>\n",
       "      <td>0</td>\n",
       "      <td>0</td>\n",
       "      <td>0</td>\n",
       "      <td>2.525592</td>\n",
       "      <td>3.760000e-06</td>\n",
       "      <td>-3.760000e-06</td>\n",
       "      <td>171.595550</td>\n",
       "      <td>0.001130</td>\n",
       "      <td>...</td>\n",
       "      <td>-211</td>\n",
       "      <td>4.438</td>\n",
       "      <td>0.070</td>\n",
       "      <td>-0.210</td>\n",
       "      <td>1.046</td>\n",
       "      <td>0.334</td>\n",
       "      <td>-0.133</td>\n",
       "      <td>288.75488</td>\n",
       "      <td>48.226200</td>\n",
       "      <td>15.509</td>\n",
       "    </tr>\n",
       "    <tr>\n",
       "      <th>4</th>\n",
       "      <td>CONFIRMED</td>\n",
       "      <td>0</td>\n",
       "      <td>0</td>\n",
       "      <td>0</td>\n",
       "      <td>0</td>\n",
       "      <td>4.134435</td>\n",
       "      <td>1.050000e-05</td>\n",
       "      <td>-1.050000e-05</td>\n",
       "      <td>172.979370</td>\n",
       "      <td>0.001900</td>\n",
       "      <td>...</td>\n",
       "      <td>-232</td>\n",
       "      <td>4.486</td>\n",
       "      <td>0.054</td>\n",
       "      <td>-0.229</td>\n",
       "      <td>0.972</td>\n",
       "      <td>0.315</td>\n",
       "      <td>-0.105</td>\n",
       "      <td>296.28613</td>\n",
       "      <td>48.224670</td>\n",
       "      <td>15.714</td>\n",
       "    </tr>\n",
       "  </tbody>\n",
       "</table>\n",
       "<p>5 rows × 41 columns</p>\n",
       "</div>"
      ],
      "text/plain": [
       "  koi_disposition  koi_fpflag_nt  koi_fpflag_ss  koi_fpflag_co  koi_fpflag_ec  \\\n",
       "0       CONFIRMED              0              0              0              0   \n",
       "1  FALSE POSITIVE              0              1              0              0   \n",
       "2  FALSE POSITIVE              0              1              0              0   \n",
       "3       CONFIRMED              0              0              0              0   \n",
       "4       CONFIRMED              0              0              0              0   \n",
       "\n",
       "   koi_period  koi_period_err1  koi_period_err2  koi_time0bk  \\\n",
       "0   54.418383     2.479000e-04    -2.479000e-04   162.513840   \n",
       "1   19.899140     1.490000e-05    -1.490000e-05   175.850252   \n",
       "2    1.736952     2.630000e-07    -2.630000e-07   170.307565   \n",
       "3    2.525592     3.760000e-06    -3.760000e-06   171.595550   \n",
       "4    4.134435     1.050000e-05    -1.050000e-05   172.979370   \n",
       "\n",
       "   koi_time0bk_err1  ...  koi_steff_err2  koi_slogg  koi_slogg_err1  \\\n",
       "0          0.003520  ...             -81      4.467           0.064   \n",
       "1          0.000581  ...            -176      4.544           0.044   \n",
       "2          0.000115  ...            -174      4.564           0.053   \n",
       "3          0.001130  ...            -211      4.438           0.070   \n",
       "4          0.001900  ...            -232      4.486           0.054   \n",
       "\n",
       "   koi_slogg_err2  koi_srad  koi_srad_err1  koi_srad_err2         ra  \\\n",
       "0          -0.096     0.927          0.105         -0.061  291.93423   \n",
       "1          -0.176     0.868          0.233         -0.078  297.00482   \n",
       "2          -0.168     0.791          0.201         -0.067  285.53461   \n",
       "3          -0.210     1.046          0.334         -0.133  288.75488   \n",
       "4          -0.229     0.972          0.315         -0.105  296.28613   \n",
       "\n",
       "         dec  koi_kepmag  \n",
       "0  48.141651      15.347  \n",
       "1  48.134129      15.436  \n",
       "2  48.285210      15.597  \n",
       "3  48.226200      15.509  \n",
       "4  48.224670      15.714  \n",
       "\n",
       "[5 rows x 41 columns]"
      ]
     },
     "execution_count": 2,
     "metadata": {},
     "output_type": "execute_result"
    }
   ],
   "source": [
    "df = pd.read_csv(\"exoplanet_data.csv\")\n",
    "# Drop the null columns where all values are null\n",
    "df = df.dropna(axis='columns', how='all')\n",
    "# Drop the null rows\n",
    "df = df.dropna()\n",
    "df.head()"
   ]
  },
  {
   "cell_type": "code",
   "execution_count": 3,
   "metadata": {},
   "outputs": [
    {
     "name": "stdout",
     "output_type": "stream",
     "text": [
      "['CONFIRMED' 'FALSE POSITIVE' 'CANDIDATE']\n"
     ]
    }
   ],
   "source": [
    "print(df[\"koi_disposition\"].unique())"
   ]
  },
  {
   "cell_type": "markdown",
   "metadata": {},
   "source": [
    "# Select your features (columns)"
   ]
  },
  {
   "cell_type": "code",
   "execution_count": 4,
   "metadata": {},
   "outputs": [],
   "source": [
    "# Set X equal to the entire data set, except for the first column\n",
    "X = df.iloc[:,1:]\n",
    "\n",
    "# Set y equal to the first column\n",
    "y = df.iloc[:,0]"
   ]
  },
  {
   "cell_type": "code",
   "execution_count": 5,
   "metadata": {},
   "outputs": [
    {
     "data": {
      "text/plain": [
       "array([0.12900363, 0.1650932 , 0.12142846, 0.05620227, 0.01988945,\n",
       "       0.01402254, 0.01507926, 0.01280889, 0.02161156, 0.02291334,\n",
       "       0.01201135, 0.01199269, 0.01036573, 0.01714174, 0.02793848,\n",
       "       0.0292363 , 0.02125933, 0.01315237, 0.01144604, 0.01290239,\n",
       "       0.0126778 , 0.00966832, 0.01632456, 0.00884981, 0.00930302,\n",
       "       0.00994504, 0.03076502, 0.01011641, 0.01092874, 0.02323911,\n",
       "       0.01672494, 0.01124529, 0.01125708, 0.01319552, 0.00876683,\n",
       "       0.01117794, 0.00943869, 0.01104288, 0.00995509, 0.00987886])"
      ]
     },
     "execution_count": 5,
     "metadata": {},
     "output_type": "execute_result"
    }
   ],
   "source": [
    "# Search for top 10 features according to feature importances\n",
    "from sklearn.ensemble import ExtraTreesClassifier\n",
    "\n",
    "model = ExtraTreesClassifier()\n",
    "model.fit(X,y)\n",
    "model.feature_importances_"
   ]
  },
  {
   "cell_type": "code",
   "execution_count": 6,
   "metadata": {},
   "outputs": [
    {
     "data": {
      "text/plain": [
       "koi_fpflag_ss        0.165093\n",
       "koi_fpflag_nt        0.129004\n",
       "koi_fpflag_co        0.121428\n",
       "koi_fpflag_ec        0.056202\n",
       "koi_model_snr        0.030765\n",
       "koi_duration_err2    0.029236\n",
       "koi_duration_err1    0.027938\n",
       "koi_steff_err1       0.023239\n",
       "koi_time0bk_err2     0.022913\n",
       "koi_time0bk_err1     0.021612\n",
       "dtype: float64"
      ]
     },
     "execution_count": 6,
     "metadata": {},
     "output_type": "execute_result"
    }
   ],
   "source": [
    "# Store the top 10 features as a series, using the column headers as the index\n",
    "feat_imp = pd.Series(model.feature_importances_, index=X.columns).nlargest(10)\n",
    "feat_imp"
   ]
  },
  {
   "cell_type": "code",
   "execution_count": 7,
   "metadata": {},
   "outputs": [],
   "source": [
    "# Set features based on feature importances\n",
    "X = df[feat_imp.index]\n",
    "\n",
    "# Use koi_disposition for y values\n",
    "y = df['koi_disposition']"
   ]
  },
  {
   "cell_type": "markdown",
   "metadata": {},
   "source": [
    "# Create a Train Test Split\n",
    "\n",
    "Use `koi_disposition` for the y values"
   ]
  },
  {
   "cell_type": "code",
   "execution_count": 8,
   "metadata": {},
   "outputs": [],
   "source": [
    "from sklearn.model_selection import train_test_split\n",
    "X_train, X_test, y_train, y_test = train_test_split(X, y, stratify=y)"
   ]
  },
  {
   "cell_type": "code",
   "execution_count": 9,
   "metadata": {},
   "outputs": [
    {
     "data": {
      "text/html": [
       "<div>\n",
       "<style scoped>\n",
       "    .dataframe tbody tr th:only-of-type {\n",
       "        vertical-align: middle;\n",
       "    }\n",
       "\n",
       "    .dataframe tbody tr th {\n",
       "        vertical-align: top;\n",
       "    }\n",
       "\n",
       "    .dataframe thead th {\n",
       "        text-align: right;\n",
       "    }\n",
       "</style>\n",
       "<table border=\"1\" class=\"dataframe\">\n",
       "  <thead>\n",
       "    <tr style=\"text-align: right;\">\n",
       "      <th></th>\n",
       "      <th>koi_fpflag_ss</th>\n",
       "      <th>koi_fpflag_nt</th>\n",
       "      <th>koi_fpflag_co</th>\n",
       "      <th>koi_fpflag_ec</th>\n",
       "      <th>koi_model_snr</th>\n",
       "      <th>koi_duration_err2</th>\n",
       "      <th>koi_duration_err1</th>\n",
       "      <th>koi_steff_err1</th>\n",
       "      <th>koi_time0bk_err2</th>\n",
       "      <th>koi_time0bk_err1</th>\n",
       "    </tr>\n",
       "  </thead>\n",
       "  <tbody>\n",
       "    <tr>\n",
       "      <th>1278</th>\n",
       "      <td>0</td>\n",
       "      <td>0</td>\n",
       "      <td>0</td>\n",
       "      <td>0</td>\n",
       "      <td>32.2</td>\n",
       "      <td>-0.0876</td>\n",
       "      <td>0.0876</td>\n",
       "      <td>135</td>\n",
       "      <td>-0.003050</td>\n",
       "      <td>0.003050</td>\n",
       "    </tr>\n",
       "    <tr>\n",
       "      <th>1957</th>\n",
       "      <td>0</td>\n",
       "      <td>0</td>\n",
       "      <td>0</td>\n",
       "      <td>0</td>\n",
       "      <td>50.4</td>\n",
       "      <td>-0.0304</td>\n",
       "      <td>0.0304</td>\n",
       "      <td>171</td>\n",
       "      <td>-0.000828</td>\n",
       "      <td>0.000828</td>\n",
       "    </tr>\n",
       "    <tr>\n",
       "      <th>1107</th>\n",
       "      <td>0</td>\n",
       "      <td>0</td>\n",
       "      <td>0</td>\n",
       "      <td>0</td>\n",
       "      <td>43.1</td>\n",
       "      <td>-0.0457</td>\n",
       "      <td>0.0457</td>\n",
       "      <td>77</td>\n",
       "      <td>-0.001380</td>\n",
       "      <td>0.001380</td>\n",
       "    </tr>\n",
       "    <tr>\n",
       "      <th>1592</th>\n",
       "      <td>0</td>\n",
       "      <td>0</td>\n",
       "      <td>0</td>\n",
       "      <td>0</td>\n",
       "      <td>175.2</td>\n",
       "      <td>-0.1010</td>\n",
       "      <td>0.1010</td>\n",
       "      <td>124</td>\n",
       "      <td>-0.001310</td>\n",
       "      <td>0.001310</td>\n",
       "    </tr>\n",
       "    <tr>\n",
       "      <th>2175</th>\n",
       "      <td>0</td>\n",
       "      <td>0</td>\n",
       "      <td>1</td>\n",
       "      <td>0</td>\n",
       "      <td>52.9</td>\n",
       "      <td>-0.0385</td>\n",
       "      <td>0.0385</td>\n",
       "      <td>196</td>\n",
       "      <td>-0.001130</td>\n",
       "      <td>0.001130</td>\n",
       "    </tr>\n",
       "  </tbody>\n",
       "</table>\n",
       "</div>"
      ],
      "text/plain": [
       "      koi_fpflag_ss  koi_fpflag_nt  koi_fpflag_co  koi_fpflag_ec  \\\n",
       "1278              0              0              0              0   \n",
       "1957              0              0              0              0   \n",
       "1107              0              0              0              0   \n",
       "1592              0              0              0              0   \n",
       "2175              0              0              1              0   \n",
       "\n",
       "      koi_model_snr  koi_duration_err2  koi_duration_err1  koi_steff_err1  \\\n",
       "1278           32.2            -0.0876             0.0876             135   \n",
       "1957           50.4            -0.0304             0.0304             171   \n",
       "1107           43.1            -0.0457             0.0457              77   \n",
       "1592          175.2            -0.1010             0.1010             124   \n",
       "2175           52.9            -0.0385             0.0385             196   \n",
       "\n",
       "      koi_time0bk_err2  koi_time0bk_err1  \n",
       "1278         -0.003050          0.003050  \n",
       "1957         -0.000828          0.000828  \n",
       "1107         -0.001380          0.001380  \n",
       "1592         -0.001310          0.001310  \n",
       "2175         -0.001130          0.001130  "
      ]
     },
     "execution_count": 9,
     "metadata": {},
     "output_type": "execute_result"
    }
   ],
   "source": [
    "X_train.head()"
   ]
  },
  {
   "cell_type": "markdown",
   "metadata": {},
   "source": [
    "# Pre-processing\n",
    "\n",
    "Scale the data using the MinMaxScaler and perform some feature selection"
   ]
  },
  {
   "cell_type": "code",
   "execution_count": 10,
   "metadata": {},
   "outputs": [],
   "source": [
    "from sklearn.preprocessing import MinMaxScaler\n",
    "\n",
    "# Create scaler object\n",
    "X_scaler = MinMaxScaler().fit(X_train)\n",
    "\n",
    "# Scale training and testing data\n",
    "X_train_scaled = X_scaler.transform(X_train)\n",
    "X_test_scaled = X_scaler.transform(X_test)"
   ]
  },
  {
   "cell_type": "markdown",
   "metadata": {},
   "source": [
    "# Train the Model\n",
    "\n"
   ]
  },
  {
   "cell_type": "code",
   "execution_count": 11,
   "metadata": {},
   "outputs": [
    {
     "data": {
      "text/plain": [
       "LogisticRegression()"
      ]
     },
     "execution_count": 11,
     "metadata": {},
     "output_type": "execute_result"
    }
   ],
   "source": [
    "from sklearn.linear_model import LogisticRegression\n",
    "\n",
    "# Initialize model\n",
    "model = LogisticRegression()\n",
    "\n",
    "# Train the model\n",
    "model.fit(X_train_scaled, y_train)"
   ]
  },
  {
   "cell_type": "code",
   "execution_count": 12,
   "metadata": {},
   "outputs": [
    {
     "name": "stdout",
     "output_type": "stream",
     "text": [
      "Training Data Score: 0.8420751478161358\n",
      "Testing Data Score: 0.8243707093821511\n"
     ]
    }
   ],
   "source": [
    "print(f\"Training Data Score: {model.score(X_train_scaled, y_train)}\")\n",
    "print(f\"Testing Data Score: {model.score(X_test_scaled, y_test)}\")"
   ]
  },
  {
   "cell_type": "markdown",
   "metadata": {},
   "source": [
    "# Hyperparameter Tuning\n",
    "\n",
    "Use `GridSearchCV` to tune the model's parameters"
   ]
  },
  {
   "cell_type": "code",
   "execution_count": 13,
   "metadata": {},
   "outputs": [
    {
     "data": {
      "text/html": [
       "<div>\n",
       "<style scoped>\n",
       "    .dataframe tbody tr th:only-of-type {\n",
       "        vertical-align: middle;\n",
       "    }\n",
       "\n",
       "    .dataframe tbody tr th {\n",
       "        vertical-align: top;\n",
       "    }\n",
       "\n",
       "    .dataframe thead th {\n",
       "        text-align: right;\n",
       "    }\n",
       "</style>\n",
       "<table border=\"1\" class=\"dataframe\">\n",
       "  <thead>\n",
       "    <tr style=\"text-align: right;\">\n",
       "      <th></th>\n",
       "      <th>Actual</th>\n",
       "      <th>Predicted</th>\n",
       "    </tr>\n",
       "  </thead>\n",
       "  <tbody>\n",
       "    <tr>\n",
       "      <th>5027</th>\n",
       "      <td>FALSE POSITIVE</td>\n",
       "      <td>FALSE POSITIVE</td>\n",
       "    </tr>\n",
       "    <tr>\n",
       "      <th>1190</th>\n",
       "      <td>CONFIRMED</td>\n",
       "      <td>CONFIRMED</td>\n",
       "    </tr>\n",
       "    <tr>\n",
       "      <th>2927</th>\n",
       "      <td>CONFIRMED</td>\n",
       "      <td>CANDIDATE</td>\n",
       "    </tr>\n",
       "    <tr>\n",
       "      <th>5564</th>\n",
       "      <td>CANDIDATE</td>\n",
       "      <td>CONFIRMED</td>\n",
       "    </tr>\n",
       "    <tr>\n",
       "      <th>2006</th>\n",
       "      <td>FALSE POSITIVE</td>\n",
       "      <td>FALSE POSITIVE</td>\n",
       "    </tr>\n",
       "  </tbody>\n",
       "</table>\n",
       "</div>"
      ],
      "text/plain": [
       "              Actual       Predicted\n",
       "5027  FALSE POSITIVE  FALSE POSITIVE\n",
       "1190       CONFIRMED       CONFIRMED\n",
       "2927       CONFIRMED       CANDIDATE\n",
       "5564       CANDIDATE       CONFIRMED\n",
       "2006  FALSE POSITIVE  FALSE POSITIVE"
      ]
     },
     "execution_count": 13,
     "metadata": {},
     "output_type": "execute_result"
    }
   ],
   "source": [
    "predictions = model.predict(X_test_scaled)\n",
    "df_pred = pd.DataFrame({\"Actual\":y_test, \"Predicted\":predictions}) \n",
    "df_pred.head()"
   ]
  },
  {
   "cell_type": "code",
   "execution_count": 14,
   "metadata": {},
   "outputs": [],
   "source": [
    "# Create the GridSearchCV model\n",
    "from sklearn.model_selection import GridSearchCV\n",
    "import numpy as np\n",
    "\n",
    "# Create the GridSearchCV model\n",
    "param_grid = {'C':np.logspace(-4, 4, 20),\n",
    "             'penalty':['l1','l2']}\n",
    "\n",
    "grid = GridSearchCV(model, param_grid, verbose=3)"
   ]
  },
  {
   "cell_type": "code",
   "execution_count": 15,
   "metadata": {},
   "outputs": [
    {
     "name": "stdout",
     "output_type": "stream",
     "text": [
      "Fitting 5 folds for each of 40 candidates, totalling 200 fits\n",
      "[CV 1/5] END ................C=0.0001, penalty=l1;, score=nan total time=   0.0s\n",
      "[CV 2/5] END ................C=0.0001, penalty=l1;, score=nan total time=   0.0s\n",
      "[CV 3/5] END ................C=0.0001, penalty=l1;, score=nan total time=   0.0s\n",
      "[CV 4/5] END ................C=0.0001, penalty=l1;, score=nan total time=   0.0s\n",
      "[CV 5/5] END ................C=0.0001, penalty=l1;, score=nan total time=   0.0s\n",
      "[CV 1/5] END ..............C=0.0001, penalty=l2;, score=0.501 total time=   0.0s\n",
      "[CV 2/5] END ..............C=0.0001, penalty=l2;, score=0.501 total time=   0.0s\n",
      "[CV 3/5] END ..............C=0.0001, penalty=l2;, score=0.501 total time=   0.0s\n",
      "[CV 4/5] END ..............C=0.0001, penalty=l2;, score=0.501 total time=   0.0s\n",
      "[CV 5/5] END ..............C=0.0001, penalty=l2;, score=0.501 total time=   0.0s\n",
      "[CV 1/5] END C=0.00026366508987303583, penalty=l1;, score=nan total time=   0.0s\n",
      "[CV 2/5] END C=0.00026366508987303583, penalty=l1;, score=nan total time=   0.0s\n",
      "[CV 3/5] END C=0.00026366508987303583, penalty=l1;, score=nan total time=   0.0s\n",
      "[CV 4/5] END C=0.00026366508987303583, penalty=l1;, score=nan total time=   0.0s\n",
      "[CV 5/5] END C=0.00026366508987303583, penalty=l1;, score=nan total time=   0.0s\n",
      "[CV 1/5] END C=0.00026366508987303583, penalty=l2;, score=0.501 total time=   0.0s\n",
      "[CV 2/5] END C=0.00026366508987303583, penalty=l2;, score=0.501 total time=   0.0s\n",
      "[CV 3/5] END C=0.00026366508987303583, penalty=l2;, score=0.501 total time=   0.0s\n",
      "[CV 4/5] END C=0.00026366508987303583, penalty=l2;, score=0.501 total time=   0.0s\n",
      "[CV 5/5] END C=0.00026366508987303583, penalty=l2;, score=0.501 total time=   0.0s\n",
      "[CV 1/5] END .C=0.0006951927961775605, penalty=l1;, score=nan total time=   0.0s\n",
      "[CV 2/5] END .C=0.0006951927961775605, penalty=l1;, score=nan total time=   0.0s\n",
      "[CV 3/5] END .C=0.0006951927961775605, penalty=l1;, score=nan total time=   0.0s\n",
      "[CV 4/5] END .C=0.0006951927961775605, penalty=l1;, score=nan total time=   0.0s\n",
      "[CV 5/5] END .C=0.0006951927961775605, penalty=l1;, score=nan total time=   0.0s\n",
      "[CV 1/5] END C=0.0006951927961775605, penalty=l2;, score=0.501 total time=   0.0s\n",
      "[CV 2/5] END C=0.0006951927961775605, penalty=l2;, score=0.501 total time=   0.0s\n",
      "[CV 3/5] END C=0.0006951927961775605, penalty=l2;, score=0.501 total time=   0.0s\n",
      "[CV 4/5] END C=0.0006951927961775605, penalty=l2;, score=0.501 total time=   0.0s\n",
      "[CV 5/5] END C=0.0006951927961775605, penalty=l2;, score=0.501 total time=   0.0s\n",
      "[CV 1/5] END .C=0.0018329807108324356, penalty=l1;, score=nan total time=   0.0s\n",
      "[CV 2/5] END .C=0.0018329807108324356, penalty=l1;, score=nan total time=   0.0s\n",
      "[CV 3/5] END .C=0.0018329807108324356, penalty=l1;, score=nan total time=   0.0s\n",
      "[CV 4/5] END .C=0.0018329807108324356, penalty=l1;, score=nan total time=   0.0s\n",
      "[CV 5/5] END .C=0.0018329807108324356, penalty=l1;, score=nan total time=   0.0s\n",
      "[CV 1/5] END C=0.0018329807108324356, penalty=l2;, score=0.501 total time=   0.0s\n",
      "[CV 2/5] END C=0.0018329807108324356, penalty=l2;, score=0.501 total time=   0.0s\n",
      "[CV 3/5] END C=0.0018329807108324356, penalty=l2;, score=0.501 total time=   0.0s\n",
      "[CV 4/5] END C=0.0018329807108324356, penalty=l2;, score=0.501 total time=   0.0s\n",
      "[CV 5/5] END C=0.0018329807108324356, penalty=l2;, score=0.501 total time=   0.0s\n",
      "[CV 1/5] END ..C=0.004832930238571752, penalty=l1;, score=nan total time=   0.0s\n",
      "[CV 2/5] END ..C=0.004832930238571752, penalty=l1;, score=nan total time=   0.0s\n",
      "[CV 3/5] END ..C=0.004832930238571752, penalty=l1;, score=nan total time=   0.0s\n",
      "[CV 4/5] END ..C=0.004832930238571752, penalty=l1;, score=nan total time=   0.0s\n",
      "[CV 5/5] END ..C=0.004832930238571752, penalty=l1;, score=nan total time=   0.0s\n",
      "[CV 1/5] END C=0.004832930238571752, penalty=l2;, score=0.748 total time=   0.0s\n",
      "[CV 2/5] END C=0.004832930238571752, penalty=l2;, score=0.756 total time=   0.0s\n",
      "[CV 3/5] END C=0.004832930238571752, penalty=l2;, score=0.756 total time=   0.0s\n",
      "[CV 4/5] END C=0.004832930238571752, penalty=l2;, score=0.754 total time=   0.0s\n",
      "[CV 5/5] END C=0.004832930238571752, penalty=l2;, score=0.758 total time=   0.0s\n",
      "[CV 1/5] END ..C=0.012742749857031334, penalty=l1;, score=nan total time=   0.0s\n",
      "[CV 2/5] END ..C=0.012742749857031334, penalty=l1;, score=nan total time=   0.0s\n",
      "[CV 3/5] END ..C=0.012742749857031334, penalty=l1;, score=nan total time=   0.0s\n",
      "[CV 4/5] END ..C=0.012742749857031334, penalty=l1;, score=nan total time=   0.0s\n",
      "[CV 5/5] END ..C=0.012742749857031334, penalty=l1;, score=nan total time=   0.0s\n",
      "[CV 1/5] END C=0.012742749857031334, penalty=l2;, score=0.770 total time=   0.0s\n",
      "[CV 2/5] END C=0.012742749857031334, penalty=l2;, score=0.774 total time=   0.0s\n",
      "[CV 3/5] END C=0.012742749857031334, penalty=l2;, score=0.779 total time=   0.0s\n",
      "[CV 4/5] END C=0.012742749857031334, penalty=l2;, score=0.778 total time=   0.0s\n",
      "[CV 5/5] END C=0.012742749857031334, penalty=l2;, score=0.780 total time=   0.0s\n",
      "[CV 1/5] END ...C=0.03359818286283781, penalty=l1;, score=nan total time=   0.0s\n",
      "[CV 2/5] END ...C=0.03359818286283781, penalty=l1;, score=nan total time=   0.0s\n",
      "[CV 3/5] END ...C=0.03359818286283781, penalty=l1;, score=nan total time=   0.0s\n",
      "[CV 4/5] END ...C=0.03359818286283781, penalty=l1;, score=nan total time=   0.0s\n",
      "[CV 5/5] END ...C=0.03359818286283781, penalty=l1;, score=nan total time=   0.0s\n",
      "[CV 1/5] END .C=0.03359818286283781, penalty=l2;, score=0.819 total time=   0.0s\n",
      "[CV 2/5] END .C=0.03359818286283781, penalty=l2;, score=0.820 total time=   0.0s\n",
      "[CV 3/5] END .C=0.03359818286283781, penalty=l2;, score=0.835 total time=   0.0s\n",
      "[CV 4/5] END .C=0.03359818286283781, penalty=l2;, score=0.839 total time=   0.0s\n",
      "[CV 5/5] END .C=0.03359818286283781, penalty=l2;, score=0.819 total time=   0.0s\n",
      "[CV 1/5] END ...C=0.08858667904100823, penalty=l1;, score=nan total time=   0.0s\n",
      "[CV 2/5] END ...C=0.08858667904100823, penalty=l1;, score=nan total time=   0.0s\n",
      "[CV 3/5] END ...C=0.08858667904100823, penalty=l1;, score=nan total time=   0.0s\n",
      "[CV 4/5] END ...C=0.08858667904100823, penalty=l1;, score=nan total time=   0.0s\n",
      "[CV 5/5] END ...C=0.08858667904100823, penalty=l1;, score=nan total time=   0.0s\n",
      "[CV 1/5] END .C=0.08858667904100823, penalty=l2;, score=0.824 total time=   0.0s\n",
      "[CV 2/5] END .C=0.08858667904100823, penalty=l2;, score=0.823 total time=   0.0s\n",
      "[CV 3/5] END .C=0.08858667904100823, penalty=l2;, score=0.843 total time=   0.0s\n",
      "[CV 4/5] END .C=0.08858667904100823, penalty=l2;, score=0.834 total time=   0.0s\n",
      "[CV 5/5] END .C=0.08858667904100823, penalty=l2;, score=0.822 total time=   0.0s\n",
      "[CV 1/5] END ...C=0.23357214690901212, penalty=l1;, score=nan total time=   0.0s\n",
      "[CV 2/5] END ...C=0.23357214690901212, penalty=l1;, score=nan total time=   0.0s\n",
      "[CV 3/5] END ...C=0.23357214690901212, penalty=l1;, score=nan total time=   0.0s\n",
      "[CV 4/5] END ...C=0.23357214690901212, penalty=l1;, score=nan total time=   0.0s\n",
      "[CV 5/5] END ...C=0.23357214690901212, penalty=l1;, score=nan total time=   0.0s\n",
      "[CV 1/5] END .C=0.23357214690901212, penalty=l2;, score=0.825 total time=   0.0s\n",
      "[CV 2/5] END .C=0.23357214690901212, penalty=l2;, score=0.825 total time=   0.0s\n",
      "[CV 3/5] END .C=0.23357214690901212, penalty=l2;, score=0.840 total time=   0.0s\n",
      "[CV 4/5] END .C=0.23357214690901212, penalty=l2;, score=0.835 total time=   0.0s\n",
      "[CV 5/5] END .C=0.23357214690901212, penalty=l2;, score=0.822 total time=   0.0s\n",
      "[CV 1/5] END .....C=0.615848211066026, penalty=l1;, score=nan total time=   0.0s\n",
      "[CV 2/5] END .....C=0.615848211066026, penalty=l1;, score=nan total time=   0.0s\n",
      "[CV 3/5] END .....C=0.615848211066026, penalty=l1;, score=nan total time=   0.0s\n",
      "[CV 4/5] END .....C=0.615848211066026, penalty=l1;, score=nan total time=   0.0s\n",
      "[CV 5/5] END .....C=0.615848211066026, penalty=l1;, score=nan total time=   0.0s\n",
      "[CV 1/5] END ...C=0.615848211066026, penalty=l2;, score=0.827 total time=   0.0s\n",
      "[CV 2/5] END ...C=0.615848211066026, penalty=l2;, score=0.831 total time=   0.0s\n",
      "[CV 3/5] END ...C=0.615848211066026, penalty=l2;, score=0.849 total time=   0.0s\n",
      "[CV 4/5] END ...C=0.615848211066026, penalty=l2;, score=0.839 total time=   0.0s\n",
      "[CV 5/5] END ...C=0.615848211066026, penalty=l2;, score=0.830 total time=   0.0s\n",
      "[CV 1/5] END .....C=1.623776739188721, penalty=l1;, score=nan total time=   0.0s\n",
      "[CV 2/5] END .....C=1.623776739188721, penalty=l1;, score=nan total time=   0.0s\n",
      "[CV 3/5] END .....C=1.623776739188721, penalty=l1;, score=nan total time=   0.0s\n",
      "[CV 4/5] END .....C=1.623776739188721, penalty=l1;, score=nan total time=   0.0s\n",
      "[CV 5/5] END .....C=1.623776739188721, penalty=l1;, score=nan total time=   0.0s\n"
     ]
    },
    {
     "name": "stdout",
     "output_type": "stream",
     "text": [
      "[CV 1/5] END ...C=1.623776739188721, penalty=l2;, score=0.835 total time=   0.0s\n",
      "[CV 2/5] END ...C=1.623776739188721, penalty=l2;, score=0.844 total time=   0.0s\n",
      "[CV 3/5] END ...C=1.623776739188721, penalty=l2;, score=0.857 total time=   0.0s\n",
      "[CV 4/5] END ...C=1.623776739188721, penalty=l2;, score=0.848 total time=   0.0s\n",
      "[CV 5/5] END ...C=1.623776739188721, penalty=l2;, score=0.845 total time=   0.0s\n",
      "[CV 1/5] END .....C=4.281332398719396, penalty=l1;, score=nan total time=   0.0s\n",
      "[CV 2/5] END .....C=4.281332398719396, penalty=l1;, score=nan total time=   0.0s\n",
      "[CV 3/5] END .....C=4.281332398719396, penalty=l1;, score=nan total time=   0.0s\n",
      "[CV 4/5] END .....C=4.281332398719396, penalty=l1;, score=nan total time=   0.0s\n",
      "[CV 5/5] END .....C=4.281332398719396, penalty=l1;, score=nan total time=   0.0s\n",
      "[CV 1/5] END ...C=4.281332398719396, penalty=l2;, score=0.842 total time=   0.0s\n",
      "[CV 2/5] END ...C=4.281332398719396, penalty=l2;, score=0.850 total time=   0.1s\n",
      "[CV 3/5] END ...C=4.281332398719396, penalty=l2;, score=0.861 total time=   0.0s\n",
      "[CV 4/5] END ...C=4.281332398719396, penalty=l2;, score=0.860 total time=   0.1s\n",
      "[CV 5/5] END ...C=4.281332398719396, penalty=l2;, score=0.854 total time=   0.0s\n",
      "[CV 1/5] END ....C=11.288378916846883, penalty=l1;, score=nan total time=   0.0s\n",
      "[CV 2/5] END ....C=11.288378916846883, penalty=l1;, score=nan total time=   0.0s\n",
      "[CV 3/5] END ....C=11.288378916846883, penalty=l1;, score=nan total time=   0.0s\n",
      "[CV 4/5] END ....C=11.288378916846883, penalty=l1;, score=nan total time=   0.0s\n",
      "[CV 5/5] END ....C=11.288378916846883, penalty=l1;, score=nan total time=   0.0s\n",
      "[CV 1/5] END ..C=11.288378916846883, penalty=l2;, score=0.842 total time=   0.0s\n",
      "[CV 2/5] END ..C=11.288378916846883, penalty=l2;, score=0.861 total time=   0.0s\n",
      "[CV 3/5] END ..C=11.288378916846883, penalty=l2;, score=0.868 total time=   0.0s\n",
      "[CV 4/5] END ..C=11.288378916846883, penalty=l2;, score=0.859 total time=   0.0s\n",
      "[CV 5/5] END ..C=11.288378916846883, penalty=l2;, score=0.865 total time=   0.0s\n",
      "[CV 1/5] END ....C=29.763514416313132, penalty=l1;, score=nan total time=   0.0s\n",
      "[CV 2/5] END ....C=29.763514416313132, penalty=l1;, score=nan total time=   0.0s\n",
      "[CV 3/5] END ....C=29.763514416313132, penalty=l1;, score=nan total time=   0.0s\n",
      "[CV 4/5] END ....C=29.763514416313132, penalty=l1;, score=nan total time=   0.0s\n",
      "[CV 5/5] END ....C=29.763514416313132, penalty=l1;, score=nan total time=   0.0s\n",
      "[CV 1/5] END ..C=29.763514416313132, penalty=l2;, score=0.843 total time=   0.0s\n",
      "[CV 2/5] END ..C=29.763514416313132, penalty=l2;, score=0.864 total time=   0.0s\n",
      "[CV 3/5] END ..C=29.763514416313132, penalty=l2;, score=0.866 total time=   0.0s\n",
      "[CV 4/5] END ..C=29.763514416313132, penalty=l2;, score=0.863 total time=   0.0s\n",
      "[CV 5/5] END ..C=29.763514416313132, penalty=l2;, score=0.866 total time=   0.0s\n",
      "[CV 1/5] END .....C=78.47599703514607, penalty=l1;, score=nan total time=   0.0s\n",
      "[CV 2/5] END .....C=78.47599703514607, penalty=l1;, score=nan total time=   0.0s\n",
      "[CV 3/5] END .....C=78.47599703514607, penalty=l1;, score=nan total time=   0.0s\n",
      "[CV 4/5] END .....C=78.47599703514607, penalty=l1;, score=nan total time=   0.0s\n",
      "[CV 5/5] END .....C=78.47599703514607, penalty=l1;, score=nan total time=   0.0s\n",
      "[CV 1/5] END ...C=78.47599703514607, penalty=l2;, score=0.842 total time=   0.0s\n",
      "[CV 2/5] END ...C=78.47599703514607, penalty=l2;, score=0.863 total time=   0.0s\n",
      "[CV 3/5] END ...C=78.47599703514607, penalty=l2;, score=0.867 total time=   0.1s\n",
      "[CV 4/5] END ...C=78.47599703514607, penalty=l2;, score=0.864 total time=   0.0s\n",
      "[CV 5/5] END ...C=78.47599703514607, penalty=l2;, score=0.874 total time=   0.0s\n",
      "[CV 1/5] END ......C=206.913808111479, penalty=l1;, score=nan total time=   0.0s\n",
      "[CV 2/5] END ......C=206.913808111479, penalty=l1;, score=nan total time=   0.0s\n",
      "[CV 3/5] END ......C=206.913808111479, penalty=l1;, score=nan total time=   0.0s\n",
      "[CV 4/5] END ......C=206.913808111479, penalty=l1;, score=nan total time=   0.0s\n",
      "[CV 5/5] END ......C=206.913808111479, penalty=l1;, score=nan total time=   0.0s\n",
      "[CV 1/5] END ....C=206.913808111479, penalty=l2;, score=0.843 total time=   0.0s\n",
      "[CV 2/5] END ....C=206.913808111479, penalty=l2;, score=0.865 total time=   0.0s\n",
      "[CV 3/5] END ....C=206.913808111479, penalty=l2;, score=0.862 total time=   0.0s\n",
      "[CV 4/5] END ....C=206.913808111479, penalty=l2;, score=0.864 total time=   0.1s\n",
      "[CV 5/5] END ....C=206.913808111479, penalty=l2;, score=0.871 total time=   0.0s\n",
      "[CV 1/5] END .....C=545.5594781168514, penalty=l1;, score=nan total time=   0.0s\n",
      "[CV 2/5] END .....C=545.5594781168514, penalty=l1;, score=nan total time=   0.0s\n",
      "[CV 3/5] END .....C=545.5594781168514, penalty=l1;, score=nan total time=   0.0s\n",
      "[CV 4/5] END .....C=545.5594781168514, penalty=l1;, score=nan total time=   0.0s\n",
      "[CV 5/5] END .....C=545.5594781168514, penalty=l1;, score=nan total time=   0.0s\n",
      "[CV 1/5] END ...C=545.5594781168514, penalty=l2;, score=0.841 total time=   0.1s\n",
      "[CV 2/5] END ...C=545.5594781168514, penalty=l2;, score=0.865 total time=   0.0s\n",
      "[CV 3/5] END ...C=545.5594781168514, penalty=l2;, score=0.864 total time=   0.0s\n",
      "[CV 4/5] END ...C=545.5594781168514, penalty=l2;, score=0.865 total time=   0.0s\n",
      "[CV 5/5] END ...C=545.5594781168514, penalty=l2;, score=0.875 total time=   0.0s\n",
      "[CV 1/5] END ......C=1438.44988828766, penalty=l1;, score=nan total time=   0.0s\n",
      "[CV 2/5] END ......C=1438.44988828766, penalty=l1;, score=nan total time=   0.0s\n",
      "[CV 3/5] END ......C=1438.44988828766, penalty=l1;, score=nan total time=   0.0s\n",
      "[CV 4/5] END ......C=1438.44988828766, penalty=l1;, score=nan total time=   0.0s\n",
      "[CV 5/5] END ......C=1438.44988828766, penalty=l1;, score=nan total time=   0.0s\n",
      "[CV 1/5] END ....C=1438.44988828766, penalty=l2;, score=0.846 total time=   0.0s\n",
      "[CV 2/5] END ....C=1438.44988828766, penalty=l2;, score=0.863 total time=   0.0s\n",
      "[CV 3/5] END ....C=1438.44988828766, penalty=l2;, score=0.863 total time=   0.0s\n",
      "[CV 4/5] END ....C=1438.44988828766, penalty=l2;, score=0.865 total time=   0.0s\n",
      "[CV 5/5] END ....C=1438.44988828766, penalty=l2;, score=0.873 total time=   0.0s\n",
      "[CV 1/5] END .....C=3792.690190732246, penalty=l1;, score=nan total time=   0.0s\n",
      "[CV 2/5] END .....C=3792.690190732246, penalty=l1;, score=nan total time=   0.0s\n",
      "[CV 3/5] END .....C=3792.690190732246, penalty=l1;, score=nan total time=   0.0s\n",
      "[CV 4/5] END .....C=3792.690190732246, penalty=l1;, score=nan total time=   0.0s\n",
      "[CV 5/5] END .....C=3792.690190732246, penalty=l1;, score=nan total time=   0.0s\n",
      "[CV 1/5] END ...C=3792.690190732246, penalty=l2;, score=0.844 total time=   0.0s\n",
      "[CV 2/5] END ...C=3792.690190732246, penalty=l2;, score=0.865 total time=   0.0s\n",
      "[CV 3/5] END ...C=3792.690190732246, penalty=l2;, score=0.866 total time=   0.0s\n",
      "[CV 4/5] END ...C=3792.690190732246, penalty=l2;, score=0.866 total time=   0.0s\n",
      "[CV 5/5] END ...C=3792.690190732246, penalty=l2;, score=0.870 total time=   0.0s\n",
      "[CV 1/5] END ...............C=10000.0, penalty=l1;, score=nan total time=   0.0s\n",
      "[CV 2/5] END ...............C=10000.0, penalty=l1;, score=nan total time=   0.0s\n",
      "[CV 3/5] END ...............C=10000.0, penalty=l1;, score=nan total time=   0.0s\n",
      "[CV 4/5] END ...............C=10000.0, penalty=l1;, score=nan total time=   0.0s\n",
      "[CV 5/5] END ...............C=10000.0, penalty=l1;, score=nan total time=   0.0s\n",
      "[CV 1/5] END .............C=10000.0, penalty=l2;, score=0.845 total time=   0.0s\n",
      "[CV 2/5] END .............C=10000.0, penalty=l2;, score=0.866 total time=   0.0s\n",
      "[CV 3/5] END .............C=10000.0, penalty=l2;, score=0.865 total time=   0.0s\n",
      "[CV 4/5] END .............C=10000.0, penalty=l2;, score=0.864 total time=   0.1s\n",
      "[CV 5/5] END .............C=10000.0, penalty=l2;, score=0.874 total time=   0.0s\n"
     ]
    }
   ],
   "source": [
    "# Train the model with GridSearch\n",
    "# Train the model with GridSearch\n",
    "best_model = grid.fit(X_train_scaled, y_train)"
   ]
  },
  {
   "cell_type": "code",
   "execution_count": 16,
   "metadata": {},
   "outputs": [
    {
     "name": "stdout",
     "output_type": "stream",
     "text": [
      "{'C': 10000.0, 'penalty': 'l2'}\n",
      "Best Score:  0.8624857188598375\n"
     ]
    }
   ],
   "source": [
    "print(best_model.best_params_)\n",
    "print('Best Score: ', best_model.best_score_)"
   ]
  },
  {
   "cell_type": "code",
   "execution_count": 17,
   "metadata": {},
   "outputs": [
    {
     "data": {
      "text/html": [
       "<div>\n",
       "<style scoped>\n",
       "    .dataframe tbody tr th:only-of-type {\n",
       "        vertical-align: middle;\n",
       "    }\n",
       "\n",
       "    .dataframe tbody tr th {\n",
       "        vertical-align: top;\n",
       "    }\n",
       "\n",
       "    .dataframe thead th {\n",
       "        text-align: right;\n",
       "    }\n",
       "</style>\n",
       "<table border=\"1\" class=\"dataframe\">\n",
       "  <thead>\n",
       "    <tr style=\"text-align: right;\">\n",
       "      <th></th>\n",
       "      <th>Actual</th>\n",
       "      <th>Predicted</th>\n",
       "    </tr>\n",
       "  </thead>\n",
       "  <tbody>\n",
       "    <tr>\n",
       "      <th>5027</th>\n",
       "      <td>FALSE POSITIVE</td>\n",
       "      <td>FALSE POSITIVE</td>\n",
       "    </tr>\n",
       "    <tr>\n",
       "      <th>1190</th>\n",
       "      <td>CONFIRMED</td>\n",
       "      <td>CONFIRMED</td>\n",
       "    </tr>\n",
       "    <tr>\n",
       "      <th>2927</th>\n",
       "      <td>CONFIRMED</td>\n",
       "      <td>CANDIDATE</td>\n",
       "    </tr>\n",
       "    <tr>\n",
       "      <th>5564</th>\n",
       "      <td>CANDIDATE</td>\n",
       "      <td>CANDIDATE</td>\n",
       "    </tr>\n",
       "    <tr>\n",
       "      <th>2006</th>\n",
       "      <td>FALSE POSITIVE</td>\n",
       "      <td>FALSE POSITIVE</td>\n",
       "    </tr>\n",
       "  </tbody>\n",
       "</table>\n",
       "</div>"
      ],
      "text/plain": [
       "              Actual       Predicted\n",
       "5027  FALSE POSITIVE  FALSE POSITIVE\n",
       "1190       CONFIRMED       CONFIRMED\n",
       "2927       CONFIRMED       CANDIDATE\n",
       "5564       CANDIDATE       CANDIDATE\n",
       "2006  FALSE POSITIVE  FALSE POSITIVE"
      ]
     },
     "execution_count": 17,
     "metadata": {},
     "output_type": "execute_result"
    }
   ],
   "source": [
    "# Make predictions\n",
    "grid_predictions = best_model.predict(X_test_scaled)\n",
    "df_grid = pd.DataFrame({\"Actual\":y_test, \"Predicted\":grid_predictions}) \n",
    "df_grid.head()"
   ]
  },
  {
   "cell_type": "code",
   "execution_count": 18,
   "metadata": {},
   "outputs": [
    {
     "data": {
      "text/plain": [
       "0.8386727688787186"
      ]
     },
     "execution_count": 18,
     "metadata": {},
     "output_type": "execute_result"
    }
   ],
   "source": [
    "# Score the model\n",
    "best_model.score(X_test_scaled, y_test)"
   ]
  },
  {
   "cell_type": "markdown",
   "metadata": {},
   "source": [
    "# Save the Model"
   ]
  },
  {
   "cell_type": "code",
   "execution_count": 19,
   "metadata": {},
   "outputs": [
    {
     "data": {
      "text/plain": [
       "['LR00.sav']"
      ]
     },
     "execution_count": 19,
     "metadata": {},
     "output_type": "execute_result"
    }
   ],
   "source": [
    "# save your model by updating \"your_name\" with your name\n",
    "# and \"your_model\" with your model variable\n",
    "# be sure to turn this in to BCS\n",
    "# if joblib fails to import, try running the command to install in terminal/git-bash\n",
    "import joblib\n",
    "filename = 'LR00.sav'\n",
    "joblib.dump(best_model, filename)"
   ]
  },
  {
   "cell_type": "code",
   "execution_count": 20,
   "metadata": {},
   "outputs": [
    {
     "name": "stdout",
     "output_type": "stream",
     "text": [
      "                precision    recall  f1-score   support\n",
      "\n",
      "     CANDIDATE       0.72      0.59      0.65       422\n",
      "     CONFIRMED       0.67      0.76      0.71       450\n",
      "FALSE POSITIVE       0.98      1.00      0.99       876\n",
      "\n",
      "      accuracy                           0.84      1748\n",
      "     macro avg       0.79      0.78      0.78      1748\n",
      "  weighted avg       0.84      0.84      0.84      1748\n",
      "\n"
     ]
    }
   ],
   "source": [
    "# Print Classification Report.\n",
    "from sklearn.metrics import classification_report\n",
    "print(classification_report(y_test, grid_predictions))"
   ]
  },
  {
   "cell_type": "code",
   "execution_count": null,
   "metadata": {},
   "outputs": [],
   "source": []
  }
 ],
 "metadata": {
  "kernel_info": {
   "name": "dev"
  },
  "kernelspec": {
   "display_name": "Python [conda env:.conda-Machine_Learning]",
   "language": "python",
   "name": "conda-env-.conda-Machine_Learning-py"
  },
  "language_info": {
   "codemirror_mode": {
    "name": "ipython",
    "version": 3
   },
   "file_extension": ".py",
   "mimetype": "text/x-python",
   "name": "python",
   "nbconvert_exporter": "python",
   "pygments_lexer": "ipython3",
   "version": "3.8.10"
  },
  "nteract": {
   "version": "0.12.3"
  },
  "widgets": {
   "application/vnd.jupyter.widget-state+json": {
    "state": {},
    "version_major": 2,
    "version_minor": 0
   }
  }
 },
 "nbformat": 4,
 "nbformat_minor": 2
}

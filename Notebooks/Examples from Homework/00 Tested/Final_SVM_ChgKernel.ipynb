{
 "cells": [
  {
   "cell_type": "code",
   "execution_count": 1,
   "metadata": {},
   "outputs": [],
   "source": [
    "# Import dependencies\n",
    "import pandas as pd\n",
    "\n",
    "# Hide warning messages in notebook\n",
    "import warnings\n",
    "warnings.filterwarnings('ignore')"
   ]
  },
  {
   "cell_type": "markdown",
   "metadata": {},
   "source": [
    "# Read the CSV and Perform Basic Data Cleaning"
   ]
  },
  {
   "cell_type": "code",
   "execution_count": 2,
   "metadata": {},
   "outputs": [
    {
     "data": {
      "text/html": [
       "<div>\n",
       "<style scoped>\n",
       "    .dataframe tbody tr th:only-of-type {\n",
       "        vertical-align: middle;\n",
       "    }\n",
       "\n",
       "    .dataframe tbody tr th {\n",
       "        vertical-align: top;\n",
       "    }\n",
       "\n",
       "    .dataframe thead th {\n",
       "        text-align: right;\n",
       "    }\n",
       "</style>\n",
       "<table border=\"1\" class=\"dataframe\">\n",
       "  <thead>\n",
       "    <tr style=\"text-align: right;\">\n",
       "      <th></th>\n",
       "      <th>koi_disposition</th>\n",
       "      <th>koi_fpflag_nt</th>\n",
       "      <th>koi_fpflag_ss</th>\n",
       "      <th>koi_fpflag_co</th>\n",
       "      <th>koi_fpflag_ec</th>\n",
       "      <th>koi_period</th>\n",
       "      <th>koi_period_err1</th>\n",
       "      <th>koi_period_err2</th>\n",
       "      <th>koi_time0bk</th>\n",
       "      <th>koi_time0bk_err1</th>\n",
       "      <th>...</th>\n",
       "      <th>koi_steff_err2</th>\n",
       "      <th>koi_slogg</th>\n",
       "      <th>koi_slogg_err1</th>\n",
       "      <th>koi_slogg_err2</th>\n",
       "      <th>koi_srad</th>\n",
       "      <th>koi_srad_err1</th>\n",
       "      <th>koi_srad_err2</th>\n",
       "      <th>ra</th>\n",
       "      <th>dec</th>\n",
       "      <th>koi_kepmag</th>\n",
       "    </tr>\n",
       "  </thead>\n",
       "  <tbody>\n",
       "    <tr>\n",
       "      <th>0</th>\n",
       "      <td>CONFIRMED</td>\n",
       "      <td>0</td>\n",
       "      <td>0</td>\n",
       "      <td>0</td>\n",
       "      <td>0</td>\n",
       "      <td>54.418383</td>\n",
       "      <td>2.479000e-04</td>\n",
       "      <td>-2.479000e-04</td>\n",
       "      <td>162.513840</td>\n",
       "      <td>0.003520</td>\n",
       "      <td>...</td>\n",
       "      <td>-81</td>\n",
       "      <td>4.467</td>\n",
       "      <td>0.064</td>\n",
       "      <td>-0.096</td>\n",
       "      <td>0.927</td>\n",
       "      <td>0.105</td>\n",
       "      <td>-0.061</td>\n",
       "      <td>291.93423</td>\n",
       "      <td>48.141651</td>\n",
       "      <td>15.347</td>\n",
       "    </tr>\n",
       "    <tr>\n",
       "      <th>1</th>\n",
       "      <td>FALSE POSITIVE</td>\n",
       "      <td>0</td>\n",
       "      <td>1</td>\n",
       "      <td>0</td>\n",
       "      <td>0</td>\n",
       "      <td>19.899140</td>\n",
       "      <td>1.490000e-05</td>\n",
       "      <td>-1.490000e-05</td>\n",
       "      <td>175.850252</td>\n",
       "      <td>0.000581</td>\n",
       "      <td>...</td>\n",
       "      <td>-176</td>\n",
       "      <td>4.544</td>\n",
       "      <td>0.044</td>\n",
       "      <td>-0.176</td>\n",
       "      <td>0.868</td>\n",
       "      <td>0.233</td>\n",
       "      <td>-0.078</td>\n",
       "      <td>297.00482</td>\n",
       "      <td>48.134129</td>\n",
       "      <td>15.436</td>\n",
       "    </tr>\n",
       "    <tr>\n",
       "      <th>2</th>\n",
       "      <td>FALSE POSITIVE</td>\n",
       "      <td>0</td>\n",
       "      <td>1</td>\n",
       "      <td>0</td>\n",
       "      <td>0</td>\n",
       "      <td>1.736952</td>\n",
       "      <td>2.630000e-07</td>\n",
       "      <td>-2.630000e-07</td>\n",
       "      <td>170.307565</td>\n",
       "      <td>0.000115</td>\n",
       "      <td>...</td>\n",
       "      <td>-174</td>\n",
       "      <td>4.564</td>\n",
       "      <td>0.053</td>\n",
       "      <td>-0.168</td>\n",
       "      <td>0.791</td>\n",
       "      <td>0.201</td>\n",
       "      <td>-0.067</td>\n",
       "      <td>285.53461</td>\n",
       "      <td>48.285210</td>\n",
       "      <td>15.597</td>\n",
       "    </tr>\n",
       "    <tr>\n",
       "      <th>3</th>\n",
       "      <td>CONFIRMED</td>\n",
       "      <td>0</td>\n",
       "      <td>0</td>\n",
       "      <td>0</td>\n",
       "      <td>0</td>\n",
       "      <td>2.525592</td>\n",
       "      <td>3.760000e-06</td>\n",
       "      <td>-3.760000e-06</td>\n",
       "      <td>171.595550</td>\n",
       "      <td>0.001130</td>\n",
       "      <td>...</td>\n",
       "      <td>-211</td>\n",
       "      <td>4.438</td>\n",
       "      <td>0.070</td>\n",
       "      <td>-0.210</td>\n",
       "      <td>1.046</td>\n",
       "      <td>0.334</td>\n",
       "      <td>-0.133</td>\n",
       "      <td>288.75488</td>\n",
       "      <td>48.226200</td>\n",
       "      <td>15.509</td>\n",
       "    </tr>\n",
       "    <tr>\n",
       "      <th>4</th>\n",
       "      <td>CONFIRMED</td>\n",
       "      <td>0</td>\n",
       "      <td>0</td>\n",
       "      <td>0</td>\n",
       "      <td>0</td>\n",
       "      <td>4.134435</td>\n",
       "      <td>1.050000e-05</td>\n",
       "      <td>-1.050000e-05</td>\n",
       "      <td>172.979370</td>\n",
       "      <td>0.001900</td>\n",
       "      <td>...</td>\n",
       "      <td>-232</td>\n",
       "      <td>4.486</td>\n",
       "      <td>0.054</td>\n",
       "      <td>-0.229</td>\n",
       "      <td>0.972</td>\n",
       "      <td>0.315</td>\n",
       "      <td>-0.105</td>\n",
       "      <td>296.28613</td>\n",
       "      <td>48.224670</td>\n",
       "      <td>15.714</td>\n",
       "    </tr>\n",
       "  </tbody>\n",
       "</table>\n",
       "<p>5 rows × 41 columns</p>\n",
       "</div>"
      ],
      "text/plain": [
       "  koi_disposition  koi_fpflag_nt  koi_fpflag_ss  koi_fpflag_co  koi_fpflag_ec  \\\n",
       "0       CONFIRMED              0              0              0              0   \n",
       "1  FALSE POSITIVE              0              1              0              0   \n",
       "2  FALSE POSITIVE              0              1              0              0   \n",
       "3       CONFIRMED              0              0              0              0   \n",
       "4       CONFIRMED              0              0              0              0   \n",
       "\n",
       "   koi_period  koi_period_err1  koi_period_err2  koi_time0bk  \\\n",
       "0   54.418383     2.479000e-04    -2.479000e-04   162.513840   \n",
       "1   19.899140     1.490000e-05    -1.490000e-05   175.850252   \n",
       "2    1.736952     2.630000e-07    -2.630000e-07   170.307565   \n",
       "3    2.525592     3.760000e-06    -3.760000e-06   171.595550   \n",
       "4    4.134435     1.050000e-05    -1.050000e-05   172.979370   \n",
       "\n",
       "   koi_time0bk_err1  ...  koi_steff_err2  koi_slogg  koi_slogg_err1  \\\n",
       "0          0.003520  ...             -81      4.467           0.064   \n",
       "1          0.000581  ...            -176      4.544           0.044   \n",
       "2          0.000115  ...            -174      4.564           0.053   \n",
       "3          0.001130  ...            -211      4.438           0.070   \n",
       "4          0.001900  ...            -232      4.486           0.054   \n",
       "\n",
       "   koi_slogg_err2  koi_srad  koi_srad_err1  koi_srad_err2         ra  \\\n",
       "0          -0.096     0.927          0.105         -0.061  291.93423   \n",
       "1          -0.176     0.868          0.233         -0.078  297.00482   \n",
       "2          -0.168     0.791          0.201         -0.067  285.53461   \n",
       "3          -0.210     1.046          0.334         -0.133  288.75488   \n",
       "4          -0.229     0.972          0.315         -0.105  296.28613   \n",
       "\n",
       "         dec  koi_kepmag  \n",
       "0  48.141651      15.347  \n",
       "1  48.134129      15.436  \n",
       "2  48.285210      15.597  \n",
       "3  48.226200      15.509  \n",
       "4  48.224670      15.714  \n",
       "\n",
       "[5 rows x 41 columns]"
      ]
     },
     "execution_count": 2,
     "metadata": {},
     "output_type": "execute_result"
    }
   ],
   "source": [
    "df = pd.read_csv(\"exoplanet_data.csv\")\n",
    "# Drop the null columns where all values are null\n",
    "df = df.dropna(axis='columns', how='all')\n",
    "# Drop the null rows\n",
    "df = df.dropna()\n",
    "df.head()"
   ]
  },
  {
   "cell_type": "code",
   "execution_count": 3,
   "metadata": {},
   "outputs": [
    {
     "name": "stdout",
     "output_type": "stream",
     "text": [
      "['CONFIRMED' 'FALSE POSITIVE' 'CANDIDATE']\n"
     ]
    }
   ],
   "source": [
    "print(df[\"koi_disposition\"].unique())"
   ]
  },
  {
   "cell_type": "markdown",
   "metadata": {},
   "source": [
    "# Select your features (columns)"
   ]
  },
  {
   "cell_type": "code",
   "execution_count": 4,
   "metadata": {},
   "outputs": [],
   "source": [
    "# Set X equal to the entire data set, except for the first column\n",
    "X = df.iloc[:,1:]\n",
    "\n",
    "# Set y equal to the first column\n",
    "y = df.iloc[:,0]"
   ]
  },
  {
   "cell_type": "code",
   "execution_count": 5,
   "metadata": {},
   "outputs": [
    {
     "data": {
      "text/plain": [
       "array([0.13341857, 0.17878343, 0.12915733, 0.05268131, 0.01855677,\n",
       "       0.01319293, 0.01373238, 0.01333536, 0.02308064, 0.02358378,\n",
       "       0.01140865, 0.01164963, 0.0096631 , 0.01738702, 0.02359143,\n",
       "       0.02956089, 0.02052197, 0.01309452, 0.01171301, 0.01261766,\n",
       "       0.0109779 , 0.00998817, 0.01150382, 0.00896661, 0.00989888,\n",
       "       0.00810681, 0.02902602, 0.00981321, 0.01049444, 0.0190523 ,\n",
       "       0.01660179, 0.01258491, 0.00967793, 0.01267332, 0.0087141 ,\n",
       "       0.01129801, 0.00886548, 0.01090983, 0.01007607, 0.01004001])"
      ]
     },
     "execution_count": 5,
     "metadata": {},
     "output_type": "execute_result"
    }
   ],
   "source": [
    "# Search for top 10 features according to feature importances\n",
    "from sklearn.ensemble import ExtraTreesClassifier\n",
    "\n",
    "model = ExtraTreesClassifier()\n",
    "model.fit(X,y)\n",
    "model.feature_importances_"
   ]
  },
  {
   "cell_type": "code",
   "execution_count": 6,
   "metadata": {},
   "outputs": [
    {
     "data": {
      "text/plain": [
       "koi_fpflag_ss        0.178783\n",
       "koi_fpflag_nt        0.133419\n",
       "koi_fpflag_co        0.129157\n",
       "koi_fpflag_ec        0.052681\n",
       "koi_duration_err2    0.029561\n",
       "koi_model_snr        0.029026\n",
       "koi_duration_err1    0.023591\n",
       "koi_time0bk_err2     0.023584\n",
       "koi_time0bk_err1     0.023081\n",
       "koi_depth            0.020522\n",
       "dtype: float64"
      ]
     },
     "execution_count": 6,
     "metadata": {},
     "output_type": "execute_result"
    }
   ],
   "source": [
    "# Store the top 10 features as a series, using the column headers as the index\n",
    "feat_imp = pd.Series(model.feature_importances_, index=X.columns).nlargest(10)\n",
    "feat_imp"
   ]
  },
  {
   "cell_type": "code",
   "execution_count": 7,
   "metadata": {},
   "outputs": [],
   "source": [
    "# Set features based on feature importances\n",
    "X = df[feat_imp.index]\n",
    "\n",
    "# Use koi_disposition for y values\n",
    "y = df['koi_disposition']"
   ]
  },
  {
   "cell_type": "markdown",
   "metadata": {},
   "source": [
    "# Create a Train Test Split\n",
    "\n",
    "Use `koi_disposition` for the y values"
   ]
  },
  {
   "cell_type": "code",
   "execution_count": 8,
   "metadata": {},
   "outputs": [],
   "source": [
    "from sklearn.model_selection import train_test_split\n",
    "#X_train, X_test, y_train, y_test = train_test_split(X, y, stratify=y)\n",
    "X_train, X_test, y_train, y_test = train_test_split(X, y, test_size=.33, random_state=42)"
   ]
  },
  {
   "cell_type": "code",
   "execution_count": 9,
   "metadata": {},
   "outputs": [
    {
     "data": {
      "text/html": [
       "<div>\n",
       "<style scoped>\n",
       "    .dataframe tbody tr th:only-of-type {\n",
       "        vertical-align: middle;\n",
       "    }\n",
       "\n",
       "    .dataframe tbody tr th {\n",
       "        vertical-align: top;\n",
       "    }\n",
       "\n",
       "    .dataframe thead th {\n",
       "        text-align: right;\n",
       "    }\n",
       "</style>\n",
       "<table border=\"1\" class=\"dataframe\">\n",
       "  <thead>\n",
       "    <tr style=\"text-align: right;\">\n",
       "      <th></th>\n",
       "      <th>koi_fpflag_ss</th>\n",
       "      <th>koi_fpflag_nt</th>\n",
       "      <th>koi_fpflag_co</th>\n",
       "      <th>koi_fpflag_ec</th>\n",
       "      <th>koi_duration_err2</th>\n",
       "      <th>koi_model_snr</th>\n",
       "      <th>koi_duration_err1</th>\n",
       "      <th>koi_time0bk_err2</th>\n",
       "      <th>koi_time0bk_err1</th>\n",
       "      <th>koi_depth</th>\n",
       "    </tr>\n",
       "  </thead>\n",
       "  <tbody>\n",
       "    <tr>\n",
       "      <th>6947</th>\n",
       "      <td>0</td>\n",
       "      <td>1</td>\n",
       "      <td>0</td>\n",
       "      <td>0</td>\n",
       "      <td>-0.83600</td>\n",
       "      <td>11.5</td>\n",
       "      <td>0.83600</td>\n",
       "      <td>-0.02040</td>\n",
       "      <td>0.02040</td>\n",
       "      <td>523.2</td>\n",
       "    </tr>\n",
       "    <tr>\n",
       "      <th>1614</th>\n",
       "      <td>1</td>\n",
       "      <td>0</td>\n",
       "      <td>0</td>\n",
       "      <td>0</td>\n",
       "      <td>-0.10000</td>\n",
       "      <td>16.9</td>\n",
       "      <td>0.10000</td>\n",
       "      <td>-0.00296</td>\n",
       "      <td>0.00296</td>\n",
       "      <td>458.1</td>\n",
       "    </tr>\n",
       "    <tr>\n",
       "      <th>607</th>\n",
       "      <td>0</td>\n",
       "      <td>0</td>\n",
       "      <td>0</td>\n",
       "      <td>0</td>\n",
       "      <td>-0.15800</td>\n",
       "      <td>17.4</td>\n",
       "      <td>0.15800</td>\n",
       "      <td>-0.00638</td>\n",
       "      <td>0.00638</td>\n",
       "      <td>217.6</td>\n",
       "    </tr>\n",
       "    <tr>\n",
       "      <th>4051</th>\n",
       "      <td>0</td>\n",
       "      <td>1</td>\n",
       "      <td>0</td>\n",
       "      <td>0</td>\n",
       "      <td>-0.00403</td>\n",
       "      <td>628.2</td>\n",
       "      <td>0.00403</td>\n",
       "      <td>-0.00107</td>\n",
       "      <td>0.00107</td>\n",
       "      <td>431670.0</td>\n",
       "    </tr>\n",
       "    <tr>\n",
       "      <th>1093</th>\n",
       "      <td>0</td>\n",
       "      <td>0</td>\n",
       "      <td>0</td>\n",
       "      <td>0</td>\n",
       "      <td>-0.11600</td>\n",
       "      <td>38.2</td>\n",
       "      <td>0.11600</td>\n",
       "      <td>-0.00382</td>\n",
       "      <td>0.00382</td>\n",
       "      <td>336.6</td>\n",
       "    </tr>\n",
       "  </tbody>\n",
       "</table>\n",
       "</div>"
      ],
      "text/plain": [
       "      koi_fpflag_ss  koi_fpflag_nt  koi_fpflag_co  koi_fpflag_ec  \\\n",
       "6947              0              1              0              0   \n",
       "1614              1              0              0              0   \n",
       "607               0              0              0              0   \n",
       "4051              0              1              0              0   \n",
       "1093              0              0              0              0   \n",
       "\n",
       "      koi_duration_err2  koi_model_snr  koi_duration_err1  koi_time0bk_err2  \\\n",
       "6947           -0.83600           11.5            0.83600          -0.02040   \n",
       "1614           -0.10000           16.9            0.10000          -0.00296   \n",
       "607            -0.15800           17.4            0.15800          -0.00638   \n",
       "4051           -0.00403          628.2            0.00403          -0.00107   \n",
       "1093           -0.11600           38.2            0.11600          -0.00382   \n",
       "\n",
       "      koi_time0bk_err1  koi_depth  \n",
       "6947           0.02040      523.2  \n",
       "1614           0.00296      458.1  \n",
       "607            0.00638      217.6  \n",
       "4051           0.00107   431670.0  \n",
       "1093           0.00382      336.6  "
      ]
     },
     "execution_count": 9,
     "metadata": {},
     "output_type": "execute_result"
    }
   ],
   "source": [
    "X_train.head()"
   ]
  },
  {
   "cell_type": "markdown",
   "metadata": {},
   "source": [
    "# Pre-processing\n",
    "\n",
    "Scale the data using the MinMaxScaler and perform some feature selection"
   ]
  },
  {
   "cell_type": "code",
   "execution_count": 10,
   "metadata": {},
   "outputs": [],
   "source": [
    "# Scale your data\n",
    "from sklearn.preprocessing import MinMaxScaler\n",
    "\n",
    "# Create scaler object\n",
    "X_scaler = MinMaxScaler().fit(X_train)\n",
    "\n",
    "# Scale training and testing data\n",
    "X_train_scaled = X_scaler.transform(X_train)\n",
    "X_test_scaled = X_scaler.transform(X_test)"
   ]
  },
  {
   "cell_type": "markdown",
   "metadata": {},
   "source": [
    "# Train the Model\n",
    "\n"
   ]
  },
  {
   "cell_type": "code",
   "execution_count": 11,
   "metadata": {},
   "outputs": [
    {
     "data": {
      "text/plain": [
       "SVC(kernel='poly')"
      ]
     },
     "execution_count": 11,
     "metadata": {},
     "output_type": "execute_result"
    }
   ],
   "source": [
    "from sklearn.svm import SVC\n",
    "\n",
    "# Initialize model\n",
    "model = SVC(kernel='poly')\n",
    "\n",
    "# Train the model\n",
    "model.fit(X_train_scaled, y_train)"
   ]
  },
  {
   "cell_type": "code",
   "execution_count": 12,
   "metadata": {},
   "outputs": [
    {
     "name": "stdout",
     "output_type": "stream",
     "text": [
      "Training Data Score: 0.8441170190049114\n",
      "Testing Data Score: 0.837521663778163\n"
     ]
    }
   ],
   "source": [
    "print(f\"Training Data Score: {model.score(X_train_scaled, y_train)}\")\n",
    "print(f\"Testing Data Score: {model.score(X_test_scaled, y_test)}\")"
   ]
  },
  {
   "cell_type": "markdown",
   "metadata": {},
   "source": [
    "# Hyperparameter Tuning\n",
    "\n",
    "Use `GridSearchCV` to tune the model's parameters"
   ]
  },
  {
   "cell_type": "code",
   "execution_count": 13,
   "metadata": {},
   "outputs": [],
   "source": [
    "# Create the GridSearchCV model\n",
    "from sklearn.model_selection import GridSearchCV\n",
    "\n",
    "# Create the GridSearchCV model\n",
    "param_grid = [{'C':[1, 5, 10, 50,100], 'kernel':['poly']},\n",
    "             {'C':[1, 5, 10, 50], 'kernel':['rbf'], 'gamma': [0.0001, 0.0005, 0.001, 0.005]}]\n",
    "\n",
    "grid = GridSearchCV(model, param_grid, verbose=3)"
   ]
  },
  {
   "cell_type": "code",
   "execution_count": 14,
   "metadata": {},
   "outputs": [
    {
     "name": "stdout",
     "output_type": "stream",
     "text": [
      "Fitting 5 folds for each of 21 candidates, totalling 105 fits\n",
      "[CV 1/5] END ..................C=1, kernel=poly;, score=0.858 total time=   0.1s\n",
      "[CV 2/5] END ..................C=1, kernel=poly;, score=0.826 total time=   0.1s\n",
      "[CV 3/5] END ..................C=1, kernel=poly;, score=0.853 total time=   0.1s\n",
      "[CV 4/5] END ..................C=1, kernel=poly;, score=0.829 total time=   0.1s\n",
      "[CV 5/5] END ..................C=1, kernel=poly;, score=0.835 total time=   0.1s\n",
      "[CV 1/5] END ..................C=5, kernel=poly;, score=0.869 total time=   0.1s\n",
      "[CV 2/5] END ..................C=5, kernel=poly;, score=0.844 total time=   0.1s\n",
      "[CV 3/5] END ..................C=5, kernel=poly;, score=0.866 total time=   0.1s\n",
      "[CV 4/5] END ..................C=5, kernel=poly;, score=0.845 total time=   0.1s\n",
      "[CV 5/5] END ..................C=5, kernel=poly;, score=0.853 total time=   0.1s\n",
      "[CV 1/5] END .................C=10, kernel=poly;, score=0.872 total time=   0.1s\n",
      "[CV 2/5] END .................C=10, kernel=poly;, score=0.848 total time=   0.1s\n",
      "[CV 3/5] END .................C=10, kernel=poly;, score=0.870 total time=   0.1s\n",
      "[CV 4/5] END .................C=10, kernel=poly;, score=0.854 total time=   0.1s\n",
      "[CV 5/5] END .................C=10, kernel=poly;, score=0.855 total time=   0.1s\n",
      "[CV 1/5] END .................C=50, kernel=poly;, score=0.876 total time=   0.2s\n",
      "[CV 2/5] END .................C=50, kernel=poly;, score=0.850 total time=   0.1s\n",
      "[CV 3/5] END .................C=50, kernel=poly;, score=0.869 total time=   0.1s\n",
      "[CV 4/5] END .................C=50, kernel=poly;, score=0.848 total time=   0.1s\n",
      "[CV 5/5] END .................C=50, kernel=poly;, score=0.851 total time=   0.2s\n",
      "[CV 1/5] END ................C=100, kernel=poly;, score=0.882 total time=   0.2s\n",
      "[CV 2/5] END ................C=100, kernel=poly;, score=0.850 total time=   0.2s\n",
      "[CV 3/5] END ................C=100, kernel=poly;, score=0.868 total time=   0.2s\n",
      "[CV 4/5] END ................C=100, kernel=poly;, score=0.849 total time=   0.2s\n",
      "[CV 5/5] END ................C=100, kernel=poly;, score=0.854 total time=   0.2s\n",
      "[CV 1/5] END .....C=1, gamma=0.0001, kernel=rbf;, score=0.508 total time=   0.9s\n",
      "[CV 2/5] END .....C=1, gamma=0.0001, kernel=rbf;, score=0.508 total time=   0.9s\n",
      "[CV 3/5] END .....C=1, gamma=0.0001, kernel=rbf;, score=0.508 total time=   0.9s\n",
      "[CV 4/5] END .....C=1, gamma=0.0001, kernel=rbf;, score=0.509 total time=   0.9s\n",
      "[CV 5/5] END .....C=1, gamma=0.0001, kernel=rbf;, score=0.507 total time=   0.9s\n",
      "[CV 1/5] END .....C=1, gamma=0.0005, kernel=rbf;, score=0.508 total time=   0.9s\n",
      "[CV 2/5] END .....C=1, gamma=0.0005, kernel=rbf;, score=0.508 total time=   0.9s\n",
      "[CV 3/5] END .....C=1, gamma=0.0005, kernel=rbf;, score=0.508 total time=   0.9s\n",
      "[CV 4/5] END .....C=1, gamma=0.0005, kernel=rbf;, score=0.509 total time=   0.9s\n",
      "[CV 5/5] END .....C=1, gamma=0.0005, kernel=rbf;, score=0.507 total time=   0.9s\n",
      "[CV 1/5] END ......C=1, gamma=0.001, kernel=rbf;, score=0.508 total time=   0.9s\n",
      "[CV 2/5] END ......C=1, gamma=0.001, kernel=rbf;, score=0.508 total time=   0.9s\n",
      "[CV 3/5] END ......C=1, gamma=0.001, kernel=rbf;, score=0.508 total time=   0.9s\n",
      "[CV 4/5] END ......C=1, gamma=0.001, kernel=rbf;, score=0.509 total time=   0.9s\n",
      "[CV 5/5] END ......C=1, gamma=0.001, kernel=rbf;, score=0.507 total time=   0.9s\n",
      "[CV 1/5] END ......C=1, gamma=0.005, kernel=rbf;, score=0.746 total time=   0.7s\n",
      "[CV 2/5] END ......C=1, gamma=0.005, kernel=rbf;, score=0.729 total time=   0.7s\n",
      "[CV 3/5] END ......C=1, gamma=0.005, kernel=rbf;, score=0.741 total time=   0.7s\n",
      "[CV 4/5] END ......C=1, gamma=0.005, kernel=rbf;, score=0.745 total time=   0.7s\n",
      "[CV 5/5] END ......C=1, gamma=0.005, kernel=rbf;, score=0.737 total time=   0.7s\n",
      "[CV 1/5] END .....C=5, gamma=0.0001, kernel=rbf;, score=0.508 total time=   0.8s\n",
      "[CV 2/5] END .....C=5, gamma=0.0001, kernel=rbf;, score=0.508 total time=   0.8s\n",
      "[CV 3/5] END .....C=5, gamma=0.0001, kernel=rbf;, score=0.508 total time=   0.8s\n",
      "[CV 4/5] END .....C=5, gamma=0.0001, kernel=rbf;, score=0.509 total time=   0.8s\n",
      "[CV 5/5] END .....C=5, gamma=0.0001, kernel=rbf;, score=0.507 total time=   0.8s\n",
      "[CV 1/5] END .....C=5, gamma=0.0005, kernel=rbf;, score=0.746 total time=   0.8s\n",
      "[CV 2/5] END .....C=5, gamma=0.0005, kernel=rbf;, score=0.729 total time=   0.8s\n",
      "[CV 3/5] END .....C=5, gamma=0.0005, kernel=rbf;, score=0.741 total time=   0.8s\n",
      "[CV 4/5] END .....C=5, gamma=0.0005, kernel=rbf;, score=0.745 total time=   0.8s\n",
      "[CV 5/5] END .....C=5, gamma=0.0005, kernel=rbf;, score=0.737 total time=   0.8s\n",
      "[CV 1/5] END ......C=5, gamma=0.001, kernel=rbf;, score=0.746 total time=   0.7s\n",
      "[CV 2/5] END ......C=5, gamma=0.001, kernel=rbf;, score=0.729 total time=   0.7s\n",
      "[CV 3/5] END ......C=5, gamma=0.001, kernel=rbf;, score=0.741 total time=   0.7s\n",
      "[CV 4/5] END ......C=5, gamma=0.001, kernel=rbf;, score=0.745 total time=   0.7s\n",
      "[CV 5/5] END ......C=5, gamma=0.001, kernel=rbf;, score=0.737 total time=   0.7s\n",
      "[CV 1/5] END ......C=5, gamma=0.005, kernel=rbf;, score=0.759 total time=   0.4s\n",
      "[CV 2/5] END ......C=5, gamma=0.005, kernel=rbf;, score=0.745 total time=   0.4s\n",
      "[CV 3/5] END ......C=5, gamma=0.005, kernel=rbf;, score=0.752 total time=   0.4s\n",
      "[CV 4/5] END ......C=5, gamma=0.005, kernel=rbf;, score=0.753 total time=   0.4s\n",
      "[CV 5/5] END ......C=5, gamma=0.005, kernel=rbf;, score=0.754 total time=   0.4s\n",
      "[CV 1/5] END ....C=10, gamma=0.0001, kernel=rbf;, score=0.508 total time=   0.8s\n",
      "[CV 2/5] END ....C=10, gamma=0.0001, kernel=rbf;, score=0.508 total time=   0.9s\n",
      "[CV 3/5] END ....C=10, gamma=0.0001, kernel=rbf;, score=0.508 total time=   0.8s\n",
      "[CV 4/5] END ....C=10, gamma=0.0001, kernel=rbf;, score=0.509 total time=   0.8s\n",
      "[CV 5/5] END ....C=10, gamma=0.0001, kernel=rbf;, score=0.507 total time=   0.8s\n",
      "[CV 1/5] END ....C=10, gamma=0.0005, kernel=rbf;, score=0.746 total time=   0.7s\n",
      "[CV 2/5] END ....C=10, gamma=0.0005, kernel=rbf;, score=0.729 total time=   0.7s\n",
      "[CV 3/5] END ....C=10, gamma=0.0005, kernel=rbf;, score=0.741 total time=   0.7s\n",
      "[CV 4/5] END ....C=10, gamma=0.0005, kernel=rbf;, score=0.745 total time=   0.7s\n",
      "[CV 5/5] END ....C=10, gamma=0.0005, kernel=rbf;, score=0.737 total time=   0.7s\n",
      "[CV 1/5] END .....C=10, gamma=0.001, kernel=rbf;, score=0.747 total time=   0.5s\n",
      "[CV 2/5] END .....C=10, gamma=0.001, kernel=rbf;, score=0.729 total time=   0.5s\n",
      "[CV 3/5] END .....C=10, gamma=0.001, kernel=rbf;, score=0.741 total time=   0.5s\n",
      "[CV 4/5] END .....C=10, gamma=0.001, kernel=rbf;, score=0.745 total time=   0.5s\n",
      "[CV 5/5] END .....C=10, gamma=0.001, kernel=rbf;, score=0.737 total time=   0.5s\n",
      "[CV 1/5] END .....C=10, gamma=0.005, kernel=rbf;, score=0.766 total time=   0.4s\n",
      "[CV 2/5] END .....C=10, gamma=0.005, kernel=rbf;, score=0.746 total time=   0.3s\n",
      "[CV 3/5] END .....C=10, gamma=0.005, kernel=rbf;, score=0.760 total time=   0.4s\n",
      "[CV 4/5] END .....C=10, gamma=0.005, kernel=rbf;, score=0.756 total time=   0.3s\n",
      "[CV 5/5] END .....C=10, gamma=0.005, kernel=rbf;, score=0.757 total time=   0.4s\n",
      "[CV 1/5] END ....C=50, gamma=0.0001, kernel=rbf;, score=0.746 total time=   0.7s\n",
      "[CV 2/5] END ....C=50, gamma=0.0001, kernel=rbf;, score=0.729 total time=   0.7s\n",
      "[CV 3/5] END ....C=50, gamma=0.0001, kernel=rbf;, score=0.741 total time=   0.7s\n",
      "[CV 4/5] END ....C=50, gamma=0.0001, kernel=rbf;, score=0.745 total time=   0.7s\n",
      "[CV 5/5] END ....C=50, gamma=0.0001, kernel=rbf;, score=0.737 total time=   0.7s\n",
      "[CV 1/5] END ....C=50, gamma=0.0005, kernel=rbf;, score=0.759 total time=   0.4s\n",
      "[CV 2/5] END ....C=50, gamma=0.0005, kernel=rbf;, score=0.745 total time=   0.4s\n",
      "[CV 3/5] END ....C=50, gamma=0.0005, kernel=rbf;, score=0.752 total time=   0.4s\n",
      "[CV 4/5] END ....C=50, gamma=0.0005, kernel=rbf;, score=0.753 total time=   0.4s\n",
      "[CV 5/5] END ....C=50, gamma=0.0005, kernel=rbf;, score=0.754 total time=   0.4s\n",
      "[CV 1/5] END .....C=50, gamma=0.001, kernel=rbf;, score=0.766 total time=   0.3s\n",
      "[CV 2/5] END .....C=50, gamma=0.001, kernel=rbf;, score=0.746 total time=   0.3s\n",
      "[CV 3/5] END .....C=50, gamma=0.001, kernel=rbf;, score=0.760 total time=   0.3s\n",
      "[CV 4/5] END .....C=50, gamma=0.001, kernel=rbf;, score=0.756 total time=   0.3s\n",
      "[CV 5/5] END .....C=50, gamma=0.001, kernel=rbf;, score=0.757 total time=   0.3s\n",
      "[CV 1/5] END .....C=50, gamma=0.005, kernel=rbf;, score=0.800 total time=   0.3s\n"
     ]
    },
    {
     "name": "stdout",
     "output_type": "stream",
     "text": [
      "[CV 2/5] END .....C=50, gamma=0.005, kernel=rbf;, score=0.781 total time=   0.3s\n",
      "[CV 3/5] END .....C=50, gamma=0.005, kernel=rbf;, score=0.792 total time=   0.3s\n",
      "[CV 4/5] END .....C=50, gamma=0.005, kernel=rbf;, score=0.785 total time=   0.3s\n",
      "[CV 5/5] END .....C=50, gamma=0.005, kernel=rbf;, score=0.796 total time=   0.3s\n"
     ]
    }
   ],
   "source": [
    "# Train the new model with GridSearch\n",
    "best_model = grid.fit(X_train_scaled, y_train)\n"
   ]
  },
  {
   "cell_type": "code",
   "execution_count": 15,
   "metadata": {},
   "outputs": [
    {
     "name": "stdout",
     "output_type": "stream",
     "text": [
      "{'C': 100, 'kernel': 'poly'}\n",
      "Best Score:  0.8603421539921007\n"
     ]
    }
   ],
   "source": [
    "print(best_model.best_params_)\n",
    "print(\"Best Score: \", best_model.best_score_)"
   ]
  },
  {
   "cell_type": "code",
   "execution_count": 16,
   "metadata": {},
   "outputs": [
    {
     "data": {
      "text/html": [
       "<div>\n",
       "<style scoped>\n",
       "    .dataframe tbody tr th:only-of-type {\n",
       "        vertical-align: middle;\n",
       "    }\n",
       "\n",
       "    .dataframe tbody tr th {\n",
       "        vertical-align: top;\n",
       "    }\n",
       "\n",
       "    .dataframe thead th {\n",
       "        text-align: right;\n",
       "    }\n",
       "</style>\n",
       "<table border=\"1\" class=\"dataframe\">\n",
       "  <thead>\n",
       "    <tr style=\"text-align: right;\">\n",
       "      <th></th>\n",
       "      <th>Actual</th>\n",
       "      <th>Predicted</th>\n",
       "    </tr>\n",
       "  </thead>\n",
       "  <tbody>\n",
       "    <tr>\n",
       "      <th>4982</th>\n",
       "      <td>FALSE POSITIVE</td>\n",
       "      <td>FALSE POSITIVE</td>\n",
       "    </tr>\n",
       "    <tr>\n",
       "      <th>4866</th>\n",
       "      <td>CANDIDATE</td>\n",
       "      <td>CANDIDATE</td>\n",
       "    </tr>\n",
       "    <tr>\n",
       "      <th>2934</th>\n",
       "      <td>FALSE POSITIVE</td>\n",
       "      <td>FALSE POSITIVE</td>\n",
       "    </tr>\n",
       "    <tr>\n",
       "      <th>5007</th>\n",
       "      <td>FALSE POSITIVE</td>\n",
       "      <td>FALSE POSITIVE</td>\n",
       "    </tr>\n",
       "    <tr>\n",
       "      <th>3869</th>\n",
       "      <td>FALSE POSITIVE</td>\n",
       "      <td>FALSE POSITIVE</td>\n",
       "    </tr>\n",
       "  </tbody>\n",
       "</table>\n",
       "</div>"
      ],
      "text/plain": [
       "              Actual       Predicted\n",
       "4982  FALSE POSITIVE  FALSE POSITIVE\n",
       "4866       CANDIDATE       CANDIDATE\n",
       "2934  FALSE POSITIVE  FALSE POSITIVE\n",
       "5007  FALSE POSITIVE  FALSE POSITIVE\n",
       "3869  FALSE POSITIVE  FALSE POSITIVE"
      ]
     },
     "execution_count": 16,
     "metadata": {},
     "output_type": "execute_result"
    }
   ],
   "source": [
    "# Predict with best_model\n",
    "grid_predictions = best_model.predict(X_test_scaled)\n",
    "df_grid = pd.DataFrame({\"Actual\":y_test, \"Predicted\":grid_predictions}) \n",
    "df_grid.head()"
   ]
  },
  {
   "cell_type": "code",
   "execution_count": 17,
   "metadata": {},
   "outputs": [
    {
     "data": {
      "text/plain": [
       "0.8548526863084922"
      ]
     },
     "execution_count": 17,
     "metadata": {},
     "output_type": "execute_result"
    }
   ],
   "source": [
    "# Score the model\n",
    "best_model.score(X_test_scaled, y_test)"
   ]
  },
  {
   "cell_type": "markdown",
   "metadata": {},
   "source": [
    "# Save the Model"
   ]
  },
  {
   "cell_type": "code",
   "execution_count": 18,
   "metadata": {},
   "outputs": [
    {
     "data": {
      "text/plain": [
       "['SVCTwoKernels.sav']"
      ]
     },
     "execution_count": 18,
     "metadata": {},
     "output_type": "execute_result"
    }
   ],
   "source": [
    "# save your model by updating \"your_name\" with your name\n",
    "# and \"your_model\" with your model variable\n",
    "# be sure to turn this in to BCS\n",
    "# if joblib fails to import, try running the command to install in terminal/git-bash\n",
    "import joblib\n",
    "filename = 'SVCTwoKernels.sav'\n",
    "joblib.dump(best_model, filename)"
   ]
  },
  {
   "cell_type": "code",
   "execution_count": 19,
   "metadata": {},
   "outputs": [
    {
     "name": "stdout",
     "output_type": "stream",
     "text": [
      "                precision    recall  f1-score   support\n",
      "\n",
      "     CANDIDATE       0.78      0.59      0.67       555\n",
      "     CONFIRMED       0.70      0.83      0.76       628\n",
      "FALSE POSITIVE       0.98      1.00      0.99      1125\n",
      "\n",
      "      accuracy                           0.85      2308\n",
      "     macro avg       0.82      0.81      0.81      2308\n",
      "  weighted avg       0.86      0.85      0.85      2308\n",
      "\n"
     ]
    }
   ],
   "source": [
    "# Print Classification Report.\n",
    "from sklearn.metrics import classification_report\n",
    "print(classification_report(y_test, grid_predictions))"
   ]
  }
 ],
 "metadata": {
  "kernel_info": {
   "name": "dev"
  },
  "kernelspec": {
   "display_name": "Python [conda env:.conda-Machine_Learning]",
   "language": "python",
   "name": "conda-env-.conda-Machine_Learning-py"
  },
  "language_info": {
   "codemirror_mode": {
    "name": "ipython",
    "version": 3
   },
   "file_extension": ".py",
   "mimetype": "text/x-python",
   "name": "python",
   "nbconvert_exporter": "python",
   "pygments_lexer": "ipython3",
   "version": "3.8.10"
  },
  "nteract": {
   "version": "0.12.3"
  },
  "widgets": {
   "application/vnd.jupyter.widget-state+json": {
    "state": {},
    "version_major": 2,
    "version_minor": 0
   }
  }
 },
 "nbformat": 4,
 "nbformat_minor": 2
}

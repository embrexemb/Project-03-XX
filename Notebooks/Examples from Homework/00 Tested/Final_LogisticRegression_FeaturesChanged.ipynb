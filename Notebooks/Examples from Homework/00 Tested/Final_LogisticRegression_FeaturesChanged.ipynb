{
 "cells": [
  {
   "cell_type": "code",
   "execution_count": 1,
   "metadata": {},
   "outputs": [],
   "source": [
    "import pandas as pd\n",
    "\n",
    "# Hide warning messages in notebook\n",
    "import warnings\n",
    "warnings.filterwarnings('ignore')"
   ]
  },
  {
   "cell_type": "markdown",
   "metadata": {},
   "source": [
    "# Read the CSV and Perform Basic Data Cleaning"
   ]
  },
  {
   "cell_type": "code",
   "execution_count": 2,
   "metadata": {},
   "outputs": [
    {
     "data": {
      "text/html": [
       "<div>\n",
       "<style scoped>\n",
       "    .dataframe tbody tr th:only-of-type {\n",
       "        vertical-align: middle;\n",
       "    }\n",
       "\n",
       "    .dataframe tbody tr th {\n",
       "        vertical-align: top;\n",
       "    }\n",
       "\n",
       "    .dataframe thead th {\n",
       "        text-align: right;\n",
       "    }\n",
       "</style>\n",
       "<table border=\"1\" class=\"dataframe\">\n",
       "  <thead>\n",
       "    <tr style=\"text-align: right;\">\n",
       "      <th></th>\n",
       "      <th>koi_disposition</th>\n",
       "      <th>koi_fpflag_nt</th>\n",
       "      <th>koi_fpflag_ss</th>\n",
       "      <th>koi_fpflag_co</th>\n",
       "      <th>koi_fpflag_ec</th>\n",
       "      <th>koi_period</th>\n",
       "      <th>koi_period_err1</th>\n",
       "      <th>koi_period_err2</th>\n",
       "      <th>koi_time0bk</th>\n",
       "      <th>koi_time0bk_err1</th>\n",
       "      <th>...</th>\n",
       "      <th>koi_steff_err2</th>\n",
       "      <th>koi_slogg</th>\n",
       "      <th>koi_slogg_err1</th>\n",
       "      <th>koi_slogg_err2</th>\n",
       "      <th>koi_srad</th>\n",
       "      <th>koi_srad_err1</th>\n",
       "      <th>koi_srad_err2</th>\n",
       "      <th>ra</th>\n",
       "      <th>dec</th>\n",
       "      <th>koi_kepmag</th>\n",
       "    </tr>\n",
       "  </thead>\n",
       "  <tbody>\n",
       "    <tr>\n",
       "      <th>0</th>\n",
       "      <td>CONFIRMED</td>\n",
       "      <td>0</td>\n",
       "      <td>0</td>\n",
       "      <td>0</td>\n",
       "      <td>0</td>\n",
       "      <td>54.418383</td>\n",
       "      <td>2.479000e-04</td>\n",
       "      <td>-2.479000e-04</td>\n",
       "      <td>162.513840</td>\n",
       "      <td>0.003520</td>\n",
       "      <td>...</td>\n",
       "      <td>-81</td>\n",
       "      <td>4.467</td>\n",
       "      <td>0.064</td>\n",
       "      <td>-0.096</td>\n",
       "      <td>0.927</td>\n",
       "      <td>0.105</td>\n",
       "      <td>-0.061</td>\n",
       "      <td>291.93423</td>\n",
       "      <td>48.141651</td>\n",
       "      <td>15.347</td>\n",
       "    </tr>\n",
       "    <tr>\n",
       "      <th>1</th>\n",
       "      <td>FALSE POSITIVE</td>\n",
       "      <td>0</td>\n",
       "      <td>1</td>\n",
       "      <td>0</td>\n",
       "      <td>0</td>\n",
       "      <td>19.899140</td>\n",
       "      <td>1.490000e-05</td>\n",
       "      <td>-1.490000e-05</td>\n",
       "      <td>175.850252</td>\n",
       "      <td>0.000581</td>\n",
       "      <td>...</td>\n",
       "      <td>-176</td>\n",
       "      <td>4.544</td>\n",
       "      <td>0.044</td>\n",
       "      <td>-0.176</td>\n",
       "      <td>0.868</td>\n",
       "      <td>0.233</td>\n",
       "      <td>-0.078</td>\n",
       "      <td>297.00482</td>\n",
       "      <td>48.134129</td>\n",
       "      <td>15.436</td>\n",
       "    </tr>\n",
       "    <tr>\n",
       "      <th>2</th>\n",
       "      <td>FALSE POSITIVE</td>\n",
       "      <td>0</td>\n",
       "      <td>1</td>\n",
       "      <td>0</td>\n",
       "      <td>0</td>\n",
       "      <td>1.736952</td>\n",
       "      <td>2.630000e-07</td>\n",
       "      <td>-2.630000e-07</td>\n",
       "      <td>170.307565</td>\n",
       "      <td>0.000115</td>\n",
       "      <td>...</td>\n",
       "      <td>-174</td>\n",
       "      <td>4.564</td>\n",
       "      <td>0.053</td>\n",
       "      <td>-0.168</td>\n",
       "      <td>0.791</td>\n",
       "      <td>0.201</td>\n",
       "      <td>-0.067</td>\n",
       "      <td>285.53461</td>\n",
       "      <td>48.285210</td>\n",
       "      <td>15.597</td>\n",
       "    </tr>\n",
       "    <tr>\n",
       "      <th>3</th>\n",
       "      <td>CONFIRMED</td>\n",
       "      <td>0</td>\n",
       "      <td>0</td>\n",
       "      <td>0</td>\n",
       "      <td>0</td>\n",
       "      <td>2.525592</td>\n",
       "      <td>3.760000e-06</td>\n",
       "      <td>-3.760000e-06</td>\n",
       "      <td>171.595550</td>\n",
       "      <td>0.001130</td>\n",
       "      <td>...</td>\n",
       "      <td>-211</td>\n",
       "      <td>4.438</td>\n",
       "      <td>0.070</td>\n",
       "      <td>-0.210</td>\n",
       "      <td>1.046</td>\n",
       "      <td>0.334</td>\n",
       "      <td>-0.133</td>\n",
       "      <td>288.75488</td>\n",
       "      <td>48.226200</td>\n",
       "      <td>15.509</td>\n",
       "    </tr>\n",
       "    <tr>\n",
       "      <th>4</th>\n",
       "      <td>CONFIRMED</td>\n",
       "      <td>0</td>\n",
       "      <td>0</td>\n",
       "      <td>0</td>\n",
       "      <td>0</td>\n",
       "      <td>4.134435</td>\n",
       "      <td>1.050000e-05</td>\n",
       "      <td>-1.050000e-05</td>\n",
       "      <td>172.979370</td>\n",
       "      <td>0.001900</td>\n",
       "      <td>...</td>\n",
       "      <td>-232</td>\n",
       "      <td>4.486</td>\n",
       "      <td>0.054</td>\n",
       "      <td>-0.229</td>\n",
       "      <td>0.972</td>\n",
       "      <td>0.315</td>\n",
       "      <td>-0.105</td>\n",
       "      <td>296.28613</td>\n",
       "      <td>48.224670</td>\n",
       "      <td>15.714</td>\n",
       "    </tr>\n",
       "  </tbody>\n",
       "</table>\n",
       "<p>5 rows × 41 columns</p>\n",
       "</div>"
      ],
      "text/plain": [
       "  koi_disposition  koi_fpflag_nt  koi_fpflag_ss  koi_fpflag_co  koi_fpflag_ec  \\\n",
       "0       CONFIRMED              0              0              0              0   \n",
       "1  FALSE POSITIVE              0              1              0              0   \n",
       "2  FALSE POSITIVE              0              1              0              0   \n",
       "3       CONFIRMED              0              0              0              0   \n",
       "4       CONFIRMED              0              0              0              0   \n",
       "\n",
       "   koi_period  koi_period_err1  koi_period_err2  koi_time0bk  \\\n",
       "0   54.418383     2.479000e-04    -2.479000e-04   162.513840   \n",
       "1   19.899140     1.490000e-05    -1.490000e-05   175.850252   \n",
       "2    1.736952     2.630000e-07    -2.630000e-07   170.307565   \n",
       "3    2.525592     3.760000e-06    -3.760000e-06   171.595550   \n",
       "4    4.134435     1.050000e-05    -1.050000e-05   172.979370   \n",
       "\n",
       "   koi_time0bk_err1  ...  koi_steff_err2  koi_slogg  koi_slogg_err1  \\\n",
       "0          0.003520  ...             -81      4.467           0.064   \n",
       "1          0.000581  ...            -176      4.544           0.044   \n",
       "2          0.000115  ...            -174      4.564           0.053   \n",
       "3          0.001130  ...            -211      4.438           0.070   \n",
       "4          0.001900  ...            -232      4.486           0.054   \n",
       "\n",
       "   koi_slogg_err2  koi_srad  koi_srad_err1  koi_srad_err2         ra  \\\n",
       "0          -0.096     0.927          0.105         -0.061  291.93423   \n",
       "1          -0.176     0.868          0.233         -0.078  297.00482   \n",
       "2          -0.168     0.791          0.201         -0.067  285.53461   \n",
       "3          -0.210     1.046          0.334         -0.133  288.75488   \n",
       "4          -0.229     0.972          0.315         -0.105  296.28613   \n",
       "\n",
       "         dec  koi_kepmag  \n",
       "0  48.141651      15.347  \n",
       "1  48.134129      15.436  \n",
       "2  48.285210      15.597  \n",
       "3  48.226200      15.509  \n",
       "4  48.224670      15.714  \n",
       "\n",
       "[5 rows x 41 columns]"
      ]
     },
     "execution_count": 2,
     "metadata": {},
     "output_type": "execute_result"
    }
   ],
   "source": [
    "df = pd.read_csv(\"exoplanet_data.csv\")\n",
    "# Drop the null columns where all values are null\n",
    "df = df.dropna(axis='columns', how='all')\n",
    "# Drop the null rows\n",
    "df = df.dropna()\n",
    "df.head()"
   ]
  },
  {
   "cell_type": "code",
   "execution_count": 3,
   "metadata": {},
   "outputs": [
    {
     "name": "stdout",
     "output_type": "stream",
     "text": [
      "['CONFIRMED' 'FALSE POSITIVE' 'CANDIDATE']\n"
     ]
    }
   ],
   "source": [
    "print(df[\"koi_disposition\"].unique())"
   ]
  },
  {
   "cell_type": "markdown",
   "metadata": {},
   "source": [
    "# Select your features (columns)"
   ]
  },
  {
   "cell_type": "code",
   "execution_count": 4,
   "metadata": {},
   "outputs": [],
   "source": [
    "# Set X equal to the entire data set, except for the first column\n",
    "X = df.iloc[:,1:]\n",
    "\n",
    "# Set y equal to the first column\n",
    "y = df.iloc[:,0]"
   ]
  },
  {
   "cell_type": "code",
   "execution_count": 5,
   "metadata": {},
   "outputs": [
    {
     "data": {
      "text/plain": [
       "array([2.60688858e-01, 2.46980546e-01, 1.75985959e-01, 2.03134802e-02,\n",
       "       2.32487160e-03, 4.59675115e-04, 1.85726096e-04, 5.00055556e-03,\n",
       "       4.10157937e-04, 2.72422069e-04, 4.31920796e-03, 9.41308828e-04,\n",
       "       2.38202743e-03, 8.88944750e-03, 3.83105489e-02, 2.31265322e-04,\n",
       "       2.50125549e-03, 1.67951790e-03, 4.52128956e-04, 2.29894003e-02,\n",
       "       9.63857808e-04, 5.42085677e-03, 1.26294956e-04, 2.86544032e-04,\n",
       "       7.19421013e-04, 4.61592239e-04, 7.96938647e-02, 2.74682994e-03,\n",
       "       9.71028723e-04, 9.81578136e-02, 1.08029809e-03, 8.15077613e-04,\n",
       "       3.65355791e-04, 1.71499278e-03, 1.93201650e-03, 1.31314682e-03,\n",
       "       9.42795086e-04, 2.23334203e-03, 1.79633572e-03, 2.94017676e-03])"
      ]
     },
     "execution_count": 5,
     "metadata": {},
     "output_type": "execute_result"
    }
   ],
   "source": [
    "# Search for top 10 features according to feature importances\n",
    "from sklearn.ensemble import GradientBoostingClassifier\n",
    "\n",
    "model = GradientBoostingClassifier(n_estimators=250,learning_rate=1.0,max_depth=1,random_state=0)\n",
    "model.fit(X,y)\n",
    "model.feature_importances_"
   ]
  },
  {
   "cell_type": "code",
   "execution_count": 6,
   "metadata": {},
   "outputs": [
    {
     "data": {
      "text/plain": [
       "koi_fpflag_nt        0.260689\n",
       "koi_fpflag_ss        0.246981\n",
       "koi_fpflag_co        0.175986\n",
       "koi_steff_err1       0.098158\n",
       "koi_model_snr        0.079694\n",
       "koi_duration_err1    0.038311\n",
       "koi_prad             0.022989\n",
       "koi_fpflag_ec        0.020313\n",
       "koi_duration         0.008889\n",
       "koi_prad_err2        0.005421\n",
       "dtype: float64"
      ]
     },
     "execution_count": 6,
     "metadata": {},
     "output_type": "execute_result"
    }
   ],
   "source": [
    "# Store the top 10 features as a series, using the column headers as the index\n",
    "feat_imp = pd.Series(model.feature_importances_, index=X.columns).nlargest(10)\n",
    "feat_imp"
   ]
  },
  {
   "cell_type": "code",
   "execution_count": 7,
   "metadata": {},
   "outputs": [],
   "source": [
    "# Set features based on feature importances\n",
    "X = df[feat_imp.index]\n",
    "\n",
    "# Use koi_disposition for y values\n",
    "y = df['koi_disposition']"
   ]
  },
  {
   "cell_type": "markdown",
   "metadata": {},
   "source": [
    "# Create a Train Test Split\n",
    "\n",
    "Use `koi_disposition` for the y values"
   ]
  },
  {
   "cell_type": "code",
   "execution_count": 8,
   "metadata": {},
   "outputs": [],
   "source": [
    "from sklearn.model_selection import train_test_split\n",
    "X_train, X_test, y_train, y_test = train_test_split(X, y, stratify=y)"
   ]
  },
  {
   "cell_type": "code",
   "execution_count": 9,
   "metadata": {},
   "outputs": [
    {
     "data": {
      "text/html": [
       "<div>\n",
       "<style scoped>\n",
       "    .dataframe tbody tr th:only-of-type {\n",
       "        vertical-align: middle;\n",
       "    }\n",
       "\n",
       "    .dataframe tbody tr th {\n",
       "        vertical-align: top;\n",
       "    }\n",
       "\n",
       "    .dataframe thead th {\n",
       "        text-align: right;\n",
       "    }\n",
       "</style>\n",
       "<table border=\"1\" class=\"dataframe\">\n",
       "  <thead>\n",
       "    <tr style=\"text-align: right;\">\n",
       "      <th></th>\n",
       "      <th>koi_fpflag_nt</th>\n",
       "      <th>koi_fpflag_ss</th>\n",
       "      <th>koi_fpflag_co</th>\n",
       "      <th>koi_steff_err1</th>\n",
       "      <th>koi_model_snr</th>\n",
       "      <th>koi_duration_err1</th>\n",
       "      <th>koi_prad</th>\n",
       "      <th>koi_fpflag_ec</th>\n",
       "      <th>koi_duration</th>\n",
       "      <th>koi_prad_err2</th>\n",
       "    </tr>\n",
       "  </thead>\n",
       "  <tbody>\n",
       "    <tr>\n",
       "      <th>2476</th>\n",
       "      <td>0</td>\n",
       "      <td>0</td>\n",
       "      <td>0</td>\n",
       "      <td>158</td>\n",
       "      <td>139.8</td>\n",
       "      <td>0.02340</td>\n",
       "      <td>3.16</td>\n",
       "      <td>0</td>\n",
       "      <td>3.36030</td>\n",
       "      <td>-0.31</td>\n",
       "    </tr>\n",
       "    <tr>\n",
       "      <th>3872</th>\n",
       "      <td>0</td>\n",
       "      <td>1</td>\n",
       "      <td>1</td>\n",
       "      <td>155</td>\n",
       "      <td>37.8</td>\n",
       "      <td>0.07840</td>\n",
       "      <td>2.62</td>\n",
       "      <td>1</td>\n",
       "      <td>2.44040</td>\n",
       "      <td>-0.67</td>\n",
       "    </tr>\n",
       "    <tr>\n",
       "      <th>2181</th>\n",
       "      <td>0</td>\n",
       "      <td>0</td>\n",
       "      <td>0</td>\n",
       "      <td>104</td>\n",
       "      <td>61.7</td>\n",
       "      <td>0.03230</td>\n",
       "      <td>2.54</td>\n",
       "      <td>0</td>\n",
       "      <td>2.14170</td>\n",
       "      <td>-0.34</td>\n",
       "    </tr>\n",
       "    <tr>\n",
       "      <th>5593</th>\n",
       "      <td>0</td>\n",
       "      <td>1</td>\n",
       "      <td>0</td>\n",
       "      <td>216</td>\n",
       "      <td>943.7</td>\n",
       "      <td>0.00535</td>\n",
       "      <td>105.07</td>\n",
       "      <td>0</td>\n",
       "      <td>5.21948</td>\n",
       "      <td>-29.62</td>\n",
       "    </tr>\n",
       "    <tr>\n",
       "      <th>3744</th>\n",
       "      <td>0</td>\n",
       "      <td>0</td>\n",
       "      <td>0</td>\n",
       "      <td>195</td>\n",
       "      <td>17.4</td>\n",
       "      <td>0.14300</td>\n",
       "      <td>1.41</td>\n",
       "      <td>0</td>\n",
       "      <td>3.76200</td>\n",
       "      <td>-0.57</td>\n",
       "    </tr>\n",
       "  </tbody>\n",
       "</table>\n",
       "</div>"
      ],
      "text/plain": [
       "      koi_fpflag_nt  koi_fpflag_ss  koi_fpflag_co  koi_steff_err1  \\\n",
       "2476              0              0              0             158   \n",
       "3872              0              1              1             155   \n",
       "2181              0              0              0             104   \n",
       "5593              0              1              0             216   \n",
       "3744              0              0              0             195   \n",
       "\n",
       "      koi_model_snr  koi_duration_err1  koi_prad  koi_fpflag_ec  koi_duration  \\\n",
       "2476          139.8            0.02340      3.16              0       3.36030   \n",
       "3872           37.8            0.07840      2.62              1       2.44040   \n",
       "2181           61.7            0.03230      2.54              0       2.14170   \n",
       "5593          943.7            0.00535    105.07              0       5.21948   \n",
       "3744           17.4            0.14300      1.41              0       3.76200   \n",
       "\n",
       "      koi_prad_err2  \n",
       "2476          -0.31  \n",
       "3872          -0.67  \n",
       "2181          -0.34  \n",
       "5593         -29.62  \n",
       "3744          -0.57  "
      ]
     },
     "execution_count": 9,
     "metadata": {},
     "output_type": "execute_result"
    }
   ],
   "source": [
    "X_train.head()"
   ]
  },
  {
   "cell_type": "markdown",
   "metadata": {},
   "source": [
    "# Pre-processing\n",
    "\n",
    "Scale the data using the MinMaxScaler and perform some feature selection"
   ]
  },
  {
   "cell_type": "code",
   "execution_count": 10,
   "metadata": {},
   "outputs": [],
   "source": [
    "from sklearn.preprocessing import MinMaxScaler\n",
    "\n",
    "# Create scaler object\n",
    "X_scaler = MinMaxScaler().fit(X_train)\n",
    "\n",
    "# Scale training and testing data\n",
    "X_train_scaled = X_scaler.transform(X_train)\n",
    "X_test_scaled = X_scaler.transform(X_test)"
   ]
  },
  {
   "cell_type": "markdown",
   "metadata": {},
   "source": [
    "# Train the Model\n",
    "\n"
   ]
  },
  {
   "cell_type": "code",
   "execution_count": 11,
   "metadata": {},
   "outputs": [
    {
     "data": {
      "text/plain": [
       "LogisticRegression()"
      ]
     },
     "execution_count": 11,
     "metadata": {},
     "output_type": "execute_result"
    }
   ],
   "source": [
    "from sklearn.linear_model import LogisticRegression\n",
    "\n",
    "# Initialize model\n",
    "model = LogisticRegression()\n",
    "\n",
    "# Train the model\n",
    "model.fit(X_train_scaled, y_train)"
   ]
  },
  {
   "cell_type": "code",
   "execution_count": 12,
   "metadata": {},
   "outputs": [
    {
     "name": "stdout",
     "output_type": "stream",
     "text": [
      "Training Data Score: 0.8277703604806409\n",
      "Testing Data Score: 0.8226544622425629\n"
     ]
    }
   ],
   "source": [
    "print(f\"Training Data Score: {model.score(X_train_scaled, y_train)}\")\n",
    "print(f\"Testing Data Score: {model.score(X_test_scaled, y_test)}\")"
   ]
  },
  {
   "cell_type": "markdown",
   "metadata": {},
   "source": [
    "# Hyperparameter Tuning\n",
    "\n",
    "Use `GridSearchCV` to tune the model's parameters"
   ]
  },
  {
   "cell_type": "code",
   "execution_count": 13,
   "metadata": {},
   "outputs": [
    {
     "data": {
      "text/html": [
       "<div>\n",
       "<style scoped>\n",
       "    .dataframe tbody tr th:only-of-type {\n",
       "        vertical-align: middle;\n",
       "    }\n",
       "\n",
       "    .dataframe tbody tr th {\n",
       "        vertical-align: top;\n",
       "    }\n",
       "\n",
       "    .dataframe thead th {\n",
       "        text-align: right;\n",
       "    }\n",
       "</style>\n",
       "<table border=\"1\" class=\"dataframe\">\n",
       "  <thead>\n",
       "    <tr style=\"text-align: right;\">\n",
       "      <th></th>\n",
       "      <th>Actual</th>\n",
       "      <th>Predicted</th>\n",
       "    </tr>\n",
       "  </thead>\n",
       "  <tbody>\n",
       "    <tr>\n",
       "      <th>2077</th>\n",
       "      <td>CANDIDATE</td>\n",
       "      <td>CONFIRMED</td>\n",
       "    </tr>\n",
       "    <tr>\n",
       "      <th>5669</th>\n",
       "      <td>FALSE POSITIVE</td>\n",
       "      <td>FALSE POSITIVE</td>\n",
       "    </tr>\n",
       "    <tr>\n",
       "      <th>3852</th>\n",
       "      <td>FALSE POSITIVE</td>\n",
       "      <td>FALSE POSITIVE</td>\n",
       "    </tr>\n",
       "    <tr>\n",
       "      <th>5023</th>\n",
       "      <td>CANDIDATE</td>\n",
       "      <td>CANDIDATE</td>\n",
       "    </tr>\n",
       "    <tr>\n",
       "      <th>6777</th>\n",
       "      <td>FALSE POSITIVE</td>\n",
       "      <td>FALSE POSITIVE</td>\n",
       "    </tr>\n",
       "  </tbody>\n",
       "</table>\n",
       "</div>"
      ],
      "text/plain": [
       "              Actual       Predicted\n",
       "2077       CANDIDATE       CONFIRMED\n",
       "5669  FALSE POSITIVE  FALSE POSITIVE\n",
       "3852  FALSE POSITIVE  FALSE POSITIVE\n",
       "5023       CANDIDATE       CANDIDATE\n",
       "6777  FALSE POSITIVE  FALSE POSITIVE"
      ]
     },
     "execution_count": 13,
     "metadata": {},
     "output_type": "execute_result"
    }
   ],
   "source": [
    "predictions = model.predict(X_test_scaled)\n",
    "df_pred = pd.DataFrame({\"Actual\":y_test, \"Predicted\":predictions}) \n",
    "df_pred.head()"
   ]
  },
  {
   "cell_type": "code",
   "execution_count": 14,
   "metadata": {},
   "outputs": [],
   "source": [
    "# Create the GridSearchCV model\n",
    "from sklearn.model_selection import GridSearchCV\n",
    "import numpy as np\n",
    "\n",
    "# Create the GridSearchCV model\n",
    "param_grid = {'C':np.logspace(-4, 4, 20),\n",
    "             'penalty':['l1','l2']}\n",
    "\n",
    "grid = GridSearchCV(model, param_grid, verbose=3)"
   ]
  },
  {
   "cell_type": "code",
   "execution_count": 15,
   "metadata": {},
   "outputs": [
    {
     "name": "stdout",
     "output_type": "stream",
     "text": [
      "Fitting 5 folds for each of 40 candidates, totalling 200 fits\n",
      "[CV 1/5] END ................C=0.0001, penalty=l1;, score=nan total time=   0.0s\n",
      "[CV 2/5] END ................C=0.0001, penalty=l1;, score=nan total time=   0.0s\n",
      "[CV 3/5] END ................C=0.0001, penalty=l1;, score=nan total time=   0.0s\n",
      "[CV 4/5] END ................C=0.0001, penalty=l1;, score=nan total time=   0.0s\n",
      "[CV 5/5] END ................C=0.0001, penalty=l1;, score=nan total time=   0.0s\n",
      "[CV 1/5] END ..............C=0.0001, penalty=l2;, score=0.501 total time=   0.0s\n",
      "[CV 2/5] END ..............C=0.0001, penalty=l2;, score=0.501 total time=   0.0s\n",
      "[CV 3/5] END ..............C=0.0001, penalty=l2;, score=0.501 total time=   0.0s\n",
      "[CV 4/5] END ..............C=0.0001, penalty=l2;, score=0.501 total time=   0.0s\n",
      "[CV 5/5] END ..............C=0.0001, penalty=l2;, score=0.501 total time=   0.0s\n",
      "[CV 1/5] END C=0.00026366508987303583, penalty=l1;, score=nan total time=   0.0s\n",
      "[CV 2/5] END C=0.00026366508987303583, penalty=l1;, score=nan total time=   0.0s\n",
      "[CV 3/5] END C=0.00026366508987303583, penalty=l1;, score=nan total time=   0.0s\n",
      "[CV 4/5] END C=0.00026366508987303583, penalty=l1;, score=nan total time=   0.0s\n",
      "[CV 5/5] END C=0.00026366508987303583, penalty=l1;, score=nan total time=   0.0s\n",
      "[CV 1/5] END C=0.00026366508987303583, penalty=l2;, score=0.501 total time=   0.0s\n",
      "[CV 2/5] END C=0.00026366508987303583, penalty=l2;, score=0.501 total time=   0.0s\n",
      "[CV 3/5] END C=0.00026366508987303583, penalty=l2;, score=0.501 total time=   0.0s\n",
      "[CV 4/5] END C=0.00026366508987303583, penalty=l2;, score=0.501 total time=   0.0s\n",
      "[CV 5/5] END C=0.00026366508987303583, penalty=l2;, score=0.501 total time=   0.0s\n",
      "[CV 1/5] END .C=0.0006951927961775605, penalty=l1;, score=nan total time=   0.0s\n",
      "[CV 2/5] END .C=0.0006951927961775605, penalty=l1;, score=nan total time=   0.0s\n",
      "[CV 3/5] END .C=0.0006951927961775605, penalty=l1;, score=nan total time=   0.0s\n",
      "[CV 4/5] END .C=0.0006951927961775605, penalty=l1;, score=nan total time=   0.0s\n",
      "[CV 5/5] END .C=0.0006951927961775605, penalty=l1;, score=nan total time=   0.0s\n",
      "[CV 1/5] END C=0.0006951927961775605, penalty=l2;, score=0.501 total time=   0.0s\n",
      "[CV 2/5] END C=0.0006951927961775605, penalty=l2;, score=0.501 total time=   0.0s\n",
      "[CV 3/5] END C=0.0006951927961775605, penalty=l2;, score=0.501 total time=   0.0s\n",
      "[CV 4/5] END C=0.0006951927961775605, penalty=l2;, score=0.501 total time=   0.0s\n",
      "[CV 5/5] END C=0.0006951927961775605, penalty=l2;, score=0.501 total time=   0.0s\n",
      "[CV 1/5] END .C=0.0018329807108324356, penalty=l1;, score=nan total time=   0.0s\n",
      "[CV 2/5] END .C=0.0018329807108324356, penalty=l1;, score=nan total time=   0.0s\n",
      "[CV 3/5] END .C=0.0018329807108324356, penalty=l1;, score=nan total time=   0.0s\n",
      "[CV 4/5] END .C=0.0018329807108324356, penalty=l1;, score=nan total time=   0.0s\n",
      "[CV 5/5] END .C=0.0018329807108324356, penalty=l1;, score=nan total time=   0.0s\n",
      "[CV 1/5] END C=0.0018329807108324356, penalty=l2;, score=0.501 total time=   0.0s\n",
      "[CV 2/5] END C=0.0018329807108324356, penalty=l2;, score=0.501 total time=   0.0s\n",
      "[CV 3/5] END C=0.0018329807108324356, penalty=l2;, score=0.501 total time=   0.0s\n",
      "[CV 4/5] END C=0.0018329807108324356, penalty=l2;, score=0.501 total time=   0.0s\n",
      "[CV 5/5] END C=0.0018329807108324356, penalty=l2;, score=0.501 total time=   0.0s\n",
      "[CV 1/5] END ..C=0.004832930238571752, penalty=l1;, score=nan total time=   0.0s\n",
      "[CV 2/5] END ..C=0.004832930238571752, penalty=l1;, score=nan total time=   0.0s\n",
      "[CV 3/5] END ..C=0.004832930238571752, penalty=l1;, score=nan total time=   0.0s\n",
      "[CV 4/5] END ..C=0.004832930238571752, penalty=l1;, score=nan total time=   0.0s\n",
      "[CV 5/5] END ..C=0.004832930238571752, penalty=l1;, score=nan total time=   0.0s\n",
      "[CV 1/5] END C=0.004832930238571752, penalty=l2;, score=0.752 total time=   0.0s\n",
      "[CV 2/5] END C=0.004832930238571752, penalty=l2;, score=0.744 total time=   0.0s\n",
      "[CV 3/5] END C=0.004832930238571752, penalty=l2;, score=0.755 total time=   0.0s\n",
      "[CV 4/5] END C=0.004832930238571752, penalty=l2;, score=0.749 total time=   0.0s\n",
      "[CV 5/5] END C=0.004832930238571752, penalty=l2;, score=0.753 total time=   0.0s\n",
      "[CV 1/5] END ..C=0.012742749857031334, penalty=l1;, score=nan total time=   0.0s\n",
      "[CV 2/5] END ..C=0.012742749857031334, penalty=l1;, score=nan total time=   0.0s\n",
      "[CV 3/5] END ..C=0.012742749857031334, penalty=l1;, score=nan total time=   0.0s\n",
      "[CV 4/5] END ..C=0.012742749857031334, penalty=l1;, score=nan total time=   0.0s\n",
      "[CV 5/5] END ..C=0.012742749857031334, penalty=l1;, score=nan total time=   0.0s\n",
      "[CV 1/5] END C=0.012742749857031334, penalty=l2;, score=0.754 total time=   0.0s\n",
      "[CV 2/5] END C=0.012742749857031334, penalty=l2;, score=0.744 total time=   0.0s\n",
      "[CV 3/5] END C=0.012742749857031334, penalty=l2;, score=0.759 total time=   0.0s\n",
      "[CV 4/5] END C=0.012742749857031334, penalty=l2;, score=0.749 total time=   0.0s\n",
      "[CV 5/5] END C=0.012742749857031334, penalty=l2;, score=0.757 total time=   0.0s\n",
      "[CV 1/5] END ...C=0.03359818286283781, penalty=l1;, score=nan total time=   0.0s\n",
      "[CV 2/5] END ...C=0.03359818286283781, penalty=l1;, score=nan total time=   0.0s\n",
      "[CV 3/5] END ...C=0.03359818286283781, penalty=l1;, score=nan total time=   0.0s\n",
      "[CV 4/5] END ...C=0.03359818286283781, penalty=l1;, score=nan total time=   0.0s\n",
      "[CV 5/5] END ...C=0.03359818286283781, penalty=l1;, score=nan total time=   0.0s\n",
      "[CV 1/5] END .C=0.03359818286283781, penalty=l2;, score=0.797 total time=   0.0s\n",
      "[CV 2/5] END .C=0.03359818286283781, penalty=l2;, score=0.792 total time=   0.0s\n",
      "[CV 3/5] END .C=0.03359818286283781, penalty=l2;, score=0.790 total time=   0.0s\n",
      "[CV 4/5] END .C=0.03359818286283781, penalty=l2;, score=0.790 total time=   0.0s\n",
      "[CV 5/5] END .C=0.03359818286283781, penalty=l2;, score=0.803 total time=   0.0s\n",
      "[CV 1/5] END ...C=0.08858667904100823, penalty=l1;, score=nan total time=   0.0s\n",
      "[CV 2/5] END ...C=0.08858667904100823, penalty=l1;, score=nan total time=   0.0s\n",
      "[CV 3/5] END ...C=0.08858667904100823, penalty=l1;, score=nan total time=   0.0s\n",
      "[CV 4/5] END ...C=0.08858667904100823, penalty=l1;, score=nan total time=   0.0s\n",
      "[CV 5/5] END ...C=0.08858667904100823, penalty=l1;, score=nan total time=   0.0s\n",
      "[CV 1/5] END .C=0.08858667904100823, penalty=l2;, score=0.817 total time=   0.0s\n",
      "[CV 2/5] END .C=0.08858667904100823, penalty=l2;, score=0.810 total time=   0.0s\n",
      "[CV 3/5] END .C=0.08858667904100823, penalty=l2;, score=0.824 total time=   0.0s\n",
      "[CV 4/5] END .C=0.08858667904100823, penalty=l2;, score=0.811 total time=   0.0s\n",
      "[CV 5/5] END .C=0.08858667904100823, penalty=l2;, score=0.836 total time=   0.0s\n",
      "[CV 1/5] END ...C=0.23357214690901212, penalty=l1;, score=nan total time=   0.0s\n",
      "[CV 2/5] END ...C=0.23357214690901212, penalty=l1;, score=nan total time=   0.0s\n",
      "[CV 3/5] END ...C=0.23357214690901212, penalty=l1;, score=nan total time=   0.0s\n",
      "[CV 4/5] END ...C=0.23357214690901212, penalty=l1;, score=nan total time=   0.0s\n",
      "[CV 5/5] END ...C=0.23357214690901212, penalty=l1;, score=nan total time=   0.0s\n",
      "[CV 1/5] END .C=0.23357214690901212, penalty=l2;, score=0.824 total time=   0.0s\n",
      "[CV 2/5] END .C=0.23357214690901212, penalty=l2;, score=0.809 total time=   0.0s\n",
      "[CV 3/5] END .C=0.23357214690901212, penalty=l2;, score=0.829 total time=   0.0s\n",
      "[CV 4/5] END .C=0.23357214690901212, penalty=l2;, score=0.817 total time=   0.0s\n",
      "[CV 5/5] END .C=0.23357214690901212, penalty=l2;, score=0.837 total time=   0.0s\n",
      "[CV 1/5] END .....C=0.615848211066026, penalty=l1;, score=nan total time=   0.0s\n",
      "[CV 2/5] END .....C=0.615848211066026, penalty=l1;, score=nan total time=   0.0s\n",
      "[CV 3/5] END .....C=0.615848211066026, penalty=l1;, score=nan total time=   0.0s\n",
      "[CV 4/5] END .....C=0.615848211066026, penalty=l1;, score=nan total time=   0.0s\n",
      "[CV 5/5] END .....C=0.615848211066026, penalty=l1;, score=nan total time=   0.0s\n",
      "[CV 1/5] END ...C=0.615848211066026, penalty=l2;, score=0.827 total time=   0.0s\n",
      "[CV 2/5] END ...C=0.615848211066026, penalty=l2;, score=0.809 total time=   0.0s\n",
      "[CV 3/5] END ...C=0.615848211066026, penalty=l2;, score=0.829 total time=   0.0s\n",
      "[CV 4/5] END ...C=0.615848211066026, penalty=l2;, score=0.821 total time=   0.0s\n",
      "[CV 5/5] END ...C=0.615848211066026, penalty=l2;, score=0.841 total time=   0.0s\n",
      "[CV 1/5] END .....C=1.623776739188721, penalty=l1;, score=nan total time=   0.0s\n",
      "[CV 2/5] END .....C=1.623776739188721, penalty=l1;, score=nan total time=   0.0s\n",
      "[CV 3/5] END .....C=1.623776739188721, penalty=l1;, score=nan total time=   0.0s\n",
      "[CV 4/5] END .....C=1.623776739188721, penalty=l1;, score=nan total time=   0.0s\n",
      "[CV 5/5] END .....C=1.623776739188721, penalty=l1;, score=nan total time=   0.0s\n",
      "[CV 1/5] END ...C=1.623776739188721, penalty=l2;, score=0.836 total time=   0.0s\n"
     ]
    },
    {
     "name": "stdout",
     "output_type": "stream",
     "text": [
      "[CV 2/5] END ...C=1.623776739188721, penalty=l2;, score=0.812 total time=   0.1s\n",
      "[CV 3/5] END ...C=1.623776739188721, penalty=l2;, score=0.830 total time=   0.0s\n",
      "[CV 4/5] END ...C=1.623776739188721, penalty=l2;, score=0.825 total time=   0.1s\n",
      "[CV 5/5] END ...C=1.623776739188721, penalty=l2;, score=0.844 total time=   0.0s\n",
      "[CV 1/5] END .....C=4.281332398719396, penalty=l1;, score=nan total time=   0.0s\n",
      "[CV 2/5] END .....C=4.281332398719396, penalty=l1;, score=nan total time=   0.0s\n",
      "[CV 3/5] END .....C=4.281332398719396, penalty=l1;, score=nan total time=   0.0s\n",
      "[CV 4/5] END .....C=4.281332398719396, penalty=l1;, score=nan total time=   0.0s\n",
      "[CV 5/5] END .....C=4.281332398719396, penalty=l1;, score=nan total time=   0.0s\n",
      "[CV 1/5] END ...C=4.281332398719396, penalty=l2;, score=0.846 total time=   0.0s\n",
      "[CV 2/5] END ...C=4.281332398719396, penalty=l2;, score=0.822 total time=   0.0s\n",
      "[CV 3/5] END ...C=4.281332398719396, penalty=l2;, score=0.834 total time=   0.1s\n",
      "[CV 4/5] END ...C=4.281332398719396, penalty=l2;, score=0.829 total time=   0.0s\n",
      "[CV 5/5] END ...C=4.281332398719396, penalty=l2;, score=0.855 total time=   0.0s\n",
      "[CV 1/5] END ....C=11.288378916846883, penalty=l1;, score=nan total time=   0.0s\n",
      "[CV 2/5] END ....C=11.288378916846883, penalty=l1;, score=nan total time=   0.0s\n",
      "[CV 3/5] END ....C=11.288378916846883, penalty=l1;, score=nan total time=   0.0s\n",
      "[CV 4/5] END ....C=11.288378916846883, penalty=l1;, score=nan total time=   0.0s\n",
      "[CV 5/5] END ....C=11.288378916846883, penalty=l1;, score=nan total time=   0.0s\n",
      "[CV 1/5] END ..C=11.288378916846883, penalty=l2;, score=0.850 total time=   0.0s\n",
      "[CV 2/5] END ..C=11.288378916846883, penalty=l2;, score=0.845 total time=   0.1s\n",
      "[CV 3/5] END ..C=11.288378916846883, penalty=l2;, score=0.845 total time=   0.0s\n",
      "[CV 4/5] END ..C=11.288378916846883, penalty=l2;, score=0.845 total time=   0.1s\n",
      "[CV 5/5] END ..C=11.288378916846883, penalty=l2;, score=0.873 total time=   0.1s\n",
      "[CV 1/5] END ....C=29.763514416313132, penalty=l1;, score=nan total time=   0.0s\n",
      "[CV 2/5] END ....C=29.763514416313132, penalty=l1;, score=nan total time=   0.0s\n",
      "[CV 3/5] END ....C=29.763514416313132, penalty=l1;, score=nan total time=   0.0s\n",
      "[CV 4/5] END ....C=29.763514416313132, penalty=l1;, score=nan total time=   0.0s\n",
      "[CV 5/5] END ....C=29.763514416313132, penalty=l1;, score=nan total time=   0.0s\n",
      "[CV 1/5] END ..C=29.763514416313132, penalty=l2;, score=0.864 total time=   0.1s\n",
      "[CV 2/5] END ..C=29.763514416313132, penalty=l2;, score=0.866 total time=   0.0s\n",
      "[CV 3/5] END ..C=29.763514416313132, penalty=l2;, score=0.850 total time=   0.0s\n",
      "[CV 4/5] END ..C=29.763514416313132, penalty=l2;, score=0.860 total time=   0.0s\n",
      "[CV 5/5] END ..C=29.763514416313132, penalty=l2;, score=0.882 total time=   0.0s\n",
      "[CV 1/5] END .....C=78.47599703514607, penalty=l1;, score=nan total time=   0.0s\n",
      "[CV 2/5] END .....C=78.47599703514607, penalty=l1;, score=nan total time=   0.0s\n",
      "[CV 3/5] END .....C=78.47599703514607, penalty=l1;, score=nan total time=   0.0s\n",
      "[CV 4/5] END .....C=78.47599703514607, penalty=l1;, score=nan total time=   0.0s\n",
      "[CV 5/5] END .....C=78.47599703514607, penalty=l1;, score=nan total time=   0.0s\n",
      "[CV 1/5] END ...C=78.47599703514607, penalty=l2;, score=0.865 total time=   0.0s\n",
      "[CV 2/5] END ...C=78.47599703514607, penalty=l2;, score=0.875 total time=   0.0s\n",
      "[CV 3/5] END ...C=78.47599703514607, penalty=l2;, score=0.862 total time=   0.0s\n",
      "[CV 4/5] END ...C=78.47599703514607, penalty=l2;, score=0.867 total time=   0.0s\n",
      "[CV 5/5] END ...C=78.47599703514607, penalty=l2;, score=0.885 total time=   0.0s\n",
      "[CV 1/5] END ......C=206.913808111479, penalty=l1;, score=nan total time=   0.0s\n",
      "[CV 2/5] END ......C=206.913808111479, penalty=l1;, score=nan total time=   0.0s\n",
      "[CV 3/5] END ......C=206.913808111479, penalty=l1;, score=nan total time=   0.0s\n",
      "[CV 4/5] END ......C=206.913808111479, penalty=l1;, score=nan total time=   0.0s\n",
      "[CV 5/5] END ......C=206.913808111479, penalty=l1;, score=nan total time=   0.0s\n",
      "[CV 1/5] END ....C=206.913808111479, penalty=l2;, score=0.867 total time=   0.0s\n",
      "[CV 2/5] END ....C=206.913808111479, penalty=l2;, score=0.883 total time=   0.0s\n",
      "[CV 3/5] END ....C=206.913808111479, penalty=l2;, score=0.862 total time=   0.0s\n",
      "[CV 4/5] END ....C=206.913808111479, penalty=l2;, score=0.869 total time=   0.0s\n",
      "[CV 5/5] END ....C=206.913808111479, penalty=l2;, score=0.888 total time=   0.0s\n",
      "[CV 1/5] END .....C=545.5594781168514, penalty=l1;, score=nan total time=   0.0s\n",
      "[CV 2/5] END .....C=545.5594781168514, penalty=l1;, score=nan total time=   0.0s\n",
      "[CV 3/5] END .....C=545.5594781168514, penalty=l1;, score=nan total time=   0.0s\n",
      "[CV 4/5] END .....C=545.5594781168514, penalty=l1;, score=nan total time=   0.0s\n",
      "[CV 5/5] END .....C=545.5594781168514, penalty=l1;, score=nan total time=   0.0s\n",
      "[CV 1/5] END ...C=545.5594781168514, penalty=l2;, score=0.868 total time=   0.1s\n",
      "[CV 2/5] END ...C=545.5594781168514, penalty=l2;, score=0.888 total time=   0.1s\n",
      "[CV 3/5] END ...C=545.5594781168514, penalty=l2;, score=0.864 total time=   0.0s\n",
      "[CV 4/5] END ...C=545.5594781168514, penalty=l2;, score=0.871 total time=   0.1s\n",
      "[CV 5/5] END ...C=545.5594781168514, penalty=l2;, score=0.888 total time=   0.0s\n",
      "[CV 1/5] END ......C=1438.44988828766, penalty=l1;, score=nan total time=   0.0s\n",
      "[CV 2/5] END ......C=1438.44988828766, penalty=l1;, score=nan total time=   0.0s\n",
      "[CV 3/5] END ......C=1438.44988828766, penalty=l1;, score=nan total time=   0.0s\n",
      "[CV 4/5] END ......C=1438.44988828766, penalty=l1;, score=nan total time=   0.0s\n",
      "[CV 5/5] END ......C=1438.44988828766, penalty=l1;, score=nan total time=   0.0s\n",
      "[CV 1/5] END ....C=1438.44988828766, penalty=l2;, score=0.871 total time=   0.0s\n",
      "[CV 2/5] END ....C=1438.44988828766, penalty=l2;, score=0.888 total time=   0.1s\n",
      "[CV 3/5] END ....C=1438.44988828766, penalty=l2;, score=0.861 total time=   0.1s\n",
      "[CV 4/5] END ....C=1438.44988828766, penalty=l2;, score=0.872 total time=   0.0s\n",
      "[CV 5/5] END ....C=1438.44988828766, penalty=l2;, score=0.889 total time=   0.1s\n",
      "[CV 1/5] END .....C=3792.690190732246, penalty=l1;, score=nan total time=   0.0s\n",
      "[CV 2/5] END .....C=3792.690190732246, penalty=l1;, score=nan total time=   0.0s\n",
      "[CV 3/5] END .....C=3792.690190732246, penalty=l1;, score=nan total time=   0.0s\n",
      "[CV 4/5] END .....C=3792.690190732246, penalty=l1;, score=nan total time=   0.0s\n",
      "[CV 5/5] END .....C=3792.690190732246, penalty=l1;, score=nan total time=   0.0s\n",
      "[CV 1/5] END ...C=3792.690190732246, penalty=l2;, score=0.870 total time=   0.0s\n",
      "[CV 2/5] END ...C=3792.690190732246, penalty=l2;, score=0.889 total time=   0.1s\n",
      "[CV 3/5] END ...C=3792.690190732246, penalty=l2;, score=0.865 total time=   0.0s\n",
      "[CV 4/5] END ...C=3792.690190732246, penalty=l2;, score=0.870 total time=   0.1s\n",
      "[CV 5/5] END ...C=3792.690190732246, penalty=l2;, score=0.892 total time=   0.0s\n",
      "[CV 1/5] END ...............C=10000.0, penalty=l1;, score=nan total time=   0.0s\n",
      "[CV 2/5] END ...............C=10000.0, penalty=l1;, score=nan total time=   0.0s\n",
      "[CV 3/5] END ...............C=10000.0, penalty=l1;, score=nan total time=   0.0s\n",
      "[CV 4/5] END ...............C=10000.0, penalty=l1;, score=nan total time=   0.0s\n",
      "[CV 5/5] END ...............C=10000.0, penalty=l1;, score=nan total time=   0.0s\n",
      "[CV 1/5] END .............C=10000.0, penalty=l2;, score=0.872 total time=   0.1s\n",
      "[CV 2/5] END .............C=10000.0, penalty=l2;, score=0.890 total time=   0.1s\n",
      "[CV 3/5] END .............C=10000.0, penalty=l2;, score=0.861 total time=   0.1s\n",
      "[CV 4/5] END .............C=10000.0, penalty=l2;, score=0.871 total time=   0.0s\n",
      "[CV 5/5] END .............C=10000.0, penalty=l2;, score=0.890 total time=   0.0s\n"
     ]
    }
   ],
   "source": [
    "# Train the model with GridSearch\n",
    "# Train the model with GridSearch\n",
    "best_model = grid.fit(X_train_scaled, y_train)"
   ]
  },
  {
   "cell_type": "code",
   "execution_count": 16,
   "metadata": {},
   "outputs": [
    {
     "name": "stdout",
     "output_type": "stream",
     "text": [
      "{'C': 3792.690190732246, 'penalty': 'l2'}\n",
      "Best Score:  0.8773617549247194\n"
     ]
    }
   ],
   "source": [
    "print(best_model.best_params_)\n",
    "print('Best Score: ', best_model.best_score_)"
   ]
  },
  {
   "cell_type": "code",
   "execution_count": 17,
   "metadata": {},
   "outputs": [
    {
     "data": {
      "text/html": [
       "<div>\n",
       "<style scoped>\n",
       "    .dataframe tbody tr th:only-of-type {\n",
       "        vertical-align: middle;\n",
       "    }\n",
       "\n",
       "    .dataframe tbody tr th {\n",
       "        vertical-align: top;\n",
       "    }\n",
       "\n",
       "    .dataframe thead th {\n",
       "        text-align: right;\n",
       "    }\n",
       "</style>\n",
       "<table border=\"1\" class=\"dataframe\">\n",
       "  <thead>\n",
       "    <tr style=\"text-align: right;\">\n",
       "      <th></th>\n",
       "      <th>Actual</th>\n",
       "      <th>Predicted</th>\n",
       "    </tr>\n",
       "  </thead>\n",
       "  <tbody>\n",
       "    <tr>\n",
       "      <th>2077</th>\n",
       "      <td>CANDIDATE</td>\n",
       "      <td>CONFIRMED</td>\n",
       "    </tr>\n",
       "    <tr>\n",
       "      <th>5669</th>\n",
       "      <td>FALSE POSITIVE</td>\n",
       "      <td>FALSE POSITIVE</td>\n",
       "    </tr>\n",
       "    <tr>\n",
       "      <th>3852</th>\n",
       "      <td>FALSE POSITIVE</td>\n",
       "      <td>FALSE POSITIVE</td>\n",
       "    </tr>\n",
       "    <tr>\n",
       "      <th>5023</th>\n",
       "      <td>CANDIDATE</td>\n",
       "      <td>CANDIDATE</td>\n",
       "    </tr>\n",
       "    <tr>\n",
       "      <th>6777</th>\n",
       "      <td>FALSE POSITIVE</td>\n",
       "      <td>FALSE POSITIVE</td>\n",
       "    </tr>\n",
       "  </tbody>\n",
       "</table>\n",
       "</div>"
      ],
      "text/plain": [
       "              Actual       Predicted\n",
       "2077       CANDIDATE       CONFIRMED\n",
       "5669  FALSE POSITIVE  FALSE POSITIVE\n",
       "3852  FALSE POSITIVE  FALSE POSITIVE\n",
       "5023       CANDIDATE       CANDIDATE\n",
       "6777  FALSE POSITIVE  FALSE POSITIVE"
      ]
     },
     "execution_count": 17,
     "metadata": {},
     "output_type": "execute_result"
    }
   ],
   "source": [
    "# Make predictions\n",
    "grid_predictions = best_model.predict(X_test_scaled)\n",
    "df_grid = pd.DataFrame({\"Actual\":y_test, \"Predicted\":grid_predictions}) \n",
    "df_grid.head()"
   ]
  },
  {
   "cell_type": "code",
   "execution_count": 18,
   "metadata": {},
   "outputs": [
    {
     "data": {
      "text/plain": [
       "0.8792906178489702"
      ]
     },
     "execution_count": 18,
     "metadata": {},
     "output_type": "execute_result"
    }
   ],
   "source": [
    "# Score the model\n",
    "best_model.score(X_test_scaled, y_test)"
   ]
  },
  {
   "cell_type": "markdown",
   "metadata": {},
   "source": [
    "# Save the Model"
   ]
  },
  {
   "cell_type": "code",
   "execution_count": 19,
   "metadata": {},
   "outputs": [
    {
     "data": {
      "text/plain": [
       "['LR_GradientBoost.sav']"
      ]
     },
     "execution_count": 19,
     "metadata": {},
     "output_type": "execute_result"
    }
   ],
   "source": [
    "# save your model by updating \"your_name\" with your name\n",
    "# and \"your_model\" with your model variable\n",
    "# be sure to turn this in to BCS\n",
    "# if joblib fails to import, try running the command to install in terminal/git-bash\n",
    "import joblib\n",
    "filename = 'LR_GradientBoost.sav'\n",
    "joblib.dump(best_model, filename)"
   ]
  },
  {
   "cell_type": "code",
   "execution_count": 20,
   "metadata": {},
   "outputs": [
    {
     "name": "stdout",
     "output_type": "stream",
     "text": [
      "                precision    recall  f1-score   support\n",
      "\n",
      "     CANDIDATE       0.82      0.67      0.74       422\n",
      "     CONFIRMED       0.74      0.85      0.79       450\n",
      "FALSE POSITIVE       0.98      1.00      0.99       876\n",
      "\n",
      "      accuracy                           0.88      1748\n",
      "     macro avg       0.85      0.84      0.84      1748\n",
      "  weighted avg       0.88      0.88      0.88      1748\n",
      "\n"
     ]
    }
   ],
   "source": [
    "# Print Classification Report.\n",
    "from sklearn.metrics import classification_report\n",
    "print(classification_report(y_test, grid_predictions))"
   ]
  }
 ],
 "metadata": {
  "kernel_info": {
   "name": "dev"
  },
  "kernelspec": {
   "display_name": "Python [conda env:.conda-Machine_Learning]",
   "language": "python",
   "name": "conda-env-.conda-Machine_Learning-py"
  },
  "language_info": {
   "codemirror_mode": {
    "name": "ipython",
    "version": 3
   },
   "file_extension": ".py",
   "mimetype": "text/x-python",
   "name": "python",
   "nbconvert_exporter": "python",
   "pygments_lexer": "ipython3",
   "version": "3.8.10"
  },
  "nteract": {
   "version": "0.12.3"
  },
  "widgets": {
   "application/vnd.jupyter.widget-state+json": {
    "state": {},
    "version_major": 2,
    "version_minor": 0
   }
  }
 },
 "nbformat": 4,
 "nbformat_minor": 2
}

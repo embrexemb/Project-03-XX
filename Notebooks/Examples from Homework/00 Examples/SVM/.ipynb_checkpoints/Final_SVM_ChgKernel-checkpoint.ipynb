{
 "cells": [
  {
   "cell_type": "code",
   "execution_count": 3,
   "metadata": {},
   "outputs": [],
   "source": [
    "# Import dependencies\n",
    "import pandas as pd\n",
    "\n",
    "# Hide warning messages in notebook\n",
    "import warnings\n",
    "warnings.filterwarnings('ignore')"
   ]
  },
  {
   "cell_type": "markdown",
   "metadata": {},
   "source": [
    "# Read the CSV and Perform Basic Data Cleaning"
   ]
  },
  {
   "cell_type": "code",
   "execution_count": 4,
   "metadata": {},
   "outputs": [
    {
     "data": {
      "text/html": [
       "<div>\n",
       "<style scoped>\n",
       "    .dataframe tbody tr th:only-of-type {\n",
       "        vertical-align: middle;\n",
       "    }\n",
       "\n",
       "    .dataframe tbody tr th {\n",
       "        vertical-align: top;\n",
       "    }\n",
       "\n",
       "    .dataframe thead th {\n",
       "        text-align: right;\n",
       "    }\n",
       "</style>\n",
       "<table border=\"1\" class=\"dataframe\">\n",
       "  <thead>\n",
       "    <tr style=\"text-align: right;\">\n",
       "      <th></th>\n",
       "      <th>koi_disposition</th>\n",
       "      <th>koi_fpflag_nt</th>\n",
       "      <th>koi_fpflag_ss</th>\n",
       "      <th>koi_fpflag_co</th>\n",
       "      <th>koi_fpflag_ec</th>\n",
       "      <th>koi_period</th>\n",
       "      <th>koi_period_err1</th>\n",
       "      <th>koi_period_err2</th>\n",
       "      <th>koi_time0bk</th>\n",
       "      <th>koi_time0bk_err1</th>\n",
       "      <th>...</th>\n",
       "      <th>koi_steff_err2</th>\n",
       "      <th>koi_slogg</th>\n",
       "      <th>koi_slogg_err1</th>\n",
       "      <th>koi_slogg_err2</th>\n",
       "      <th>koi_srad</th>\n",
       "      <th>koi_srad_err1</th>\n",
       "      <th>koi_srad_err2</th>\n",
       "      <th>ra</th>\n",
       "      <th>dec</th>\n",
       "      <th>koi_kepmag</th>\n",
       "    </tr>\n",
       "  </thead>\n",
       "  <tbody>\n",
       "    <tr>\n",
       "      <th>0</th>\n",
       "      <td>CONFIRMED</td>\n",
       "      <td>0</td>\n",
       "      <td>0</td>\n",
       "      <td>0</td>\n",
       "      <td>0</td>\n",
       "      <td>54.418383</td>\n",
       "      <td>2.479000e-04</td>\n",
       "      <td>-2.479000e-04</td>\n",
       "      <td>162.513840</td>\n",
       "      <td>0.003520</td>\n",
       "      <td>...</td>\n",
       "      <td>-81</td>\n",
       "      <td>4.467</td>\n",
       "      <td>0.064</td>\n",
       "      <td>-0.096</td>\n",
       "      <td>0.927</td>\n",
       "      <td>0.105</td>\n",
       "      <td>-0.061</td>\n",
       "      <td>291.93423</td>\n",
       "      <td>48.141651</td>\n",
       "      <td>15.347</td>\n",
       "    </tr>\n",
       "    <tr>\n",
       "      <th>1</th>\n",
       "      <td>FALSE POSITIVE</td>\n",
       "      <td>0</td>\n",
       "      <td>1</td>\n",
       "      <td>0</td>\n",
       "      <td>0</td>\n",
       "      <td>19.899140</td>\n",
       "      <td>1.490000e-05</td>\n",
       "      <td>-1.490000e-05</td>\n",
       "      <td>175.850252</td>\n",
       "      <td>0.000581</td>\n",
       "      <td>...</td>\n",
       "      <td>-176</td>\n",
       "      <td>4.544</td>\n",
       "      <td>0.044</td>\n",
       "      <td>-0.176</td>\n",
       "      <td>0.868</td>\n",
       "      <td>0.233</td>\n",
       "      <td>-0.078</td>\n",
       "      <td>297.00482</td>\n",
       "      <td>48.134129</td>\n",
       "      <td>15.436</td>\n",
       "    </tr>\n",
       "    <tr>\n",
       "      <th>2</th>\n",
       "      <td>FALSE POSITIVE</td>\n",
       "      <td>0</td>\n",
       "      <td>1</td>\n",
       "      <td>0</td>\n",
       "      <td>0</td>\n",
       "      <td>1.736952</td>\n",
       "      <td>2.630000e-07</td>\n",
       "      <td>-2.630000e-07</td>\n",
       "      <td>170.307565</td>\n",
       "      <td>0.000115</td>\n",
       "      <td>...</td>\n",
       "      <td>-174</td>\n",
       "      <td>4.564</td>\n",
       "      <td>0.053</td>\n",
       "      <td>-0.168</td>\n",
       "      <td>0.791</td>\n",
       "      <td>0.201</td>\n",
       "      <td>-0.067</td>\n",
       "      <td>285.53461</td>\n",
       "      <td>48.285210</td>\n",
       "      <td>15.597</td>\n",
       "    </tr>\n",
       "    <tr>\n",
       "      <th>3</th>\n",
       "      <td>CONFIRMED</td>\n",
       "      <td>0</td>\n",
       "      <td>0</td>\n",
       "      <td>0</td>\n",
       "      <td>0</td>\n",
       "      <td>2.525592</td>\n",
       "      <td>3.760000e-06</td>\n",
       "      <td>-3.760000e-06</td>\n",
       "      <td>171.595550</td>\n",
       "      <td>0.001130</td>\n",
       "      <td>...</td>\n",
       "      <td>-211</td>\n",
       "      <td>4.438</td>\n",
       "      <td>0.070</td>\n",
       "      <td>-0.210</td>\n",
       "      <td>1.046</td>\n",
       "      <td>0.334</td>\n",
       "      <td>-0.133</td>\n",
       "      <td>288.75488</td>\n",
       "      <td>48.226200</td>\n",
       "      <td>15.509</td>\n",
       "    </tr>\n",
       "    <tr>\n",
       "      <th>4</th>\n",
       "      <td>CONFIRMED</td>\n",
       "      <td>0</td>\n",
       "      <td>0</td>\n",
       "      <td>0</td>\n",
       "      <td>0</td>\n",
       "      <td>4.134435</td>\n",
       "      <td>1.050000e-05</td>\n",
       "      <td>-1.050000e-05</td>\n",
       "      <td>172.979370</td>\n",
       "      <td>0.001900</td>\n",
       "      <td>...</td>\n",
       "      <td>-232</td>\n",
       "      <td>4.486</td>\n",
       "      <td>0.054</td>\n",
       "      <td>-0.229</td>\n",
       "      <td>0.972</td>\n",
       "      <td>0.315</td>\n",
       "      <td>-0.105</td>\n",
       "      <td>296.28613</td>\n",
       "      <td>48.224670</td>\n",
       "      <td>15.714</td>\n",
       "    </tr>\n",
       "  </tbody>\n",
       "</table>\n",
       "<p>5 rows × 41 columns</p>\n",
       "</div>"
      ],
      "text/plain": [
       "  koi_disposition  koi_fpflag_nt  koi_fpflag_ss  koi_fpflag_co  koi_fpflag_ec  \\\n",
       "0       CONFIRMED              0              0              0              0   \n",
       "1  FALSE POSITIVE              0              1              0              0   \n",
       "2  FALSE POSITIVE              0              1              0              0   \n",
       "3       CONFIRMED              0              0              0              0   \n",
       "4       CONFIRMED              0              0              0              0   \n",
       "\n",
       "   koi_period  koi_period_err1  koi_period_err2  koi_time0bk  \\\n",
       "0   54.418383     2.479000e-04    -2.479000e-04   162.513840   \n",
       "1   19.899140     1.490000e-05    -1.490000e-05   175.850252   \n",
       "2    1.736952     2.630000e-07    -2.630000e-07   170.307565   \n",
       "3    2.525592     3.760000e-06    -3.760000e-06   171.595550   \n",
       "4    4.134435     1.050000e-05    -1.050000e-05   172.979370   \n",
       "\n",
       "   koi_time0bk_err1  ...  koi_steff_err2  koi_slogg  koi_slogg_err1  \\\n",
       "0          0.003520  ...             -81      4.467           0.064   \n",
       "1          0.000581  ...            -176      4.544           0.044   \n",
       "2          0.000115  ...            -174      4.564           0.053   \n",
       "3          0.001130  ...            -211      4.438           0.070   \n",
       "4          0.001900  ...            -232      4.486           0.054   \n",
       "\n",
       "   koi_slogg_err2  koi_srad  koi_srad_err1  koi_srad_err2         ra  \\\n",
       "0          -0.096     0.927          0.105         -0.061  291.93423   \n",
       "1          -0.176     0.868          0.233         -0.078  297.00482   \n",
       "2          -0.168     0.791          0.201         -0.067  285.53461   \n",
       "3          -0.210     1.046          0.334         -0.133  288.75488   \n",
       "4          -0.229     0.972          0.315         -0.105  296.28613   \n",
       "\n",
       "         dec  koi_kepmag  \n",
       "0  48.141651      15.347  \n",
       "1  48.134129      15.436  \n",
       "2  48.285210      15.597  \n",
       "3  48.226200      15.509  \n",
       "4  48.224670      15.714  \n",
       "\n",
       "[5 rows x 41 columns]"
      ]
     },
     "execution_count": 4,
     "metadata": {},
     "output_type": "execute_result"
    }
   ],
   "source": [
    "df = pd.read_csv(\"exoplanet_data.csv\")\n",
    "# Drop the null columns where all values are null\n",
    "df = df.dropna(axis='columns', how='all')\n",
    "# Drop the null rows\n",
    "df = df.dropna()\n",
    "df.head()"
   ]
  },
  {
   "cell_type": "code",
   "execution_count": 5,
   "metadata": {},
   "outputs": [
    {
     "name": "stdout",
     "output_type": "stream",
     "text": [
      "['CONFIRMED' 'FALSE POSITIVE' 'CANDIDATE']\n"
     ]
    }
   ],
   "source": [
    "print(df[\"koi_disposition\"].unique())"
   ]
  },
  {
   "cell_type": "markdown",
   "metadata": {},
   "source": [
    "# Select your features (columns)"
   ]
  },
  {
   "cell_type": "code",
   "execution_count": 6,
   "metadata": {},
   "outputs": [],
   "source": [
    "# Set X equal to the entire data set, except for the first column\n",
    "X = df.iloc[:,1:]\n",
    "\n",
    "# Set y equal to the first column\n",
    "y = df.iloc[:,0]"
   ]
  },
  {
   "cell_type": "code",
   "execution_count": 7,
   "metadata": {},
   "outputs": [
    {
     "data": {
      "text/plain": [
       "array([0.13358901, 0.1689032 , 0.13194272, 0.04990768, 0.0180984 ,\n",
       "       0.01331032, 0.01292992, 0.01288921, 0.02160209, 0.02245931,\n",
       "       0.01156372, 0.01169175, 0.00950164, 0.01757603, 0.02675565,\n",
       "       0.02737702, 0.02838832, 0.01215529, 0.01168148, 0.01246112,\n",
       "       0.01219862, 0.01041188, 0.01349871, 0.00900496, 0.00882121,\n",
       "       0.00938997, 0.03501765, 0.0097863 , 0.00989379, 0.01770592,\n",
       "       0.01561374, 0.01034329, 0.01051344, 0.01353128, 0.00851972,\n",
       "       0.01052735, 0.00880626, 0.01166236, 0.00991379, 0.0100559 ])"
      ]
     },
     "execution_count": 7,
     "metadata": {},
     "output_type": "execute_result"
    }
   ],
   "source": [
    "# Search for top 10 features according to feature importances\n",
    "from sklearn.ensemble import ExtraTreesClassifier\n",
    "\n",
    "model = ExtraTreesClassifier()\n",
    "model.fit(X,y)\n",
    "model.feature_importances_"
   ]
  },
  {
   "cell_type": "code",
   "execution_count": 8,
   "metadata": {},
   "outputs": [
    {
     "data": {
      "text/plain": [
       "koi_fpflag_ss        0.168903\n",
       "koi_fpflag_nt        0.133589\n",
       "koi_fpflag_co        0.131943\n",
       "koi_fpflag_ec        0.049908\n",
       "koi_model_snr        0.035018\n",
       "koi_depth            0.028388\n",
       "koi_duration_err2    0.027377\n",
       "koi_duration_err1    0.026756\n",
       "koi_time0bk_err2     0.022459\n",
       "koi_time0bk_err1     0.021602\n",
       "dtype: float64"
      ]
     },
     "execution_count": 8,
     "metadata": {},
     "output_type": "execute_result"
    }
   ],
   "source": [
    "# Store the top 10 features as a series, using the column headers as the index\n",
    "feat_imp = pd.Series(model.feature_importances_, index=X.columns).nlargest(10)\n",
    "feat_imp"
   ]
  },
  {
   "cell_type": "code",
   "execution_count": 9,
   "metadata": {},
   "outputs": [],
   "source": [
    "# Set features based on feature importances\n",
    "X = df[feat_imp.index]\n",
    "\n",
    "# Use koi_disposition for y values\n",
    "y = df['koi_disposition']"
   ]
  },
  {
   "cell_type": "markdown",
   "metadata": {},
   "source": [
    "# Create a Train Test Split\n",
    "\n",
    "Use `koi_disposition` for the y values"
   ]
  },
  {
   "cell_type": "code",
   "execution_count": 11,
   "metadata": {},
   "outputs": [],
   "source": [
    "from sklearn.model_selection import train_test_split\n",
    "X_train, X_test, y_train, y_test = train_test_split(X, y, stratify=y)"
   ]
  },
  {
   "cell_type": "code",
   "execution_count": 12,
   "metadata": {},
   "outputs": [
    {
     "data": {
      "text/html": [
       "<div>\n",
       "<style scoped>\n",
       "    .dataframe tbody tr th:only-of-type {\n",
       "        vertical-align: middle;\n",
       "    }\n",
       "\n",
       "    .dataframe tbody tr th {\n",
       "        vertical-align: top;\n",
       "    }\n",
       "\n",
       "    .dataframe thead th {\n",
       "        text-align: right;\n",
       "    }\n",
       "</style>\n",
       "<table border=\"1\" class=\"dataframe\">\n",
       "  <thead>\n",
       "    <tr style=\"text-align: right;\">\n",
       "      <th></th>\n",
       "      <th>koi_fpflag_ss</th>\n",
       "      <th>koi_fpflag_nt</th>\n",
       "      <th>koi_fpflag_co</th>\n",
       "      <th>koi_fpflag_ec</th>\n",
       "      <th>koi_model_snr</th>\n",
       "      <th>koi_depth</th>\n",
       "      <th>koi_duration_err2</th>\n",
       "      <th>koi_duration_err1</th>\n",
       "      <th>koi_time0bk_err2</th>\n",
       "      <th>koi_time0bk_err1</th>\n",
       "    </tr>\n",
       "  </thead>\n",
       "  <tbody>\n",
       "    <tr>\n",
       "      <th>5075</th>\n",
       "      <td>0</td>\n",
       "      <td>1</td>\n",
       "      <td>1</td>\n",
       "      <td>1</td>\n",
       "      <td>30.0</td>\n",
       "      <td>130.2</td>\n",
       "      <td>-0.3720</td>\n",
       "      <td>0.3720</td>\n",
       "      <td>-0.01550</td>\n",
       "      <td>0.01550</td>\n",
       "    </tr>\n",
       "    <tr>\n",
       "      <th>514</th>\n",
       "      <td>0</td>\n",
       "      <td>0</td>\n",
       "      <td>0</td>\n",
       "      <td>0</td>\n",
       "      <td>27.5</td>\n",
       "      <td>1543.6</td>\n",
       "      <td>-0.1250</td>\n",
       "      <td>0.1250</td>\n",
       "      <td>-0.00451</td>\n",
       "      <td>0.00451</td>\n",
       "    </tr>\n",
       "    <tr>\n",
       "      <th>5379</th>\n",
       "      <td>0</td>\n",
       "      <td>0</td>\n",
       "      <td>0</td>\n",
       "      <td>1</td>\n",
       "      <td>8.8</td>\n",
       "      <td>60.0</td>\n",
       "      <td>-0.5570</td>\n",
       "      <td>0.5570</td>\n",
       "      <td>-0.01150</td>\n",
       "      <td>0.01150</td>\n",
       "    </tr>\n",
       "    <tr>\n",
       "      <th>6413</th>\n",
       "      <td>0</td>\n",
       "      <td>1</td>\n",
       "      <td>0</td>\n",
       "      <td>0</td>\n",
       "      <td>11.0</td>\n",
       "      <td>326.6</td>\n",
       "      <td>-0.9330</td>\n",
       "      <td>0.9330</td>\n",
       "      <td>-0.02440</td>\n",
       "      <td>0.02440</td>\n",
       "    </tr>\n",
       "    <tr>\n",
       "      <th>723</th>\n",
       "      <td>1</td>\n",
       "      <td>0</td>\n",
       "      <td>1</td>\n",
       "      <td>1</td>\n",
       "      <td>50.4</td>\n",
       "      <td>508.4</td>\n",
       "      <td>-0.0839</td>\n",
       "      <td>0.0839</td>\n",
       "      <td>-0.00177</td>\n",
       "      <td>0.00177</td>\n",
       "    </tr>\n",
       "  </tbody>\n",
       "</table>\n",
       "</div>"
      ],
      "text/plain": [
       "      koi_fpflag_ss  koi_fpflag_nt  koi_fpflag_co  koi_fpflag_ec  \\\n",
       "5075              0              1              1              1   \n",
       "514               0              0              0              0   \n",
       "5379              0              0              0              1   \n",
       "6413              0              1              0              0   \n",
       "723               1              0              1              1   \n",
       "\n",
       "      koi_model_snr  koi_depth  koi_duration_err2  koi_duration_err1  \\\n",
       "5075           30.0      130.2            -0.3720             0.3720   \n",
       "514            27.5     1543.6            -0.1250             0.1250   \n",
       "5379            8.8       60.0            -0.5570             0.5570   \n",
       "6413           11.0      326.6            -0.9330             0.9330   \n",
       "723            50.4      508.4            -0.0839             0.0839   \n",
       "\n",
       "      koi_time0bk_err2  koi_time0bk_err1  \n",
       "5075          -0.01550           0.01550  \n",
       "514           -0.00451           0.00451  \n",
       "5379          -0.01150           0.01150  \n",
       "6413          -0.02440           0.02440  \n",
       "723           -0.00177           0.00177  "
      ]
     },
     "execution_count": 12,
     "metadata": {},
     "output_type": "execute_result"
    }
   ],
   "source": [
    "X_train.head()"
   ]
  },
  {
   "cell_type": "markdown",
   "metadata": {},
   "source": [
    "# Pre-processing\n",
    "\n",
    "Scale the data using the MinMaxScaler and perform some feature selection"
   ]
  },
  {
   "cell_type": "code",
   "execution_count": 13,
   "metadata": {},
   "outputs": [],
   "source": [
    "# Scale your data\n",
    "from sklearn.preprocessing import MinMaxScaler\n",
    "\n",
    "# Create scaler object\n",
    "X_scaler = MinMaxScaler().fit(X_train)\n",
    "\n",
    "# Scale training and testing data\n",
    "X_train_scaled = X_scaler.transform(X_train)\n",
    "X_test_scaled = X_scaler.transform(X_test)"
   ]
  },
  {
   "cell_type": "markdown",
   "metadata": {},
   "source": [
    "# Train the Model\n",
    "\n"
   ]
  },
  {
   "cell_type": "code",
   "execution_count": 14,
   "metadata": {},
   "outputs": [
    {
     "data": {
      "text/plain": [
       "SVC(kernel='linear')"
      ]
     },
     "execution_count": 14,
     "metadata": {},
     "output_type": "execute_result"
    }
   ],
   "source": [
    "from sklearn.svm import SVC\n",
    "\n",
    "# Initialize model\n",
    "model = SVC(kernel='linear')\n",
    "\n",
    "# Train the model\n",
    "model.fit(X_train_scaled, y_train)"
   ]
  },
  {
   "cell_type": "code",
   "execution_count": 16,
   "metadata": {},
   "outputs": [
    {
     "name": "stdout",
     "output_type": "stream",
     "text": [
      "Training Data Score: 0.8111768071714667\n",
      "Testing Data Score: 0.8054919908466819\n"
     ]
    }
   ],
   "source": [
    "print(f\"Training Data Score: {model.score(X_train_scaled, y_train)}\")\n",
    "print(f\"Testing Data Score: {model.score(X_test_scaled, y_test)}\")"
   ]
  },
  {
   "cell_type": "markdown",
   "metadata": {},
   "source": [
    "# Hyperparameter Tuning\n",
    "\n",
    "Use `GridSearchCV` to tune the model's parameters"
   ]
  },
  {
   "cell_type": "code",
   "execution_count": 17,
   "metadata": {},
   "outputs": [],
   "source": [
    "# Create the GridSearchCV model\n",
    "from sklearn.model_selection import GridSearchCV\n",
    "\n",
    "# Create the GridSearchCV model\n",
    "param_grid = [{'C':[1, 5, 10, 50], 'kernel':['linear']},\n",
    "             {'C':[1, 5, 10, 50], 'kernel':['rbf'], 'gamma': [0.0001, 0.0005, 0.001, 0.005]}]\n",
    "\n",
    "grid = GridSearchCV(model, param_grid, verbose=3)"
   ]
  },
  {
   "cell_type": "code",
   "execution_count": 18,
   "metadata": {},
   "outputs": [
    {
     "name": "stdout",
     "output_type": "stream",
     "text": [
      "Fitting 5 folds for each of 20 candidates, totalling 100 fits\n",
      "[CV 1/5] END ................C=1, kernel=linear;, score=0.800 total time=   0.1s\n",
      "[CV 2/5] END ................C=1, kernel=linear;, score=0.816 total time=   0.1s\n",
      "[CV 3/5] END ................C=1, kernel=linear;, score=0.793 total time=   0.1s\n",
      "[CV 4/5] END ................C=1, kernel=linear;, score=0.799 total time=   0.1s\n",
      "[CV 5/5] END ................C=1, kernel=linear;, score=0.809 total time=   0.1s\n",
      "[CV 1/5] END ................C=5, kernel=linear;, score=0.835 total time=   0.1s\n",
      "[CV 2/5] END ................C=5, kernel=linear;, score=0.852 total time=   0.1s\n",
      "[CV 3/5] END ................C=5, kernel=linear;, score=0.829 total time=   0.1s\n",
      "[CV 4/5] END ................C=5, kernel=linear;, score=0.835 total time=   0.1s\n",
      "[CV 5/5] END ................C=5, kernel=linear;, score=0.842 total time=   0.1s\n",
      "[CV 1/5] END ...............C=10, kernel=linear;, score=0.843 total time=   0.1s\n",
      "[CV 2/5] END ...............C=10, kernel=linear;, score=0.859 total time=   0.1s\n",
      "[CV 3/5] END ...............C=10, kernel=linear;, score=0.839 total time=   0.1s\n",
      "[CV 4/5] END ...............C=10, kernel=linear;, score=0.844 total time=   0.1s\n",
      "[CV 5/5] END ...............C=10, kernel=linear;, score=0.844 total time=   0.1s\n",
      "[CV 1/5] END ...............C=50, kernel=linear;, score=0.850 total time=   0.1s\n",
      "[CV 2/5] END ...............C=50, kernel=linear;, score=0.870 total time=   0.1s\n",
      "[CV 3/5] END ...............C=50, kernel=linear;, score=0.847 total time=   0.1s\n",
      "[CV 4/5] END ...............C=50, kernel=linear;, score=0.844 total time=   0.1s\n",
      "[CV 5/5] END ...............C=50, kernel=linear;, score=0.849 total time=   0.1s\n",
      "[CV 1/5] END .....C=1, gamma=0.0001, kernel=rbf;, score=0.501 total time=   1.2s\n",
      "[CV 2/5] END .....C=1, gamma=0.0001, kernel=rbf;, score=0.501 total time=   1.3s\n",
      "[CV 3/5] END .....C=1, gamma=0.0001, kernel=rbf;, score=0.501 total time=   1.2s\n",
      "[CV 4/5] END .....C=1, gamma=0.0001, kernel=rbf;, score=0.501 total time=   1.2s\n",
      "[CV 5/5] END .....C=1, gamma=0.0001, kernel=rbf;, score=0.501 total time=   1.2s\n",
      "[CV 1/5] END .....C=1, gamma=0.0005, kernel=rbf;, score=0.501 total time=   1.2s\n",
      "[CV 2/5] END .....C=1, gamma=0.0005, kernel=rbf;, score=0.501 total time=   1.3s\n",
      "[CV 3/5] END .....C=1, gamma=0.0005, kernel=rbf;, score=0.501 total time=   1.2s\n",
      "[CV 4/5] END .....C=1, gamma=0.0005, kernel=rbf;, score=0.501 total time=   1.2s\n",
      "[CV 5/5] END .....C=1, gamma=0.0005, kernel=rbf;, score=0.501 total time=   1.2s\n",
      "[CV 1/5] END ......C=1, gamma=0.001, kernel=rbf;, score=0.501 total time=   1.2s\n",
      "[CV 2/5] END ......C=1, gamma=0.001, kernel=rbf;, score=0.501 total time=   1.2s\n",
      "[CV 3/5] END ......C=1, gamma=0.001, kernel=rbf;, score=0.501 total time=   1.2s\n",
      "[CV 4/5] END ......C=1, gamma=0.001, kernel=rbf;, score=0.501 total time=   1.2s\n",
      "[CV 5/5] END ......C=1, gamma=0.001, kernel=rbf;, score=0.501 total time=   1.3s\n",
      "[CV 1/5] END ......C=1, gamma=0.005, kernel=rbf;, score=0.742 total time=   0.9s\n",
      "[CV 2/5] END ......C=1, gamma=0.005, kernel=rbf;, score=0.743 total time=   0.8s\n",
      "[CV 3/5] END ......C=1, gamma=0.005, kernel=rbf;, score=0.741 total time=   0.9s\n",
      "[CV 4/5] END ......C=1, gamma=0.005, kernel=rbf;, score=0.736 total time=   0.9s\n",
      "[CV 5/5] END ......C=1, gamma=0.005, kernel=rbf;, score=0.736 total time=   0.9s\n",
      "[CV 1/5] END .....C=5, gamma=0.0001, kernel=rbf;, score=0.501 total time=   1.2s\n",
      "[CV 2/5] END .....C=5, gamma=0.0001, kernel=rbf;, score=0.501 total time=   1.2s\n",
      "[CV 3/5] END .....C=5, gamma=0.0001, kernel=rbf;, score=0.501 total time=   1.2s\n",
      "[CV 4/5] END .....C=5, gamma=0.0001, kernel=rbf;, score=0.501 total time=   1.2s\n",
      "[CV 5/5] END .....C=5, gamma=0.0001, kernel=rbf;, score=0.501 total time=   1.2s\n",
      "[CV 1/5] END .....C=5, gamma=0.0005, kernel=rbf;, score=0.742 total time=   1.2s\n",
      "[CV 2/5] END .....C=5, gamma=0.0005, kernel=rbf;, score=0.743 total time=   1.2s\n",
      "[CV 3/5] END .....C=5, gamma=0.0005, kernel=rbf;, score=0.741 total time=   1.2s\n",
      "[CV 4/5] END .....C=5, gamma=0.0005, kernel=rbf;, score=0.736 total time=   1.2s\n",
      "[CV 5/5] END .....C=5, gamma=0.0005, kernel=rbf;, score=0.736 total time=   1.2s\n",
      "[CV 1/5] END ......C=5, gamma=0.001, kernel=rbf;, score=0.742 total time=   0.9s\n",
      "[CV 2/5] END ......C=5, gamma=0.001, kernel=rbf;, score=0.743 total time=   0.9s\n",
      "[CV 3/5] END ......C=5, gamma=0.001, kernel=rbf;, score=0.741 total time=   0.9s\n",
      "[CV 4/5] END ......C=5, gamma=0.001, kernel=rbf;, score=0.736 total time=   0.9s\n",
      "[CV 5/5] END ......C=5, gamma=0.001, kernel=rbf;, score=0.736 total time=   0.9s\n",
      "[CV 1/5] END ......C=5, gamma=0.005, kernel=rbf;, score=0.755 total time=   0.5s\n",
      "[CV 2/5] END ......C=5, gamma=0.005, kernel=rbf;, score=0.753 total time=   0.6s\n",
      "[CV 3/5] END ......C=5, gamma=0.005, kernel=rbf;, score=0.755 total time=   0.6s\n",
      "[CV 4/5] END ......C=5, gamma=0.005, kernel=rbf;, score=0.751 total time=   0.5s\n",
      "[CV 5/5] END ......C=5, gamma=0.005, kernel=rbf;, score=0.752 total time=   0.5s\n",
      "[CV 1/5] END ....C=10, gamma=0.0001, kernel=rbf;, score=0.501 total time=   1.2s\n",
      "[CV 2/5] END ....C=10, gamma=0.0001, kernel=rbf;, score=0.501 total time=   1.2s\n",
      "[CV 3/5] END ....C=10, gamma=0.0001, kernel=rbf;, score=0.501 total time=   1.2s\n",
      "[CV 4/5] END ....C=10, gamma=0.0001, kernel=rbf;, score=0.501 total time=   1.2s\n",
      "[CV 5/5] END ....C=10, gamma=0.0001, kernel=rbf;, score=0.501 total time=   1.2s\n",
      "[CV 1/5] END ....C=10, gamma=0.0005, kernel=rbf;, score=0.742 total time=   0.9s\n",
      "[CV 2/5] END ....C=10, gamma=0.0005, kernel=rbf;, score=0.743 total time=   0.9s\n",
      "[CV 3/5] END ....C=10, gamma=0.0005, kernel=rbf;, score=0.741 total time=   0.9s\n",
      "[CV 4/5] END ....C=10, gamma=0.0005, kernel=rbf;, score=0.736 total time=   0.9s\n",
      "[CV 5/5] END ....C=10, gamma=0.0005, kernel=rbf;, score=0.736 total time=   0.9s\n",
      "[CV 1/5] END .....C=10, gamma=0.001, kernel=rbf;, score=0.752 total time=   0.7s\n",
      "[CV 2/5] END .....C=10, gamma=0.001, kernel=rbf;, score=0.751 total time=   0.7s\n",
      "[CV 3/5] END .....C=10, gamma=0.001, kernel=rbf;, score=0.753 total time=   0.7s\n",
      "[CV 4/5] END .....C=10, gamma=0.001, kernel=rbf;, score=0.736 total time=   0.7s\n",
      "[CV 5/5] END .....C=10, gamma=0.001, kernel=rbf;, score=0.736 total time=   0.7s\n",
      "[CV 1/5] END .....C=10, gamma=0.005, kernel=rbf;, score=0.758 total time=   0.5s\n",
      "[CV 2/5] END .....C=10, gamma=0.005, kernel=rbf;, score=0.759 total time=   0.5s\n",
      "[CV 3/5] END .....C=10, gamma=0.005, kernel=rbf;, score=0.756 total time=   0.5s\n",
      "[CV 4/5] END .....C=10, gamma=0.005, kernel=rbf;, score=0.754 total time=   0.5s\n",
      "[CV 5/5] END .....C=10, gamma=0.005, kernel=rbf;, score=0.758 total time=   0.5s\n",
      "[CV 1/5] END ....C=50, gamma=0.0001, kernel=rbf;, score=0.742 total time=   1.0s\n",
      "[CV 2/5] END ....C=50, gamma=0.0001, kernel=rbf;, score=0.743 total time=   0.9s\n",
      "[CV 3/5] END ....C=50, gamma=0.0001, kernel=rbf;, score=0.741 total time=   0.9s\n",
      "[CV 4/5] END ....C=50, gamma=0.0001, kernel=rbf;, score=0.736 total time=   0.9s\n",
      "[CV 5/5] END ....C=50, gamma=0.0001, kernel=rbf;, score=0.736 total time=   1.0s\n",
      "[CV 1/5] END ....C=50, gamma=0.0005, kernel=rbf;, score=0.755 total time=   0.5s\n",
      "[CV 2/5] END ....C=50, gamma=0.0005, kernel=rbf;, score=0.753 total time=   0.6s\n",
      "[CV 3/5] END ....C=50, gamma=0.0005, kernel=rbf;, score=0.755 total time=   0.5s\n",
      "[CV 4/5] END ....C=50, gamma=0.0005, kernel=rbf;, score=0.751 total time=   0.5s\n",
      "[CV 5/5] END ....C=50, gamma=0.0005, kernel=rbf;, score=0.752 total time=   0.5s\n",
      "[CV 1/5] END .....C=50, gamma=0.001, kernel=rbf;, score=0.758 total time=   0.5s\n",
      "[CV 2/5] END .....C=50, gamma=0.001, kernel=rbf;, score=0.759 total time=   0.5s\n",
      "[CV 3/5] END .....C=50, gamma=0.001, kernel=rbf;, score=0.756 total time=   0.5s\n",
      "[CV 4/5] END .....C=50, gamma=0.001, kernel=rbf;, score=0.754 total time=   0.5s\n",
      "[CV 5/5] END .....C=50, gamma=0.001, kernel=rbf;, score=0.758 total time=   0.5s\n",
      "[CV 1/5] END .....C=50, gamma=0.005, kernel=rbf;, score=0.787 total time=   0.4s\n",
      "[CV 2/5] END .....C=50, gamma=0.005, kernel=rbf;, score=0.786 total time=   0.4s\n",
      "[CV 3/5] END .....C=50, gamma=0.005, kernel=rbf;, score=0.781 total time=   0.4s\n",
      "[CV 4/5] END .....C=50, gamma=0.005, kernel=rbf;, score=0.775 total time=   0.4s\n",
      "[CV 5/5] END .....C=50, gamma=0.005, kernel=rbf;, score=0.788 total time=   0.5s\n"
     ]
    }
   ],
   "source": [
    "# Train the new model with GridSearch\n",
    "best_model = grid.fit(X_train_scaled, y_train)\n"
   ]
  },
  {
   "cell_type": "code",
   "execution_count": 19,
   "metadata": {},
   "outputs": [
    {
     "name": "stdout",
     "output_type": "stream",
     "text": [
      "{'C': 50, 'kernel': 'linear'}\n",
      "Best Score:  0.8521816488258537\n"
     ]
    }
   ],
   "source": [
    "print(best_model.best_params_)\n",
    "print(\"Best Score: \", best_model.best_score_)"
   ]
  },
  {
   "cell_type": "code",
   "execution_count": 20,
   "metadata": {},
   "outputs": [
    {
     "data": {
      "text/html": [
       "<div>\n",
       "<style scoped>\n",
       "    .dataframe tbody tr th:only-of-type {\n",
       "        vertical-align: middle;\n",
       "    }\n",
       "\n",
       "    .dataframe tbody tr th {\n",
       "        vertical-align: top;\n",
       "    }\n",
       "\n",
       "    .dataframe thead th {\n",
       "        text-align: right;\n",
       "    }\n",
       "</style>\n",
       "<table border=\"1\" class=\"dataframe\">\n",
       "  <thead>\n",
       "    <tr style=\"text-align: right;\">\n",
       "      <th></th>\n",
       "      <th>Actual</th>\n",
       "      <th>Predicted</th>\n",
       "    </tr>\n",
       "  </thead>\n",
       "  <tbody>\n",
       "    <tr>\n",
       "      <th>2579</th>\n",
       "      <td>CONFIRMED</td>\n",
       "      <td>CONFIRMED</td>\n",
       "    </tr>\n",
       "    <tr>\n",
       "      <th>3992</th>\n",
       "      <td>FALSE POSITIVE</td>\n",
       "      <td>FALSE POSITIVE</td>\n",
       "    </tr>\n",
       "    <tr>\n",
       "      <th>4236</th>\n",
       "      <td>FALSE POSITIVE</td>\n",
       "      <td>FALSE POSITIVE</td>\n",
       "    </tr>\n",
       "    <tr>\n",
       "      <th>5197</th>\n",
       "      <td>CANDIDATE</td>\n",
       "      <td>CANDIDATE</td>\n",
       "    </tr>\n",
       "    <tr>\n",
       "      <th>4568</th>\n",
       "      <td>FALSE POSITIVE</td>\n",
       "      <td>FALSE POSITIVE</td>\n",
       "    </tr>\n",
       "  </tbody>\n",
       "</table>\n",
       "</div>"
      ],
      "text/plain": [
       "              Actual       Predicted\n",
       "2579       CONFIRMED       CONFIRMED\n",
       "3992  FALSE POSITIVE  FALSE POSITIVE\n",
       "4236  FALSE POSITIVE  FALSE POSITIVE\n",
       "5197       CANDIDATE       CANDIDATE\n",
       "4568  FALSE POSITIVE  FALSE POSITIVE"
      ]
     },
     "execution_count": 20,
     "metadata": {},
     "output_type": "execute_result"
    }
   ],
   "source": [
    "# Predict with best_model\n",
    "grid_predictions = best_model.predict(X_test_scaled)\n",
    "df_grid = pd.DataFrame({\"Actual\":y_test, \"Predicted\":grid_predictions}) \n",
    "df_grid.head()"
   ]
  },
  {
   "cell_type": "code",
   "execution_count": 21,
   "metadata": {},
   "outputs": [
    {
     "data": {
      "text/plain": [
       "0.8581235697940504"
      ]
     },
     "execution_count": 21,
     "metadata": {},
     "output_type": "execute_result"
    }
   ],
   "source": [
    "# Score the model\n",
    "best_model.score(X_test_scaled, y_test)"
   ]
  },
  {
   "cell_type": "markdown",
   "metadata": {},
   "source": [
    "# Save the Model"
   ]
  },
  {
   "cell_type": "code",
   "execution_count": 22,
   "metadata": {},
   "outputs": [
    {
     "data": {
      "text/plain": [
       "['SVC.sav']"
      ]
     },
     "execution_count": 22,
     "metadata": {},
     "output_type": "execute_result"
    }
   ],
   "source": [
    "# save your model by updating \"your_name\" with your name\n",
    "# and \"your_model\" with your model variable\n",
    "# be sure to turn this in to BCS\n",
    "# if joblib fails to import, try running the command to install in terminal/git-bash\n",
    "import joblib\n",
    "filename = 'SVC.sav'\n",
    "joblib.dump(best_model, filename)"
   ]
  },
  {
   "cell_type": "code",
   "execution_count": null,
   "metadata": {},
   "outputs": [],
   "source": []
  }
 ],
 "metadata": {
  "kernel_info": {
   "name": "dev"
  },
  "kernelspec": {
   "display_name": "Python [conda env:.conda-Machine_Learning]",
   "language": "python",
   "name": "conda-env-.conda-Machine_Learning-py"
  },
  "language_info": {
   "codemirror_mode": {
    "name": "ipython",
    "version": 3
   },
   "file_extension": ".py",
   "mimetype": "text/x-python",
   "name": "python",
   "nbconvert_exporter": "python",
   "pygments_lexer": "ipython3",
   "version": "3.8.10"
  },
  "nteract": {
   "version": "0.12.3"
  },
  "widgets": {
   "application/vnd.jupyter.widget-state+json": {
    "state": {},
    "version_major": 2,
    "version_minor": 0
   }
  }
 },
 "nbformat": 4,
 "nbformat_minor": 2
}

{
 "cells": [
  {
   "cell_type": "code",
   "execution_count": null,
   "metadata": {},
   "outputs": [],
   "source": [
    "# Update sklearn to prevent version mismatches\n",
    "#!pip install sklearn --upgrade"
   ]
  },
  {
   "cell_type": "code",
   "execution_count": null,
   "metadata": {},
   "outputs": [],
   "source": [
    "# install joblib. This will be used to save your model. \n",
    "# Restart your kernel after installing \n",
    "#!pip install joblib"
   ]
  },
  {
   "cell_type": "code",
   "execution_count": 1,
   "metadata": {},
   "outputs": [],
   "source": [
    "import pandas as pd\n",
    "\n",
    "# Hide warning messages in notebook\n",
    "import warnings\n",
    "warnings.filterwarnings('ignore')"
   ]
  },
  {
   "cell_type": "markdown",
   "metadata": {},
   "source": [
    "# Read the CSV and Perform Basic Data Cleaning"
   ]
  },
  {
   "cell_type": "code",
   "execution_count": 2,
   "metadata": {},
   "outputs": [
    {
     "data": {
      "text/html": [
       "<div>\n",
       "<style scoped>\n",
       "    .dataframe tbody tr th:only-of-type {\n",
       "        vertical-align: middle;\n",
       "    }\n",
       "\n",
       "    .dataframe tbody tr th {\n",
       "        vertical-align: top;\n",
       "    }\n",
       "\n",
       "    .dataframe thead th {\n",
       "        text-align: right;\n",
       "    }\n",
       "</style>\n",
       "<table border=\"1\" class=\"dataframe\">\n",
       "  <thead>\n",
       "    <tr style=\"text-align: right;\">\n",
       "      <th></th>\n",
       "      <th>koi_disposition</th>\n",
       "      <th>koi_fpflag_nt</th>\n",
       "      <th>koi_fpflag_ss</th>\n",
       "      <th>koi_fpflag_co</th>\n",
       "      <th>koi_fpflag_ec</th>\n",
       "      <th>koi_period</th>\n",
       "      <th>koi_period_err1</th>\n",
       "      <th>koi_period_err2</th>\n",
       "      <th>koi_time0bk</th>\n",
       "      <th>koi_time0bk_err1</th>\n",
       "      <th>...</th>\n",
       "      <th>koi_steff_err2</th>\n",
       "      <th>koi_slogg</th>\n",
       "      <th>koi_slogg_err1</th>\n",
       "      <th>koi_slogg_err2</th>\n",
       "      <th>koi_srad</th>\n",
       "      <th>koi_srad_err1</th>\n",
       "      <th>koi_srad_err2</th>\n",
       "      <th>ra</th>\n",
       "      <th>dec</th>\n",
       "      <th>koi_kepmag</th>\n",
       "    </tr>\n",
       "  </thead>\n",
       "  <tbody>\n",
       "    <tr>\n",
       "      <th>0</th>\n",
       "      <td>CONFIRMED</td>\n",
       "      <td>0</td>\n",
       "      <td>0</td>\n",
       "      <td>0</td>\n",
       "      <td>0</td>\n",
       "      <td>54.418383</td>\n",
       "      <td>2.479000e-04</td>\n",
       "      <td>-2.479000e-04</td>\n",
       "      <td>162.513840</td>\n",
       "      <td>0.003520</td>\n",
       "      <td>...</td>\n",
       "      <td>-81</td>\n",
       "      <td>4.467</td>\n",
       "      <td>0.064</td>\n",
       "      <td>-0.096</td>\n",
       "      <td>0.927</td>\n",
       "      <td>0.105</td>\n",
       "      <td>-0.061</td>\n",
       "      <td>291.93423</td>\n",
       "      <td>48.141651</td>\n",
       "      <td>15.347</td>\n",
       "    </tr>\n",
       "    <tr>\n",
       "      <th>1</th>\n",
       "      <td>FALSE POSITIVE</td>\n",
       "      <td>0</td>\n",
       "      <td>1</td>\n",
       "      <td>0</td>\n",
       "      <td>0</td>\n",
       "      <td>19.899140</td>\n",
       "      <td>1.490000e-05</td>\n",
       "      <td>-1.490000e-05</td>\n",
       "      <td>175.850252</td>\n",
       "      <td>0.000581</td>\n",
       "      <td>...</td>\n",
       "      <td>-176</td>\n",
       "      <td>4.544</td>\n",
       "      <td>0.044</td>\n",
       "      <td>-0.176</td>\n",
       "      <td>0.868</td>\n",
       "      <td>0.233</td>\n",
       "      <td>-0.078</td>\n",
       "      <td>297.00482</td>\n",
       "      <td>48.134129</td>\n",
       "      <td>15.436</td>\n",
       "    </tr>\n",
       "    <tr>\n",
       "      <th>2</th>\n",
       "      <td>FALSE POSITIVE</td>\n",
       "      <td>0</td>\n",
       "      <td>1</td>\n",
       "      <td>0</td>\n",
       "      <td>0</td>\n",
       "      <td>1.736952</td>\n",
       "      <td>2.630000e-07</td>\n",
       "      <td>-2.630000e-07</td>\n",
       "      <td>170.307565</td>\n",
       "      <td>0.000115</td>\n",
       "      <td>...</td>\n",
       "      <td>-174</td>\n",
       "      <td>4.564</td>\n",
       "      <td>0.053</td>\n",
       "      <td>-0.168</td>\n",
       "      <td>0.791</td>\n",
       "      <td>0.201</td>\n",
       "      <td>-0.067</td>\n",
       "      <td>285.53461</td>\n",
       "      <td>48.285210</td>\n",
       "      <td>15.597</td>\n",
       "    </tr>\n",
       "    <tr>\n",
       "      <th>3</th>\n",
       "      <td>CONFIRMED</td>\n",
       "      <td>0</td>\n",
       "      <td>0</td>\n",
       "      <td>0</td>\n",
       "      <td>0</td>\n",
       "      <td>2.525592</td>\n",
       "      <td>3.760000e-06</td>\n",
       "      <td>-3.760000e-06</td>\n",
       "      <td>171.595550</td>\n",
       "      <td>0.001130</td>\n",
       "      <td>...</td>\n",
       "      <td>-211</td>\n",
       "      <td>4.438</td>\n",
       "      <td>0.070</td>\n",
       "      <td>-0.210</td>\n",
       "      <td>1.046</td>\n",
       "      <td>0.334</td>\n",
       "      <td>-0.133</td>\n",
       "      <td>288.75488</td>\n",
       "      <td>48.226200</td>\n",
       "      <td>15.509</td>\n",
       "    </tr>\n",
       "    <tr>\n",
       "      <th>4</th>\n",
       "      <td>CONFIRMED</td>\n",
       "      <td>0</td>\n",
       "      <td>0</td>\n",
       "      <td>0</td>\n",
       "      <td>0</td>\n",
       "      <td>4.134435</td>\n",
       "      <td>1.050000e-05</td>\n",
       "      <td>-1.050000e-05</td>\n",
       "      <td>172.979370</td>\n",
       "      <td>0.001900</td>\n",
       "      <td>...</td>\n",
       "      <td>-232</td>\n",
       "      <td>4.486</td>\n",
       "      <td>0.054</td>\n",
       "      <td>-0.229</td>\n",
       "      <td>0.972</td>\n",
       "      <td>0.315</td>\n",
       "      <td>-0.105</td>\n",
       "      <td>296.28613</td>\n",
       "      <td>48.224670</td>\n",
       "      <td>15.714</td>\n",
       "    </tr>\n",
       "  </tbody>\n",
       "</table>\n",
       "<p>5 rows × 41 columns</p>\n",
       "</div>"
      ],
      "text/plain": [
       "  koi_disposition  koi_fpflag_nt  koi_fpflag_ss  koi_fpflag_co  koi_fpflag_ec  \\\n",
       "0       CONFIRMED              0              0              0              0   \n",
       "1  FALSE POSITIVE              0              1              0              0   \n",
       "2  FALSE POSITIVE              0              1              0              0   \n",
       "3       CONFIRMED              0              0              0              0   \n",
       "4       CONFIRMED              0              0              0              0   \n",
       "\n",
       "   koi_period  koi_period_err1  koi_period_err2  koi_time0bk  \\\n",
       "0   54.418383     2.479000e-04    -2.479000e-04   162.513840   \n",
       "1   19.899140     1.490000e-05    -1.490000e-05   175.850252   \n",
       "2    1.736952     2.630000e-07    -2.630000e-07   170.307565   \n",
       "3    2.525592     3.760000e-06    -3.760000e-06   171.595550   \n",
       "4    4.134435     1.050000e-05    -1.050000e-05   172.979370   \n",
       "\n",
       "   koi_time0bk_err1  ...  koi_steff_err2  koi_slogg  koi_slogg_err1  \\\n",
       "0          0.003520  ...             -81      4.467           0.064   \n",
       "1          0.000581  ...            -176      4.544           0.044   \n",
       "2          0.000115  ...            -174      4.564           0.053   \n",
       "3          0.001130  ...            -211      4.438           0.070   \n",
       "4          0.001900  ...            -232      4.486           0.054   \n",
       "\n",
       "   koi_slogg_err2  koi_srad  koi_srad_err1  koi_srad_err2         ra  \\\n",
       "0          -0.096     0.927          0.105         -0.061  291.93423   \n",
       "1          -0.176     0.868          0.233         -0.078  297.00482   \n",
       "2          -0.168     0.791          0.201         -0.067  285.53461   \n",
       "3          -0.210     1.046          0.334         -0.133  288.75488   \n",
       "4          -0.229     0.972          0.315         -0.105  296.28613   \n",
       "\n",
       "         dec  koi_kepmag  \n",
       "0  48.141651      15.347  \n",
       "1  48.134129      15.436  \n",
       "2  48.285210      15.597  \n",
       "3  48.226200      15.509  \n",
       "4  48.224670      15.714  \n",
       "\n",
       "[5 rows x 41 columns]"
      ]
     },
     "execution_count": 2,
     "metadata": {},
     "output_type": "execute_result"
    }
   ],
   "source": [
    "df = pd.read_csv(\"exoplanet_data.csv\")\n",
    "# Drop the null columns where all values are null\n",
    "df = df.dropna(axis='columns', how='all')\n",
    "# Drop the null rows\n",
    "df = df.dropna()\n",
    "df.head()"
   ]
  },
  {
   "cell_type": "code",
   "execution_count": 3,
   "metadata": {},
   "outputs": [
    {
     "name": "stdout",
     "output_type": "stream",
     "text": [
      "['CONFIRMED' 'FALSE POSITIVE' 'CANDIDATE']\n"
     ]
    }
   ],
   "source": [
    "print(df[\"koi_disposition\"].unique())"
   ]
  },
  {
   "cell_type": "markdown",
   "metadata": {},
   "source": [
    "# Select your features (columns)"
   ]
  },
  {
   "cell_type": "code",
   "execution_count": 4,
   "metadata": {},
   "outputs": [],
   "source": [
    "# Set X equal to the entire data set, except for the first column\n",
    "X = df.iloc[:,1:]\n",
    "\n",
    "# Set y equal to the first column\n",
    "y = df.iloc[:,0]"
   ]
  },
  {
   "cell_type": "code",
   "execution_count": 5,
   "metadata": {},
   "outputs": [
    {
     "data": {
      "text/plain": [
       "array([0.1315498 , 0.16826816, 0.12515083, 0.05270868, 0.02016454,\n",
       "       0.0149871 , 0.01405626, 0.01209883, 0.02119528, 0.01980315,\n",
       "       0.01214584, 0.01151967, 0.00958516, 0.01718146, 0.02531344,\n",
       "       0.03493906, 0.02130118, 0.01345864, 0.01340111, 0.01307731,\n",
       "       0.0117729 , 0.01203832, 0.01639716, 0.00913053, 0.00859724,\n",
       "       0.00808117, 0.03131429, 0.00925959, 0.00999121, 0.02023611,\n",
       "       0.01620453, 0.01063699, 0.01023477, 0.01385829, 0.00896986,\n",
       "       0.01020115, 0.00928137, 0.01123069, 0.01030645, 0.0103519 ])"
      ]
     },
     "execution_count": 5,
     "metadata": {},
     "output_type": "execute_result"
    }
   ],
   "source": [
    "# Search for top 10 features according to feature importances\n",
    "from sklearn.ensemble import ExtraTreesClassifier\n",
    "\n",
    "model = ExtraTreesClassifier()\n",
    "model.fit(X,y)\n",
    "model.feature_importances_"
   ]
  },
  {
   "cell_type": "code",
   "execution_count": 6,
   "metadata": {},
   "outputs": [
    {
     "data": {
      "text/plain": [
       "koi_fpflag_ss        0.168268\n",
       "koi_fpflag_nt        0.131550\n",
       "koi_fpflag_co        0.125151\n",
       "koi_fpflag_ec        0.052709\n",
       "koi_duration_err2    0.034939\n",
       "koi_model_snr        0.031314\n",
       "koi_duration_err1    0.025313\n",
       "koi_depth            0.021301\n",
       "koi_time0bk_err1     0.021195\n",
       "koi_steff_err1       0.020236\n",
       "dtype: float64"
      ]
     },
     "execution_count": 6,
     "metadata": {},
     "output_type": "execute_result"
    }
   ],
   "source": [
    "# Store the top 10 features as a series, using the column headers as the index\n",
    "feat_imp = pd.Series(model.feature_importances_, index=X.columns).nlargest(10)\n",
    "feat_imp"
   ]
  },
  {
   "cell_type": "code",
   "execution_count": 8,
   "metadata": {},
   "outputs": [],
   "source": [
    "# Set features based on feature importances\n",
    "X = df[feat_imp.index]\n",
    "\n",
    "# Use koi_disposition for y values\n",
    "y = df['koi_disposition']"
   ]
  },
  {
   "cell_type": "markdown",
   "metadata": {},
   "source": [
    "# Create a Train Test Split\n",
    "\n",
    "Use `koi_disposition` for the y values"
   ]
  },
  {
   "cell_type": "code",
   "execution_count": 9,
   "metadata": {},
   "outputs": [],
   "source": [
    "from sklearn.model_selection import train_test_split\n",
    "X_train, X_test, y_train, y_test = train_test_split(X, y, stratify=y)"
   ]
  },
  {
   "cell_type": "code",
   "execution_count": 10,
   "metadata": {},
   "outputs": [
    {
     "data": {
      "text/html": [
       "<div>\n",
       "<style scoped>\n",
       "    .dataframe tbody tr th:only-of-type {\n",
       "        vertical-align: middle;\n",
       "    }\n",
       "\n",
       "    .dataframe tbody tr th {\n",
       "        vertical-align: top;\n",
       "    }\n",
       "\n",
       "    .dataframe thead th {\n",
       "        text-align: right;\n",
       "    }\n",
       "</style>\n",
       "<table border=\"1\" class=\"dataframe\">\n",
       "  <thead>\n",
       "    <tr style=\"text-align: right;\">\n",
       "      <th></th>\n",
       "      <th>koi_fpflag_ss</th>\n",
       "      <th>koi_fpflag_nt</th>\n",
       "      <th>koi_fpflag_co</th>\n",
       "      <th>koi_fpflag_ec</th>\n",
       "      <th>koi_duration_err2</th>\n",
       "      <th>koi_model_snr</th>\n",
       "      <th>koi_duration_err1</th>\n",
       "      <th>koi_depth</th>\n",
       "      <th>koi_time0bk_err1</th>\n",
       "      <th>koi_steff_err1</th>\n",
       "    </tr>\n",
       "  </thead>\n",
       "  <tbody>\n",
       "    <tr>\n",
       "      <th>6467</th>\n",
       "      <td>0</td>\n",
       "      <td>1</td>\n",
       "      <td>0</td>\n",
       "      <td>0</td>\n",
       "      <td>-1.40000</td>\n",
       "      <td>12.0</td>\n",
       "      <td>1.40000</td>\n",
       "      <td>499.7</td>\n",
       "      <td>0.04610</td>\n",
       "      <td>165</td>\n",
       "    </tr>\n",
       "    <tr>\n",
       "      <th>6454</th>\n",
       "      <td>1</td>\n",
       "      <td>0</td>\n",
       "      <td>0</td>\n",
       "      <td>0</td>\n",
       "      <td>-0.00653</td>\n",
       "      <td>4563.5</td>\n",
       "      <td>0.00653</td>\n",
       "      <td>72895.0</td>\n",
       "      <td>0.00009</td>\n",
       "      <td>84</td>\n",
       "    </tr>\n",
       "    <tr>\n",
       "      <th>6699</th>\n",
       "      <td>0</td>\n",
       "      <td>0</td>\n",
       "      <td>0</td>\n",
       "      <td>0</td>\n",
       "      <td>-0.58800</td>\n",
       "      <td>9.2</td>\n",
       "      <td>0.58800</td>\n",
       "      <td>50.9</td>\n",
       "      <td>0.02220</td>\n",
       "      <td>142</td>\n",
       "    </tr>\n",
       "    <tr>\n",
       "      <th>4123</th>\n",
       "      <td>1</td>\n",
       "      <td>0</td>\n",
       "      <td>0</td>\n",
       "      <td>1</td>\n",
       "      <td>-0.24700</td>\n",
       "      <td>12.0</td>\n",
       "      <td>0.24700</td>\n",
       "      <td>33.1</td>\n",
       "      <td>0.01160</td>\n",
       "      <td>166</td>\n",
       "    </tr>\n",
       "    <tr>\n",
       "      <th>5558</th>\n",
       "      <td>0</td>\n",
       "      <td>0</td>\n",
       "      <td>0</td>\n",
       "      <td>1</td>\n",
       "      <td>-0.25400</td>\n",
       "      <td>19.2</td>\n",
       "      <td>0.25400</td>\n",
       "      <td>18.2</td>\n",
       "      <td>0.00936</td>\n",
       "      <td>175</td>\n",
       "    </tr>\n",
       "  </tbody>\n",
       "</table>\n",
       "</div>"
      ],
      "text/plain": [
       "      koi_fpflag_ss  koi_fpflag_nt  koi_fpflag_co  koi_fpflag_ec  \\\n",
       "6467              0              1              0              0   \n",
       "6454              1              0              0              0   \n",
       "6699              0              0              0              0   \n",
       "4123              1              0              0              1   \n",
       "5558              0              0              0              1   \n",
       "\n",
       "      koi_duration_err2  koi_model_snr  koi_duration_err1  koi_depth  \\\n",
       "6467           -1.40000           12.0            1.40000      499.7   \n",
       "6454           -0.00653         4563.5            0.00653    72895.0   \n",
       "6699           -0.58800            9.2            0.58800       50.9   \n",
       "4123           -0.24700           12.0            0.24700       33.1   \n",
       "5558           -0.25400           19.2            0.25400       18.2   \n",
       "\n",
       "      koi_time0bk_err1  koi_steff_err1  \n",
       "6467           0.04610             165  \n",
       "6454           0.00009              84  \n",
       "6699           0.02220             142  \n",
       "4123           0.01160             166  \n",
       "5558           0.00936             175  "
      ]
     },
     "execution_count": 10,
     "metadata": {},
     "output_type": "execute_result"
    }
   ],
   "source": [
    "X_train.head()"
   ]
  },
  {
   "cell_type": "markdown",
   "metadata": {},
   "source": [
    "# Pre-processing\n",
    "\n",
    "Scale the data using the MinMaxScaler and perform some feature selection"
   ]
  },
  {
   "cell_type": "code",
   "execution_count": 11,
   "metadata": {},
   "outputs": [],
   "source": [
    "from sklearn.preprocessing import MinMaxScaler\n",
    "\n",
    "# Create scaler object\n",
    "X_scaler = MinMaxScaler().fit(X_train)\n",
    "\n",
    "# Scale training and testing data\n",
    "X_train_scaled = X_scaler.transform(X_train)\n",
    "X_test_scaled = X_scaler.transform(X_test)"
   ]
  },
  {
   "cell_type": "markdown",
   "metadata": {},
   "source": [
    "# Train the Model\n",
    "\n"
   ]
  },
  {
   "cell_type": "code",
   "execution_count": 12,
   "metadata": {},
   "outputs": [
    {
     "data": {
      "text/plain": [
       "LogisticRegression()"
      ]
     },
     "execution_count": 12,
     "metadata": {},
     "output_type": "execute_result"
    }
   ],
   "source": [
    "from sklearn.linear_model import LogisticRegression\n",
    "\n",
    "# Initialize model\n",
    "model = LogisticRegression()\n",
    "\n",
    "# Train the model\n",
    "model.fit(X_train_scaled, y_train)"
   ]
  },
  {
   "cell_type": "code",
   "execution_count": 14,
   "metadata": {},
   "outputs": [
    {
     "name": "stdout",
     "output_type": "stream",
     "text": [
      "Training Data Score: 0.8498950982262063\n",
      "Testing Data Score: 0.8489702517162472\n"
     ]
    }
   ],
   "source": [
    "print(f\"Training Data Score: {model.score(X_train_scaled, y_train)}\")\n",
    "print(f\"Testing Data Score: {model.score(X_test_scaled, y_test)}\")"
   ]
  },
  {
   "cell_type": "markdown",
   "metadata": {},
   "source": [
    "# Hyperparameter Tuning\n",
    "\n",
    "Use `GridSearchCV` to tune the model's parameters"
   ]
  },
  {
   "cell_type": "code",
   "execution_count": 15,
   "metadata": {},
   "outputs": [
    {
     "data": {
      "text/html": [
       "<div>\n",
       "<style scoped>\n",
       "    .dataframe tbody tr th:only-of-type {\n",
       "        vertical-align: middle;\n",
       "    }\n",
       "\n",
       "    .dataframe tbody tr th {\n",
       "        vertical-align: top;\n",
       "    }\n",
       "\n",
       "    .dataframe thead th {\n",
       "        text-align: right;\n",
       "    }\n",
       "</style>\n",
       "<table border=\"1\" class=\"dataframe\">\n",
       "  <thead>\n",
       "    <tr style=\"text-align: right;\">\n",
       "      <th></th>\n",
       "      <th>Actual</th>\n",
       "      <th>Predicted</th>\n",
       "    </tr>\n",
       "  </thead>\n",
       "  <tbody>\n",
       "    <tr>\n",
       "      <th>4341</th>\n",
       "      <td>CANDIDATE</td>\n",
       "      <td>CANDIDATE</td>\n",
       "    </tr>\n",
       "    <tr>\n",
       "      <th>4401</th>\n",
       "      <td>FALSE POSITIVE</td>\n",
       "      <td>FALSE POSITIVE</td>\n",
       "    </tr>\n",
       "    <tr>\n",
       "      <th>4878</th>\n",
       "      <td>CANDIDATE</td>\n",
       "      <td>CANDIDATE</td>\n",
       "    </tr>\n",
       "    <tr>\n",
       "      <th>1423</th>\n",
       "      <td>CANDIDATE</td>\n",
       "      <td>CANDIDATE</td>\n",
       "    </tr>\n",
       "    <tr>\n",
       "      <th>575</th>\n",
       "      <td>FALSE POSITIVE</td>\n",
       "      <td>FALSE POSITIVE</td>\n",
       "    </tr>\n",
       "  </tbody>\n",
       "</table>\n",
       "</div>"
      ],
      "text/plain": [
       "              Actual       Predicted\n",
       "4341       CANDIDATE       CANDIDATE\n",
       "4401  FALSE POSITIVE  FALSE POSITIVE\n",
       "4878       CANDIDATE       CANDIDATE\n",
       "1423       CANDIDATE       CANDIDATE\n",
       "575   FALSE POSITIVE  FALSE POSITIVE"
      ]
     },
     "execution_count": 15,
     "metadata": {},
     "output_type": "execute_result"
    }
   ],
   "source": [
    "predictions = model.predict(X_test_scaled)\n",
    "df_pred = pd.DataFrame({\"Actual\":y_test, \"Predicted\":predictions}) \n",
    "df_pred.head()"
   ]
  },
  {
   "cell_type": "code",
   "execution_count": 17,
   "metadata": {},
   "outputs": [],
   "source": [
    "# Create the GridSearchCV model\n",
    "from sklearn.model_selection import GridSearchCV\n",
    "import numpy as np\n",
    "\n",
    "# Create the GridSearchCV model\n",
    "param_grid = {'C':np.logspace(-4, 4, 20),\n",
    "             'penalty':['l1','l2']}\n",
    "\n",
    "grid = GridSearchCV(model, param_grid, verbose=3)"
   ]
  },
  {
   "cell_type": "code",
   "execution_count": 18,
   "metadata": {},
   "outputs": [
    {
     "name": "stdout",
     "output_type": "stream",
     "text": [
      "Fitting 5 folds for each of 40 candidates, totalling 200 fits\n",
      "[CV 1/5] END ................C=0.0001, penalty=l1;, score=nan total time=   0.0s\n",
      "[CV 2/5] END ................C=0.0001, penalty=l1;, score=nan total time=   0.0s\n",
      "[CV 3/5] END ................C=0.0001, penalty=l1;, score=nan total time=   0.0s\n",
      "[CV 4/5] END ................C=0.0001, penalty=l1;, score=nan total time=   0.0s\n",
      "[CV 5/5] END ................C=0.0001, penalty=l1;, score=nan total time=   0.0s\n",
      "[CV 1/5] END ..............C=0.0001, penalty=l2;, score=0.501 total time=   0.0s\n",
      "[CV 2/5] END ..............C=0.0001, penalty=l2;, score=0.501 total time=   0.0s\n",
      "[CV 3/5] END ..............C=0.0001, penalty=l2;, score=0.501 total time=   0.0s\n",
      "[CV 4/5] END ..............C=0.0001, penalty=l2;, score=0.501 total time=   0.0s\n",
      "[CV 5/5] END ..............C=0.0001, penalty=l2;, score=0.501 total time=   0.0s\n",
      "[CV 1/5] END C=0.00026366508987303583, penalty=l1;, score=nan total time=   0.0s\n",
      "[CV 2/5] END C=0.00026366508987303583, penalty=l1;, score=nan total time=   0.0s\n",
      "[CV 3/5] END C=0.00026366508987303583, penalty=l1;, score=nan total time=   0.0s\n",
      "[CV 4/5] END C=0.00026366508987303583, penalty=l1;, score=nan total time=   0.0s\n",
      "[CV 5/5] END C=0.00026366508987303583, penalty=l1;, score=nan total time=   0.0s\n",
      "[CV 1/5] END C=0.00026366508987303583, penalty=l2;, score=0.501 total time=   0.0s\n",
      "[CV 2/5] END C=0.00026366508987303583, penalty=l2;, score=0.501 total time=   0.0s\n",
      "[CV 3/5] END C=0.00026366508987303583, penalty=l2;, score=0.501 total time=   0.0s\n",
      "[CV 4/5] END C=0.00026366508987303583, penalty=l2;, score=0.501 total time=   0.0s\n",
      "[CV 5/5] END C=0.00026366508987303583, penalty=l2;, score=0.501 total time=   0.0s\n",
      "[CV 1/5] END .C=0.0006951927961775605, penalty=l1;, score=nan total time=   0.0s\n",
      "[CV 2/5] END .C=0.0006951927961775605, penalty=l1;, score=nan total time=   0.0s\n",
      "[CV 3/5] END .C=0.0006951927961775605, penalty=l1;, score=nan total time=   0.0s\n",
      "[CV 4/5] END .C=0.0006951927961775605, penalty=l1;, score=nan total time=   0.0s\n",
      "[CV 5/5] END .C=0.0006951927961775605, penalty=l1;, score=nan total time=   0.0s\n",
      "[CV 1/5] END C=0.0006951927961775605, penalty=l2;, score=0.501 total time=   0.0s\n",
      "[CV 2/5] END C=0.0006951927961775605, penalty=l2;, score=0.501 total time=   0.0s\n",
      "[CV 3/5] END C=0.0006951927961775605, penalty=l2;, score=0.501 total time=   0.0s\n",
      "[CV 4/5] END C=0.0006951927961775605, penalty=l2;, score=0.501 total time=   0.0s\n",
      "[CV 5/5] END C=0.0006951927961775605, penalty=l2;, score=0.501 total time=   0.0s\n",
      "[CV 1/5] END .C=0.0018329807108324356, penalty=l1;, score=nan total time=   0.0s\n",
      "[CV 2/5] END .C=0.0018329807108324356, penalty=l1;, score=nan total time=   0.0s\n",
      "[CV 3/5] END .C=0.0018329807108324356, penalty=l1;, score=nan total time=   0.0s\n",
      "[CV 4/5] END .C=0.0018329807108324356, penalty=l1;, score=nan total time=   0.0s\n",
      "[CV 5/5] END .C=0.0018329807108324356, penalty=l1;, score=nan total time=   0.0s\n",
      "[CV 1/5] END C=0.0018329807108324356, penalty=l2;, score=0.501 total time=   0.0s\n",
      "[CV 2/5] END C=0.0018329807108324356, penalty=l2;, score=0.501 total time=   0.0s\n",
      "[CV 3/5] END C=0.0018329807108324356, penalty=l2;, score=0.501 total time=   0.0s\n",
      "[CV 4/5] END C=0.0018329807108324356, penalty=l2;, score=0.501 total time=   0.0s\n",
      "[CV 5/5] END C=0.0018329807108324356, penalty=l2;, score=0.501 total time=   0.0s\n",
      "[CV 1/5] END ..C=0.004832930238571752, penalty=l1;, score=nan total time=   0.0s\n",
      "[CV 2/5] END ..C=0.004832930238571752, penalty=l1;, score=nan total time=   0.0s\n",
      "[CV 3/5] END ..C=0.004832930238571752, penalty=l1;, score=nan total time=   0.0s\n",
      "[CV 4/5] END ..C=0.004832930238571752, penalty=l1;, score=nan total time=   0.0s\n",
      "[CV 5/5] END ..C=0.004832930238571752, penalty=l1;, score=nan total time=   0.0s\n",
      "[CV 1/5] END C=0.004832930238571752, penalty=l2;, score=0.753 total time=   0.0s\n",
      "[CV 2/5] END C=0.004832930238571752, penalty=l2;, score=0.759 total time=   0.0s\n",
      "[CV 3/5] END C=0.004832930238571752, penalty=l2;, score=0.755 total time=   0.0s\n",
      "[CV 4/5] END C=0.004832930238571752, penalty=l2;, score=0.760 total time=   0.0s\n",
      "[CV 5/5] END C=0.004832930238571752, penalty=l2;, score=0.750 total time=   0.0s\n",
      "[CV 1/5] END ..C=0.012742749857031334, penalty=l1;, score=nan total time=   0.0s\n",
      "[CV 2/5] END ..C=0.012742749857031334, penalty=l1;, score=nan total time=   0.0s\n",
      "[CV 3/5] END ..C=0.012742749857031334, penalty=l1;, score=nan total time=   0.0s\n",
      "[CV 4/5] END ..C=0.012742749857031334, penalty=l1;, score=nan total time=   0.0s\n",
      "[CV 5/5] END ..C=0.012742749857031334, penalty=l1;, score=nan total time=   0.0s\n",
      "[CV 1/5] END C=0.012742749857031334, penalty=l2;, score=0.765 total time=   0.0s\n",
      "[CV 2/5] END C=0.012742749857031334, penalty=l2;, score=0.777 total time=   0.0s\n",
      "[CV 3/5] END C=0.012742749857031334, penalty=l2;, score=0.776 total time=   0.0s\n",
      "[CV 4/5] END C=0.012742749857031334, penalty=l2;, score=0.773 total time=   0.0s\n",
      "[CV 5/5] END C=0.012742749857031334, penalty=l2;, score=0.767 total time=   0.0s\n",
      "[CV 1/5] END ...C=0.03359818286283781, penalty=l1;, score=nan total time=   0.0s\n",
      "[CV 2/5] END ...C=0.03359818286283781, penalty=l1;, score=nan total time=   0.0s\n",
      "[CV 3/5] END ...C=0.03359818286283781, penalty=l1;, score=nan total time=   0.0s\n",
      "[CV 4/5] END ...C=0.03359818286283781, penalty=l1;, score=nan total time=   0.0s\n",
      "[CV 5/5] END ...C=0.03359818286283781, penalty=l1;, score=nan total time=   0.0s\n",
      "[CV 1/5] END .C=0.03359818286283781, penalty=l2;, score=0.810 total time=   0.0s\n",
      "[CV 2/5] END .C=0.03359818286283781, penalty=l2;, score=0.818 total time=   0.0s\n",
      "[CV 3/5] END .C=0.03359818286283781, penalty=l2;, score=0.812 total time=   0.0s\n",
      "[CV 4/5] END .C=0.03359818286283781, penalty=l2;, score=0.818 total time=   0.0s\n",
      "[CV 5/5] END .C=0.03359818286283781, penalty=l2;, score=0.808 total time=   0.0s\n",
      "[CV 1/5] END ...C=0.08858667904100823, penalty=l1;, score=nan total time=   0.0s\n",
      "[CV 2/5] END ...C=0.08858667904100823, penalty=l1;, score=nan total time=   0.0s\n",
      "[CV 3/5] END ...C=0.08858667904100823, penalty=l1;, score=nan total time=   0.0s\n",
      "[CV 4/5] END ...C=0.08858667904100823, penalty=l1;, score=nan total time=   0.0s\n",
      "[CV 5/5] END ...C=0.08858667904100823, penalty=l1;, score=nan total time=   0.0s\n",
      "[CV 1/5] END .C=0.08858667904100823, penalty=l2;, score=0.819 total time=   0.0s\n",
      "[CV 2/5] END .C=0.08858667904100823, penalty=l2;, score=0.853 total time=   0.0s\n",
      "[CV 3/5] END .C=0.08858667904100823, penalty=l2;, score=0.832 total time=   0.0s\n",
      "[CV 4/5] END .C=0.08858667904100823, penalty=l2;, score=0.844 total time=   0.0s\n",
      "[CV 5/5] END .C=0.08858667904100823, penalty=l2;, score=0.827 total time=   0.0s\n",
      "[CV 1/5] END ...C=0.23357214690901212, penalty=l1;, score=nan total time=   0.0s\n",
      "[CV 2/5] END ...C=0.23357214690901212, penalty=l1;, score=nan total time=   0.0s\n",
      "[CV 3/5] END ...C=0.23357214690901212, penalty=l1;, score=nan total time=   0.0s\n",
      "[CV 4/5] END ...C=0.23357214690901212, penalty=l1;, score=nan total time=   0.0s\n",
      "[CV 5/5] END ...C=0.23357214690901212, penalty=l1;, score=nan total time=   0.0s\n",
      "[CV 1/5] END .C=0.23357214690901212, penalty=l2;, score=0.824 total time=   0.0s\n",
      "[CV 2/5] END .C=0.23357214690901212, penalty=l2;, score=0.857 total time=   0.0s\n",
      "[CV 3/5] END .C=0.23357214690901212, penalty=l2;, score=0.842 total time=   0.0s\n",
      "[CV 4/5] END .C=0.23357214690901212, penalty=l2;, score=0.850 total time=   0.0s\n",
      "[CV 5/5] END .C=0.23357214690901212, penalty=l2;, score=0.836 total time=   0.0s\n",
      "[CV 1/5] END .....C=0.615848211066026, penalty=l1;, score=nan total time=   0.0s\n",
      "[CV 2/5] END .....C=0.615848211066026, penalty=l1;, score=nan total time=   0.0s\n",
      "[CV 3/5] END .....C=0.615848211066026, penalty=l1;, score=nan total time=   0.0s\n",
      "[CV 4/5] END .....C=0.615848211066026, penalty=l1;, score=nan total time=   0.0s\n",
      "[CV 5/5] END .....C=0.615848211066026, penalty=l1;, score=nan total time=   0.0s\n",
      "[CV 1/5] END ...C=0.615848211066026, penalty=l2;, score=0.829 total time=   0.0s\n",
      "[CV 2/5] END ...C=0.615848211066026, penalty=l2;, score=0.861 total time=   0.0s\n",
      "[CV 3/5] END ...C=0.615848211066026, penalty=l2;, score=0.845 total time=   0.0s\n",
      "[CV 4/5] END ...C=0.615848211066026, penalty=l2;, score=0.859 total time=   0.0s\n",
      "[CV 5/5] END ...C=0.615848211066026, penalty=l2;, score=0.839 total time=   0.0s\n",
      "[CV 1/5] END .....C=1.623776739188721, penalty=l1;, score=nan total time=   0.0s\n",
      "[CV 2/5] END .....C=1.623776739188721, penalty=l1;, score=nan total time=   0.0s\n",
      "[CV 3/5] END .....C=1.623776739188721, penalty=l1;, score=nan total time=   0.0s\n",
      "[CV 4/5] END .....C=1.623776739188721, penalty=l1;, score=nan total time=   0.0s\n",
      "[CV 5/5] END .....C=1.623776739188721, penalty=l1;, score=nan total time=   0.0s\n",
      "[CV 1/5] END ...C=1.623776739188721, penalty=l2;, score=0.835 total time=   0.1s\n"
     ]
    },
    {
     "name": "stdout",
     "output_type": "stream",
     "text": [
      "[CV 2/5] END ...C=1.623776739188721, penalty=l2;, score=0.863 total time=   0.1s\n",
      "[CV 3/5] END ...C=1.623776739188721, penalty=l2;, score=0.850 total time=   0.0s\n",
      "[CV 4/5] END ...C=1.623776739188721, penalty=l2;, score=0.865 total time=   0.0s\n",
      "[CV 5/5] END ...C=1.623776739188721, penalty=l2;, score=0.843 total time=   0.0s\n",
      "[CV 1/5] END .....C=4.281332398719396, penalty=l1;, score=nan total time=   0.0s\n",
      "[CV 2/5] END .....C=4.281332398719396, penalty=l1;, score=nan total time=   0.0s\n",
      "[CV 3/5] END .....C=4.281332398719396, penalty=l1;, score=nan total time=   0.0s\n",
      "[CV 4/5] END .....C=4.281332398719396, penalty=l1;, score=nan total time=   0.0s\n",
      "[CV 5/5] END .....C=4.281332398719396, penalty=l1;, score=nan total time=   0.0s\n",
      "[CV 1/5] END ...C=4.281332398719396, penalty=l2;, score=0.844 total time=   0.2s\n",
      "[CV 2/5] END ...C=4.281332398719396, penalty=l2;, score=0.869 total time=   0.2s\n",
      "[CV 3/5] END ...C=4.281332398719396, penalty=l2;, score=0.856 total time=   0.0s\n",
      "[CV 4/5] END ...C=4.281332398719396, penalty=l2;, score=0.863 total time=   0.0s\n",
      "[CV 5/5] END ...C=4.281332398719396, penalty=l2;, score=0.847 total time=   0.0s\n",
      "[CV 1/5] END ....C=11.288378916846883, penalty=l1;, score=nan total time=   0.0s\n",
      "[CV 2/5] END ....C=11.288378916846883, penalty=l1;, score=nan total time=   0.0s\n",
      "[CV 3/5] END ....C=11.288378916846883, penalty=l1;, score=nan total time=   0.0s\n",
      "[CV 4/5] END ....C=11.288378916846883, penalty=l1;, score=nan total time=   0.0s\n",
      "[CV 5/5] END ....C=11.288378916846883, penalty=l1;, score=nan total time=   0.0s\n",
      "[CV 1/5] END ..C=11.288378916846883, penalty=l2;, score=0.848 total time=   0.1s\n",
      "[CV 2/5] END ..C=11.288378916846883, penalty=l2;, score=0.875 total time=   0.0s\n",
      "[CV 3/5] END ..C=11.288378916846883, penalty=l2;, score=0.858 total time=   0.0s\n",
      "[CV 4/5] END ..C=11.288378916846883, penalty=l2;, score=0.863 total time=   0.1s\n",
      "[CV 5/5] END ..C=11.288378916846883, penalty=l2;, score=0.849 total time=   0.1s\n",
      "[CV 1/5] END ....C=29.763514416313132, penalty=l1;, score=nan total time=   0.0s\n",
      "[CV 2/5] END ....C=29.763514416313132, penalty=l1;, score=nan total time=   0.0s\n",
      "[CV 3/5] END ....C=29.763514416313132, penalty=l1;, score=nan total time=   0.0s\n",
      "[CV 4/5] END ....C=29.763514416313132, penalty=l1;, score=nan total time=   0.0s\n",
      "[CV 5/5] END ....C=29.763514416313132, penalty=l1;, score=nan total time=   0.0s\n",
      "[CV 1/5] END ..C=29.763514416313132, penalty=l2;, score=0.855 total time=   0.0s\n",
      "[CV 2/5] END ..C=29.763514416313132, penalty=l2;, score=0.874 total time=   0.1s\n",
      "[CV 3/5] END ..C=29.763514416313132, penalty=l2;, score=0.860 total time=   0.1s\n",
      "[CV 4/5] END ..C=29.763514416313132, penalty=l2;, score=0.865 total time=   0.0s\n",
      "[CV 5/5] END ..C=29.763514416313132, penalty=l2;, score=0.847 total time=   0.0s\n",
      "[CV 1/5] END .....C=78.47599703514607, penalty=l1;, score=nan total time=   0.0s\n",
      "[CV 2/5] END .....C=78.47599703514607, penalty=l1;, score=nan total time=   0.0s\n",
      "[CV 3/5] END .....C=78.47599703514607, penalty=l1;, score=nan total time=   0.0s\n",
      "[CV 4/5] END .....C=78.47599703514607, penalty=l1;, score=nan total time=   0.0s\n",
      "[CV 5/5] END .....C=78.47599703514607, penalty=l1;, score=nan total time=   0.0s\n",
      "[CV 1/5] END ...C=78.47599703514607, penalty=l2;, score=0.854 total time=   0.1s\n",
      "[CV 2/5] END ...C=78.47599703514607, penalty=l2;, score=0.879 total time=   0.0s\n",
      "[CV 3/5] END ...C=78.47599703514607, penalty=l2;, score=0.863 total time=   0.0s\n",
      "[CV 4/5] END ...C=78.47599703514607, penalty=l2;, score=0.863 total time=   0.0s\n",
      "[CV 5/5] END ...C=78.47599703514607, penalty=l2;, score=0.851 total time=   0.1s\n",
      "[CV 1/5] END ......C=206.913808111479, penalty=l1;, score=nan total time=   0.0s\n",
      "[CV 2/5] END ......C=206.913808111479, penalty=l1;, score=nan total time=   0.0s\n",
      "[CV 3/5] END ......C=206.913808111479, penalty=l1;, score=nan total time=   0.0s\n",
      "[CV 4/5] END ......C=206.913808111479, penalty=l1;, score=nan total time=   0.0s\n",
      "[CV 5/5] END ......C=206.913808111479, penalty=l1;, score=nan total time=   0.0s\n",
      "[CV 1/5] END ....C=206.913808111479, penalty=l2;, score=0.853 total time=   0.1s\n",
      "[CV 2/5] END ....C=206.913808111479, penalty=l2;, score=0.878 total time=   0.0s\n",
      "[CV 3/5] END ....C=206.913808111479, penalty=l2;, score=0.863 total time=   0.1s\n",
      "[CV 4/5] END ....C=206.913808111479, penalty=l2;, score=0.865 total time=   0.0s\n",
      "[CV 5/5] END ....C=206.913808111479, penalty=l2;, score=0.849 total time=   0.0s\n",
      "[CV 1/5] END .....C=545.5594781168514, penalty=l1;, score=nan total time=   0.0s\n",
      "[CV 2/5] END .....C=545.5594781168514, penalty=l1;, score=nan total time=   0.0s\n",
      "[CV 3/5] END .....C=545.5594781168514, penalty=l1;, score=nan total time=   0.0s\n",
      "[CV 4/5] END .....C=545.5594781168514, penalty=l1;, score=nan total time=   0.0s\n",
      "[CV 5/5] END .....C=545.5594781168514, penalty=l1;, score=nan total time=   0.0s\n",
      "[CV 1/5] END ...C=545.5594781168514, penalty=l2;, score=0.855 total time=   0.0s\n",
      "[CV 2/5] END ...C=545.5594781168514, penalty=l2;, score=0.879 total time=   0.1s\n",
      "[CV 3/5] END ...C=545.5594781168514, penalty=l2;, score=0.863 total time=   0.1s\n",
      "[CV 4/5] END ...C=545.5594781168514, penalty=l2;, score=0.865 total time=   0.1s\n",
      "[CV 5/5] END ...C=545.5594781168514, penalty=l2;, score=0.850 total time=   0.1s\n",
      "[CV 1/5] END ......C=1438.44988828766, penalty=l1;, score=nan total time=   0.0s\n",
      "[CV 2/5] END ......C=1438.44988828766, penalty=l1;, score=nan total time=   0.0s\n",
      "[CV 3/5] END ......C=1438.44988828766, penalty=l1;, score=nan total time=   0.0s\n",
      "[CV 4/5] END ......C=1438.44988828766, penalty=l1;, score=nan total time=   0.0s\n",
      "[CV 5/5] END ......C=1438.44988828766, penalty=l1;, score=nan total time=   0.0s\n",
      "[CV 1/5] END ....C=1438.44988828766, penalty=l2;, score=0.855 total time=   0.1s\n",
      "[CV 2/5] END ....C=1438.44988828766, penalty=l2;, score=0.878 total time=   0.1s\n",
      "[CV 3/5] END ....C=1438.44988828766, penalty=l2;, score=0.863 total time=   0.1s\n",
      "[CV 4/5] END ....C=1438.44988828766, penalty=l2;, score=0.866 total time=   0.0s\n",
      "[CV 5/5] END ....C=1438.44988828766, penalty=l2;, score=0.850 total time=   0.1s\n",
      "[CV 1/5] END .....C=3792.690190732246, penalty=l1;, score=nan total time=   0.0s\n",
      "[CV 2/5] END .....C=3792.690190732246, penalty=l1;, score=nan total time=   0.0s\n",
      "[CV 3/5] END .....C=3792.690190732246, penalty=l1;, score=nan total time=   0.0s\n",
      "[CV 4/5] END .....C=3792.690190732246, penalty=l1;, score=nan total time=   0.0s\n",
      "[CV 5/5] END .....C=3792.690190732246, penalty=l1;, score=nan total time=   0.0s\n",
      "[CV 1/5] END ...C=3792.690190732246, penalty=l2;, score=0.855 total time=   0.1s\n",
      "[CV 2/5] END ...C=3792.690190732246, penalty=l2;, score=0.880 total time=   0.0s\n",
      "[CV 3/5] END ...C=3792.690190732246, penalty=l2;, score=0.864 total time=   0.0s\n",
      "[CV 4/5] END ...C=3792.690190732246, penalty=l2;, score=0.865 total time=   0.0s\n",
      "[CV 5/5] END ...C=3792.690190732246, penalty=l2;, score=0.849 total time=   0.1s\n",
      "[CV 1/5] END ...............C=10000.0, penalty=l1;, score=nan total time=   0.0s\n",
      "[CV 2/5] END ...............C=10000.0, penalty=l1;, score=nan total time=   0.0s\n",
      "[CV 3/5] END ...............C=10000.0, penalty=l1;, score=nan total time=   0.0s\n",
      "[CV 4/5] END ...............C=10000.0, penalty=l1;, score=nan total time=   0.0s\n",
      "[CV 5/5] END ...............C=10000.0, penalty=l1;, score=nan total time=   0.0s\n",
      "[CV 1/5] END .............C=10000.0, penalty=l2;, score=0.855 total time=   0.1s\n",
      "[CV 2/5] END .............C=10000.0, penalty=l2;, score=0.879 total time=   0.1s\n",
      "[CV 3/5] END .............C=10000.0, penalty=l2;, score=0.863 total time=   0.1s\n",
      "[CV 4/5] END .............C=10000.0, penalty=l2;, score=0.865 total time=   0.1s\n",
      "[CV 5/5] END .............C=10000.0, penalty=l2;, score=0.850 total time=   0.1s\n"
     ]
    }
   ],
   "source": [
    "# Train the model with GridSearch\n",
    "# Train the model with GridSearch\n",
    "best_model = grid.fit(X_train_scaled, y_train)"
   ]
  },
  {
   "cell_type": "code",
   "execution_count": 19,
   "metadata": {},
   "outputs": [
    {
     "name": "stdout",
     "output_type": "stream",
     "text": [
      "{'C': 1438.44988828766, 'penalty': 'l2'}\n",
      "Best Score:  0.8624817165020848\n"
     ]
    }
   ],
   "source": [
    "print(best_model.best_params_)\n",
    "print('Best Score: ', best_model.best_score_)"
   ]
  },
  {
   "cell_type": "code",
   "execution_count": 20,
   "metadata": {},
   "outputs": [
    {
     "data": {
      "text/html": [
       "<div>\n",
       "<style scoped>\n",
       "    .dataframe tbody tr th:only-of-type {\n",
       "        vertical-align: middle;\n",
       "    }\n",
       "\n",
       "    .dataframe tbody tr th {\n",
       "        vertical-align: top;\n",
       "    }\n",
       "\n",
       "    .dataframe thead th {\n",
       "        text-align: right;\n",
       "    }\n",
       "</style>\n",
       "<table border=\"1\" class=\"dataframe\">\n",
       "  <thead>\n",
       "    <tr style=\"text-align: right;\">\n",
       "      <th></th>\n",
       "      <th>Actual</th>\n",
       "      <th>Predicted</th>\n",
       "    </tr>\n",
       "  </thead>\n",
       "  <tbody>\n",
       "    <tr>\n",
       "      <th>4341</th>\n",
       "      <td>CANDIDATE</td>\n",
       "      <td>CANDIDATE</td>\n",
       "    </tr>\n",
       "    <tr>\n",
       "      <th>4401</th>\n",
       "      <td>FALSE POSITIVE</td>\n",
       "      <td>FALSE POSITIVE</td>\n",
       "    </tr>\n",
       "    <tr>\n",
       "      <th>4878</th>\n",
       "      <td>CANDIDATE</td>\n",
       "      <td>CANDIDATE</td>\n",
       "    </tr>\n",
       "    <tr>\n",
       "      <th>1423</th>\n",
       "      <td>CANDIDATE</td>\n",
       "      <td>CANDIDATE</td>\n",
       "    </tr>\n",
       "    <tr>\n",
       "      <th>575</th>\n",
       "      <td>FALSE POSITIVE</td>\n",
       "      <td>FALSE POSITIVE</td>\n",
       "    </tr>\n",
       "  </tbody>\n",
       "</table>\n",
       "</div>"
      ],
      "text/plain": [
       "              Actual       Predicted\n",
       "4341       CANDIDATE       CANDIDATE\n",
       "4401  FALSE POSITIVE  FALSE POSITIVE\n",
       "4878       CANDIDATE       CANDIDATE\n",
       "1423       CANDIDATE       CANDIDATE\n",
       "575   FALSE POSITIVE  FALSE POSITIVE"
      ]
     },
     "execution_count": 20,
     "metadata": {},
     "output_type": "execute_result"
    }
   ],
   "source": [
    "# Make predictions\n",
    "grid_predictions = best_model.predict(X_test_scaled)\n",
    "df_grid = pd.DataFrame({\"Actual\":y_test, \"Predicted\":grid_predictions}) \n",
    "df_grid.head()"
   ]
  },
  {
   "cell_type": "code",
   "execution_count": 21,
   "metadata": {},
   "outputs": [
    {
     "data": {
      "text/plain": [
       "0.8524027459954233"
      ]
     },
     "execution_count": 21,
     "metadata": {},
     "output_type": "execute_result"
    }
   ],
   "source": [
    "# Score the model\n",
    "best_model.score(X_test_scaled, y_test)"
   ]
  },
  {
   "cell_type": "markdown",
   "metadata": {},
   "source": [
    "# Save the Model"
   ]
  },
  {
   "cell_type": "code",
   "execution_count": 22,
   "metadata": {},
   "outputs": [
    {
     "data": {
      "text/plain": [
       "['LR00.sav']"
      ]
     },
     "execution_count": 22,
     "metadata": {},
     "output_type": "execute_result"
    }
   ],
   "source": [
    "# save your model by updating \"your_name\" with your name\n",
    "# and \"your_model\" with your model variable\n",
    "# be sure to turn this in to BCS\n",
    "# if joblib fails to import, try running the command to install in terminal/git-bash\n",
    "import joblib\n",
    "filename = 'LR00.sav'\n",
    "joblib.dump(best_model, filename)"
   ]
  },
  {
   "cell_type": "code",
   "execution_count": null,
   "metadata": {},
   "outputs": [],
   "source": []
  }
 ],
 "metadata": {
  "kernel_info": {
   "name": "dev"
  },
  "kernelspec": {
   "display_name": "Python [conda env:.conda-Machine_Learning]",
   "language": "python",
   "name": "conda-env-.conda-Machine_Learning-py"
  },
  "language_info": {
   "codemirror_mode": {
    "name": "ipython",
    "version": 3
   },
   "file_extension": ".py",
   "mimetype": "text/x-python",
   "name": "python",
   "nbconvert_exporter": "python",
   "pygments_lexer": "ipython3",
   "version": "3.8.10"
  },
  "nteract": {
   "version": "0.12.3"
  },
  "widgets": {
   "application/vnd.jupyter.widget-state+json": {
    "state": {},
    "version_major": 2,
    "version_minor": 0
   }
  }
 },
 "nbformat": 4,
 "nbformat_minor": 2
}

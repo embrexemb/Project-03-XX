{
 "cells": [
  {
   "cell_type": "code",
   "execution_count": 28,
   "metadata": {},
   "outputs": [],
   "source": [
    "# Dependencies and Setup\n",
    "import matplotlib.pyplot as plt\n",
    "import pandas as pd\n",
    "import scipy.stats as st\n",
    "from scipy.stats import linregress\n",
    "from sklearn import datasets\n",
    "import numpy as np\n",
    "\n"
   ]
  },
  {
   "cell_type": "code",
   "execution_count": 30,
   "metadata": {},
   "outputs": [],
   "source": [
    "#files to load for 2016\n",
    "Cheyenne_CO_2016 = \"CO-CarbonMonoxide/2016-Cheyenne-CO.csv\"\n",
    "Cheyenne_NO_2016 = \"NitrogenDioxide/2016-Cheyenne-NO2.csv\"\n",
    "Cheyenne_O_2016 = \"Ozone/2016-Cheyenne-Ozone.csv\"\n",
    "#no lead for Cheyenne\n",
    "Cheyenne_PM_2016 = \"PM-ParticulateMatter/2016-Cheyenne-PM10.csv\"\n",
    "Cheyenne_SO_2016 = \"SulfurDioxide/2016-Cheyenne-SO2.csv\"\n",
    "\n",
    "#Read files into Pandas dataframe\n",
    "df_2016_CO = pd.read_csv(Cheyenne_CO_2016)\n",
    "df_2016_NO = pd.read_csv(Cheyenne_NO_2016)\n",
    "df_2016_O = pd.read_csv(Cheyenne_O_2016)\n",
    "df_2016_PM = pd.read_csv(Cheyenne_PM_2016)\n",
    "df_2016_SO = pd.read_csv(Cheyenne_SO_2016)\n"
   ]
  }
 ],
 "metadata": {
  "kernelspec": {
   "display_name": "Python 3",
   "language": "python",
   "name": "python3"
  },
  "language_info": {
   "codemirror_mode": {
    "name": "ipython",
    "version": 3
   },
   "file_extension": ".py",
   "mimetype": "text/x-python",
   "name": "python",
   "nbconvert_exporter": "python",
   "pygments_lexer": "ipython3",
   "version": "3.6.10"
  }
 },
 "nbformat": 4,
 "nbformat_minor": 4
}

{
 "cells": [
  {
   "cell_type": "code",
   "execution_count": 1,
   "metadata": {},
   "outputs": [],
   "source": [
    "import pandas as pd\n"
   ]
  },
  {
   "cell_type": "code",
   "execution_count": 13,
   "metadata": {},
   "outputs": [],
   "source": [
    "data1_df = pd.read_csv(\"LA2020DF.csv\")\n",
    "data2_df = pd.read_csv(\"RA2020DF.csv\")\n",
    "data3_df = pd.read_csv(\"NY2020DF.csv\")"
   ]
  },
  {
   "cell_type": "code",
   "execution_count": 3,
   "metadata": {},
   "outputs": [
    {
     "data": {
      "text/html": [
       "<div>\n",
       "<style scoped>\n",
       "    .dataframe tbody tr th:only-of-type {\n",
       "        vertical-align: middle;\n",
       "    }\n",
       "\n",
       "    .dataframe tbody tr th {\n",
       "        vertical-align: top;\n",
       "    }\n",
       "\n",
       "    .dataframe thead th {\n",
       "        text-align: right;\n",
       "    }\n",
       "</style>\n",
       "<table border=\"1\" class=\"dataframe\">\n",
       "  <thead>\n",
       "    <tr style=\"text-align: right;\">\n",
       "      <th></th>\n",
       "      <th>Unnamed: 0</th>\n",
       "      <th>Site Name</th>\n",
       "      <th>Date</th>\n",
       "      <th>DMean PM10</th>\n",
       "      <th>PM10 Units</th>\n",
       "      <th>PM10 AQI</th>\n",
       "      <th>Lat</th>\n",
       "      <th>Lng</th>\n",
       "      <th>DMax NO2</th>\n",
       "      <th>NO2 Units</th>\n",
       "      <th>NO2 AQI</th>\n",
       "      <th>DMax Ozone</th>\n",
       "      <th>Ozone Units</th>\n",
       "      <th>Ozone AQI</th>\n",
       "      <th>DMax SO2</th>\n",
       "      <th>SO2 Units</th>\n",
       "      <th>SO2 AQI</th>\n",
       "      <th>DMax CO</th>\n",
       "      <th>CO Units</th>\n",
       "      <th>CO AQI</th>\n",
       "    </tr>\n",
       "  </thead>\n",
       "  <tbody>\n",
       "    <tr>\n",
       "      <th>0</th>\n",
       "      <td>0</td>\n",
       "      <td>Azusa</td>\n",
       "      <td>1/4/2020</td>\n",
       "      <td>25.0</td>\n",
       "      <td>ug/m3 SC</td>\n",
       "      <td>23.0</td>\n",
       "      <td>34.1365</td>\n",
       "      <td>-117.92391</td>\n",
       "      <td>43.9</td>\n",
       "      <td>ppb</td>\n",
       "      <td>41.0</td>\n",
       "      <td>0.026</td>\n",
       "      <td>ppm</td>\n",
       "      <td>24.0</td>\n",
       "      <td>NaN</td>\n",
       "      <td>NaN</td>\n",
       "      <td>NaN</td>\n",
       "      <td>0.7</td>\n",
       "      <td>ppm</td>\n",
       "      <td>8.0</td>\n",
       "    </tr>\n",
       "    <tr>\n",
       "      <th>1</th>\n",
       "      <td>1</td>\n",
       "      <td>Azusa</td>\n",
       "      <td>1/10/2020</td>\n",
       "      <td>20.0</td>\n",
       "      <td>ug/m3 SC</td>\n",
       "      <td>19.0</td>\n",
       "      <td>34.1365</td>\n",
       "      <td>-117.92391</td>\n",
       "      <td>28.7</td>\n",
       "      <td>ppb</td>\n",
       "      <td>26.0</td>\n",
       "      <td>0.024</td>\n",
       "      <td>ppm</td>\n",
       "      <td>22.0</td>\n",
       "      <td>NaN</td>\n",
       "      <td>NaN</td>\n",
       "      <td>NaN</td>\n",
       "      <td>0.4</td>\n",
       "      <td>ppm</td>\n",
       "      <td>5.0</td>\n",
       "    </tr>\n",
       "    <tr>\n",
       "      <th>2</th>\n",
       "      <td>2</td>\n",
       "      <td>Azusa</td>\n",
       "      <td>1/16/2020</td>\n",
       "      <td>32.0</td>\n",
       "      <td>ug/m3 SC</td>\n",
       "      <td>30.0</td>\n",
       "      <td>34.1365</td>\n",
       "      <td>-117.92391</td>\n",
       "      <td>35.5</td>\n",
       "      <td>ppb</td>\n",
       "      <td>33.0</td>\n",
       "      <td>0.038</td>\n",
       "      <td>ppm</td>\n",
       "      <td>35.0</td>\n",
       "      <td>NaN</td>\n",
       "      <td>NaN</td>\n",
       "      <td>NaN</td>\n",
       "      <td>0.6</td>\n",
       "      <td>ppm</td>\n",
       "      <td>7.0</td>\n",
       "    </tr>\n",
       "    <tr>\n",
       "      <th>3</th>\n",
       "      <td>3</td>\n",
       "      <td>Azusa</td>\n",
       "      <td>1/22/2020</td>\n",
       "      <td>21.0</td>\n",
       "      <td>ug/m3 SC</td>\n",
       "      <td>19.0</td>\n",
       "      <td>34.1365</td>\n",
       "      <td>-117.92391</td>\n",
       "      <td>23.4</td>\n",
       "      <td>ppb</td>\n",
       "      <td>22.0</td>\n",
       "      <td>0.027</td>\n",
       "      <td>ppm</td>\n",
       "      <td>25.0</td>\n",
       "      <td>NaN</td>\n",
       "      <td>NaN</td>\n",
       "      <td>NaN</td>\n",
       "      <td>0.3</td>\n",
       "      <td>ppm</td>\n",
       "      <td>3.0</td>\n",
       "    </tr>\n",
       "    <tr>\n",
       "      <th>4</th>\n",
       "      <td>4</td>\n",
       "      <td>Azusa</td>\n",
       "      <td>1/28/2020</td>\n",
       "      <td>23.0</td>\n",
       "      <td>ug/m3 SC</td>\n",
       "      <td>21.0</td>\n",
       "      <td>34.1365</td>\n",
       "      <td>-117.92391</td>\n",
       "      <td>34.3</td>\n",
       "      <td>ppb</td>\n",
       "      <td>32.0</td>\n",
       "      <td>0.028</td>\n",
       "      <td>ppm</td>\n",
       "      <td>26.0</td>\n",
       "      <td>NaN</td>\n",
       "      <td>NaN</td>\n",
       "      <td>NaN</td>\n",
       "      <td>0.4</td>\n",
       "      <td>ppm</td>\n",
       "      <td>5.0</td>\n",
       "    </tr>\n",
       "  </tbody>\n",
       "</table>\n",
       "</div>"
      ],
      "text/plain": [
       "   Unnamed: 0 Site Name       Date  DMean PM10 PM10 Units  PM10 AQI      Lat  \\\n",
       "0           0     Azusa   1/4/2020        25.0   ug/m3 SC      23.0  34.1365   \n",
       "1           1     Azusa  1/10/2020        20.0   ug/m3 SC      19.0  34.1365   \n",
       "2           2     Azusa  1/16/2020        32.0   ug/m3 SC      30.0  34.1365   \n",
       "3           3     Azusa  1/22/2020        21.0   ug/m3 SC      19.0  34.1365   \n",
       "4           4     Azusa  1/28/2020        23.0   ug/m3 SC      21.0  34.1365   \n",
       "\n",
       "         Lng  DMax NO2 NO2 Units  NO2 AQI  DMax Ozone Ozone Units  Ozone AQI  \\\n",
       "0 -117.92391      43.9       ppb     41.0       0.026         ppm       24.0   \n",
       "1 -117.92391      28.7       ppb     26.0       0.024         ppm       22.0   \n",
       "2 -117.92391      35.5       ppb     33.0       0.038         ppm       35.0   \n",
       "3 -117.92391      23.4       ppb     22.0       0.027         ppm       25.0   \n",
       "4 -117.92391      34.3       ppb     32.0       0.028         ppm       26.0   \n",
       "\n",
       "   DMax SO2 SO2 Units  SO2 AQI  DMax CO CO Units  CO AQI  \n",
       "0       NaN       NaN      NaN      0.7      ppm     8.0  \n",
       "1       NaN       NaN      NaN      0.4      ppm     5.0  \n",
       "2       NaN       NaN      NaN      0.6      ppm     7.0  \n",
       "3       NaN       NaN      NaN      0.3      ppm     3.0  \n",
       "4       NaN       NaN      NaN      0.4      ppm     5.0  "
      ]
     },
     "execution_count": 3,
     "metadata": {},
     "output_type": "execute_result"
    }
   ],
   "source": [
    "data1_df.head()"
   ]
  },
  {
   "cell_type": "code",
   "execution_count": 6,
   "metadata": {},
   "outputs": [
    {
     "name": "stdout",
     "output_type": "stream",
     "text": [
      "(7782, 6)\n"
     ]
    },
    {
     "data": {
      "text/plain": [
       "Site Name       0\n",
       "Date            0\n",
       "NO2 AQI       511\n",
       "Ozone AQI     933\n",
       "SO2 AQI      6389\n",
       "CO AQI       1200\n",
       "dtype: int64"
      ]
     },
     "execution_count": 6,
     "metadata": {},
     "output_type": "execute_result"
    }
   ],
   "source": [
    "new_data1_df = data1_df.loc[:,[\"Site Name\",\"Date\",\"NO2 AQI\",\"Ozone AQI\",\"SO2 AQI\",\"CO AQI\"]]\n",
    "print(new_data1_df.shape)\n",
    "\n",
    "new_data1_df.isnull().sum()"
   ]
  },
  {
   "cell_type": "code",
   "execution_count": 10,
   "metadata": {},
   "outputs": [
    {
     "name": "stdout",
     "output_type": "stream",
     "text": [
      "Site Name    0\n",
      "Date         0\n",
      "NO2 AQI      0\n",
      "Ozone AQI    0\n",
      "SO2 AQI      0\n",
      "CO AQI       0\n",
      "dtype: int64\n"
     ]
    },
    {
     "data": {
      "text/plain": [
       "(1341, 6)"
      ]
     },
     "execution_count": 10,
     "metadata": {},
     "output_type": "execute_result"
    }
   ],
   "source": [
    "clean_data1_df = new_data1_df.dropna()\n",
    "print(clean_data1_df.isnull().sum())\n",
    "clean_data1_df.shape"
   ]
  },
  {
   "cell_type": "code",
   "execution_count": 14,
   "metadata": {},
   "outputs": [
    {
     "name": "stdout",
     "output_type": "stream",
     "text": [
      "(1312, 6)\n",
      "Site Name      0\n",
      "Date           0\n",
      "NO2 AQI      326\n",
      "Ozone AQI    367\n",
      "SO2 AQI      669\n",
      "CO AQI       251\n",
      "dtype: int64\n",
      "Site Name    0\n",
      "Date         0\n",
      "NO2 AQI      0\n",
      "Ozone AQI    0\n",
      "SO2 AQI      0\n",
      "CO AQI       0\n",
      "dtype: int64\n"
     ]
    },
    {
     "data": {
      "text/plain": [
       "(602, 6)"
      ]
     },
     "execution_count": 14,
     "metadata": {},
     "output_type": "execute_result"
    }
   ],
   "source": [
    "new_data2_df = data2_df.loc[:,[\"Site Name\",\"Date\",\"NO2 AQI\",\"Ozone AQI\",\"SO2 AQI\",\"CO AQI\"]]\n",
    "print(new_data2_df.shape)\n",
    "\n",
    "print(new_data2_df.isnull().sum())\n",
    "\n",
    "clean_data2_df = new_data2_df.dropna()\n",
    "print(clean_data2_df.isnull().sum())\n",
    "clean_data2_df.shape"
   ]
  },
  {
   "cell_type": "code",
   "execution_count": 16,
   "metadata": {},
   "outputs": [
    {
     "name": "stdout",
     "output_type": "stream",
     "text": [
      "(9605, 6)\n",
      "Site Name       0\n",
      "Date            0\n",
      "NO2 AQI      5672\n",
      "Ozone AQI    2267\n",
      "SO2 AQI      5025\n",
      "CO AQI       6596\n",
      "dtype: int64\n",
      "Site Name    0\n",
      "Date         0\n",
      "NO2 AQI      0\n",
      "Ozone AQI    0\n",
      "SO2 AQI      0\n",
      "CO AQI       0\n",
      "dtype: int64\n"
     ]
    },
    {
     "data": {
      "text/plain": [
       "(1030, 6)"
      ]
     },
     "execution_count": 16,
     "metadata": {},
     "output_type": "execute_result"
    }
   ],
   "source": [
    "new_data3_df = data3_df.loc[:,[\"Site Name\",\"Date\",\"NO2 AQI\",\"Ozone AQI\",\"SO2 AQI\",\"CO AQI\"]]\n",
    "print(new_data3_df.shape)\n",
    "\n",
    "print(new_data3_df.isnull().sum())\n",
    "\n",
    "clean_data3_df = new_data3_df.dropna()\n",
    "print(clean_data3_df.isnull().sum())\n",
    "clean_data3_df.shape"
   ]
  },
  {
   "cell_type": "code",
   "execution_count": 18,
   "metadata": {},
   "outputs": [
    {
     "data": {
      "text/plain": [
       "Los Angeles-North Main Street    985\n",
       "LAX Hastings                     356\n",
       "Name: Site Name, dtype: int64"
      ]
     },
     "execution_count": 18,
     "metadata": {},
     "output_type": "execute_result"
    }
   ],
   "source": [
    "# Los Angeles\n",
    "clean_data1_df.head()\n",
    "\n",
    "clean_data1_df[\"Site Name\"].value_counts()\n"
   ]
  },
  {
   "cell_type": "code",
   "execution_count": 19,
   "metadata": {},
   "outputs": [
    {
     "data": {
      "text/plain": [
       "Millbrook School    602\n",
       "Name: Site Name, dtype: int64"
      ]
     },
     "execution_count": 19,
     "metadata": {},
     "output_type": "execute_result"
    }
   ],
   "source": [
    "# Raleigh\n",
    "clean_data2_df[\"Site Name\"].value_counts()"
   ]
  },
  {
   "cell_type": "code",
   "execution_count": 20,
   "metadata": {},
   "outputs": [
    {
     "data": {
      "text/plain": [
       "Newark Firehouse    362\n",
       "PFIZER LAB SITE     350\n",
       "QUEENS COLLEGE 2    318\n",
       "Name: Site Name, dtype: int64"
      ]
     },
     "execution_count": 20,
     "metadata": {},
     "output_type": "execute_result"
    }
   ],
   "source": [
    "# New York\n",
    "clean_data3_df[\"Site Name\"].value_counts()"
   ]
  },
  {
   "cell_type": "code",
   "execution_count": 22,
   "metadata": {},
   "outputs": [
    {
     "data": {
      "text/plain": [
       "(2973, 6)"
      ]
     },
     "execution_count": 22,
     "metadata": {},
     "output_type": "execute_result"
    }
   ],
   "source": [
    "combined_df = pd.concat([clean_data1_df, clean_data2_df, clean_data3_df])\n",
    "combined_df.shape"
   ]
  },
  {
   "cell_type": "code",
   "execution_count": 23,
   "metadata": {},
   "outputs": [],
   "source": [
    "combined_df.to_csv(\"2020_pollutants.csv\", index=False)"
   ]
  },
  {
   "cell_type": "code",
   "execution_count": null,
   "metadata": {},
   "outputs": [],
   "source": []
  }
 ],
 "metadata": {
  "kernelspec": {
   "display_name": "Python 3",
   "language": "python",
   "name": "python3"
  },
  "language_info": {
   "codemirror_mode": {
    "name": "ipython",
    "version": 3
   },
   "file_extension": ".py",
   "mimetype": "text/x-python",
   "name": "python",
   "nbconvert_exporter": "python",
   "pygments_lexer": "ipython3",
   "version": "3.6.10"
  }
 },
 "nbformat": 4,
 "nbformat_minor": 4
}

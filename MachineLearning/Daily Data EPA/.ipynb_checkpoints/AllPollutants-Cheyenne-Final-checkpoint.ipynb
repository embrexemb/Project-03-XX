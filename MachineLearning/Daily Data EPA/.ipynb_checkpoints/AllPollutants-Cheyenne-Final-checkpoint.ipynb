{
 "cells": [
  {
   "cell_type": "code",
   "execution_count": null,
   "id": "1cb2f947",
   "metadata": {},
   "outputs": [],
   "source": [
    "import pandas as pd\n",
    "import numpy as np\n",
    "\n",
    "# Hide warning messages in notebook\n",
    "import warnings\n",
    "warnings.filterwarnings('ignore')\n",
    "\n"
   ]
  },
  {
   "cell_type": "markdown",
   "id": "07233f7f",
   "metadata": {},
   "source": [
    "2016 Data"
   ]
  },
  {
   "cell_type": "code",
   "execution_count": null,
   "id": "73982df7",
   "metadata": {},
   "outputs": [],
   "source": [
    "#files to load for 2016\n",
    "Cheyenne_CO_2016 = \"CO-CarbonMonoxide/2016-Cheyenne-CO.csv\"\n",
    "Cheyenne_NO_2016 = \"NitrogenDioxide/2016-Cheyenne-NO2.csv\"\n",
    "Cheyenne_O_2016 = \"Ozone/2016-Cheyenne-Ozone.csv\"\n",
    "#no lead for Cheyenne\n",
    "Cheyenne_PM_2016 = \"PM-ParticulateMatter/2016-Cheyenne-PM10.csv\"\n",
    "Cheyenne_SO_2016 = \"SulfurDioxide/2016-Cheyenne-SO2.csv\"\n",
    "\n",
    "#Read files into Pandas dataframe\n",
    "\n",
    "df_2016_CO = pd.read_csv(Cheyenne_CO_2016)\n",
    "df_2016_NO = pd.read_csv(Cheyenne_NO_2016)\n",
    "df_2016_O = pd.read_csv(Cheyenne_O_2016)\n",
    "df_2016_PM = pd.read_csv(Cheyenne_PM_2016)\n",
    "df_2016_SO = pd.read_csv(Cheyenne_SO_2016)\n",
    "\n",
    "\n",
    "df_2016_PM=df_2016_PM[['Site Name','Date','Daily Mean PM10 Concentration','UNITS','DAILY_AQI_VALUE', 'SITE_LATITUDE','SITE_LONGITUDE' ]]\n",
    "\n",
    "df_2016_CO=df_2016_CO[['Site Name','Date','Daily Max 8-hour CO Concentration','UNITS','DAILY_AQI_VALUE']]\n",
    "\n",
    "df_2016_NO=df_2016_NO[['Site Name','Date','Daily Max 1-hour NO2 Concentration','UNITS','DAILY_AQI_VALUE']]\n",
    "\n",
    "df_2016_O=df_2016_O[['Site Name','Date','Daily Max 8-hour Ozone Concentration','UNITS','DAILY_AQI_VALUE']]\n",
    "\n",
    "df_2016_SO=df_2016_SO[['Site Name','Date','Daily Max 1-hour SO2 Concentration','UNITS','DAILY_AQI_VALUE']]\n",
    "\n",
    "\n",
    "df_2016_PM\n",
    "\n"
   ]
  },
  {
   "cell_type": "markdown",
   "id": "76ff2ccd",
   "metadata": {},
   "source": [
    "print(df_2016_O.count())\n",
    "print(df_2016_CO.count())\n",
    "print(df_2016_NO.count())\n",
    "print(df_2016_PM.count())\n",
    "print(df_2016_SO.count()) "
   ]
  },
  {
   "cell_type": "markdown",
   "id": "b31c03f3",
   "metadata": {},
   "source": [
    "Scratched\n",
    "#Cheyenne_2016_All = left.join(right, on=['Site Name'])\n",
    "#Cheyenne_2016_All = pd.concat([left, right], axis=1)\n",
    "#Cheyenne_2016_All = pd.merge(left.drop_duplicates(),right, how='inner', on='Site Name', validate='many_to_many')\n",
    "#C_2016=pd.merge(left.drop_duplicates(), right, how = 'inner',on=['col_1','col_2'])\n",
    "#C_2016=pd.concat([left, right],axis=1 )"
   ]
  },
  {
   "cell_type": "code",
   "execution_count": null,
   "id": "de5e9cd9",
   "metadata": {},
   "outputs": [],
   "source": [
    "left = df_2016_PM\n",
    "right = df_2016_NO\n",
    "Cheyenne_2016_All = pd.merge(left, right, on=['Site Name','Date'],how='outer', indicator=True) \n"
   ]
  },
  {
   "cell_type": "code",
   "execution_count": null,
   "id": "0feb64a3",
   "metadata": {},
   "outputs": [],
   "source": [
    "left = Cheyenne_2016_All\n",
    "right = df_2016_O\n",
    "Cheyenne_2016_All = pd.merge(left, right, on=['Site Name','Date'],how='outer') \n"
   ]
  },
  {
   "cell_type": "code",
   "execution_count": null,
   "id": "432b3ca1",
   "metadata": {},
   "outputs": [],
   "source": [
    "left = Cheyenne_2016_All\n",
    "right = df_2016_SO\n",
    "Cheyenne_2016_All = pd.merge(left, right, on=['Site Name','Date'],how='outer') \n"
   ]
  },
  {
   "cell_type": "code",
   "execution_count": null,
   "id": "9625eecd",
   "metadata": {},
   "outputs": [],
   "source": [
    "left = Cheyenne_2016_All\n",
    "right = df_2016_CO\n",
    "Cheyenne_2016_All = pd.merge(left, right, on=['Site Name','Date'],how='outer') \n"
   ]
  },
  {
   "cell_type": "code",
   "execution_count": null,
   "id": "ff4f01b8",
   "metadata": {},
   "outputs": [],
   "source": [
    "Cheyenne_2016_All.columns\n"
   ]
  },
  {
   "cell_type": "code",
   "execution_count": null,
   "id": "72add38e",
   "metadata": {},
   "outputs": [],
   "source": [
    "Cheyenne_2016_All.count()\n"
   ]
  },
  {
   "cell_type": "code",
   "execution_count": null,
   "id": "fa07b501",
   "metadata": {},
   "outputs": [],
   "source": [
    "#print(Cheyenne_2016_All)\n",
    "\n"
   ]
  },
  {
   "cell_type": "code",
   "execution_count": null,
   "id": "f68445ee",
   "metadata": {},
   "outputs": [],
   "source": [
    "Cheyenne_2016_All.columns=['Site Name','Date','DMean PM10','PM10 Units','PM10 AQI','Lat','Lng','DMax NO2','NO2 Units','NO2 AQI','Merged','DMax Ozone','Ozone Units','Ozone AQI','DMax SO2','SO2 Units','SO2 AQI','DMax CO','CO Units','CO AQI']\n",
    "\n"
   ]
  },
  {
   "cell_type": "code",
   "execution_count": null,
   "id": "cd7a52bc",
   "metadata": {},
   "outputs": [],
   "source": [
    "Cheyenne_2016_All.count()\n"
   ]
  },
  {
   "cell_type": "code",
   "execution_count": null,
   "id": "05c03bf2",
   "metadata": {},
   "outputs": [],
   "source": [
    "Cheyenne_2016_All.drop('Merged',axis=1,inplace=True)\n",
    "Cheyenne_2016_All.to_csv(\"CH2016DF.csv\")"
   ]
  },
  {
   "cell_type": "markdown",
   "id": "2b3eed97",
   "metadata": {},
   "source": [
    "2018 Data"
   ]
  },
  {
   "cell_type": "code",
   "execution_count": null,
   "id": "79896eaa",
   "metadata": {},
   "outputs": [],
   "source": [
    "#files to load for 2018\n",
    "\n",
    "Cheyenne_CO_2018 = \"CO-CarbonMonoxide/2018-Cheyenne-CO.csv\"\n",
    "Cheyenne_NO_2018 = \"NitrogenDioxide/2018-Cheyenne-NO2.csv\"\n",
    "Cheyenne_O_2018= \"Ozone/2018-Cheyenne-Ozone.csv\"\n",
    "#no lead for Cheyenne\n",
    "Cheyenne_PM_2018 = \"PM-ParticulateMatter/2018-Cheyenne-PM10.csv\"\n",
    "Cheyenne_SO_2018 = \"SulfurDioxide/2018-Cheyenne-SO2.csv\"\n",
    "\n",
    "#Read files into Pandas dataframe\n",
    "\n",
    "df_2018_CO = pd.read_csv(Cheyenne_CO_2018)\n",
    "df_2018_NO = pd.read_csv(Cheyenne_NO_2018)\n",
    "df_2018_O = pd.read_csv(Cheyenne_O_2018)\n",
    "df_2018_PM = pd.read_csv(Cheyenne_PM_2018)\n",
    "df_2018_SO = pd.read_csv(Cheyenne_SO_2018)\n",
    "\n",
    "df_2018_PM=df_2018_PM[['Site Name','Date','Daily Mean PM10 Concentration','UNITS','DAILY_AQI_VALUE', 'SITE_LATITUDE','SITE_LONGITUDE' ]]\n",
    "\n",
    "df_2018_CO=df_2018_CO[['Site Name','Date','Daily Max 8-hour CO Concentration','UNITS','DAILY_AQI_VALUE']]\n",
    "\n",
    "df_2018_NO=df_2018_NO[['Site Name','Date','Daily Max 1-hour NO2 Concentration','UNITS','DAILY_AQI_VALUE']]\n",
    "\n",
    "df_2018_O=df_2018_O[['Site Name','Date','Daily Max 8-hour Ozone Concentration','UNITS','DAILY_AQI_VALUE']]\n",
    "\n",
    "df_2018_SO=df_2018_SO[['Site Name','Date','Daily Max 1-hour SO2 Concentration','UNITS','DAILY_AQI_VALUE']]\n",
    "\n",
    "\n",
    "df_2018_PM\n"
   ]
  },
  {
   "cell_type": "code",
   "execution_count": null,
   "id": "f4185f8a",
   "metadata": {},
   "outputs": [],
   "source": [
    "Cheyenne_2018_All=[]\n",
    "\n"
   ]
  },
  {
   "cell_type": "code",
   "execution_count": null,
   "id": "986e469b",
   "metadata": {},
   "outputs": [],
   "source": [
    "left = df_2018_PM\n",
    "right = df_2018_NO\n",
    "Cheyenne_2018_All = pd.merge(left, right, on=['Site Name','Date'],how='outer', indicator=True) \n"
   ]
  },
  {
   "cell_type": "code",
   "execution_count": null,
   "id": "e0366308",
   "metadata": {},
   "outputs": [],
   "source": [
    "left = Cheyenne_2018_All\n",
    "right = df_2018_O\n",
    "Cheyenne_2018_All = pd.merge(left, right, on=['Site Name','Date'],how='outer') \n"
   ]
  },
  {
   "cell_type": "code",
   "execution_count": null,
   "id": "0f6a3a21",
   "metadata": {},
   "outputs": [],
   "source": [
    "left = Cheyenne_2018_All\n",
    "right = df_2018_SO\n",
    "Cheyenne_2018_All = pd.merge(left, right, on=['Site Name','Date'],how='outer') \n"
   ]
  },
  {
   "cell_type": "code",
   "execution_count": null,
   "id": "efc7d306",
   "metadata": {},
   "outputs": [],
   "source": [
    "left = Cheyenne_2018_All\n",
    "right = df_2018_CO\n",
    "Cheyenne_2018_All = pd.merge(left, right, on=['Site Name','Date'],how='outer') \n"
   ]
  },
  {
   "cell_type": "code",
   "execution_count": null,
   "id": "27584aa3",
   "metadata": {},
   "outputs": [],
   "source": [
    "Cheyenne_2018_All.columns\n"
   ]
  },
  {
   "cell_type": "code",
   "execution_count": null,
   "id": "f896aa66",
   "metadata": {},
   "outputs": [],
   "source": [
    "Cheyenne_2018_All.count()\n"
   ]
  },
  {
   "cell_type": "code",
   "execution_count": null,
   "id": "fc1165b6",
   "metadata": {},
   "outputs": [],
   "source": [
    "Cheyenne_2018_All.columns=['Site Name','Date','DMean PM10','PM10 Units','PM10 AQI','Lat','Lng','DMax NO2','NO2 Units','NO2 AQI','Merged','DMax Ozone','Ozone Units','Ozone AQI','DMax SO2','SO2 Units','SO2 AQI','DMax CO','CO Units','CO AQI']\n"
   ]
  },
  {
   "cell_type": "code",
   "execution_count": null,
   "id": "8a08a64c",
   "metadata": {},
   "outputs": [],
   "source": [
    "Cheyenne_2018_All.drop('Merged',axis=1,inplace=True)\n",
    "Cheyenne_2018_All.to_csv(\"CH2018DF.csv\")\n"
   ]
  },
  {
   "cell_type": "markdown",
   "id": "bf8de74f",
   "metadata": {},
   "source": [
    "2020 Data"
   ]
  },
  {
   "cell_type": "code",
   "execution_count": null,
   "id": "e77b91d9",
   "metadata": {},
   "outputs": [],
   "source": [
    "#files to load for 2020\n",
    "\n",
    "Cheyenne_CO_2020 = \"CO-CarbonMonoxide/2020-Cheyenne-CO.csv\"\n",
    "Cheyenne_NO_2020 = \"NitrogenDioxide/2020-Cheyenne-NO2.csv\"\n",
    "Cheyenne_O_2020 = \"Ozone/2020-Cheyenne-Ozone.csv\"\n",
    "#no lead for Cheyenne\n",
    "Cheyenne_PM_2020 = \"PM-ParticulateMatter/2020-Cheyenne-PM10.csv\"\n",
    "Cheyenne_SO_2020 = \"SulfurDioxide/2020-Cheyenne-SO2.csv\"\n",
    "\n",
    "#Read files into Pandas dataframe\n",
    "\n",
    "df_2020_CO = pd.read_csv(Cheyenne_CO_2020)\n",
    "df_2020_NO = pd.read_csv(Cheyenne_NO_2020)\n",
    "df_2020_O = pd.read_csv(Cheyenne_O_2020)\n",
    "df_2020_PM = pd.read_csv(Cheyenne_PM_2020)\n",
    "df_2020_SO = pd.read_csv(Cheyenne_SO_2020)\n",
    "\n",
    "\n",
    "df_2020_PM=df_2020_PM[['Site Name','Date','Daily Mean PM10 Concentration','UNITS','DAILY_AQI_VALUE', 'SITE_LATITUDE','SITE_LONGITUDE' ]]\n",
    "\n",
    "df_2020_CO=df_2020_CO[['Site Name','Date','Daily Max 8-hour CO Concentration','UNITS','DAILY_AQI_VALUE']]\n",
    "\n",
    "df_2020_NO=df_2020_NO[['Site Name','Date','Daily Max 1-hour NO2 Concentration','UNITS','DAILY_AQI_VALUE']]\n",
    "\n",
    "df_2020_O=df_2020_O[['Site Name','Date','Daily Max 8-hour Ozone Concentration','UNITS','DAILY_AQI_VALUE']]\n",
    "\n",
    "df_2020_SO=df_2020_SO[['Site Name','Date','Daily Max 1-hour SO2 Concentration','UNITS','DAILY_AQI_VALUE']]\n",
    "\n",
    "\n",
    "df_2020_PM\n",
    "\n"
   ]
  },
  {
   "cell_type": "code",
   "execution_count": null,
   "id": "13686243",
   "metadata": {},
   "outputs": [],
   "source": [
    "Cheyenne_2020_All = []\n",
    "\n"
   ]
  },
  {
   "cell_type": "code",
   "execution_count": null,
   "id": "7a96e5ed",
   "metadata": {},
   "outputs": [],
   "source": [
    "left = df_2020_PM\n",
    "right = df_2020_NO\n",
    "Cheyenne_2020_All = pd.merge(left, right, on=['Site Name','Date'],how='outer', indicator=True) \n"
   ]
  },
  {
   "cell_type": "code",
   "execution_count": null,
   "id": "18417f51",
   "metadata": {},
   "outputs": [],
   "source": [
    "left = Cheyenne_2020_All\n",
    "right = df_2020_O\n",
    "Cheyenne_2020_All = pd.merge(left, right, on=['Site Name','Date'],how='outer') \n"
   ]
  },
  {
   "cell_type": "code",
   "execution_count": null,
   "id": "45b3bea2",
   "metadata": {},
   "outputs": [],
   "source": [
    "left = Cheyenne_2020_All\n",
    "right = df_2020_SO\n",
    "Cheyenne_2020_All = pd.merge(left, right, on=['Site Name','Date'],how='outer')\n"
   ]
  },
  {
   "cell_type": "code",
   "execution_count": null,
   "id": "2aa5a52a",
   "metadata": {},
   "outputs": [],
   "source": [
    "left = Cheyenne_2020_All\n",
    "right = df_2020_CO\n",
    "Cheyenne_2020_All = pd.merge(left, right, on=['Site Name','Date'],how='outer') \n"
   ]
  },
  {
   "cell_type": "code",
   "execution_count": null,
   "id": "26742f4c",
   "metadata": {},
   "outputs": [],
   "source": [
    "Cheyenne_2020_All.count()\n"
   ]
  },
  {
   "cell_type": "code",
   "execution_count": null,
   "id": "9487235c",
   "metadata": {},
   "outputs": [],
   "source": [
    "Cheyenne_2020_All.tail()\n"
   ]
  },
  {
   "cell_type": "code",
   "execution_count": null,
   "id": "9b0420e9",
   "metadata": {},
   "outputs": [],
   "source": [
    "Cheyenne_2020_All.columns=['Site Name','Date','DMean PM10','PM10 Units','PM10 AQI','Lat','Lng','DMax NO2','NO2 Units','NO2 AQI','Merged','DMax Ozone','Ozone Units','Ozone AQI','DMax SO2','SO2 Units','SO2 AQI','DMax CO','CO Units','CO AQI']\n",
    "\n"
   ]
  },
  {
   "cell_type": "code",
   "execution_count": null,
   "id": "b6366be4",
   "metadata": {},
   "outputs": [],
   "source": [
    "Cheyenne_2020_All.columns\n"
   ]
  },
  {
   "cell_type": "code",
   "execution_count": null,
   "id": "13277140",
   "metadata": {},
   "outputs": [],
   "source": [
    "Cheyenne_2020_All.drop('Merged',axis=1,inplace=True)\n",
    "Cheyenne_2020_All.to_csv(\"CH2020DF.csv\")\n"
   ]
  }
 ],
 "metadata": {
  "kernelspec": {
   "display_name": "Python [conda env:.conda-Machine_Learning]",
   "language": "python",
   "name": "conda-env-.conda-Machine_Learning-py"
  },
  "language_info": {
   "codemirror_mode": {
    "name": "ipython",
    "version": 3
   },
   "file_extension": ".py",
   "mimetype": "text/x-python",
   "name": "python",
   "nbconvert_exporter": "python",
   "pygments_lexer": "ipython3",
   "version": "3.8.10"
  },
  "widgets": {
   "application/vnd.jupyter.widget-state+json": {
    "state": {},
    "version_major": 2,
    "version_minor": 0
   }
  }
 },
 "nbformat": 4,
 "nbformat_minor": 5
}

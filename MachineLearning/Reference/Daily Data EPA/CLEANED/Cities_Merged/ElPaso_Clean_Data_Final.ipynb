{
 "cells": [
  {
   "cell_type": "code",
   "execution_count": 1,
   "id": "51d717ff",
   "metadata": {},
   "outputs": [],
   "source": [
    "import pandas as pd\n",
    "import io\n",
    "from io import StringIO "
   ]
  },
  {
   "cell_type": "markdown",
   "id": "b0f9cc3d",
   "metadata": {},
   "source": [
    "READ THE CSV AND PERFORM BASIC DATA CLEANING"
   ]
  },
  {
   "cell_type": "code",
   "execution_count": 5,
   "id": "4c21d46b",
   "metadata": {},
   "outputs": [
    {
     "name": "stdout",
     "output_type": "stream",
     "text": [
      "      Unnamed: 0    Site Name        Date  DMean PM10 PM10 Units  PM10 AQI  \\\n",
      "0              0      Ivanhoe  10/27/2016        16.0   ug/m3 SC      15.0   \n",
      "1              1      Ivanhoe   11/2/2016        13.0   ug/m3 SC      12.0   \n",
      "2              2      Ivanhoe   11/8/2016         7.0   ug/m3 SC       6.0   \n",
      "3              3      Ivanhoe  11/14/2016        25.0   ug/m3 SC      23.0   \n",
      "4              4      Ivanhoe  11/20/2016        18.0   ug/m3 SC      17.0   \n",
      "...          ...          ...         ...         ...        ...       ...   \n",
      "2571        2571  Ojo De Agua  12/25/2016         NaN        NaN       NaN   \n",
      "2572        2572  Ojo De Agua  12/27/2016         NaN        NaN       NaN   \n",
      "2573        2573  Ojo De Agua  12/28/2016         NaN        NaN       NaN   \n",
      "2574        2574  Ojo De Agua  12/29/2016         NaN        NaN       NaN   \n",
      "2575        2575  Ojo De Agua  12/30/2016         NaN        NaN       NaN   \n",
      "\n",
      "            Lat         Lng  DMax NO2 NO2 Units  NO2 AQI  DMax Ozone  \\\n",
      "0     31.785769 -106.323578       NaN       NaN      NaN       0.038   \n",
      "1     31.785769 -106.323578       NaN       NaN      NaN       0.024   \n",
      "2     31.785769 -106.323578       NaN       NaN      NaN       0.036   \n",
      "3     31.785769 -106.323578       NaN       NaN      NaN       0.038   \n",
      "4     31.785769 -106.323578       NaN       NaN      NaN       0.032   \n",
      "...         ...         ...       ...       ...      ...         ...   \n",
      "2571        NaN         NaN       NaN       NaN      NaN         NaN   \n",
      "2572        NaN         NaN       NaN       NaN      NaN         NaN   \n",
      "2573        NaN         NaN       NaN       NaN      NaN         NaN   \n",
      "2574        NaN         NaN       NaN       NaN      NaN         NaN   \n",
      "2575        NaN         NaN       NaN       NaN      NaN         NaN   \n",
      "\n",
      "     Ozone Units  Ozone AQI  DMax SO2 SO2 Units  SO2 AQI  DMax CO CO Units  \\\n",
      "0            ppm       35.0       NaN       NaN      NaN      NaN      NaN   \n",
      "1            ppm       22.0       NaN       NaN      NaN      NaN      NaN   \n",
      "2            ppm       33.0       NaN       NaN      NaN      NaN      NaN   \n",
      "3            ppm       35.0       NaN       NaN      NaN      NaN      NaN   \n",
      "4            ppm       30.0       NaN       NaN      NaN      NaN      NaN   \n",
      "...          ...        ...       ...       ...      ...      ...      ...   \n",
      "2571         NaN        NaN       NaN       NaN      NaN      0.2      ppm   \n",
      "2572         NaN        NaN       NaN       NaN      NaN      0.3      ppm   \n",
      "2573         NaN        NaN       NaN       NaN      NaN      0.3      ppm   \n",
      "2574         NaN        NaN       NaN       NaN      NaN      0.3      ppm   \n",
      "2575         NaN        NaN       NaN       NaN      NaN      0.2      ppm   \n",
      "\n",
      "      CO AQI  \n",
      "0        NaN  \n",
      "1        NaN  \n",
      "2        NaN  \n",
      "3        NaN  \n",
      "4        NaN  \n",
      "...      ...  \n",
      "2571     2.0  \n",
      "2572     3.0  \n",
      "2573     3.0  \n",
      "2574     3.0  \n",
      "2575     2.0  \n",
      "\n",
      "[2576 rows x 20 columns]\n",
      "Unnamed: 0     2576\n",
      "Site Name      2576\n",
      "Date           2576\n",
      "DMean PM10      152\n",
      "PM10 Units      152\n",
      "PM10 AQI        152\n",
      "Lat             152\n",
      "Lng             152\n",
      "DMax NO2        972\n",
      "NO2 Units       972\n",
      "NO2 AQI         972\n",
      "DMax Ozone     2179\n",
      "Ozone Units    2179\n",
      "Ozone AQI      2179\n",
      "DMax SO2        874\n",
      "SO2 Units       874\n",
      "SO2 AQI         874\n",
      "DMax CO         873\n",
      "CO Units        873\n",
      "CO AQI          873\n",
      "dtype: int64\n",
      "['Ivanhoe' 'El Paso Mimosa' 'Socorro Hueco' 'Van Buren' 'Ojo De Agua'\n",
      " 'El Paso UTEP' 'El Paso Chamizal' 'Ascarate Park SE' 'Skyline Park']\n"
     ]
    }
   ],
   "source": [
    "df_01 = pd.read_csv(\"Metro/SE/SE2016DF.csv\")\n",
    "#print(df_01.count())\n",
    "print(df_01)\n",
    "#drop the null rows\n",
    "#df_01 = df_01.dropna()\n",
    "print(df_01.count())\n",
    "print(df_01['Site Name'].unique())"
   ]
  },
  {
   "cell_type": "code",
   "execution_count": null,
   "id": "dc0cef85",
   "metadata": {},
   "outputs": [],
   "source": [
    "#print(df_01.head())\n",
    "#pd.read_csv(io.StringIO(df_01.to_csv(index=False)))\n",
    "test_df=df_01.iloc[:,1:]\n",
    "test_df"
   ]
  },
  {
   "cell_type": "code",
   "execution_count": null,
   "id": "e7dcf108",
   "metadata": {},
   "outputs": [],
   "source": [
    "df_02 = pd.read_csv(\"Ch2018DF.csv\")\n",
    "#print(df_02.count())\n",
    "#drop the null rows\n",
    "df_02 = df_02.dropna()\n",
    "#print(df_02['Site Name'].unique())"
   ]
  },
  {
   "cell_type": "code",
   "execution_count": null,
   "id": "9b6faf5c",
   "metadata": {},
   "outputs": [],
   "source": [
    "#print(df_02.head())\n",
    "#pd.read_csv(io.StringIO(df_01.to_csv(index=False)))\n",
    "test2_df=df_02.iloc[:,1:]\n",
    "test2_df"
   ]
  },
  {
   "cell_type": "code",
   "execution_count": null,
   "id": "0322eca2",
   "metadata": {},
   "outputs": [],
   "source": [
    "df_03 = pd.read_csv(\"Ch2020DF.csv\")\n",
    "#print(df_01.count())\n",
    "#drop the null rows\n",
    "df_03 = df_03.dropna()\n",
    "print(df_03['Site Name'].unique())"
   ]
  },
  {
   "cell_type": "code",
   "execution_count": null,
   "id": "c201763e",
   "metadata": {
    "scrolled": true
   },
   "outputs": [],
   "source": [
    "#print(df_03.head())\n",
    "#pd.read_csv(io.StringIO(df_01.to_csv(index=False)))\n",
    "test3_df=df_03.iloc[:,1:]\n",
    "test3_df"
   ]
  },
  {
   "cell_type": "code",
   "execution_count": null,
   "id": "a49ed39f",
   "metadata": {},
   "outputs": [],
   "source": [
    "AllData=pd.DataFrame()\n",
    "AllData=AllData.append(test_df)\n"
   ]
  },
  {
   "cell_type": "code",
   "execution_count": null,
   "id": "129512fd",
   "metadata": {},
   "outputs": [],
   "source": [
    "AllData=AllData.append(test2_df)"
   ]
  },
  {
   "cell_type": "code",
   "execution_count": null,
   "id": "4cdf914e",
   "metadata": {},
   "outputs": [],
   "source": [
    "AllData=AllData.append(test3_df)"
   ]
  },
  {
   "cell_type": "code",
   "execution_count": null,
   "id": "1d6dcae7",
   "metadata": {},
   "outputs": [],
   "source": [
    "AllData.to_csv(\"CHMerged.csv\")"
   ]
  },
  {
   "cell_type": "code",
   "execution_count": null,
   "id": "adcaf842",
   "metadata": {},
   "outputs": [],
   "source": [
    "AllData"
   ]
  },
  {
   "cell_type": "code",
   "execution_count": null,
   "id": "25a95dbe",
   "metadata": {},
   "outputs": [],
   "source": []
  }
 ],
 "metadata": {
  "kernelspec": {
   "display_name": "Python [conda env:.conda-Machine_Learning]",
   "language": "python",
   "name": "conda-env-.conda-Machine_Learning-py"
  },
  "language_info": {
   "codemirror_mode": {
    "name": "ipython",
    "version": 3
   },
   "file_extension": ".py",
   "mimetype": "text/x-python",
   "name": "python",
   "nbconvert_exporter": "python",
   "pygments_lexer": "ipython3",
   "version": "3.8.10"
  },
  "widgets": {
   "application/vnd.jupyter.widget-state+json": {
    "state": {},
    "version_major": 2,
    "version_minor": 0
   }
  }
 },
 "nbformat": 4,
 "nbformat_minor": 5
}

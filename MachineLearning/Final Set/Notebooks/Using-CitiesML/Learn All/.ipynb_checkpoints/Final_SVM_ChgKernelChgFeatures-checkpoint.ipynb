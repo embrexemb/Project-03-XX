{
 "cells": [
  {
   "cell_type": "code",
   "execution_count": 2,
   "metadata": {},
   "outputs": [],
   "source": [
    "# Import dependencies\n",
    "import pandas as pd\n",
    "\n",
    "# Hide warning messages in notebook\n",
    "import warnings\n",
    "warnings.filterwarnings('ignore')"
   ]
  },
  {
   "cell_type": "markdown",
   "metadata": {},
   "source": [
    "# Read the CSV and Perform Basic Data Cleaning"
   ]
  },
  {
   "cell_type": "code",
   "execution_count": 3,
   "metadata": {},
   "outputs": [
    {
     "data": {
      "text/html": [
       "<div>\n",
       "<style scoped>\n",
       "    .dataframe tbody tr th:only-of-type {\n",
       "        vertical-align: middle;\n",
       "    }\n",
       "\n",
       "    .dataframe tbody tr th {\n",
       "        vertical-align: top;\n",
       "    }\n",
       "\n",
       "    .dataframe thead th {\n",
       "        text-align: right;\n",
       "    }\n",
       "</style>\n",
       "<table border=\"1\" class=\"dataframe\">\n",
       "  <thead>\n",
       "    <tr style=\"text-align: right;\">\n",
       "      <th></th>\n",
       "      <th>Day-Result</th>\n",
       "      <th>D-AQI</th>\n",
       "      <th>PM10 AQI</th>\n",
       "      <th>NO2 AQI</th>\n",
       "      <th>Ozone AQI</th>\n",
       "      <th>SO2 AQI</th>\n",
       "      <th>CO AQI</th>\n",
       "      <th>PM-WEIGHT</th>\n",
       "      <th>DMax NO2</th>\n",
       "      <th>NO2-WEIGHT</th>\n",
       "      <th>...</th>\n",
       "      <th>SO2-WEIGHT</th>\n",
       "      <th>DMax CO</th>\n",
       "      <th>CO-WEIGHT</th>\n",
       "      <th>Year</th>\n",
       "      <th>Month</th>\n",
       "      <th>Day</th>\n",
       "      <th>Site Name</th>\n",
       "      <th>Lat</th>\n",
       "      <th>Lng</th>\n",
       "      <th>Date</th>\n",
       "    </tr>\n",
       "  </thead>\n",
       "  <tbody>\n",
       "    <tr>\n",
       "      <th>0</th>\n",
       "      <td>Good</td>\n",
       "      <td>44</td>\n",
       "      <td>6</td>\n",
       "      <td>12</td>\n",
       "      <td>44</td>\n",
       "      <td>0</td>\n",
       "      <td>1</td>\n",
       "      <td>1</td>\n",
       "      <td>13.6</td>\n",
       "      <td>24</td>\n",
       "      <td>...</td>\n",
       "      <td>24</td>\n",
       "      <td>0.1</td>\n",
       "      <td>24</td>\n",
       "      <td>2016</td>\n",
       "      <td>1</td>\n",
       "      <td>2</td>\n",
       "      <td>Cheyenne NCore</td>\n",
       "      <td>41.182227</td>\n",
       "      <td>-104.778334</td>\n",
       "      <td>1/2/2016</td>\n",
       "    </tr>\n",
       "    <tr>\n",
       "      <th>1</th>\n",
       "      <td>Good</td>\n",
       "      <td>38</td>\n",
       "      <td>8</td>\n",
       "      <td>34</td>\n",
       "      <td>38</td>\n",
       "      <td>0</td>\n",
       "      <td>2</td>\n",
       "      <td>1</td>\n",
       "      <td>36.0</td>\n",
       "      <td>22</td>\n",
       "      <td>...</td>\n",
       "      <td>21</td>\n",
       "      <td>0.2</td>\n",
       "      <td>24</td>\n",
       "      <td>2016</td>\n",
       "      <td>1</td>\n",
       "      <td>3</td>\n",
       "      <td>Cheyenne NCore</td>\n",
       "      <td>41.182227</td>\n",
       "      <td>-104.778334</td>\n",
       "      <td>1/3/2016</td>\n",
       "    </tr>\n",
       "    <tr>\n",
       "      <th>2</th>\n",
       "      <td>Good</td>\n",
       "      <td>37</td>\n",
       "      <td>13</td>\n",
       "      <td>37</td>\n",
       "      <td>32</td>\n",
       "      <td>1</td>\n",
       "      <td>2</td>\n",
       "      <td>1</td>\n",
       "      <td>39.5</td>\n",
       "      <td>24</td>\n",
       "      <td>...</td>\n",
       "      <td>24</td>\n",
       "      <td>0.2</td>\n",
       "      <td>24</td>\n",
       "      <td>2016</td>\n",
       "      <td>1</td>\n",
       "      <td>4</td>\n",
       "      <td>Cheyenne NCore</td>\n",
       "      <td>41.182227</td>\n",
       "      <td>-104.778334</td>\n",
       "      <td>1/4/2016</td>\n",
       "    </tr>\n",
       "    <tr>\n",
       "      <th>3</th>\n",
       "      <td>Good</td>\n",
       "      <td>37</td>\n",
       "      <td>7</td>\n",
       "      <td>10</td>\n",
       "      <td>37</td>\n",
       "      <td>0</td>\n",
       "      <td>2</td>\n",
       "      <td>1</td>\n",
       "      <td>11.3</td>\n",
       "      <td>23</td>\n",
       "      <td>...</td>\n",
       "      <td>22</td>\n",
       "      <td>0.2</td>\n",
       "      <td>24</td>\n",
       "      <td>2016</td>\n",
       "      <td>1</td>\n",
       "      <td>5</td>\n",
       "      <td>Cheyenne NCore</td>\n",
       "      <td>41.182227</td>\n",
       "      <td>-104.778334</td>\n",
       "      <td>1/5/2016</td>\n",
       "    </tr>\n",
       "    <tr>\n",
       "      <th>4</th>\n",
       "      <td>Good</td>\n",
       "      <td>36</td>\n",
       "      <td>7</td>\n",
       "      <td>24</td>\n",
       "      <td>36</td>\n",
       "      <td>0</td>\n",
       "      <td>2</td>\n",
       "      <td>1</td>\n",
       "      <td>25.4</td>\n",
       "      <td>24</td>\n",
       "      <td>...</td>\n",
       "      <td>24</td>\n",
       "      <td>0.2</td>\n",
       "      <td>24</td>\n",
       "      <td>2016</td>\n",
       "      <td>1</td>\n",
       "      <td>6</td>\n",
       "      <td>Cheyenne NCore</td>\n",
       "      <td>41.182227</td>\n",
       "      <td>-104.778334</td>\n",
       "      <td>1/6/2016</td>\n",
       "    </tr>\n",
       "  </tbody>\n",
       "</table>\n",
       "<p>5 rows × 23 columns</p>\n",
       "</div>"
      ],
      "text/plain": [
       "  Day-Result  D-AQI  PM10 AQI  NO2 AQI  Ozone AQI  SO2 AQI  CO AQI  PM-WEIGHT  \\\n",
       "0       Good     44         6       12         44        0       1          1   \n",
       "1       Good     38         8       34         38        0       2          1   \n",
       "2       Good     37        13       37         32        1       2          1   \n",
       "3       Good     37         7       10         37        0       2          1   \n",
       "4       Good     36         7       24         36        0       2          1   \n",
       "\n",
       "   DMax NO2  NO2-WEIGHT  ...  SO2-WEIGHT  DMax CO  CO-WEIGHT  Year  Month  \\\n",
       "0      13.6          24  ...          24      0.1         24  2016      1   \n",
       "1      36.0          22  ...          21      0.2         24  2016      1   \n",
       "2      39.5          24  ...          24      0.2         24  2016      1   \n",
       "3      11.3          23  ...          22      0.2         24  2016      1   \n",
       "4      25.4          24  ...          24      0.2         24  2016      1   \n",
       "\n",
       "   Day       Site Name        Lat         Lng      Date  \n",
       "0    2  Cheyenne NCore  41.182227 -104.778334  1/2/2016  \n",
       "1    3  Cheyenne NCore  41.182227 -104.778334  1/3/2016  \n",
       "2    4  Cheyenne NCore  41.182227 -104.778334  1/4/2016  \n",
       "3    5  Cheyenne NCore  41.182227 -104.778334  1/5/2016  \n",
       "4    6  Cheyenne NCore  41.182227 -104.778334  1/6/2016  \n",
       "\n",
       "[5 rows x 23 columns]"
      ]
     },
     "execution_count": 3,
     "metadata": {},
     "output_type": "execute_result"
    }
   ],
   "source": [
    "df = pd.read_csv(\"CHLearnTarget.csv\")\n",
    "# Drop the null columns where all values are null\n",
    "df = df.dropna(axis='columns', how='all')\n",
    "# Drop the null rows\n",
    "df = df.dropna()\n",
    "df.head()"
   ]
  },
  {
   "cell_type": "code",
   "execution_count": 4,
   "metadata": {},
   "outputs": [
    {
     "name": "stdout",
     "output_type": "stream",
     "text": [
      "['Good' 'Moderate Pollution']\n"
     ]
    }
   ],
   "source": [
    "print(df[\"Day-Result\"].unique())"
   ]
  },
  {
   "cell_type": "markdown",
   "metadata": {},
   "source": [
    "# Select your features (columns)"
   ]
  },
  {
   "cell_type": "code",
   "execution_count": 6,
   "metadata": {},
   "outputs": [
    {
     "name": "stdout",
     "output_type": "stream",
     "text": [
      "     D-AQI  PM10 AQI  NO2 AQI  Ozone AQI  SO2 AQI  CO AQI  PM-WEIGHT  \\\n",
      "0       44         6       12         44        0       1          1   \n",
      "1       38         8       34         38        0       2          1   \n",
      "2       37        13       37         32        1       2          1   \n",
      "3       37         7       10         37        0       2          1   \n",
      "4       36         7       24         36        0       2          1   \n",
      "..     ...       ...      ...        ...      ...     ...        ...   \n",
      "843     38         2       10         38        0       1          1   \n",
      "844     39         3        4         39        0       1          1   \n",
      "845     34         1        2         34        0       1          1   \n",
      "846     29         4        9         29        0       1          1   \n",
      "847     41         4       14         41        0       1          1   \n",
      "\n",
      "     DMax NO2  NO2-WEIGHT  DMax Ozone  OZONE-WEIGHT  DMax SO2  SO2-WEIGHT  \\\n",
      "0        13.6          24       0.047            17      -0.2          24   \n",
      "1        36.0          22       0.041            17       0.5          21   \n",
      "2        39.5          24       0.035            17       1.2          24   \n",
      "3        11.3          23       0.040            17       0.1          22   \n",
      "4        25.4          24       0.039            17       0.3          24   \n",
      "..        ...         ...         ...           ...       ...         ...   \n",
      "843      11.9          23       0.041            17       0.1          23   \n",
      "844       4.2          24       0.042            17       0.3          24   \n",
      "845       2.3          24       0.037            17       0.2          24   \n",
      "846      10.3          22       0.031            17       0.2          21   \n",
      "847      15.1          24       0.044            17       0.2          24   \n",
      "\n",
      "     DMax CO  CO-WEIGHT  Year  Month  Day  \n",
      "0        0.1         24  2016      1    2  \n",
      "1        0.2         24  2016      1    3  \n",
      "2        0.2         24  2016      1    4  \n",
      "3        0.2         24  2016      1    5  \n",
      "4        0.2         24  2016      1    6  \n",
      "..       ...        ...   ...    ...  ...  \n",
      "843      0.1         24  2020     12   25  \n",
      "844      0.1         24  2020     12   26  \n",
      "845      0.1         24  2020     12   27  \n",
      "846      0.1         24  2020     12   28  \n",
      "847      0.1         24  2020     12   30  \n",
      "\n",
      "[848 rows x 18 columns]\n"
     ]
    }
   ],
   "source": [
    "# Set X equal to the entire data set, except for the first column\n",
    "X = df.iloc[:,1:19]\n",
    "print(X)\n",
    "# Set y equal to the first column\n",
    "y = df.iloc[:,0]"
   ]
  },
  {
   "cell_type": "code",
   "execution_count": 7,
   "metadata": {},
   "outputs": [
    {
     "data": {
      "text/plain": [
       "array([1., 0., 0., 0., 0., 0., 0., 0., 0., 0., 0., 0., 0., 0., 0., 0., 0.,\n",
       "       0.])"
      ]
     },
     "execution_count": 7,
     "metadata": {},
     "output_type": "execute_result"
    }
   ],
   "source": [
    "# Search for top 10 features according to feature importances\n",
    "from sklearn.ensemble import GradientBoostingClassifier\n",
    "\n",
    "model = GradientBoostingClassifier(n_estimators=250,learning_rate=1.0,max_depth=1,random_state=0)\n",
    "model.fit(X,y)\n",
    "model.feature_importances_"
   ]
  },
  {
   "cell_type": "code",
   "execution_count": 8,
   "metadata": {},
   "outputs": [
    {
     "data": {
      "text/plain": [
       "D-AQI         1.0\n",
       "PM10 AQI      0.0\n",
       "NO2 AQI       0.0\n",
       "Ozone AQI     0.0\n",
       "SO2 AQI       0.0\n",
       "CO AQI        0.0\n",
       "PM-WEIGHT     0.0\n",
       "DMax NO2      0.0\n",
       "NO2-WEIGHT    0.0\n",
       "DMax Ozone    0.0\n",
       "dtype: float64"
      ]
     },
     "execution_count": 8,
     "metadata": {},
     "output_type": "execute_result"
    }
   ],
   "source": [
    "# Store the top 10 features as a series, using the column headers as the index\n",
    "feat_imp = pd.Series(model.feature_importances_, index=X.columns).nlargest(10)\n",
    "feat_imp"
   ]
  },
  {
   "cell_type": "code",
   "execution_count": 10,
   "metadata": {},
   "outputs": [],
   "source": [
    "# Set features based on feature importances\n",
    "X = df[feat_imp.index]\n",
    "\n",
    "# Use koi_disposition for y values\n",
    "y = df['Day-Result']"
   ]
  },
  {
   "cell_type": "markdown",
   "metadata": {},
   "source": [
    "# Create a Train Test Split\n",
    "\n",
    "Use `Day-Result` for the y values"
   ]
  },
  {
   "cell_type": "code",
   "execution_count": 11,
   "metadata": {},
   "outputs": [],
   "source": [
    "from sklearn.model_selection import train_test_split\n",
    "#X_train, X_test, y_train, y_test = train_test_split(X, y, stratify=y)\n",
    "X_train, X_test, y_train, y_test = train_test_split(X, y, test_size=.33, random_state=42)"
   ]
  },
  {
   "cell_type": "code",
   "execution_count": 12,
   "metadata": {},
   "outputs": [
    {
     "data": {
      "text/html": [
       "<div>\n",
       "<style scoped>\n",
       "    .dataframe tbody tr th:only-of-type {\n",
       "        vertical-align: middle;\n",
       "    }\n",
       "\n",
       "    .dataframe tbody tr th {\n",
       "        vertical-align: top;\n",
       "    }\n",
       "\n",
       "    .dataframe thead th {\n",
       "        text-align: right;\n",
       "    }\n",
       "</style>\n",
       "<table border=\"1\" class=\"dataframe\">\n",
       "  <thead>\n",
       "    <tr style=\"text-align: right;\">\n",
       "      <th></th>\n",
       "      <th>D-AQI</th>\n",
       "      <th>PM10 AQI</th>\n",
       "      <th>NO2 AQI</th>\n",
       "      <th>Ozone AQI</th>\n",
       "      <th>SO2 AQI</th>\n",
       "      <th>CO AQI</th>\n",
       "      <th>PM-WEIGHT</th>\n",
       "      <th>DMax NO2</th>\n",
       "      <th>NO2-WEIGHT</th>\n",
       "      <th>DMax Ozone</th>\n",
       "    </tr>\n",
       "  </thead>\n",
       "  <tbody>\n",
       "    <tr>\n",
       "      <th>286</th>\n",
       "      <td>41</td>\n",
       "      <td>4</td>\n",
       "      <td>2</td>\n",
       "      <td>41</td>\n",
       "      <td>0</td>\n",
       "      <td>1</td>\n",
       "      <td>1</td>\n",
       "      <td>2.8</td>\n",
       "      <td>23</td>\n",
       "      <td>0.044</td>\n",
       "    </tr>\n",
       "    <tr>\n",
       "      <th>311</th>\n",
       "      <td>38</td>\n",
       "      <td>4</td>\n",
       "      <td>2</td>\n",
       "      <td>38</td>\n",
       "      <td>0</td>\n",
       "      <td>2</td>\n",
       "      <td>1</td>\n",
       "      <td>2.8</td>\n",
       "      <td>23</td>\n",
       "      <td>0.041</td>\n",
       "    </tr>\n",
       "    <tr>\n",
       "      <th>544</th>\n",
       "      <td>39</td>\n",
       "      <td>7</td>\n",
       "      <td>9</td>\n",
       "      <td>39</td>\n",
       "      <td>0</td>\n",
       "      <td>2</td>\n",
       "      <td>1</td>\n",
       "      <td>10.7</td>\n",
       "      <td>21</td>\n",
       "      <td>0.042</td>\n",
       "    </tr>\n",
       "    <tr>\n",
       "      <th>24</th>\n",
       "      <td>40</td>\n",
       "      <td>5</td>\n",
       "      <td>8</td>\n",
       "      <td>40</td>\n",
       "      <td>0</td>\n",
       "      <td>1</td>\n",
       "      <td>1</td>\n",
       "      <td>9.0</td>\n",
       "      <td>24</td>\n",
       "      <td>0.043</td>\n",
       "    </tr>\n",
       "    <tr>\n",
       "      <th>746</th>\n",
       "      <td>57</td>\n",
       "      <td>57</td>\n",
       "      <td>8</td>\n",
       "      <td>48</td>\n",
       "      <td>3</td>\n",
       "      <td>1</td>\n",
       "      <td>1</td>\n",
       "      <td>9.9</td>\n",
       "      <td>24</td>\n",
       "      <td>0.052</td>\n",
       "    </tr>\n",
       "  </tbody>\n",
       "</table>\n",
       "</div>"
      ],
      "text/plain": [
       "     D-AQI  PM10 AQI  NO2 AQI  Ozone AQI  SO2 AQI  CO AQI  PM-WEIGHT  \\\n",
       "286     41         4        2         41        0       1          1   \n",
       "311     38         4        2         38        0       2          1   \n",
       "544     39         7        9         39        0       2          1   \n",
       "24      40         5        8         40        0       1          1   \n",
       "746     57        57        8         48        3       1          1   \n",
       "\n",
       "     DMax NO2  NO2-WEIGHT  DMax Ozone  \n",
       "286       2.8          23       0.044  \n",
       "311       2.8          23       0.041  \n",
       "544      10.7          21       0.042  \n",
       "24        9.0          24       0.043  \n",
       "746       9.9          24       0.052  "
      ]
     },
     "execution_count": 12,
     "metadata": {},
     "output_type": "execute_result"
    }
   ],
   "source": [
    "X_train.head()"
   ]
  },
  {
   "cell_type": "markdown",
   "metadata": {},
   "source": [
    "# Pre-processing\n",
    "\n",
    "Scale the data using the MinMaxScaler and perform some feature selection"
   ]
  },
  {
   "cell_type": "code",
   "execution_count": 13,
   "metadata": {},
   "outputs": [],
   "source": [
    "# Scale your data\n",
    "from sklearn.preprocessing import MinMaxScaler\n",
    "\n",
    "# Create scaler object\n",
    "X_scaler = MinMaxScaler().fit(X_train)\n",
    "\n",
    "# Scale training and testing data\n",
    "X_train_scaled = X_scaler.transform(X_train)\n",
    "X_test_scaled = X_scaler.transform(X_test)"
   ]
  },
  {
   "cell_type": "markdown",
   "metadata": {},
   "source": [
    "# Train the Model\n",
    "\n"
   ]
  },
  {
   "cell_type": "code",
   "execution_count": 14,
   "metadata": {},
   "outputs": [
    {
     "data": {
      "text/plain": [
       "SVC(kernel='poly')"
      ]
     },
     "execution_count": 14,
     "metadata": {},
     "output_type": "execute_result"
    }
   ],
   "source": [
    "from sklearn.svm import SVC\n",
    "\n",
    "# Initialize model\n",
    "model = SVC(kernel='poly')\n",
    "\n",
    "# Train the model\n",
    "model.fit(X_train_scaled, y_train)"
   ]
  },
  {
   "cell_type": "code",
   "execution_count": 15,
   "metadata": {},
   "outputs": [
    {
     "name": "stdout",
     "output_type": "stream",
     "text": [
      "Training Data Score: 0.9911971830985915\n",
      "Testing Data Score: 0.9821428571428571\n"
     ]
    }
   ],
   "source": [
    "print(f\"Training Data Score: {model.score(X_train_scaled, y_train)}\")\n",
    "print(f\"Testing Data Score: {model.score(X_test_scaled, y_test)}\")"
   ]
  },
  {
   "cell_type": "markdown",
   "metadata": {},
   "source": [
    "# Hyperparameter Tuning\n",
    "\n",
    "Use `GridSearchCV` to tune the model's parameters"
   ]
  },
  {
   "cell_type": "code",
   "execution_count": 16,
   "metadata": {},
   "outputs": [],
   "source": [
    "# Create the GridSearchCV model\n",
    "from sklearn.model_selection import GridSearchCV\n",
    "\n",
    "# Create the GridSearchCV model\n",
    "param_grid = [{'C':[1, 5, 10, 50,100], 'kernel':['poly']},\n",
    "             {'C':[1, 5, 10, 50], 'kernel':['rbf'], 'gamma': [0.0001, 0.0005, 0.001, 0.005]}]\n",
    "\n",
    "grid = GridSearchCV(model, param_grid, verbose=3)"
   ]
  },
  {
   "cell_type": "code",
   "execution_count": 17,
   "metadata": {},
   "outputs": [
    {
     "name": "stdout",
     "output_type": "stream",
     "text": [
      "Fitting 5 folds for each of 21 candidates, totalling 105 fits\n",
      "[CV 1/5] END ..................C=1, kernel=poly;, score=0.982 total time=   0.0s\n",
      "[CV 2/5] END ..................C=1, kernel=poly;, score=0.991 total time=   0.0s\n",
      "[CV 3/5] END ..................C=1, kernel=poly;, score=0.991 total time=   0.0s\n",
      "[CV 4/5] END ..................C=1, kernel=poly;, score=0.991 total time=   0.0s\n",
      "[CV 5/5] END ..................C=1, kernel=poly;, score=0.982 total time=   0.0s\n",
      "[CV 1/5] END ..................C=5, kernel=poly;, score=0.982 total time=   0.0s\n",
      "[CV 2/5] END ..................C=5, kernel=poly;, score=0.991 total time=   0.0s\n",
      "[CV 3/5] END ..................C=5, kernel=poly;, score=0.991 total time=   0.0s\n",
      "[CV 4/5] END ..................C=5, kernel=poly;, score=0.991 total time=   0.0s\n",
      "[CV 5/5] END ..................C=5, kernel=poly;, score=0.982 total time=   0.0s\n",
      "[CV 1/5] END .................C=10, kernel=poly;, score=0.982 total time=   0.0s\n",
      "[CV 2/5] END .................C=10, kernel=poly;, score=0.991 total time=   0.0s\n",
      "[CV 3/5] END .................C=10, kernel=poly;, score=0.991 total time=   0.0s\n",
      "[CV 4/5] END .................C=10, kernel=poly;, score=0.991 total time=   0.0s\n",
      "[CV 5/5] END .................C=10, kernel=poly;, score=0.982 total time=   0.0s\n",
      "[CV 1/5] END .................C=50, kernel=poly;, score=0.982 total time=   0.0s\n",
      "[CV 2/5] END .................C=50, kernel=poly;, score=1.000 total time=   0.0s\n",
      "[CV 3/5] END .................C=50, kernel=poly;, score=1.000 total time=   0.0s\n",
      "[CV 4/5] END .................C=50, kernel=poly;, score=0.991 total time=   0.0s\n",
      "[CV 5/5] END .................C=50, kernel=poly;, score=0.991 total time=   0.0s\n",
      "[CV 1/5] END ................C=100, kernel=poly;, score=0.982 total time=   0.0s\n",
      "[CV 2/5] END ................C=100, kernel=poly;, score=1.000 total time=   0.0s\n",
      "[CV 3/5] END ................C=100, kernel=poly;, score=1.000 total time=   0.0s\n",
      "[CV 4/5] END ................C=100, kernel=poly;, score=0.991 total time=   0.0s\n",
      "[CV 5/5] END ................C=100, kernel=poly;, score=1.000 total time=   0.0s\n",
      "[CV 1/5] END .....C=1, gamma=0.0001, kernel=rbf;, score=0.895 total time=   0.0s\n",
      "[CV 2/5] END .....C=1, gamma=0.0001, kernel=rbf;, score=0.895 total time=   0.0s\n",
      "[CV 3/5] END .....C=1, gamma=0.0001, kernel=rbf;, score=0.895 total time=   0.0s\n",
      "[CV 4/5] END .....C=1, gamma=0.0001, kernel=rbf;, score=0.903 total time=   0.0s\n",
      "[CV 5/5] END .....C=1, gamma=0.0001, kernel=rbf;, score=0.894 total time=   0.0s\n",
      "[CV 1/5] END .....C=1, gamma=0.0005, kernel=rbf;, score=0.895 total time=   0.0s\n",
      "[CV 2/5] END .....C=1, gamma=0.0005, kernel=rbf;, score=0.895 total time=   0.0s\n",
      "[CV 3/5] END .....C=1, gamma=0.0005, kernel=rbf;, score=0.895 total time=   0.0s\n",
      "[CV 4/5] END .....C=1, gamma=0.0005, kernel=rbf;, score=0.903 total time=   0.0s\n",
      "[CV 5/5] END .....C=1, gamma=0.0005, kernel=rbf;, score=0.894 total time=   0.0s\n",
      "[CV 1/5] END ......C=1, gamma=0.001, kernel=rbf;, score=0.895 total time=   0.0s\n",
      "[CV 2/5] END ......C=1, gamma=0.001, kernel=rbf;, score=0.895 total time=   0.0s\n",
      "[CV 3/5] END ......C=1, gamma=0.001, kernel=rbf;, score=0.895 total time=   0.0s\n",
      "[CV 4/5] END ......C=1, gamma=0.001, kernel=rbf;, score=0.903 total time=   0.0s\n",
      "[CV 5/5] END ......C=1, gamma=0.001, kernel=rbf;, score=0.894 total time=   0.0s\n",
      "[CV 1/5] END ......C=1, gamma=0.005, kernel=rbf;, score=0.895 total time=   0.0s\n",
      "[CV 2/5] END ......C=1, gamma=0.005, kernel=rbf;, score=0.895 total time=   0.0s\n",
      "[CV 3/5] END ......C=1, gamma=0.005, kernel=rbf;, score=0.895 total time=   0.0s\n",
      "[CV 4/5] END ......C=1, gamma=0.005, kernel=rbf;, score=0.903 total time=   0.0s\n",
      "[CV 5/5] END ......C=1, gamma=0.005, kernel=rbf;, score=0.894 total time=   0.0s\n",
      "[CV 1/5] END .....C=5, gamma=0.0001, kernel=rbf;, score=0.895 total time=   0.0s\n",
      "[CV 2/5] END .....C=5, gamma=0.0001, kernel=rbf;, score=0.895 total time=   0.0s\n",
      "[CV 3/5] END .....C=5, gamma=0.0001, kernel=rbf;, score=0.895 total time=   0.0s\n",
      "[CV 4/5] END .....C=5, gamma=0.0001, kernel=rbf;, score=0.903 total time=   0.0s\n",
      "[CV 5/5] END .....C=5, gamma=0.0001, kernel=rbf;, score=0.894 total time=   0.0s\n",
      "[CV 1/5] END .....C=5, gamma=0.0005, kernel=rbf;, score=0.895 total time=   0.0s\n",
      "[CV 2/5] END .....C=5, gamma=0.0005, kernel=rbf;, score=0.895 total time=   0.0s\n",
      "[CV 3/5] END .....C=5, gamma=0.0005, kernel=rbf;, score=0.895 total time=   0.0s\n",
      "[CV 4/5] END .....C=5, gamma=0.0005, kernel=rbf;, score=0.903 total time=   0.0s\n",
      "[CV 5/5] END .....C=5, gamma=0.0005, kernel=rbf;, score=0.894 total time=   0.0s\n",
      "[CV 1/5] END ......C=5, gamma=0.001, kernel=rbf;, score=0.895 total time=   0.0s\n",
      "[CV 2/5] END ......C=5, gamma=0.001, kernel=rbf;, score=0.895 total time=   0.0s\n",
      "[CV 3/5] END ......C=5, gamma=0.001, kernel=rbf;, score=0.895 total time=   0.0s\n",
      "[CV 4/5] END ......C=5, gamma=0.001, kernel=rbf;, score=0.903 total time=   0.0s\n",
      "[CV 5/5] END ......C=5, gamma=0.001, kernel=rbf;, score=0.894 total time=   0.0s\n",
      "[CV 1/5] END ......C=5, gamma=0.005, kernel=rbf;, score=0.895 total time=   0.0s\n",
      "[CV 2/5] END ......C=5, gamma=0.005, kernel=rbf;, score=0.895 total time=   0.0s\n",
      "[CV 3/5] END ......C=5, gamma=0.005, kernel=rbf;, score=0.895 total time=   0.0s\n",
      "[CV 4/5] END ......C=5, gamma=0.005, kernel=rbf;, score=0.903 total time=   0.0s\n",
      "[CV 5/5] END ......C=5, gamma=0.005, kernel=rbf;, score=0.894 total time=   0.0s\n",
      "[CV 1/5] END ....C=10, gamma=0.0001, kernel=rbf;, score=0.895 total time=   0.0s\n",
      "[CV 2/5] END ....C=10, gamma=0.0001, kernel=rbf;, score=0.895 total time=   0.0s\n",
      "[CV 3/5] END ....C=10, gamma=0.0001, kernel=rbf;, score=0.895 total time=   0.0s\n",
      "[CV 4/5] END ....C=10, gamma=0.0001, kernel=rbf;, score=0.903 total time=   0.0s\n",
      "[CV 5/5] END ....C=10, gamma=0.0001, kernel=rbf;, score=0.894 total time=   0.0s\n",
      "[CV 1/5] END ....C=10, gamma=0.0005, kernel=rbf;, score=0.895 total time=   0.0s\n",
      "[CV 2/5] END ....C=10, gamma=0.0005, kernel=rbf;, score=0.895 total time=   0.0s\n",
      "[CV 3/5] END ....C=10, gamma=0.0005, kernel=rbf;, score=0.895 total time=   0.0s\n",
      "[CV 4/5] END ....C=10, gamma=0.0005, kernel=rbf;, score=0.903 total time=   0.0s\n",
      "[CV 5/5] END ....C=10, gamma=0.0005, kernel=rbf;, score=0.894 total time=   0.0s\n",
      "[CV 1/5] END .....C=10, gamma=0.001, kernel=rbf;, score=0.895 total time=   0.0s\n",
      "[CV 2/5] END .....C=10, gamma=0.001, kernel=rbf;, score=0.895 total time=   0.0s\n",
      "[CV 3/5] END .....C=10, gamma=0.001, kernel=rbf;, score=0.895 total time=   0.0s\n",
      "[CV 4/5] END .....C=10, gamma=0.001, kernel=rbf;, score=0.903 total time=   0.0s\n",
      "[CV 5/5] END .....C=10, gamma=0.001, kernel=rbf;, score=0.894 total time=   0.0s\n",
      "[CV 1/5] END .....C=10, gamma=0.005, kernel=rbf;, score=0.895 total time=   0.0s\n",
      "[CV 2/5] END .....C=10, gamma=0.005, kernel=rbf;, score=0.912 total time=   0.0s\n",
      "[CV 3/5] END .....C=10, gamma=0.005, kernel=rbf;, score=0.912 total time=   0.0s\n",
      "[CV 4/5] END .....C=10, gamma=0.005, kernel=rbf;, score=0.920 total time=   0.0s\n",
      "[CV 5/5] END .....C=10, gamma=0.005, kernel=rbf;, score=0.903 total time=   0.0s\n",
      "[CV 1/5] END ....C=50, gamma=0.0001, kernel=rbf;, score=0.895 total time=   0.0s\n",
      "[CV 2/5] END ....C=50, gamma=0.0001, kernel=rbf;, score=0.895 total time=   0.0s\n",
      "[CV 3/5] END ....C=50, gamma=0.0001, kernel=rbf;, score=0.895 total time=   0.0s\n",
      "[CV 4/5] END ....C=50, gamma=0.0001, kernel=rbf;, score=0.903 total time=   0.0s\n",
      "[CV 5/5] END ....C=50, gamma=0.0001, kernel=rbf;, score=0.894 total time=   0.0s\n",
      "[CV 1/5] END ....C=50, gamma=0.0005, kernel=rbf;, score=0.895 total time=   0.0s\n",
      "[CV 2/5] END ....C=50, gamma=0.0005, kernel=rbf;, score=0.895 total time=   0.0s\n",
      "[CV 3/5] END ....C=50, gamma=0.0005, kernel=rbf;, score=0.895 total time=   0.0s\n",
      "[CV 4/5] END ....C=50, gamma=0.0005, kernel=rbf;, score=0.903 total time=   0.0s\n",
      "[CV 5/5] END ....C=50, gamma=0.0005, kernel=rbf;, score=0.894 total time=   0.0s\n",
      "[CV 1/5] END .....C=50, gamma=0.001, kernel=rbf;, score=0.895 total time=   0.0s\n",
      "[CV 2/5] END .....C=50, gamma=0.001, kernel=rbf;, score=0.912 total time=   0.0s\n",
      "[CV 3/5] END .....C=50, gamma=0.001, kernel=rbf;, score=0.912 total time=   0.0s\n",
      "[CV 4/5] END .....C=50, gamma=0.001, kernel=rbf;, score=0.920 total time=   0.0s\n",
      "[CV 5/5] END .....C=50, gamma=0.001, kernel=rbf;, score=0.903 total time=   0.0s\n",
      "[CV 1/5] END .....C=50, gamma=0.005, kernel=rbf;, score=0.956 total time=   0.0s\n",
      "[CV 2/5] END .....C=50, gamma=0.005, kernel=rbf;, score=0.974 total time=   0.0s\n",
      "[CV 3/5] END .....C=50, gamma=0.005, kernel=rbf;, score=0.956 total time=   0.0s\n",
      "[CV 4/5] END .....C=50, gamma=0.005, kernel=rbf;, score=0.973 total time=   0.0s\n",
      "[CV 5/5] END .....C=50, gamma=0.005, kernel=rbf;, score=0.947 total time=   0.0s\n"
     ]
    }
   ],
   "source": [
    "# Train the new model with GridSearch\n",
    "best_model = grid.fit(X_train_scaled, y_train)\n"
   ]
  },
  {
   "cell_type": "code",
   "execution_count": 18,
   "metadata": {},
   "outputs": [
    {
     "name": "stdout",
     "output_type": "stream",
     "text": [
      "{'C': 100, 'kernel': 'poly'}\n",
      "Best Score:  0.9947213165657507\n"
     ]
    }
   ],
   "source": [
    "print(best_model.best_params_)\n",
    "print(\"Best Score: \", best_model.best_score_)"
   ]
  },
  {
   "cell_type": "code",
   "execution_count": 19,
   "metadata": {},
   "outputs": [
    {
     "data": {
      "text/html": [
       "<div>\n",
       "<style scoped>\n",
       "    .dataframe tbody tr th:only-of-type {\n",
       "        vertical-align: middle;\n",
       "    }\n",
       "\n",
       "    .dataframe tbody tr th {\n",
       "        vertical-align: top;\n",
       "    }\n",
       "\n",
       "    .dataframe thead th {\n",
       "        text-align: right;\n",
       "    }\n",
       "</style>\n",
       "<table border=\"1\" class=\"dataframe\">\n",
       "  <thead>\n",
       "    <tr style=\"text-align: right;\">\n",
       "      <th></th>\n",
       "      <th>Actual</th>\n",
       "      <th>Predicted</th>\n",
       "    </tr>\n",
       "  </thead>\n",
       "  <tbody>\n",
       "    <tr>\n",
       "      <th>664</th>\n",
       "      <td>Good</td>\n",
       "      <td>Good</td>\n",
       "    </tr>\n",
       "    <tr>\n",
       "      <th>363</th>\n",
       "      <td>Good</td>\n",
       "      <td>Good</td>\n",
       "    </tr>\n",
       "    <tr>\n",
       "      <th>110</th>\n",
       "      <td>Good</td>\n",
       "      <td>Good</td>\n",
       "    </tr>\n",
       "    <tr>\n",
       "      <th>678</th>\n",
       "      <td>Good</td>\n",
       "      <td>Good</td>\n",
       "    </tr>\n",
       "    <tr>\n",
       "      <th>39</th>\n",
       "      <td>Good</td>\n",
       "      <td>Good</td>\n",
       "    </tr>\n",
       "  </tbody>\n",
       "</table>\n",
       "</div>"
      ],
      "text/plain": [
       "    Actual Predicted\n",
       "664   Good      Good\n",
       "363   Good      Good\n",
       "110   Good      Good\n",
       "678   Good      Good\n",
       "39    Good      Good"
      ]
     },
     "execution_count": 19,
     "metadata": {},
     "output_type": "execute_result"
    }
   ],
   "source": [
    "# Predict with best_model\n",
    "grid_predictions = best_model.predict(X_test_scaled)\n",
    "df_grid = pd.DataFrame({\"Actual\":y_test, \"Predicted\":grid_predictions}) \n",
    "df_grid.head()"
   ]
  },
  {
   "cell_type": "code",
   "execution_count": 20,
   "metadata": {},
   "outputs": [
    {
     "data": {
      "text/plain": [
       "0.9892857142857143"
      ]
     },
     "execution_count": 20,
     "metadata": {},
     "output_type": "execute_result"
    }
   ],
   "source": [
    "# Score the model\n",
    "best_model.score(X_test_scaled, y_test)"
   ]
  },
  {
   "cell_type": "markdown",
   "metadata": {},
   "source": [
    "# Save the Model"
   ]
  },
  {
   "cell_type": "code",
   "execution_count": 21,
   "metadata": {},
   "outputs": [
    {
     "data": {
      "text/plain": [
       "['SVCTwoKernelsNewFeaturesCHTarget.sav']"
      ]
     },
     "execution_count": 21,
     "metadata": {},
     "output_type": "execute_result"
    }
   ],
   "source": [
    "# save your model by updating \"your_name\" with your name\n",
    "# and \"your_model\" with your model variable\n",
    "# be sure to turn this in to BCS\n",
    "# if joblib fails to import, try running the command to install in terminal/git-bash\n",
    "import joblib\n",
    "filename = 'SVCTwoKernelsNewFeaturesCHTarget.sav'\n",
    "joblib.dump(best_model, filename)"
   ]
  },
  {
   "cell_type": "code",
   "execution_count": 22,
   "metadata": {},
   "outputs": [
    {
     "name": "stdout",
     "output_type": "stream",
     "text": [
      "                    precision    recall  f1-score   support\n",
      "\n",
      "              Good       0.99      1.00      0.99       247\n",
      "Moderate Pollution       1.00      0.91      0.95        33\n",
      "\n",
      "          accuracy                           0.99       280\n",
      "         macro avg       0.99      0.95      0.97       280\n",
      "      weighted avg       0.99      0.99      0.99       280\n",
      "\n"
     ]
    }
   ],
   "source": [
    "# Print Classification Report.\n",
    "from sklearn.metrics import classification_report\n",
    "print(classification_report(y_test, grid_predictions))"
   ]
  },
  {
   "cell_type": "code",
   "execution_count": null,
   "metadata": {},
   "outputs": [],
   "source": []
  }
 ],
 "metadata": {
  "kernel_info": {
   "name": "dev"
  },
  "kernelspec": {
   "display_name": "Python [conda env:.conda-Machine_Learning]",
   "language": "python",
   "name": "conda-env-.conda-Machine_Learning-py"
  },
  "language_info": {
   "codemirror_mode": {
    "name": "ipython",
    "version": 3
   },
   "file_extension": ".py",
   "mimetype": "text/x-python",
   "name": "python",
   "nbconvert_exporter": "python",
   "pygments_lexer": "ipython3",
   "version": "3.8.10"
  },
  "nteract": {
   "version": "0.12.3"
  },
  "widgets": {
   "application/vnd.jupyter.widget-state+json": {
    "state": {},
    "version_major": 2,
    "version_minor": 0
   }
  }
 },
 "nbformat": 4,
 "nbformat_minor": 2
}

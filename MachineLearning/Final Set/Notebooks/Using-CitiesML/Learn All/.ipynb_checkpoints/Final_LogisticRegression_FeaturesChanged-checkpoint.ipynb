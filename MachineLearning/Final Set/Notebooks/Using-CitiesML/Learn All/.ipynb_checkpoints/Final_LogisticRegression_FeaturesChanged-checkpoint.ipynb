{
 "cells": [
  {
   "cell_type": "code",
   "execution_count": 1,
   "metadata": {},
   "outputs": [],
   "source": [
    "import pandas as pd\n",
    "\n",
    "# Hide warning messages in notebook\n",
    "import warnings\n",
    "warnings.filterwarnings('ignore')"
   ]
  },
  {
   "cell_type": "markdown",
   "metadata": {},
   "source": [
    "# Read the CSV and Perform Basic Data Cleaning"
   ]
  },
  {
   "cell_type": "code",
   "execution_count": 2,
   "metadata": {},
   "outputs": [
    {
     "data": {
      "text/html": [
       "<div>\n",
       "<style scoped>\n",
       "    .dataframe tbody tr th:only-of-type {\n",
       "        vertical-align: middle;\n",
       "    }\n",
       "\n",
       "    .dataframe tbody tr th {\n",
       "        vertical-align: top;\n",
       "    }\n",
       "\n",
       "    .dataframe thead th {\n",
       "        text-align: right;\n",
       "    }\n",
       "</style>\n",
       "<table border=\"1\" class=\"dataframe\">\n",
       "  <thead>\n",
       "    <tr style=\"text-align: right;\">\n",
       "      <th></th>\n",
       "      <th>Day-Result</th>\n",
       "      <th>D-AQI</th>\n",
       "      <th>PM10 AQI</th>\n",
       "      <th>NO2 AQI</th>\n",
       "      <th>Ozone AQI</th>\n",
       "      <th>SO2 AQI</th>\n",
       "      <th>CO AQI</th>\n",
       "      <th>PM-WEIGHT</th>\n",
       "      <th>DMax NO2</th>\n",
       "      <th>NO2-WEIGHT</th>\n",
       "      <th>...</th>\n",
       "      <th>SO2-WEIGHT</th>\n",
       "      <th>DMax CO</th>\n",
       "      <th>CO-WEIGHT</th>\n",
       "      <th>Year</th>\n",
       "      <th>Month</th>\n",
       "      <th>Day</th>\n",
       "      <th>Site Name</th>\n",
       "      <th>Lat</th>\n",
       "      <th>Lng</th>\n",
       "      <th>Date</th>\n",
       "    </tr>\n",
       "  </thead>\n",
       "  <tbody>\n",
       "    <tr>\n",
       "      <th>0</th>\n",
       "      <td>Good</td>\n",
       "      <td>44</td>\n",
       "      <td>6</td>\n",
       "      <td>12</td>\n",
       "      <td>44</td>\n",
       "      <td>0</td>\n",
       "      <td>1</td>\n",
       "      <td>1</td>\n",
       "      <td>13.6</td>\n",
       "      <td>24</td>\n",
       "      <td>...</td>\n",
       "      <td>24</td>\n",
       "      <td>0.1</td>\n",
       "      <td>24</td>\n",
       "      <td>2016</td>\n",
       "      <td>1</td>\n",
       "      <td>2</td>\n",
       "      <td>Cheyenne NCore</td>\n",
       "      <td>41.182227</td>\n",
       "      <td>-104.778334</td>\n",
       "      <td>1/2/2016</td>\n",
       "    </tr>\n",
       "    <tr>\n",
       "      <th>1</th>\n",
       "      <td>Good</td>\n",
       "      <td>38</td>\n",
       "      <td>8</td>\n",
       "      <td>34</td>\n",
       "      <td>38</td>\n",
       "      <td>0</td>\n",
       "      <td>2</td>\n",
       "      <td>1</td>\n",
       "      <td>36.0</td>\n",
       "      <td>22</td>\n",
       "      <td>...</td>\n",
       "      <td>21</td>\n",
       "      <td>0.2</td>\n",
       "      <td>24</td>\n",
       "      <td>2016</td>\n",
       "      <td>1</td>\n",
       "      <td>3</td>\n",
       "      <td>Cheyenne NCore</td>\n",
       "      <td>41.182227</td>\n",
       "      <td>-104.778334</td>\n",
       "      <td>1/3/2016</td>\n",
       "    </tr>\n",
       "    <tr>\n",
       "      <th>2</th>\n",
       "      <td>Good</td>\n",
       "      <td>37</td>\n",
       "      <td>13</td>\n",
       "      <td>37</td>\n",
       "      <td>32</td>\n",
       "      <td>1</td>\n",
       "      <td>2</td>\n",
       "      <td>1</td>\n",
       "      <td>39.5</td>\n",
       "      <td>24</td>\n",
       "      <td>...</td>\n",
       "      <td>24</td>\n",
       "      <td>0.2</td>\n",
       "      <td>24</td>\n",
       "      <td>2016</td>\n",
       "      <td>1</td>\n",
       "      <td>4</td>\n",
       "      <td>Cheyenne NCore</td>\n",
       "      <td>41.182227</td>\n",
       "      <td>-104.778334</td>\n",
       "      <td>1/4/2016</td>\n",
       "    </tr>\n",
       "    <tr>\n",
       "      <th>3</th>\n",
       "      <td>Good</td>\n",
       "      <td>37</td>\n",
       "      <td>7</td>\n",
       "      <td>10</td>\n",
       "      <td>37</td>\n",
       "      <td>0</td>\n",
       "      <td>2</td>\n",
       "      <td>1</td>\n",
       "      <td>11.3</td>\n",
       "      <td>23</td>\n",
       "      <td>...</td>\n",
       "      <td>22</td>\n",
       "      <td>0.2</td>\n",
       "      <td>24</td>\n",
       "      <td>2016</td>\n",
       "      <td>1</td>\n",
       "      <td>5</td>\n",
       "      <td>Cheyenne NCore</td>\n",
       "      <td>41.182227</td>\n",
       "      <td>-104.778334</td>\n",
       "      <td>1/5/2016</td>\n",
       "    </tr>\n",
       "    <tr>\n",
       "      <th>4</th>\n",
       "      <td>Good</td>\n",
       "      <td>36</td>\n",
       "      <td>7</td>\n",
       "      <td>24</td>\n",
       "      <td>36</td>\n",
       "      <td>0</td>\n",
       "      <td>2</td>\n",
       "      <td>1</td>\n",
       "      <td>25.4</td>\n",
       "      <td>24</td>\n",
       "      <td>...</td>\n",
       "      <td>24</td>\n",
       "      <td>0.2</td>\n",
       "      <td>24</td>\n",
       "      <td>2016</td>\n",
       "      <td>1</td>\n",
       "      <td>6</td>\n",
       "      <td>Cheyenne NCore</td>\n",
       "      <td>41.182227</td>\n",
       "      <td>-104.778334</td>\n",
       "      <td>1/6/2016</td>\n",
       "    </tr>\n",
       "  </tbody>\n",
       "</table>\n",
       "<p>5 rows × 23 columns</p>\n",
       "</div>"
      ],
      "text/plain": [
       "  Day-Result  D-AQI  PM10 AQI  NO2 AQI  Ozone AQI  SO2 AQI  CO AQI  PM-WEIGHT  \\\n",
       "0       Good     44         6       12         44        0       1          1   \n",
       "1       Good     38         8       34         38        0       2          1   \n",
       "2       Good     37        13       37         32        1       2          1   \n",
       "3       Good     37         7       10         37        0       2          1   \n",
       "4       Good     36         7       24         36        0       2          1   \n",
       "\n",
       "   DMax NO2  NO2-WEIGHT  ...  SO2-WEIGHT  DMax CO  CO-WEIGHT  Year  Month  \\\n",
       "0      13.6          24  ...          24      0.1         24  2016      1   \n",
       "1      36.0          22  ...          21      0.2         24  2016      1   \n",
       "2      39.5          24  ...          24      0.2         24  2016      1   \n",
       "3      11.3          23  ...          22      0.2         24  2016      1   \n",
       "4      25.4          24  ...          24      0.2         24  2016      1   \n",
       "\n",
       "   Day       Site Name        Lat         Lng      Date  \n",
       "0    2  Cheyenne NCore  41.182227 -104.778334  1/2/2016  \n",
       "1    3  Cheyenne NCore  41.182227 -104.778334  1/3/2016  \n",
       "2    4  Cheyenne NCore  41.182227 -104.778334  1/4/2016  \n",
       "3    5  Cheyenne NCore  41.182227 -104.778334  1/5/2016  \n",
       "4    6  Cheyenne NCore  41.182227 -104.778334  1/6/2016  \n",
       "\n",
       "[5 rows x 23 columns]"
      ]
     },
     "execution_count": 2,
     "metadata": {},
     "output_type": "execute_result"
    }
   ],
   "source": [
    "df = pd.read_csv(\"CHLearnTarget.csv\")\n",
    "# Drop the null columns where all values are null\n",
    "df = df.dropna(axis='columns', how='all')\n",
    "# Drop the null rows\n",
    "df = df.dropna()\n",
    "df.head()"
   ]
  },
  {
   "cell_type": "code",
   "execution_count": 3,
   "metadata": {},
   "outputs": [
    {
     "name": "stdout",
     "output_type": "stream",
     "text": [
      "['Good' 'Moderate Pollution']\n"
     ]
    }
   ],
   "source": [
    "print(df[\"Day-Result\"].unique())"
   ]
  },
  {
   "cell_type": "markdown",
   "metadata": {},
   "source": [
    "# Select your features (columns)"
   ]
  },
  {
   "cell_type": "code",
   "execution_count": 5,
   "metadata": {},
   "outputs": [
    {
     "name": "stdout",
     "output_type": "stream",
     "text": [
      "     D-AQI  PM10 AQI  NO2 AQI  Ozone AQI  SO2 AQI  CO AQI  PM-WEIGHT  \\\n",
      "0       44         6       12         44        0       1          1   \n",
      "1       38         8       34         38        0       2          1   \n",
      "2       37        13       37         32        1       2          1   \n",
      "3       37         7       10         37        0       2          1   \n",
      "4       36         7       24         36        0       2          1   \n",
      "..     ...       ...      ...        ...      ...     ...        ...   \n",
      "843     38         2       10         38        0       1          1   \n",
      "844     39         3        4         39        0       1          1   \n",
      "845     34         1        2         34        0       1          1   \n",
      "846     29         4        9         29        0       1          1   \n",
      "847     41         4       14         41        0       1          1   \n",
      "\n",
      "     DMax NO2  NO2-WEIGHT  DMax Ozone  OZONE-WEIGHT  DMax SO2  SO2-WEIGHT  \\\n",
      "0        13.6          24       0.047            17      -0.2          24   \n",
      "1        36.0          22       0.041            17       0.5          21   \n",
      "2        39.5          24       0.035            17       1.2          24   \n",
      "3        11.3          23       0.040            17       0.1          22   \n",
      "4        25.4          24       0.039            17       0.3          24   \n",
      "..        ...         ...         ...           ...       ...         ...   \n",
      "843      11.9          23       0.041            17       0.1          23   \n",
      "844       4.2          24       0.042            17       0.3          24   \n",
      "845       2.3          24       0.037            17       0.2          24   \n",
      "846      10.3          22       0.031            17       0.2          21   \n",
      "847      15.1          24       0.044            17       0.2          24   \n",
      "\n",
      "     DMax CO  CO-WEIGHT  Year  Month  Day  \n",
      "0        0.1         24  2016      1    2  \n",
      "1        0.2         24  2016      1    3  \n",
      "2        0.2         24  2016      1    4  \n",
      "3        0.2         24  2016      1    5  \n",
      "4        0.2         24  2016      1    6  \n",
      "..       ...        ...   ...    ...  ...  \n",
      "843      0.1         24  2020     12   25  \n",
      "844      0.1         24  2020     12   26  \n",
      "845      0.1         24  2020     12   27  \n",
      "846      0.1         24  2020     12   28  \n",
      "847      0.1         24  2020     12   30  \n",
      "\n",
      "[848 rows x 18 columns]\n",
      "0      Good\n",
      "1      Good\n",
      "2      Good\n",
      "3      Good\n",
      "4      Good\n",
      "       ... \n",
      "843    Good\n",
      "844    Good\n",
      "845    Good\n",
      "846    Good\n",
      "847    Good\n",
      "Name: Day-Result, Length: 848, dtype: object\n"
     ]
    }
   ],
   "source": [
    "# Set X equal to the entire data set, except for the first column\n",
    "X = df.iloc[:,1:19]\n",
    "print(X)\n",
    "# Set y equal to the first column\n",
    "y = df.iloc[:,0]\n",
    "print(y)"
   ]
  },
  {
   "cell_type": "code",
   "execution_count": 6,
   "metadata": {},
   "outputs": [
    {
     "data": {
      "text/plain": [
       "array([1., 0., 0., 0., 0., 0., 0., 0., 0., 0., 0., 0., 0., 0., 0., 0., 0.,\n",
       "       0.])"
      ]
     },
     "execution_count": 6,
     "metadata": {},
     "output_type": "execute_result"
    }
   ],
   "source": [
    "# Search for top 10 features according to feature importances\n",
    "from sklearn.ensemble import GradientBoostingClassifier\n",
    "\n",
    "model = GradientBoostingClassifier(n_estimators=250,learning_rate=1.0,max_depth=1,random_state=0)\n",
    "model.fit(X,y)\n",
    "model.feature_importances_"
   ]
  },
  {
   "cell_type": "code",
   "execution_count": 8,
   "metadata": {},
   "outputs": [
    {
     "data": {
      "text/plain": [
       "D-AQI           1.0\n",
       "PM10 AQI        0.0\n",
       "Month           0.0\n",
       "Year            0.0\n",
       "CO-WEIGHT       0.0\n",
       "DMax CO         0.0\n",
       "SO2-WEIGHT      0.0\n",
       "DMax SO2        0.0\n",
       "OZONE-WEIGHT    0.0\n",
       "DMax Ozone      0.0\n",
       "NO2-WEIGHT      0.0\n",
       "DMax NO2        0.0\n",
       "PM-WEIGHT       0.0\n",
       "CO AQI          0.0\n",
       "SO2 AQI         0.0\n",
       "Ozone AQI       0.0\n",
       "NO2 AQI         0.0\n",
       "Day             0.0\n",
       "dtype: float64"
      ]
     },
     "execution_count": 8,
     "metadata": {},
     "output_type": "execute_result"
    }
   ],
   "source": [
    "# Store the top 10 features as a series, using the column headers as the index\n",
    "feat_imp = pd.Series(model.feature_importances_, index=X.columns).nlargest(19)\n",
    "feat_imp"
   ]
  },
  {
   "cell_type": "code",
   "execution_count": 10,
   "metadata": {},
   "outputs": [],
   "source": [
    "# Set features based on feature importances\n",
    "X = df[feat_imp.index]\n",
    "\n",
    "# Use koi_disposition for y values\n",
    "y = df['Day-Result']"
   ]
  },
  {
   "cell_type": "markdown",
   "metadata": {},
   "source": [
    "# Create a Train Test Split\n",
    "\n",
    "Use Day-Result for the y values"
   ]
  },
  {
   "cell_type": "code",
   "execution_count": 11,
   "metadata": {},
   "outputs": [],
   "source": [
    "from sklearn.model_selection import train_test_split\n",
    "X_train, X_test, y_train, y_test = train_test_split(X, y, stratify=y)"
   ]
  },
  {
   "cell_type": "code",
   "execution_count": 12,
   "metadata": {},
   "outputs": [
    {
     "data": {
      "text/html": [
       "<div>\n",
       "<style scoped>\n",
       "    .dataframe tbody tr th:only-of-type {\n",
       "        vertical-align: middle;\n",
       "    }\n",
       "\n",
       "    .dataframe tbody tr th {\n",
       "        vertical-align: top;\n",
       "    }\n",
       "\n",
       "    .dataframe thead th {\n",
       "        text-align: right;\n",
       "    }\n",
       "</style>\n",
       "<table border=\"1\" class=\"dataframe\">\n",
       "  <thead>\n",
       "    <tr style=\"text-align: right;\">\n",
       "      <th></th>\n",
       "      <th>D-AQI</th>\n",
       "      <th>PM10 AQI</th>\n",
       "      <th>Month</th>\n",
       "      <th>Year</th>\n",
       "      <th>CO-WEIGHT</th>\n",
       "      <th>DMax CO</th>\n",
       "      <th>SO2-WEIGHT</th>\n",
       "      <th>DMax SO2</th>\n",
       "      <th>OZONE-WEIGHT</th>\n",
       "      <th>DMax Ozone</th>\n",
       "      <th>NO2-WEIGHT</th>\n",
       "      <th>DMax NO2</th>\n",
       "      <th>PM-WEIGHT</th>\n",
       "      <th>CO AQI</th>\n",
       "      <th>SO2 AQI</th>\n",
       "      <th>Ozone AQI</th>\n",
       "      <th>NO2 AQI</th>\n",
       "      <th>Day</th>\n",
       "    </tr>\n",
       "  </thead>\n",
       "  <tbody>\n",
       "    <tr>\n",
       "      <th>344</th>\n",
       "      <td>48</td>\n",
       "      <td>11</td>\n",
       "      <td>4</td>\n",
       "      <td>2018</td>\n",
       "      <td>24</td>\n",
       "      <td>0.1</td>\n",
       "      <td>23</td>\n",
       "      <td>0.5</td>\n",
       "      <td>17</td>\n",
       "      <td>0.052</td>\n",
       "      <td>23</td>\n",
       "      <td>2.5</td>\n",
       "      <td>1</td>\n",
       "      <td>1</td>\n",
       "      <td>0</td>\n",
       "      <td>48</td>\n",
       "      <td>2</td>\n",
       "      <td>30</td>\n",
       "    </tr>\n",
       "    <tr>\n",
       "      <th>99</th>\n",
       "      <td>43</td>\n",
       "      <td>2</td>\n",
       "      <td>4</td>\n",
       "      <td>2016</td>\n",
       "      <td>19</td>\n",
       "      <td>0.1</td>\n",
       "      <td>22</td>\n",
       "      <td>0.0</td>\n",
       "      <td>17</td>\n",
       "      <td>0.046</td>\n",
       "      <td>23</td>\n",
       "      <td>10.0</td>\n",
       "      <td>1</td>\n",
       "      <td>1</td>\n",
       "      <td>0</td>\n",
       "      <td>43</td>\n",
       "      <td>9</td>\n",
       "      <td>20</td>\n",
       "    </tr>\n",
       "    <tr>\n",
       "      <th>32</th>\n",
       "      <td>42</td>\n",
       "      <td>5</td>\n",
       "      <td>2</td>\n",
       "      <td>2016</td>\n",
       "      <td>24</td>\n",
       "      <td>0.1</td>\n",
       "      <td>24</td>\n",
       "      <td>0.1</td>\n",
       "      <td>17</td>\n",
       "      <td>0.045</td>\n",
       "      <td>24</td>\n",
       "      <td>4.9</td>\n",
       "      <td>1</td>\n",
       "      <td>1</td>\n",
       "      <td>0</td>\n",
       "      <td>42</td>\n",
       "      <td>4</td>\n",
       "      <td>3</td>\n",
       "    </tr>\n",
       "    <tr>\n",
       "      <th>228</th>\n",
       "      <td>39</td>\n",
       "      <td>2</td>\n",
       "      <td>12</td>\n",
       "      <td>2016</td>\n",
       "      <td>24</td>\n",
       "      <td>0.1</td>\n",
       "      <td>22</td>\n",
       "      <td>0.7</td>\n",
       "      <td>17</td>\n",
       "      <td>0.042</td>\n",
       "      <td>22</td>\n",
       "      <td>6.0</td>\n",
       "      <td>1</td>\n",
       "      <td>1</td>\n",
       "      <td>0</td>\n",
       "      <td>39</td>\n",
       "      <td>6</td>\n",
       "      <td>11</td>\n",
       "    </tr>\n",
       "    <tr>\n",
       "      <th>182</th>\n",
       "      <td>42</td>\n",
       "      <td>13</td>\n",
       "      <td>10</td>\n",
       "      <td>2016</td>\n",
       "      <td>24</td>\n",
       "      <td>0.1</td>\n",
       "      <td>24</td>\n",
       "      <td>0.7</td>\n",
       "      <td>17</td>\n",
       "      <td>0.045</td>\n",
       "      <td>24</td>\n",
       "      <td>22.2</td>\n",
       "      <td>1</td>\n",
       "      <td>1</td>\n",
       "      <td>0</td>\n",
       "      <td>42</td>\n",
       "      <td>21</td>\n",
       "      <td>18</td>\n",
       "    </tr>\n",
       "  </tbody>\n",
       "</table>\n",
       "</div>"
      ],
      "text/plain": [
       "     D-AQI  PM10 AQI  Month  Year  CO-WEIGHT  DMax CO  SO2-WEIGHT  DMax SO2  \\\n",
       "344     48        11      4  2018         24      0.1          23       0.5   \n",
       "99      43         2      4  2016         19      0.1          22       0.0   \n",
       "32      42         5      2  2016         24      0.1          24       0.1   \n",
       "228     39         2     12  2016         24      0.1          22       0.7   \n",
       "182     42        13     10  2016         24      0.1          24       0.7   \n",
       "\n",
       "     OZONE-WEIGHT  DMax Ozone  NO2-WEIGHT  DMax NO2  PM-WEIGHT  CO AQI  \\\n",
       "344            17       0.052          23       2.5          1       1   \n",
       "99             17       0.046          23      10.0          1       1   \n",
       "32             17       0.045          24       4.9          1       1   \n",
       "228            17       0.042          22       6.0          1       1   \n",
       "182            17       0.045          24      22.2          1       1   \n",
       "\n",
       "     SO2 AQI  Ozone AQI  NO2 AQI  Day  \n",
       "344        0         48        2   30  \n",
       "99         0         43        9   20  \n",
       "32         0         42        4    3  \n",
       "228        0         39        6   11  \n",
       "182        0         42       21   18  "
      ]
     },
     "execution_count": 12,
     "metadata": {},
     "output_type": "execute_result"
    }
   ],
   "source": [
    "X_train.head()"
   ]
  },
  {
   "cell_type": "markdown",
   "metadata": {},
   "source": [
    "# Pre-processing\n",
    "\n",
    "Scale the data using the MinMaxScaler and perform some feature selection"
   ]
  },
  {
   "cell_type": "code",
   "execution_count": 13,
   "metadata": {},
   "outputs": [],
   "source": [
    "from sklearn.preprocessing import MinMaxScaler\n",
    "\n",
    "# Create scaler object\n",
    "X_scaler = MinMaxScaler().fit(X_train)\n",
    "\n",
    "# Scale training and testing data\n",
    "X_train_scaled = X_scaler.transform(X_train)\n",
    "X_test_scaled = X_scaler.transform(X_test)"
   ]
  },
  {
   "cell_type": "markdown",
   "metadata": {},
   "source": [
    "# Train the Model\n",
    "\n"
   ]
  },
  {
   "cell_type": "code",
   "execution_count": 14,
   "metadata": {},
   "outputs": [
    {
     "data": {
      "text/plain": [
       "LogisticRegression()"
      ]
     },
     "execution_count": 14,
     "metadata": {},
     "output_type": "execute_result"
    }
   ],
   "source": [
    "from sklearn.linear_model import LogisticRegression\n",
    "\n",
    "# Initialize model\n",
    "model = LogisticRegression()\n",
    "\n",
    "# Train the model\n",
    "model.fit(X_train_scaled, y_train)"
   ]
  },
  {
   "cell_type": "code",
   "execution_count": 15,
   "metadata": {},
   "outputs": [
    {
     "name": "stdout",
     "output_type": "stream",
     "text": [
      "Training Data Score: 0.9622641509433962\n",
      "Testing Data Score: 0.9575471698113207\n"
     ]
    }
   ],
   "source": [
    "print(f\"Training Data Score: {model.score(X_train_scaled, y_train)}\")\n",
    "print(f\"Testing Data Score: {model.score(X_test_scaled, y_test)}\")"
   ]
  },
  {
   "cell_type": "markdown",
   "metadata": {},
   "source": [
    "# Hyperparameter Tuning\n",
    "\n",
    "Use `GridSearchCV` to tune the model's parameters"
   ]
  },
  {
   "cell_type": "code",
   "execution_count": 16,
   "metadata": {},
   "outputs": [
    {
     "data": {
      "text/html": [
       "<div>\n",
       "<style scoped>\n",
       "    .dataframe tbody tr th:only-of-type {\n",
       "        vertical-align: middle;\n",
       "    }\n",
       "\n",
       "    .dataframe tbody tr th {\n",
       "        vertical-align: top;\n",
       "    }\n",
       "\n",
       "    .dataframe thead th {\n",
       "        text-align: right;\n",
       "    }\n",
       "</style>\n",
       "<table border=\"1\" class=\"dataframe\">\n",
       "  <thead>\n",
       "    <tr style=\"text-align: right;\">\n",
       "      <th></th>\n",
       "      <th>Actual</th>\n",
       "      <th>Predicted</th>\n",
       "    </tr>\n",
       "  </thead>\n",
       "  <tbody>\n",
       "    <tr>\n",
       "      <th>444</th>\n",
       "      <td>Good</td>\n",
       "      <td>Good</td>\n",
       "    </tr>\n",
       "    <tr>\n",
       "      <th>820</th>\n",
       "      <td>Good</td>\n",
       "      <td>Good</td>\n",
       "    </tr>\n",
       "    <tr>\n",
       "      <th>125</th>\n",
       "      <td>Good</td>\n",
       "      <td>Good</td>\n",
       "    </tr>\n",
       "    <tr>\n",
       "      <th>655</th>\n",
       "      <td>Good</td>\n",
       "      <td>Good</td>\n",
       "    </tr>\n",
       "    <tr>\n",
       "      <th>276</th>\n",
       "      <td>Good</td>\n",
       "      <td>Good</td>\n",
       "    </tr>\n",
       "  </tbody>\n",
       "</table>\n",
       "</div>"
      ],
      "text/plain": [
       "    Actual Predicted\n",
       "444   Good      Good\n",
       "820   Good      Good\n",
       "125   Good      Good\n",
       "655   Good      Good\n",
       "276   Good      Good"
      ]
     },
     "execution_count": 16,
     "metadata": {},
     "output_type": "execute_result"
    }
   ],
   "source": [
    "predictions = model.predict(X_test_scaled)\n",
    "df_pred = pd.DataFrame({\"Actual\":y_test, \"Predicted\":predictions}) \n",
    "df_pred.head()"
   ]
  },
  {
   "cell_type": "code",
   "execution_count": 17,
   "metadata": {},
   "outputs": [],
   "source": [
    "# Create the GridSearchCV model\n",
    "from sklearn.model_selection import GridSearchCV\n",
    "import numpy as np\n",
    "\n",
    "# Create the GridSearchCV model\n",
    "param_grid = {'C':np.logspace(-4, 4, 20),\n",
    "             'penalty':['l1','l2']}\n",
    "\n",
    "grid = GridSearchCV(model, param_grid, verbose=3)"
   ]
  },
  {
   "cell_type": "code",
   "execution_count": 18,
   "metadata": {},
   "outputs": [
    {
     "name": "stdout",
     "output_type": "stream",
     "text": [
      "Fitting 5 folds for each of 40 candidates, totalling 200 fits\n",
      "[CV 1/5] END ................C=0.0001, penalty=l1;, score=nan total time=   0.0s\n",
      "[CV 2/5] END ................C=0.0001, penalty=l1;, score=nan total time=   0.0s\n",
      "[CV 3/5] END ................C=0.0001, penalty=l1;, score=nan total time=   0.0s\n",
      "[CV 4/5] END ................C=0.0001, penalty=l1;, score=nan total time=   0.0s\n",
      "[CV 5/5] END ................C=0.0001, penalty=l1;, score=nan total time=   0.0s\n",
      "[CV 1/5] END ..............C=0.0001, penalty=l2;, score=0.891 total time=   0.0s\n",
      "[CV 2/5] END ..............C=0.0001, penalty=l2;, score=0.898 total time=   0.0s\n",
      "[CV 3/5] END ..............C=0.0001, penalty=l2;, score=0.890 total time=   0.0s\n",
      "[CV 4/5] END ..............C=0.0001, penalty=l2;, score=0.890 total time=   0.0s\n",
      "[CV 5/5] END ..............C=0.0001, penalty=l2;, score=0.890 total time=   0.0s\n",
      "[CV 1/5] END C=0.00026366508987303583, penalty=l1;, score=nan total time=   0.0s\n",
      "[CV 2/5] END C=0.00026366508987303583, penalty=l1;, score=nan total time=   0.0s\n",
      "[CV 3/5] END C=0.00026366508987303583, penalty=l1;, score=nan total time=   0.0s\n",
      "[CV 4/5] END C=0.00026366508987303583, penalty=l1;, score=nan total time=   0.0s\n",
      "[CV 5/5] END C=0.00026366508987303583, penalty=l1;, score=nan total time=   0.0s\n",
      "[CV 1/5] END C=0.00026366508987303583, penalty=l2;, score=0.891 total time=   0.0s\n",
      "[CV 2/5] END C=0.00026366508987303583, penalty=l2;, score=0.898 total time=   0.0s\n",
      "[CV 3/5] END C=0.00026366508987303583, penalty=l2;, score=0.890 total time=   0.0s\n",
      "[CV 4/5] END C=0.00026366508987303583, penalty=l2;, score=0.890 total time=   0.0s\n",
      "[CV 5/5] END C=0.00026366508987303583, penalty=l2;, score=0.890 total time=   0.0s\n",
      "[CV 1/5] END .C=0.0006951927961775605, penalty=l1;, score=nan total time=   0.0s\n",
      "[CV 2/5] END .C=0.0006951927961775605, penalty=l1;, score=nan total time=   0.0s\n",
      "[CV 3/5] END .C=0.0006951927961775605, penalty=l1;, score=nan total time=   0.0s\n",
      "[CV 4/5] END .C=0.0006951927961775605, penalty=l1;, score=nan total time=   0.0s\n",
      "[CV 5/5] END .C=0.0006951927961775605, penalty=l1;, score=nan total time=   0.0s\n",
      "[CV 1/5] END C=0.0006951927961775605, penalty=l2;, score=0.891 total time=   0.0s\n",
      "[CV 2/5] END C=0.0006951927961775605, penalty=l2;, score=0.898 total time=   0.0s\n",
      "[CV 3/5] END C=0.0006951927961775605, penalty=l2;, score=0.890 total time=   0.0s\n",
      "[CV 4/5] END C=0.0006951927961775605, penalty=l2;, score=0.890 total time=   0.0s\n",
      "[CV 5/5] END C=0.0006951927961775605, penalty=l2;, score=0.890 total time=   0.0s\n",
      "[CV 1/5] END .C=0.0018329807108324356, penalty=l1;, score=nan total time=   0.0s\n",
      "[CV 2/5] END .C=0.0018329807108324356, penalty=l1;, score=nan total time=   0.0s\n",
      "[CV 3/5] END .C=0.0018329807108324356, penalty=l1;, score=nan total time=   0.0s\n",
      "[CV 4/5] END .C=0.0018329807108324356, penalty=l1;, score=nan total time=   0.0s\n",
      "[CV 5/5] END .C=0.0018329807108324356, penalty=l1;, score=nan total time=   0.0s\n",
      "[CV 1/5] END C=0.0018329807108324356, penalty=l2;, score=0.891 total time=   0.0s\n",
      "[CV 2/5] END C=0.0018329807108324356, penalty=l2;, score=0.898 total time=   0.0s\n",
      "[CV 3/5] END C=0.0018329807108324356, penalty=l2;, score=0.890 total time=   0.0s\n",
      "[CV 4/5] END C=0.0018329807108324356, penalty=l2;, score=0.890 total time=   0.0s\n",
      "[CV 5/5] END C=0.0018329807108324356, penalty=l2;, score=0.890 total time=   0.0s\n",
      "[CV 1/5] END ..C=0.004832930238571752, penalty=l1;, score=nan total time=   0.0s\n",
      "[CV 2/5] END ..C=0.004832930238571752, penalty=l1;, score=nan total time=   0.0s\n",
      "[CV 3/5] END ..C=0.004832930238571752, penalty=l1;, score=nan total time=   0.0s\n",
      "[CV 4/5] END ..C=0.004832930238571752, penalty=l1;, score=nan total time=   0.0s\n",
      "[CV 5/5] END ..C=0.004832930238571752, penalty=l1;, score=nan total time=   0.0s\n",
      "[CV 1/5] END C=0.004832930238571752, penalty=l2;, score=0.891 total time=   0.0s\n",
      "[CV 2/5] END C=0.004832930238571752, penalty=l2;, score=0.898 total time=   0.0s\n",
      "[CV 3/5] END C=0.004832930238571752, penalty=l2;, score=0.890 total time=   0.0s\n",
      "[CV 4/5] END C=0.004832930238571752, penalty=l2;, score=0.890 total time=   0.0s\n",
      "[CV 5/5] END C=0.004832930238571752, penalty=l2;, score=0.890 total time=   0.0s\n",
      "[CV 1/5] END ..C=0.012742749857031334, penalty=l1;, score=nan total time=   0.0s\n",
      "[CV 2/5] END ..C=0.012742749857031334, penalty=l1;, score=nan total time=   0.0s\n",
      "[CV 3/5] END ..C=0.012742749857031334, penalty=l1;, score=nan total time=   0.0s\n",
      "[CV 4/5] END ..C=0.012742749857031334, penalty=l1;, score=nan total time=   0.0s\n",
      "[CV 5/5] END ..C=0.012742749857031334, penalty=l1;, score=nan total time=   0.0s\n",
      "[CV 1/5] END C=0.012742749857031334, penalty=l2;, score=0.891 total time=   0.0s\n",
      "[CV 2/5] END C=0.012742749857031334, penalty=l2;, score=0.898 total time=   0.0s\n",
      "[CV 3/5] END C=0.012742749857031334, penalty=l2;, score=0.890 total time=   0.0s\n",
      "[CV 4/5] END C=0.012742749857031334, penalty=l2;, score=0.890 total time=   0.0s\n",
      "[CV 5/5] END C=0.012742749857031334, penalty=l2;, score=0.890 total time=   0.0s\n",
      "[CV 1/5] END ...C=0.03359818286283781, penalty=l1;, score=nan total time=   0.0s\n",
      "[CV 2/5] END ...C=0.03359818286283781, penalty=l1;, score=nan total time=   0.0s\n",
      "[CV 3/5] END ...C=0.03359818286283781, penalty=l1;, score=nan total time=   0.0s\n",
      "[CV 4/5] END ...C=0.03359818286283781, penalty=l1;, score=nan total time=   0.0s\n",
      "[CV 5/5] END ...C=0.03359818286283781, penalty=l1;, score=nan total time=   0.0s\n",
      "[CV 1/5] END .C=0.03359818286283781, penalty=l2;, score=0.891 total time=   0.0s\n",
      "[CV 2/5] END .C=0.03359818286283781, penalty=l2;, score=0.898 total time=   0.0s\n",
      "[CV 3/5] END .C=0.03359818286283781, penalty=l2;, score=0.890 total time=   0.0s\n",
      "[CV 4/5] END .C=0.03359818286283781, penalty=l2;, score=0.890 total time=   0.0s\n",
      "[CV 5/5] END .C=0.03359818286283781, penalty=l2;, score=0.890 total time=   0.0s\n",
      "[CV 1/5] END ...C=0.08858667904100823, penalty=l1;, score=nan total time=   0.0s\n",
      "[CV 2/5] END ...C=0.08858667904100823, penalty=l1;, score=nan total time=   0.0s\n",
      "[CV 3/5] END ...C=0.08858667904100823, penalty=l1;, score=nan total time=   0.0s\n",
      "[CV 4/5] END ...C=0.08858667904100823, penalty=l1;, score=nan total time=   0.0s\n",
      "[CV 5/5] END ...C=0.08858667904100823, penalty=l1;, score=nan total time=   0.0s\n",
      "[CV 1/5] END .C=0.08858667904100823, penalty=l2;, score=0.891 total time=   0.0s\n",
      "[CV 2/5] END .C=0.08858667904100823, penalty=l2;, score=0.898 total time=   0.0s\n",
      "[CV 3/5] END .C=0.08858667904100823, penalty=l2;, score=0.890 total time=   0.0s\n",
      "[CV 4/5] END .C=0.08858667904100823, penalty=l2;, score=0.890 total time=   0.0s\n",
      "[CV 5/5] END .C=0.08858667904100823, penalty=l2;, score=0.890 total time=   0.0s\n",
      "[CV 1/5] END ...C=0.23357214690901212, penalty=l1;, score=nan total time=   0.0s\n",
      "[CV 2/5] END ...C=0.23357214690901212, penalty=l1;, score=nan total time=   0.0s\n",
      "[CV 3/5] END ...C=0.23357214690901212, penalty=l1;, score=nan total time=   0.0s\n",
      "[CV 4/5] END ...C=0.23357214690901212, penalty=l1;, score=nan total time=   0.0s\n",
      "[CV 5/5] END ...C=0.23357214690901212, penalty=l1;, score=nan total time=   0.0s\n",
      "[CV 1/5] END .C=0.23357214690901212, penalty=l2;, score=0.922 total time=   0.0s\n",
      "[CV 2/5] END .C=0.23357214690901212, penalty=l2;, score=0.929 total time=   0.0s\n",
      "[CV 3/5] END .C=0.23357214690901212, penalty=l2;, score=0.906 total time=   0.0s\n",
      "[CV 4/5] END .C=0.23357214690901212, penalty=l2;, score=0.913 total time=   0.0s\n",
      "[CV 5/5] END .C=0.23357214690901212, penalty=l2;, score=0.921 total time=   0.0s\n",
      "[CV 1/5] END .....C=0.615848211066026, penalty=l1;, score=nan total time=   0.0s\n",
      "[CV 2/5] END .....C=0.615848211066026, penalty=l1;, score=nan total time=   0.0s\n",
      "[CV 3/5] END .....C=0.615848211066026, penalty=l1;, score=nan total time=   0.0s\n",
      "[CV 4/5] END .....C=0.615848211066026, penalty=l1;, score=nan total time=   0.0s\n",
      "[CV 5/5] END .....C=0.615848211066026, penalty=l1;, score=nan total time=   0.0s\n",
      "[CV 1/5] END ...C=0.615848211066026, penalty=l2;, score=0.953 total time=   0.0s\n",
      "[CV 2/5] END ...C=0.615848211066026, penalty=l2;, score=0.937 total time=   0.0s\n",
      "[CV 3/5] END ...C=0.615848211066026, penalty=l2;, score=0.937 total time=   0.0s\n",
      "[CV 4/5] END ...C=0.615848211066026, penalty=l2;, score=0.945 total time=   0.0s\n",
      "[CV 5/5] END ...C=0.615848211066026, penalty=l2;, score=0.953 total time=   0.0s\n",
      "[CV 1/5] END .....C=1.623776739188721, penalty=l1;, score=nan total time=   0.0s\n",
      "[CV 2/5] END .....C=1.623776739188721, penalty=l1;, score=nan total time=   0.0s\n",
      "[CV 3/5] END .....C=1.623776739188721, penalty=l1;, score=nan total time=   0.0s\n",
      "[CV 4/5] END .....C=1.623776739188721, penalty=l1;, score=nan total time=   0.0s\n",
      "[CV 5/5] END .....C=1.623776739188721, penalty=l1;, score=nan total time=   0.0s\n",
      "[CV 1/5] END ...C=1.623776739188721, penalty=l2;, score=0.969 total time=   0.0s\n",
      "[CV 2/5] END ...C=1.623776739188721, penalty=l2;, score=0.961 total time=   0.0s\n",
      "[CV 3/5] END ...C=1.623776739188721, penalty=l2;, score=0.945 total time=   0.0s\n"
     ]
    },
    {
     "name": "stdout",
     "output_type": "stream",
     "text": [
      "[CV 4/5] END ...C=1.623776739188721, penalty=l2;, score=0.969 total time=   0.0s\n",
      "[CV 5/5] END ...C=1.623776739188721, penalty=l2;, score=0.961 total time=   0.0s\n",
      "[CV 1/5] END .....C=4.281332398719396, penalty=l1;, score=nan total time=   0.0s\n",
      "[CV 2/5] END .....C=4.281332398719396, penalty=l1;, score=nan total time=   0.0s\n",
      "[CV 3/5] END .....C=4.281332398719396, penalty=l1;, score=nan total time=   0.0s\n",
      "[CV 4/5] END .....C=4.281332398719396, penalty=l1;, score=nan total time=   0.0s\n",
      "[CV 5/5] END .....C=4.281332398719396, penalty=l1;, score=nan total time=   0.0s\n",
      "[CV 1/5] END ...C=4.281332398719396, penalty=l2;, score=0.977 total time=   0.0s\n",
      "[CV 2/5] END ...C=4.281332398719396, penalty=l2;, score=0.969 total time=   0.0s\n",
      "[CV 3/5] END ...C=4.281332398719396, penalty=l2;, score=0.984 total time=   0.0s\n",
      "[CV 4/5] END ...C=4.281332398719396, penalty=l2;, score=0.984 total time=   0.0s\n",
      "[CV 5/5] END ...C=4.281332398719396, penalty=l2;, score=0.961 total time=   0.0s\n",
      "[CV 1/5] END ....C=11.288378916846883, penalty=l1;, score=nan total time=   0.0s\n",
      "[CV 2/5] END ....C=11.288378916846883, penalty=l1;, score=nan total time=   0.0s\n",
      "[CV 3/5] END ....C=11.288378916846883, penalty=l1;, score=nan total time=   0.0s\n",
      "[CV 4/5] END ....C=11.288378916846883, penalty=l1;, score=nan total time=   0.0s\n",
      "[CV 5/5] END ....C=11.288378916846883, penalty=l1;, score=nan total time=   0.0s\n",
      "[CV 1/5] END ..C=11.288378916846883, penalty=l2;, score=0.977 total time=   0.0s\n",
      "[CV 2/5] END ..C=11.288378916846883, penalty=l2;, score=0.976 total time=   0.0s\n",
      "[CV 3/5] END ..C=11.288378916846883, penalty=l2;, score=0.984 total time=   0.0s\n",
      "[CV 4/5] END ..C=11.288378916846883, penalty=l2;, score=0.984 total time=   0.0s\n",
      "[CV 5/5] END ..C=11.288378916846883, penalty=l2;, score=0.961 total time=   0.0s\n",
      "[CV 1/5] END ....C=29.763514416313132, penalty=l1;, score=nan total time=   0.0s\n",
      "[CV 2/5] END ....C=29.763514416313132, penalty=l1;, score=nan total time=   0.0s\n",
      "[CV 3/5] END ....C=29.763514416313132, penalty=l1;, score=nan total time=   0.0s\n",
      "[CV 4/5] END ....C=29.763514416313132, penalty=l1;, score=nan total time=   0.0s\n",
      "[CV 5/5] END ....C=29.763514416313132, penalty=l1;, score=nan total time=   0.0s\n",
      "[CV 1/5] END ..C=29.763514416313132, penalty=l2;, score=0.977 total time=   0.0s\n",
      "[CV 2/5] END ..C=29.763514416313132, penalty=l2;, score=0.976 total time=   0.0s\n",
      "[CV 3/5] END ..C=29.763514416313132, penalty=l2;, score=0.992 total time=   0.0s\n",
      "[CV 4/5] END ..C=29.763514416313132, penalty=l2;, score=1.000 total time=   0.0s\n",
      "[CV 5/5] END ..C=29.763514416313132, penalty=l2;, score=0.976 total time=   0.0s\n",
      "[CV 1/5] END .....C=78.47599703514607, penalty=l1;, score=nan total time=   0.0s\n",
      "[CV 2/5] END .....C=78.47599703514607, penalty=l1;, score=nan total time=   0.0s\n",
      "[CV 3/5] END .....C=78.47599703514607, penalty=l1;, score=nan total time=   0.0s\n",
      "[CV 4/5] END .....C=78.47599703514607, penalty=l1;, score=nan total time=   0.0s\n",
      "[CV 5/5] END .....C=78.47599703514607, penalty=l1;, score=nan total time=   0.0s\n",
      "[CV 1/5] END ...C=78.47599703514607, penalty=l2;, score=0.977 total time=   0.0s\n",
      "[CV 2/5] END ...C=78.47599703514607, penalty=l2;, score=0.984 total time=   0.0s\n",
      "[CV 3/5] END ...C=78.47599703514607, penalty=l2;, score=0.992 total time=   0.0s\n",
      "[CV 4/5] END ...C=78.47599703514607, penalty=l2;, score=1.000 total time=   0.0s\n",
      "[CV 5/5] END ...C=78.47599703514607, penalty=l2;, score=0.976 total time=   0.0s\n",
      "[CV 1/5] END ......C=206.913808111479, penalty=l1;, score=nan total time=   0.0s\n",
      "[CV 2/5] END ......C=206.913808111479, penalty=l1;, score=nan total time=   0.0s\n",
      "[CV 3/5] END ......C=206.913808111479, penalty=l1;, score=nan total time=   0.0s\n",
      "[CV 4/5] END ......C=206.913808111479, penalty=l1;, score=nan total time=   0.0s\n",
      "[CV 5/5] END ......C=206.913808111479, penalty=l1;, score=nan total time=   0.0s\n",
      "[CV 1/5] END ....C=206.913808111479, penalty=l2;, score=0.984 total time=   0.0s\n",
      "[CV 2/5] END ....C=206.913808111479, penalty=l2;, score=0.984 total time=   0.0s\n",
      "[CV 3/5] END ....C=206.913808111479, penalty=l2;, score=0.992 total time=   0.0s\n",
      "[CV 4/5] END ....C=206.913808111479, penalty=l2;, score=1.000 total time=   0.0s\n",
      "[CV 5/5] END ....C=206.913808111479, penalty=l2;, score=0.976 total time=   0.0s\n",
      "[CV 1/5] END .....C=545.5594781168514, penalty=l1;, score=nan total time=   0.0s\n",
      "[CV 2/5] END .....C=545.5594781168514, penalty=l1;, score=nan total time=   0.0s\n",
      "[CV 3/5] END .....C=545.5594781168514, penalty=l1;, score=nan total time=   0.0s\n",
      "[CV 4/5] END .....C=545.5594781168514, penalty=l1;, score=nan total time=   0.0s\n",
      "[CV 5/5] END .....C=545.5594781168514, penalty=l1;, score=nan total time=   0.0s\n",
      "[CV 1/5] END ...C=545.5594781168514, penalty=l2;, score=0.984 total time=   0.0s\n",
      "[CV 2/5] END ...C=545.5594781168514, penalty=l2;, score=0.992 total time=   0.0s\n",
      "[CV 3/5] END ...C=545.5594781168514, penalty=l2;, score=0.992 total time=   0.0s\n",
      "[CV 4/5] END ...C=545.5594781168514, penalty=l2;, score=1.000 total time=   0.0s\n",
      "[CV 5/5] END ...C=545.5594781168514, penalty=l2;, score=0.976 total time=   0.0s\n",
      "[CV 1/5] END ......C=1438.44988828766, penalty=l1;, score=nan total time=   0.0s\n",
      "[CV 2/5] END ......C=1438.44988828766, penalty=l1;, score=nan total time=   0.0s\n",
      "[CV 3/5] END ......C=1438.44988828766, penalty=l1;, score=nan total time=   0.0s\n",
      "[CV 4/5] END ......C=1438.44988828766, penalty=l1;, score=nan total time=   0.0s\n",
      "[CV 5/5] END ......C=1438.44988828766, penalty=l1;, score=nan total time=   0.0s\n",
      "[CV 1/5] END ....C=1438.44988828766, penalty=l2;, score=0.984 total time=   0.0s\n",
      "[CV 2/5] END ....C=1438.44988828766, penalty=l2;, score=0.992 total time=   0.0s\n",
      "[CV 3/5] END ....C=1438.44988828766, penalty=l2;, score=0.992 total time=   0.0s\n",
      "[CV 4/5] END ....C=1438.44988828766, penalty=l2;, score=1.000 total time=   0.0s\n",
      "[CV 5/5] END ....C=1438.44988828766, penalty=l2;, score=0.976 total time=   0.0s\n",
      "[CV 1/5] END .....C=3792.690190732246, penalty=l1;, score=nan total time=   0.0s\n",
      "[CV 2/5] END .....C=3792.690190732246, penalty=l1;, score=nan total time=   0.0s\n",
      "[CV 3/5] END .....C=3792.690190732246, penalty=l1;, score=nan total time=   0.0s\n",
      "[CV 4/5] END .....C=3792.690190732246, penalty=l1;, score=nan total time=   0.0s\n",
      "[CV 5/5] END .....C=3792.690190732246, penalty=l1;, score=nan total time=   0.0s\n",
      "[CV 1/5] END ...C=3792.690190732246, penalty=l2;, score=0.984 total time=   0.0s\n",
      "[CV 2/5] END ...C=3792.690190732246, penalty=l2;, score=1.000 total time=   0.0s\n",
      "[CV 3/5] END ...C=3792.690190732246, penalty=l2;, score=0.992 total time=   0.0s\n",
      "[CV 4/5] END ...C=3792.690190732246, penalty=l2;, score=1.000 total time=   0.0s\n",
      "[CV 5/5] END ...C=3792.690190732246, penalty=l2;, score=0.976 total time=   0.0s\n",
      "[CV 1/5] END ...............C=10000.0, penalty=l1;, score=nan total time=   0.0s\n",
      "[CV 2/5] END ...............C=10000.0, penalty=l1;, score=nan total time=   0.0s\n",
      "[CV 3/5] END ...............C=10000.0, penalty=l1;, score=nan total time=   0.0s\n",
      "[CV 4/5] END ...............C=10000.0, penalty=l1;, score=nan total time=   0.0s\n",
      "[CV 5/5] END ...............C=10000.0, penalty=l1;, score=nan total time=   0.0s\n",
      "[CV 1/5] END .............C=10000.0, penalty=l2;, score=0.984 total time=   0.0s\n",
      "[CV 2/5] END .............C=10000.0, penalty=l2;, score=1.000 total time=   0.0s\n",
      "[CV 3/5] END .............C=10000.0, penalty=l2;, score=0.992 total time=   0.0s\n",
      "[CV 4/5] END .............C=10000.0, penalty=l2;, score=0.992 total time=   0.0s\n",
      "[CV 5/5] END .............C=10000.0, penalty=l2;, score=0.976 total time=   0.0s\n"
     ]
    }
   ],
   "source": [
    "# Train the model with GridSearch\n",
    "# Train the model with GridSearch\n",
    "best_model = grid.fit(X_train_scaled, y_train)"
   ]
  },
  {
   "cell_type": "code",
   "execution_count": 19,
   "metadata": {},
   "outputs": [
    {
     "name": "stdout",
     "output_type": "stream",
     "text": [
      "{'C': 3792.690190732246, 'penalty': 'l2'}\n",
      "Best Score:  0.9905757874015748\n"
     ]
    }
   ],
   "source": [
    "print(best_model.best_params_)\n",
    "print('Best Score: ', best_model.best_score_)"
   ]
  },
  {
   "cell_type": "code",
   "execution_count": 20,
   "metadata": {},
   "outputs": [
    {
     "data": {
      "text/html": [
       "<div>\n",
       "<style scoped>\n",
       "    .dataframe tbody tr th:only-of-type {\n",
       "        vertical-align: middle;\n",
       "    }\n",
       "\n",
       "    .dataframe tbody tr th {\n",
       "        vertical-align: top;\n",
       "    }\n",
       "\n",
       "    .dataframe thead th {\n",
       "        text-align: right;\n",
       "    }\n",
       "</style>\n",
       "<table border=\"1\" class=\"dataframe\">\n",
       "  <thead>\n",
       "    <tr style=\"text-align: right;\">\n",
       "      <th></th>\n",
       "      <th>Actual</th>\n",
       "      <th>Predicted</th>\n",
       "    </tr>\n",
       "  </thead>\n",
       "  <tbody>\n",
       "    <tr>\n",
       "      <th>444</th>\n",
       "      <td>Good</td>\n",
       "      <td>Good</td>\n",
       "    </tr>\n",
       "    <tr>\n",
       "      <th>820</th>\n",
       "      <td>Good</td>\n",
       "      <td>Good</td>\n",
       "    </tr>\n",
       "    <tr>\n",
       "      <th>125</th>\n",
       "      <td>Good</td>\n",
       "      <td>Good</td>\n",
       "    </tr>\n",
       "    <tr>\n",
       "      <th>655</th>\n",
       "      <td>Good</td>\n",
       "      <td>Good</td>\n",
       "    </tr>\n",
       "    <tr>\n",
       "      <th>276</th>\n",
       "      <td>Good</td>\n",
       "      <td>Good</td>\n",
       "    </tr>\n",
       "  </tbody>\n",
       "</table>\n",
       "</div>"
      ],
      "text/plain": [
       "    Actual Predicted\n",
       "444   Good      Good\n",
       "820   Good      Good\n",
       "125   Good      Good\n",
       "655   Good      Good\n",
       "276   Good      Good"
      ]
     },
     "execution_count": 20,
     "metadata": {},
     "output_type": "execute_result"
    }
   ],
   "source": [
    "# Make predictions\n",
    "grid_predictions = best_model.predict(X_test_scaled)\n",
    "df_grid = pd.DataFrame({\"Actual\":y_test, \"Predicted\":grid_predictions}) \n",
    "df_grid.head()"
   ]
  },
  {
   "cell_type": "code",
   "execution_count": 21,
   "metadata": {},
   "outputs": [
    {
     "data": {
      "text/plain": [
       "0.9669811320754716"
      ]
     },
     "execution_count": 21,
     "metadata": {},
     "output_type": "execute_result"
    }
   ],
   "source": [
    "# Score the model\n",
    "best_model.score(X_test_scaled, y_test)"
   ]
  },
  {
   "cell_type": "markdown",
   "metadata": {},
   "source": [
    "# Save the Model"
   ]
  },
  {
   "cell_type": "code",
   "execution_count": 22,
   "metadata": {},
   "outputs": [
    {
     "data": {
      "text/plain": [
       "['LR_GradientBoostCHTarget.sav']"
      ]
     },
     "execution_count": 22,
     "metadata": {},
     "output_type": "execute_result"
    }
   ],
   "source": [
    "# save your model by updating \"your_name\" with your name\n",
    "# and \"your_model\" with your model variable\n",
    "# be sure to turn this in to BCS\n",
    "# if joblib fails to import, try running the command to install in terminal/git-bash\n",
    "import joblib\n",
    "filename = 'LR_GradientBoostCHTarget.sav'\n",
    "joblib.dump(best_model, filename)"
   ]
  },
  {
   "cell_type": "code",
   "execution_count": 23,
   "metadata": {},
   "outputs": [
    {
     "name": "stdout",
     "output_type": "stream",
     "text": [
      "                    precision    recall  f1-score   support\n",
      "\n",
      "              Good       0.98      0.98      0.98       189\n",
      "Moderate Pollution       0.83      0.87      0.85        23\n",
      "\n",
      "          accuracy                           0.97       212\n",
      "         macro avg       0.91      0.92      0.92       212\n",
      "      weighted avg       0.97      0.97      0.97       212\n",
      "\n"
     ]
    }
   ],
   "source": [
    "# Print Classification Report.\n",
    "from sklearn.metrics import classification_report\n",
    "print(classification_report(y_test, grid_predictions))"
   ]
  },
  {
   "cell_type": "code",
   "execution_count": null,
   "metadata": {},
   "outputs": [],
   "source": []
  }
 ],
 "metadata": {
  "kernel_info": {
   "name": "dev"
  },
  "kernelspec": {
   "display_name": "Python [conda env:.conda-Machine_Learning]",
   "language": "python",
   "name": "conda-env-.conda-Machine_Learning-py"
  },
  "language_info": {
   "codemirror_mode": {
    "name": "ipython",
    "version": 3
   },
   "file_extension": ".py",
   "mimetype": "text/x-python",
   "name": "python",
   "nbconvert_exporter": "python",
   "pygments_lexer": "ipython3",
   "version": "3.8.10"
  },
  "nteract": {
   "version": "0.12.3"
  },
  "widgets": {
   "application/vnd.jupyter.widget-state+json": {
    "state": {},
    "version_major": 2,
    "version_minor": 0
   }
  }
 },
 "nbformat": 4,
 "nbformat_minor": 2
}

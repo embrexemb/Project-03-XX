{
 "cells": [
  {
   "cell_type": "code",
   "execution_count": 1,
   "metadata": {},
   "outputs": [],
   "source": [
    "import pandas as pd"
   ]
  },
  {
   "cell_type": "markdown",
   "metadata": {},
   "source": [
    "# Read the CSV and Perform Basic Data Cleaning"
   ]
  },
  {
   "cell_type": "code",
   "execution_count": 2,
   "metadata": {},
   "outputs": [
    {
     "data": {
      "text/html": [
       "<div>\n",
       "<style scoped>\n",
       "    .dataframe tbody tr th:only-of-type {\n",
       "        vertical-align: middle;\n",
       "    }\n",
       "\n",
       "    .dataframe tbody tr th {\n",
       "        vertical-align: top;\n",
       "    }\n",
       "\n",
       "    .dataframe thead th {\n",
       "        text-align: right;\n",
       "    }\n",
       "</style>\n",
       "<table border=\"1\" class=\"dataframe\">\n",
       "  <thead>\n",
       "    <tr style=\"text-align: right;\">\n",
       "      <th></th>\n",
       "      <th>Day-Result</th>\n",
       "      <th>D-AQI</th>\n",
       "      <th>PM10 AQI</th>\n",
       "      <th>NO2 AQI</th>\n",
       "      <th>Ozone AQI</th>\n",
       "      <th>SO2 AQI</th>\n",
       "      <th>CO AQI</th>\n",
       "      <th>PM-WEIGHT</th>\n",
       "      <th>DMax NO2</th>\n",
       "      <th>NO2-WEIGHT</th>\n",
       "      <th>...</th>\n",
       "      <th>SO2-WEIGHT</th>\n",
       "      <th>DMax CO</th>\n",
       "      <th>CO-WEIGHT</th>\n",
       "      <th>Year</th>\n",
       "      <th>Month</th>\n",
       "      <th>Day</th>\n",
       "      <th>Site Name</th>\n",
       "      <th>Lat</th>\n",
       "      <th>Lng</th>\n",
       "      <th>Date</th>\n",
       "    </tr>\n",
       "  </thead>\n",
       "  <tbody>\n",
       "    <tr>\n",
       "      <th>0</th>\n",
       "      <td>Good</td>\n",
       "      <td>44</td>\n",
       "      <td>6</td>\n",
       "      <td>12</td>\n",
       "      <td>44</td>\n",
       "      <td>0</td>\n",
       "      <td>1</td>\n",
       "      <td>1</td>\n",
       "      <td>13.6</td>\n",
       "      <td>24</td>\n",
       "      <td>...</td>\n",
       "      <td>24</td>\n",
       "      <td>0.1</td>\n",
       "      <td>24</td>\n",
       "      <td>2016</td>\n",
       "      <td>1</td>\n",
       "      <td>2</td>\n",
       "      <td>Cheyenne NCore</td>\n",
       "      <td>41.182227</td>\n",
       "      <td>-104.778334</td>\n",
       "      <td>1/2/2016</td>\n",
       "    </tr>\n",
       "    <tr>\n",
       "      <th>1</th>\n",
       "      <td>Good</td>\n",
       "      <td>38</td>\n",
       "      <td>8</td>\n",
       "      <td>34</td>\n",
       "      <td>38</td>\n",
       "      <td>0</td>\n",
       "      <td>2</td>\n",
       "      <td>1</td>\n",
       "      <td>36.0</td>\n",
       "      <td>22</td>\n",
       "      <td>...</td>\n",
       "      <td>21</td>\n",
       "      <td>0.2</td>\n",
       "      <td>24</td>\n",
       "      <td>2016</td>\n",
       "      <td>1</td>\n",
       "      <td>3</td>\n",
       "      <td>Cheyenne NCore</td>\n",
       "      <td>41.182227</td>\n",
       "      <td>-104.778334</td>\n",
       "      <td>1/3/2016</td>\n",
       "    </tr>\n",
       "    <tr>\n",
       "      <th>2</th>\n",
       "      <td>Good</td>\n",
       "      <td>37</td>\n",
       "      <td>13</td>\n",
       "      <td>37</td>\n",
       "      <td>32</td>\n",
       "      <td>1</td>\n",
       "      <td>2</td>\n",
       "      <td>1</td>\n",
       "      <td>39.5</td>\n",
       "      <td>24</td>\n",
       "      <td>...</td>\n",
       "      <td>24</td>\n",
       "      <td>0.2</td>\n",
       "      <td>24</td>\n",
       "      <td>2016</td>\n",
       "      <td>1</td>\n",
       "      <td>4</td>\n",
       "      <td>Cheyenne NCore</td>\n",
       "      <td>41.182227</td>\n",
       "      <td>-104.778334</td>\n",
       "      <td>1/4/2016</td>\n",
       "    </tr>\n",
       "    <tr>\n",
       "      <th>3</th>\n",
       "      <td>Good</td>\n",
       "      <td>37</td>\n",
       "      <td>7</td>\n",
       "      <td>10</td>\n",
       "      <td>37</td>\n",
       "      <td>0</td>\n",
       "      <td>2</td>\n",
       "      <td>1</td>\n",
       "      <td>11.3</td>\n",
       "      <td>23</td>\n",
       "      <td>...</td>\n",
       "      <td>22</td>\n",
       "      <td>0.2</td>\n",
       "      <td>24</td>\n",
       "      <td>2016</td>\n",
       "      <td>1</td>\n",
       "      <td>5</td>\n",
       "      <td>Cheyenne NCore</td>\n",
       "      <td>41.182227</td>\n",
       "      <td>-104.778334</td>\n",
       "      <td>1/5/2016</td>\n",
       "    </tr>\n",
       "    <tr>\n",
       "      <th>4</th>\n",
       "      <td>Good</td>\n",
       "      <td>36</td>\n",
       "      <td>7</td>\n",
       "      <td>24</td>\n",
       "      <td>36</td>\n",
       "      <td>0</td>\n",
       "      <td>2</td>\n",
       "      <td>1</td>\n",
       "      <td>25.4</td>\n",
       "      <td>24</td>\n",
       "      <td>...</td>\n",
       "      <td>24</td>\n",
       "      <td>0.2</td>\n",
       "      <td>24</td>\n",
       "      <td>2016</td>\n",
       "      <td>1</td>\n",
       "      <td>6</td>\n",
       "      <td>Cheyenne NCore</td>\n",
       "      <td>41.182227</td>\n",
       "      <td>-104.778334</td>\n",
       "      <td>1/6/2016</td>\n",
       "    </tr>\n",
       "  </tbody>\n",
       "</table>\n",
       "<p>5 rows × 23 columns</p>\n",
       "</div>"
      ],
      "text/plain": [
       "  Day-Result  D-AQI  PM10 AQI  NO2 AQI  Ozone AQI  SO2 AQI  CO AQI  PM-WEIGHT  \\\n",
       "0       Good     44         6       12         44        0       1          1   \n",
       "1       Good     38         8       34         38        0       2          1   \n",
       "2       Good     37        13       37         32        1       2          1   \n",
       "3       Good     37         7       10         37        0       2          1   \n",
       "4       Good     36         7       24         36        0       2          1   \n",
       "\n",
       "   DMax NO2  NO2-WEIGHT  ...  SO2-WEIGHT  DMax CO  CO-WEIGHT  Year  Month  \\\n",
       "0      13.6          24  ...          24      0.1         24  2016      1   \n",
       "1      36.0          22  ...          21      0.2         24  2016      1   \n",
       "2      39.5          24  ...          24      0.2         24  2016      1   \n",
       "3      11.3          23  ...          22      0.2         24  2016      1   \n",
       "4      25.4          24  ...          24      0.2         24  2016      1   \n",
       "\n",
       "   Day       Site Name        Lat         Lng      Date  \n",
       "0    2  Cheyenne NCore  41.182227 -104.778334  1/2/2016  \n",
       "1    3  Cheyenne NCore  41.182227 -104.778334  1/3/2016  \n",
       "2    4  Cheyenne NCore  41.182227 -104.778334  1/4/2016  \n",
       "3    5  Cheyenne NCore  41.182227 -104.778334  1/5/2016  \n",
       "4    6  Cheyenne NCore  41.182227 -104.778334  1/6/2016  \n",
       "\n",
       "[5 rows x 23 columns]"
      ]
     },
     "execution_count": 2,
     "metadata": {},
     "output_type": "execute_result"
    }
   ],
   "source": [
    "df = pd.read_csv(\"CHLearnTarget.csv\")\n",
    "# Drop the null columns where all values are null\n",
    "df = df.dropna(axis='columns', how='all')\n",
    "# Drop the null rows\n",
    "df = df.dropna()\n",
    "df.head()"
   ]
  },
  {
   "cell_type": "markdown",
   "metadata": {},
   "source": [
    "# Select your features (columns)"
   ]
  },
  {
   "cell_type": "code",
   "execution_count": 9,
   "metadata": {},
   "outputs": [
    {
     "data": {
      "text/html": [
       "<div>\n",
       "<style scoped>\n",
       "    .dataframe tbody tr th:only-of-type {\n",
       "        vertical-align: middle;\n",
       "    }\n",
       "\n",
       "    .dataframe tbody tr th {\n",
       "        vertical-align: top;\n",
       "    }\n",
       "\n",
       "    .dataframe thead th {\n",
       "        text-align: right;\n",
       "    }\n",
       "</style>\n",
       "<table border=\"1\" class=\"dataframe\">\n",
       "  <thead>\n",
       "    <tr style=\"text-align: right;\">\n",
       "      <th></th>\n",
       "      <th>PM10 AQI</th>\n",
       "      <th>NO2 AQI</th>\n",
       "      <th>Ozone AQI</th>\n",
       "      <th>SO2 AQI</th>\n",
       "      <th>CO AQI</th>\n",
       "      <th>PM-WEIGHT</th>\n",
       "      <th>DMax NO2</th>\n",
       "      <th>NO2-WEIGHT</th>\n",
       "      <th>DMax Ozone</th>\n",
       "      <th>OZONE-WEIGHT</th>\n",
       "      <th>DMax SO2</th>\n",
       "      <th>SO2-WEIGHT</th>\n",
       "      <th>DMax CO</th>\n",
       "      <th>CO-WEIGHT</th>\n",
       "      <th>Year</th>\n",
       "      <th>Month</th>\n",
       "      <th>Day</th>\n",
       "    </tr>\n",
       "  </thead>\n",
       "  <tbody>\n",
       "    <tr>\n",
       "      <th>0</th>\n",
       "      <td>6</td>\n",
       "      <td>12</td>\n",
       "      <td>44</td>\n",
       "      <td>0</td>\n",
       "      <td>1</td>\n",
       "      <td>1</td>\n",
       "      <td>13.6</td>\n",
       "      <td>24</td>\n",
       "      <td>0.047</td>\n",
       "      <td>17</td>\n",
       "      <td>-0.2</td>\n",
       "      <td>24</td>\n",
       "      <td>0.1</td>\n",
       "      <td>24</td>\n",
       "      <td>2016</td>\n",
       "      <td>1</td>\n",
       "      <td>2</td>\n",
       "    </tr>\n",
       "    <tr>\n",
       "      <th>1</th>\n",
       "      <td>8</td>\n",
       "      <td>34</td>\n",
       "      <td>38</td>\n",
       "      <td>0</td>\n",
       "      <td>2</td>\n",
       "      <td>1</td>\n",
       "      <td>36.0</td>\n",
       "      <td>22</td>\n",
       "      <td>0.041</td>\n",
       "      <td>17</td>\n",
       "      <td>0.5</td>\n",
       "      <td>21</td>\n",
       "      <td>0.2</td>\n",
       "      <td>24</td>\n",
       "      <td>2016</td>\n",
       "      <td>1</td>\n",
       "      <td>3</td>\n",
       "    </tr>\n",
       "    <tr>\n",
       "      <th>2</th>\n",
       "      <td>13</td>\n",
       "      <td>37</td>\n",
       "      <td>32</td>\n",
       "      <td>1</td>\n",
       "      <td>2</td>\n",
       "      <td>1</td>\n",
       "      <td>39.5</td>\n",
       "      <td>24</td>\n",
       "      <td>0.035</td>\n",
       "      <td>17</td>\n",
       "      <td>1.2</td>\n",
       "      <td>24</td>\n",
       "      <td>0.2</td>\n",
       "      <td>24</td>\n",
       "      <td>2016</td>\n",
       "      <td>1</td>\n",
       "      <td>4</td>\n",
       "    </tr>\n",
       "    <tr>\n",
       "      <th>3</th>\n",
       "      <td>7</td>\n",
       "      <td>10</td>\n",
       "      <td>37</td>\n",
       "      <td>0</td>\n",
       "      <td>2</td>\n",
       "      <td>1</td>\n",
       "      <td>11.3</td>\n",
       "      <td>23</td>\n",
       "      <td>0.040</td>\n",
       "      <td>17</td>\n",
       "      <td>0.1</td>\n",
       "      <td>22</td>\n",
       "      <td>0.2</td>\n",
       "      <td>24</td>\n",
       "      <td>2016</td>\n",
       "      <td>1</td>\n",
       "      <td>5</td>\n",
       "    </tr>\n",
       "    <tr>\n",
       "      <th>4</th>\n",
       "      <td>7</td>\n",
       "      <td>24</td>\n",
       "      <td>36</td>\n",
       "      <td>0</td>\n",
       "      <td>2</td>\n",
       "      <td>1</td>\n",
       "      <td>25.4</td>\n",
       "      <td>24</td>\n",
       "      <td>0.039</td>\n",
       "      <td>17</td>\n",
       "      <td>0.3</td>\n",
       "      <td>24</td>\n",
       "      <td>0.2</td>\n",
       "      <td>24</td>\n",
       "      <td>2016</td>\n",
       "      <td>1</td>\n",
       "      <td>6</td>\n",
       "    </tr>\n",
       "  </tbody>\n",
       "</table>\n",
       "</div>"
      ],
      "text/plain": [
       "   PM10 AQI  NO2 AQI  Ozone AQI  SO2 AQI  CO AQI  PM-WEIGHT  DMax NO2  \\\n",
       "0         6       12         44        0       1          1      13.6   \n",
       "1         8       34         38        0       2          1      36.0   \n",
       "2        13       37         32        1       2          1      39.5   \n",
       "3         7       10         37        0       2          1      11.3   \n",
       "4         7       24         36        0       2          1      25.4   \n",
       "\n",
       "   NO2-WEIGHT  DMax Ozone  OZONE-WEIGHT  DMax SO2  SO2-WEIGHT  DMax CO  \\\n",
       "0          24       0.047            17      -0.2          24      0.1   \n",
       "1          22       0.041            17       0.5          21      0.2   \n",
       "2          24       0.035            17       1.2          24      0.2   \n",
       "3          23       0.040            17       0.1          22      0.2   \n",
       "4          24       0.039            17       0.3          24      0.2   \n",
       "\n",
       "   CO-WEIGHT  Year  Month  Day  \n",
       "0         24  2016      1    2  \n",
       "1         24  2016      1    3  \n",
       "2         24  2016      1    4  \n",
       "3         24  2016      1    5  \n",
       "4         24  2016      1    6  "
      ]
     },
     "execution_count": 9,
     "metadata": {},
     "output_type": "execute_result"
    }
   ],
   "source": [
    "# Set target, features and feature_names.\n",
    "target = df[\"Day-Result\"]\n",
    "data = df.drop(\"Day-Result\", axis=1)\n",
    "data = data.iloc[:,1:18]\n",
    "feature_names = data.columns\n",
    "data.head()"
   ]
  },
  {
   "cell_type": "markdown",
   "metadata": {},
   "source": [
    "# Create a Train Test Split\n",
    "\n",
    "Use `Day-Result` for the y values"
   ]
  },
  {
   "cell_type": "code",
   "execution_count": 10,
   "metadata": {},
   "outputs": [],
   "source": [
    "from sklearn.model_selection import train_test_split\n",
    "X_train, X_test, y_train, y_test = train_test_split(data, target, random_state=42)"
   ]
  },
  {
   "cell_type": "code",
   "execution_count": 11,
   "metadata": {},
   "outputs": [
    {
     "data": {
      "text/html": [
       "<div>\n",
       "<style scoped>\n",
       "    .dataframe tbody tr th:only-of-type {\n",
       "        vertical-align: middle;\n",
       "    }\n",
       "\n",
       "    .dataframe tbody tr th {\n",
       "        vertical-align: top;\n",
       "    }\n",
       "\n",
       "    .dataframe thead th {\n",
       "        text-align: right;\n",
       "    }\n",
       "</style>\n",
       "<table border=\"1\" class=\"dataframe\">\n",
       "  <thead>\n",
       "    <tr style=\"text-align: right;\">\n",
       "      <th></th>\n",
       "      <th>PM10 AQI</th>\n",
       "      <th>NO2 AQI</th>\n",
       "      <th>Ozone AQI</th>\n",
       "      <th>SO2 AQI</th>\n",
       "      <th>CO AQI</th>\n",
       "      <th>PM-WEIGHT</th>\n",
       "      <th>DMax NO2</th>\n",
       "      <th>NO2-WEIGHT</th>\n",
       "      <th>DMax Ozone</th>\n",
       "      <th>OZONE-WEIGHT</th>\n",
       "      <th>DMax SO2</th>\n",
       "      <th>SO2-WEIGHT</th>\n",
       "      <th>DMax CO</th>\n",
       "      <th>CO-WEIGHT</th>\n",
       "      <th>Year</th>\n",
       "      <th>Month</th>\n",
       "      <th>Day</th>\n",
       "    </tr>\n",
       "  </thead>\n",
       "  <tbody>\n",
       "    <tr>\n",
       "      <th>579</th>\n",
       "      <td>4</td>\n",
       "      <td>3</td>\n",
       "      <td>36</td>\n",
       "      <td>0</td>\n",
       "      <td>1</td>\n",
       "      <td>1</td>\n",
       "      <td>3.4</td>\n",
       "      <td>21</td>\n",
       "      <td>0.039</td>\n",
       "      <td>15</td>\n",
       "      <td>-0.1</td>\n",
       "      <td>21</td>\n",
       "      <td>0.1</td>\n",
       "      <td>18</td>\n",
       "      <td>2020</td>\n",
       "      <td>1</td>\n",
       "      <td>28</td>\n",
       "    </tr>\n",
       "    <tr>\n",
       "      <th>60</th>\n",
       "      <td>7</td>\n",
       "      <td>16</td>\n",
       "      <td>41</td>\n",
       "      <td>0</td>\n",
       "      <td>1</td>\n",
       "      <td>1</td>\n",
       "      <td>17.2</td>\n",
       "      <td>24</td>\n",
       "      <td>0.044</td>\n",
       "      <td>17</td>\n",
       "      <td>0.0</td>\n",
       "      <td>24</td>\n",
       "      <td>0.1</td>\n",
       "      <td>24</td>\n",
       "      <td>2016</td>\n",
       "      <td>3</td>\n",
       "      <td>4</td>\n",
       "    </tr>\n",
       "    <tr>\n",
       "      <th>199</th>\n",
       "      <td>19</td>\n",
       "      <td>22</td>\n",
       "      <td>40</td>\n",
       "      <td>0</td>\n",
       "      <td>2</td>\n",
       "      <td>1</td>\n",
       "      <td>23.3</td>\n",
       "      <td>23</td>\n",
       "      <td>0.043</td>\n",
       "      <td>17</td>\n",
       "      <td>0.4</td>\n",
       "      <td>23</td>\n",
       "      <td>0.2</td>\n",
       "      <td>24</td>\n",
       "      <td>2016</td>\n",
       "      <td>11</td>\n",
       "      <td>8</td>\n",
       "    </tr>\n",
       "    <tr>\n",
       "      <th>606</th>\n",
       "      <td>12</td>\n",
       "      <td>26</td>\n",
       "      <td>37</td>\n",
       "      <td>0</td>\n",
       "      <td>2</td>\n",
       "      <td>1</td>\n",
       "      <td>28.2</td>\n",
       "      <td>23</td>\n",
       "      <td>0.040</td>\n",
       "      <td>17</td>\n",
       "      <td>-0.1</td>\n",
       "      <td>23</td>\n",
       "      <td>0.2</td>\n",
       "      <td>24</td>\n",
       "      <td>2020</td>\n",
       "      <td>3</td>\n",
       "      <td>6</td>\n",
       "    </tr>\n",
       "    <tr>\n",
       "      <th>630</th>\n",
       "      <td>7</td>\n",
       "      <td>8</td>\n",
       "      <td>41</td>\n",
       "      <td>0</td>\n",
       "      <td>2</td>\n",
       "      <td>1</td>\n",
       "      <td>8.2</td>\n",
       "      <td>24</td>\n",
       "      <td>0.044</td>\n",
       "      <td>17</td>\n",
       "      <td>0.0</td>\n",
       "      <td>24</td>\n",
       "      <td>0.2</td>\n",
       "      <td>24</td>\n",
       "      <td>2020</td>\n",
       "      <td>4</td>\n",
       "      <td>6</td>\n",
       "    </tr>\n",
       "  </tbody>\n",
       "</table>\n",
       "</div>"
      ],
      "text/plain": [
       "     PM10 AQI  NO2 AQI  Ozone AQI  SO2 AQI  CO AQI  PM-WEIGHT  DMax NO2  \\\n",
       "579         4        3         36        0       1          1       3.4   \n",
       "60          7       16         41        0       1          1      17.2   \n",
       "199        19       22         40        0       2          1      23.3   \n",
       "606        12       26         37        0       2          1      28.2   \n",
       "630         7        8         41        0       2          1       8.2   \n",
       "\n",
       "     NO2-WEIGHT  DMax Ozone  OZONE-WEIGHT  DMax SO2  SO2-WEIGHT  DMax CO  \\\n",
       "579          21       0.039            15      -0.1          21      0.1   \n",
       "60           24       0.044            17       0.0          24      0.1   \n",
       "199          23       0.043            17       0.4          23      0.2   \n",
       "606          23       0.040            17      -0.1          23      0.2   \n",
       "630          24       0.044            17       0.0          24      0.2   \n",
       "\n",
       "     CO-WEIGHT  Year  Month  Day  \n",
       "579         18  2020      1   28  \n",
       "60          24  2016      3    4  \n",
       "199         24  2016     11    8  \n",
       "606         24  2020      3    6  \n",
       "630         24  2020      4    6  "
      ]
     },
     "execution_count": 11,
     "metadata": {},
     "output_type": "execute_result"
    }
   ],
   "source": [
    "X_train.head()"
   ]
  },
  {
   "cell_type": "markdown",
   "metadata": {},
   "source": [
    "# Pre-processing\n",
    "\n",
    "Scale the data using the MinMaxScaler and perform some feature selection"
   ]
  },
  {
   "cell_type": "code",
   "execution_count": 12,
   "metadata": {},
   "outputs": [],
   "source": [
    "from sklearn.preprocessing import MinMaxScaler\n",
    "X_minmax = MinMaxScaler().fit(X_train)\n",
    "\n",
    "X_train_minmax = X_minmax.transform(X_train)\n",
    "X_test_minmax = X_minmax.transform(X_test)"
   ]
  },
  {
   "cell_type": "markdown",
   "metadata": {},
   "source": [
    "# Train the Model\n",
    "\n"
   ]
  },
  {
   "cell_type": "code",
   "execution_count": 13,
   "metadata": {},
   "outputs": [
    {
     "data": {
      "text/plain": [
       "RandomForestClassifier()"
      ]
     },
     "execution_count": 13,
     "metadata": {},
     "output_type": "execute_result"
    }
   ],
   "source": [
    "from sklearn.ensemble import RandomForestClassifier\n",
    "rf = RandomForestClassifier()\n",
    "rf.fit(X_train_minmax, y_train)"
   ]
  },
  {
   "cell_type": "code",
   "execution_count": 14,
   "metadata": {},
   "outputs": [
    {
     "name": "stdout",
     "output_type": "stream",
     "text": [
      "Training Data Score: 1.0\n",
      "Testing Data Score: 0.9952830188679245\n"
     ]
    }
   ],
   "source": [
    "print(f\"Training Data Score: {rf.score(X_train_minmax, y_train)}\")\n",
    "print(f\"Testing Data Score: {rf.score(X_test_minmax, y_test)}\")"
   ]
  },
  {
   "cell_type": "code",
   "execution_count": 15,
   "metadata": {},
   "outputs": [
    {
     "data": {
      "text/plain": [
       "[(0.43598324185031856, 'Ozone AQI'),\n",
       " (0.3981341305382815, 'DMax Ozone'),\n",
       " (0.06348256003198025, 'PM10 AQI'),\n",
       " (0.017997745342131766, 'Month'),\n",
       " (0.014943263164535986, 'DMax CO'),\n",
       " (0.013571497272016618, 'DMax SO2'),\n",
       " (0.011456789391611264, 'CO AQI'),\n",
       " (0.009313879789031466, 'DMax NO2'),\n",
       " (0.00889804961037453, 'Year'),\n",
       " (0.008072812208687307, 'SO2 AQI'),\n",
       " (0.0046720921998622275, 'Day'),\n",
       " (0.004111298093649471, 'NO2 AQI'),\n",
       " (0.0032531640897663083, 'SO2-WEIGHT'),\n",
       " (0.0027711630663790343, 'NO2-WEIGHT'),\n",
       " (0.0017103129987588255, 'OZONE-WEIGHT'),\n",
       " (0.0016280003526149096, 'CO-WEIGHT'),\n",
       " (0.0, 'PM-WEIGHT')]"
      ]
     },
     "execution_count": 15,
     "metadata": {},
     "output_type": "execute_result"
    }
   ],
   "source": [
    "sorted(zip(rf.feature_importances_, feature_names), reverse=True)"
   ]
  },
  {
   "cell_type": "markdown",
   "metadata": {},
   "source": [
    "# Hyperparameter Tuning\n",
    "\n",
    "Use `GridSearchCV` to tune the model's parameters"
   ]
  },
  {
   "cell_type": "code",
   "execution_count": 16,
   "metadata": {},
   "outputs": [],
   "source": [
    "# Create the GridSearchCV model\n",
    "from sklearn.model_selection import GridSearchCV\n",
    "param_grid = {'n_estimators': [250, 300, 350, 400],\n",
    "              'max_depth': [125, 150, 175, 200]}\n",
    "grid = GridSearchCV(rf, param_grid, verbose=3)"
   ]
  },
  {
   "cell_type": "code",
   "execution_count": 17,
   "metadata": {},
   "outputs": [
    {
     "name": "stdout",
     "output_type": "stream",
     "text": [
      "Fitting 5 folds for each of 16 candidates, totalling 80 fits\n",
      "[CV 1/5] END ...max_depth=125, n_estimators=250;, score=0.984 total time=   0.2s\n",
      "[CV 2/5] END ...max_depth=125, n_estimators=250;, score=1.000 total time=   0.2s\n",
      "[CV 3/5] END ...max_depth=125, n_estimators=250;, score=1.000 total time=   0.2s\n",
      "[CV 4/5] END ...max_depth=125, n_estimators=250;, score=0.992 total time=   0.2s\n",
      "[CV 5/5] END ...max_depth=125, n_estimators=250;, score=1.000 total time=   0.2s\n",
      "[CV 1/5] END ...max_depth=125, n_estimators=300;, score=0.984 total time=   0.3s\n",
      "[CV 2/5] END ...max_depth=125, n_estimators=300;, score=1.000 total time=   0.3s\n",
      "[CV 3/5] END ...max_depth=125, n_estimators=300;, score=1.000 total time=   0.2s\n",
      "[CV 4/5] END ...max_depth=125, n_estimators=300;, score=0.992 total time=   0.2s\n",
      "[CV 5/5] END ...max_depth=125, n_estimators=300;, score=1.000 total time=   0.3s\n",
      "[CV 1/5] END ...max_depth=125, n_estimators=350;, score=0.984 total time=   0.3s\n",
      "[CV 2/5] END ...max_depth=125, n_estimators=350;, score=1.000 total time=   0.3s\n",
      "[CV 3/5] END ...max_depth=125, n_estimators=350;, score=1.000 total time=   0.3s\n",
      "[CV 4/5] END ...max_depth=125, n_estimators=350;, score=0.992 total time=   0.3s\n",
      "[CV 5/5] END ...max_depth=125, n_estimators=350;, score=1.000 total time=   0.3s\n",
      "[CV 1/5] END ...max_depth=125, n_estimators=400;, score=0.984 total time=   0.3s\n",
      "[CV 2/5] END ...max_depth=125, n_estimators=400;, score=1.000 total time=   0.3s\n",
      "[CV 3/5] END ...max_depth=125, n_estimators=400;, score=1.000 total time=   0.3s\n",
      "[CV 4/5] END ...max_depth=125, n_estimators=400;, score=0.992 total time=   0.4s\n",
      "[CV 5/5] END ...max_depth=125, n_estimators=400;, score=1.000 total time=   0.4s\n",
      "[CV 1/5] END ...max_depth=150, n_estimators=250;, score=0.984 total time=   0.2s\n",
      "[CV 2/5] END ...max_depth=150, n_estimators=250;, score=1.000 total time=   0.2s\n",
      "[CV 3/5] END ...max_depth=150, n_estimators=250;, score=1.000 total time=   0.2s\n",
      "[CV 4/5] END ...max_depth=150, n_estimators=250;, score=0.992 total time=   0.2s\n",
      "[CV 5/5] END ...max_depth=150, n_estimators=250;, score=1.000 total time=   0.2s\n",
      "[CV 1/5] END ...max_depth=150, n_estimators=300;, score=0.977 total time=   0.2s\n",
      "[CV 2/5] END ...max_depth=150, n_estimators=300;, score=1.000 total time=   0.2s\n",
      "[CV 3/5] END ...max_depth=150, n_estimators=300;, score=1.000 total time=   0.2s\n",
      "[CV 4/5] END ...max_depth=150, n_estimators=300;, score=0.992 total time=   0.2s\n",
      "[CV 5/5] END ...max_depth=150, n_estimators=300;, score=1.000 total time=   0.2s\n",
      "[CV 1/5] END ...max_depth=150, n_estimators=350;, score=0.984 total time=   0.3s\n",
      "[CV 2/5] END ...max_depth=150, n_estimators=350;, score=1.000 total time=   0.3s\n",
      "[CV 3/5] END ...max_depth=150, n_estimators=350;, score=1.000 total time=   0.3s\n",
      "[CV 4/5] END ...max_depth=150, n_estimators=350;, score=0.992 total time=   0.3s\n",
      "[CV 5/5] END ...max_depth=150, n_estimators=350;, score=1.000 total time=   0.3s\n",
      "[CV 1/5] END ...max_depth=150, n_estimators=400;, score=0.984 total time=   0.4s\n",
      "[CV 2/5] END ...max_depth=150, n_estimators=400;, score=1.000 total time=   0.4s\n",
      "[CV 3/5] END ...max_depth=150, n_estimators=400;, score=1.000 total time=   0.3s\n",
      "[CV 4/5] END ...max_depth=150, n_estimators=400;, score=0.992 total time=   0.3s\n",
      "[CV 5/5] END ...max_depth=150, n_estimators=400;, score=1.000 total time=   0.3s\n",
      "[CV 1/5] END ...max_depth=175, n_estimators=250;, score=0.984 total time=   0.2s\n",
      "[CV 2/5] END ...max_depth=175, n_estimators=250;, score=1.000 total time=   0.2s\n",
      "[CV 3/5] END ...max_depth=175, n_estimators=250;, score=1.000 total time=   0.2s\n",
      "[CV 4/5] END ...max_depth=175, n_estimators=250;, score=0.992 total time=   0.2s\n",
      "[CV 5/5] END ...max_depth=175, n_estimators=250;, score=1.000 total time=   0.2s\n",
      "[CV 1/5] END ...max_depth=175, n_estimators=300;, score=0.984 total time=   0.2s\n",
      "[CV 2/5] END ...max_depth=175, n_estimators=300;, score=1.000 total time=   0.2s\n",
      "[CV 3/5] END ...max_depth=175, n_estimators=300;, score=1.000 total time=   0.2s\n",
      "[CV 4/5] END ...max_depth=175, n_estimators=300;, score=0.992 total time=   0.2s\n",
      "[CV 5/5] END ...max_depth=175, n_estimators=300;, score=1.000 total time=   0.2s\n",
      "[CV 1/5] END ...max_depth=175, n_estimators=350;, score=0.984 total time=   0.3s\n",
      "[CV 2/5] END ...max_depth=175, n_estimators=350;, score=1.000 total time=   0.3s\n",
      "[CV 3/5] END ...max_depth=175, n_estimators=350;, score=1.000 total time=   0.3s\n",
      "[CV 4/5] END ...max_depth=175, n_estimators=350;, score=0.992 total time=   0.3s\n",
      "[CV 5/5] END ...max_depth=175, n_estimators=350;, score=1.000 total time=   0.3s\n",
      "[CV 1/5] END ...max_depth=175, n_estimators=400;, score=0.984 total time=   0.3s\n",
      "[CV 2/5] END ...max_depth=175, n_estimators=400;, score=1.000 total time=   0.3s\n",
      "[CV 3/5] END ...max_depth=175, n_estimators=400;, score=1.000 total time=   0.4s\n",
      "[CV 4/5] END ...max_depth=175, n_estimators=400;, score=0.992 total time=   0.4s\n",
      "[CV 5/5] END ...max_depth=175, n_estimators=400;, score=1.000 total time=   0.4s\n",
      "[CV 1/5] END ...max_depth=200, n_estimators=250;, score=0.984 total time=   0.2s\n",
      "[CV 2/5] END ...max_depth=200, n_estimators=250;, score=1.000 total time=   0.2s\n",
      "[CV 3/5] END ...max_depth=200, n_estimators=250;, score=1.000 total time=   0.2s\n",
      "[CV 4/5] END ...max_depth=200, n_estimators=250;, score=0.992 total time=   0.2s\n",
      "[CV 5/5] END ...max_depth=200, n_estimators=250;, score=1.000 total time=   0.2s\n",
      "[CV 1/5] END ...max_depth=200, n_estimators=300;, score=0.984 total time=   0.3s\n",
      "[CV 2/5] END ...max_depth=200, n_estimators=300;, score=1.000 total time=   0.3s\n",
      "[CV 3/5] END ...max_depth=200, n_estimators=300;, score=1.000 total time=   0.2s\n",
      "[CV 4/5] END ...max_depth=200, n_estimators=300;, score=0.992 total time=   0.2s\n",
      "[CV 5/5] END ...max_depth=200, n_estimators=300;, score=1.000 total time=   0.3s\n",
      "[CV 1/5] END ...max_depth=200, n_estimators=350;, score=0.984 total time=   0.3s\n",
      "[CV 2/5] END ...max_depth=200, n_estimators=350;, score=1.000 total time=   0.3s\n",
      "[CV 3/5] END ...max_depth=200, n_estimators=350;, score=1.000 total time=   0.3s\n",
      "[CV 4/5] END ...max_depth=200, n_estimators=350;, score=0.992 total time=   0.3s\n",
      "[CV 5/5] END ...max_depth=200, n_estimators=350;, score=1.000 total time=   0.3s\n",
      "[CV 1/5] END ...max_depth=200, n_estimators=400;, score=0.984 total time=   0.4s\n",
      "[CV 2/5] END ...max_depth=200, n_estimators=400;, score=1.000 total time=   0.4s\n",
      "[CV 3/5] END ...max_depth=200, n_estimators=400;, score=1.000 total time=   0.4s\n",
      "[CV 4/5] END ...max_depth=200, n_estimators=400;, score=0.992 total time=   0.3s\n",
      "[CV 5/5] END ...max_depth=200, n_estimators=400;, score=1.000 total time=   0.3s\n"
     ]
    },
    {
     "data": {
      "text/plain": [
       "GridSearchCV(estimator=RandomForestClassifier(),\n",
       "             param_grid={'max_depth': [125, 150, 175, 200],\n",
       "                         'n_estimators': [250, 300, 350, 400]},\n",
       "             verbose=3)"
      ]
     },
     "execution_count": 17,
     "metadata": {},
     "output_type": "execute_result"
    }
   ],
   "source": [
    "# Train the model with GridSearch\n",
    "grid.fit(X_train_minmax, y_train)"
   ]
  },
  {
   "cell_type": "code",
   "execution_count": 18,
   "metadata": {},
   "outputs": [
    {
     "name": "stdout",
     "output_type": "stream",
     "text": [
      "{'max_depth': 125, 'n_estimators': 250}\n",
      "0.9953001968503937\n"
     ]
    }
   ],
   "source": [
    "print(grid.best_params_)\n",
    "print(grid.best_score_)"
   ]
  },
  {
   "cell_type": "code",
   "execution_count": 19,
   "metadata": {},
   "outputs": [
    {
     "data": {
      "text/plain": [
       "1.0"
      ]
     },
     "execution_count": 19,
     "metadata": {},
     "output_type": "execute_result"
    }
   ],
   "source": [
    "# Training score:\n",
    "grid.score(X_train_minmax, y_train)"
   ]
  },
  {
   "cell_type": "code",
   "execution_count": 20,
   "metadata": {},
   "outputs": [
    {
     "data": {
      "text/plain": [
       "0.9952830188679245"
      ]
     },
     "execution_count": 20,
     "metadata": {},
     "output_type": "execute_result"
    }
   ],
   "source": [
    "# Testing score:\n",
    "grid.score(X_test_minmax, y_test)"
   ]
  },
  {
   "cell_type": "code",
   "execution_count": 21,
   "metadata": {},
   "outputs": [],
   "source": [
    "# Make prediction and save to variable for report.\n",
    "predictions = grid.predict(X_test_minmax)"
   ]
  },
  {
   "cell_type": "code",
   "execution_count": 22,
   "metadata": {},
   "outputs": [
    {
     "name": "stdout",
     "output_type": "stream",
     "text": [
      "                    precision    recall  f1-score   support\n",
      "\n",
      "              Good       1.00      0.99      1.00       189\n",
      "Moderate Pollution       0.96      1.00      0.98        23\n",
      "\n",
      "          accuracy                           1.00       212\n",
      "         macro avg       0.98      1.00      0.99       212\n",
      "      weighted avg       1.00      1.00      1.00       212\n",
      "\n"
     ]
    }
   ],
   "source": [
    "# Print Classification Report.\n",
    "from sklearn.metrics import classification_report\n",
    "print(classification_report(y_test, predictions))"
   ]
  },
  {
   "cell_type": "markdown",
   "metadata": {},
   "source": [
    "# Save the Model"
   ]
  },
  {
   "cell_type": "code",
   "execution_count": 23,
   "metadata": {},
   "outputs": [
    {
     "data": {
      "text/plain": [
       "['FinalRF_CHTarget.sav']"
      ]
     },
     "execution_count": 23,
     "metadata": {},
     "output_type": "execute_result"
    }
   ],
   "source": [
    "# save your model by updating \"your_name\" with your name\n",
    "# and \"your_model\" with your model variable\n",
    "# be sure to turn this in to BCS\n",
    "# if joblib fails to import, try running the command to install in terminal/git-bash\n",
    "import joblib\n",
    "filename = 'FinalRF_CHTarget.sav'\n",
    "joblib.dump(rf, filename)"
   ]
  },
  {
   "cell_type": "code",
   "execution_count": null,
   "metadata": {},
   "outputs": [],
   "source": []
  }
 ],
 "metadata": {
  "kernel_info": {
   "name": "dev"
  },
  "kernelspec": {
   "display_name": "Python [conda env:.conda-Machine_Learning]",
   "language": "python",
   "name": "conda-env-.conda-Machine_Learning-py"
  },
  "language_info": {
   "codemirror_mode": {
    "name": "ipython",
    "version": 3
   },
   "file_extension": ".py",
   "mimetype": "text/x-python",
   "name": "python",
   "nbconvert_exporter": "python",
   "pygments_lexer": "ipython3",
   "version": "3.8.10"
  },
  "nteract": {
   "version": "0.12.3"
  },
  "widgets": {
   "application/vnd.jupyter.widget-state+json": {
    "state": {},
    "version_major": 2,
    "version_minor": 0
   }
  }
 },
 "nbformat": 4,
 "nbformat_minor": 2
}

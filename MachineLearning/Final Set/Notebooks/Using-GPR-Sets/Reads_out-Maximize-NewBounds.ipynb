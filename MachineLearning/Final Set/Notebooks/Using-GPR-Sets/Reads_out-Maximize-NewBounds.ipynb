{
 "cells": [
  {
   "cell_type": "code",
   "execution_count": 19,
   "id": "8e0f7336",
   "metadata": {},
   "outputs": [],
   "source": [
    "%matplotlib inline"
   ]
  },
  {
   "cell_type": "code",
   "execution_count": 20,
   "id": "8760ab35",
   "metadata": {},
   "outputs": [
    {
     "name": "stdout",
     "output_type": "stream",
     "text": [
      "Automatically created module for IPython interactive environment\n"
     ]
    }
   ],
   "source": [
    "import numpy as np\n",
    "import pandas as pd\n",
    "from matplotlib import pyplot as plt\n",
    "from sklearn.datasets import fetch_openml\n",
    "from sklearn.gaussian_process import GaussianProcessRegressor\n",
    "from sklearn.gaussian_process.kernels \\\n",
    "    import RBF, WhiteKernel, RationalQuadratic, ExpSineSquared\n",
    "\n",
    "print(__doc__)\n"
   ]
  },
  {
   "cell_type": "code",
   "execution_count": 21,
   "id": "08c8aec6",
   "metadata": {
    "scrolled": true
   },
   "outputs": [
    {
     "name": "stdout",
     "output_type": "stream",
     "text": [
      "GPML kernel: 66**2 * RBF(length_scale=67) + 2.4**2 * RBF(length_scale=90) * ExpSineSquared(length_scale=1.3, periodicity=1) + 0.66**2 * RationalQuadratic(alpha=0.78, length_scale=1.2) + 0.18**2 * RBF(length_scale=0.134) + WhiteKernel(noise_level=0.0361)\n",
      "Log-marginal-likelihood: -577.215\n"
     ]
    },
    {
     "name": "stderr",
     "output_type": "stream",
     "text": [
      "C:\\Users\\eveba\\.conda\\envs\\Machine_Learning\\lib\\site-packages\\sklearn\\gaussian_process\\kernels.py:402: ConvergenceWarning: The optimal value found for dimension 0 of parameter k2__k1__k2__length_scale is close to the specified lower bound 1e-05. Decreasing the bound and calling fit again may find a better value.\n",
      "  warnings.warn(\"The optimal value found for \"\n"
     ]
    },
    {
     "name": "stdout",
     "output_type": "stream",
     "text": [
      "\n",
      "Learned kernel: 3.9**2 * RBF(length_scale=795) + 2.17**2 * RBF(length_scale=24.4) * ExpSineSquared(length_scale=0.00298, periodicity=1.26e-05) + 0.542**2 * RationalQuadratic(alpha=16.2, length_scale=0.003) + 6.19**2 * RBF(length_scale=1e-05) + WhiteKernel(noise_level=0.28)\n",
      "Log-marginal-likelihood: -191.324\n"
     ]
    },
    {
     "data": {
      "image/png": "[encoded data removed]",
      "text/plain": [
       "<Figure size 432x288 with 1 Axes>"
      ]
     },
     "metadata": {
      "needs_background": "light"
     },
     "output_type": "display_data"
    }
   ],
   "source": [
    "def Ozone_prep():\n",
    "    #read the csv file into dataframe\n",
    "    #dataset = pd.read_csv(\"GPR/RaleighLearnNO2GPR.csv\")\n",
    "    dataset = pd.read_csv(\"GPR/KgMerges/CA/CaliforniaOzoneGPRKg.csv\")\n",
    "    #dataset.head()\n",
    "    #target\n",
    "    y = dataset.iloc[:,0]\n",
    "\n",
    "    #dataset\n",
    "    X = dataset.iloc[:,1:6]\n",
    "    X.columns\n",
    "    #X.drop(['Site Name'],axis=1)\n",
    "\n",
    "    months = []\n",
    "    ppmv_sums = []\n",
    "    counts = []\n",
    "    \n",
    "    m = X['Month']\n",
    "    year = X['Year']\n",
    "    month_float = year + (m - 1) / 12\n",
    "    ppmvs = dataset.iloc[:,0]\n",
    "\n",
    "    for month, ppmv in zip(month_float, ppmvs):\n",
    "            if not months or month != months[-1]:\n",
    "                months.append(month)\n",
    "                ppmv_sums.append(ppmv)\n",
    "                counts.append(1)\n",
    "            else:\n",
    "                # aggregate monthly sum to produce average\n",
    "                ppmv_sums[-1] += ppmv\n",
    "                counts[-1] += 1\n",
    "            \n",
    "    months = np.asarray(months).reshape(-1, 1)\n",
    "    avg_ppmvs = np.asarray(ppmv_sums) / counts\n",
    "    return months, avg_ppmvs\n",
    " \n",
    "newX, newy = Ozone_prep()   \n",
    "\n",
    "# Kernel with parameters given in GPML book\n",
    "k1 = 66.0**2 * RBF(length_scale=67.0)  # long term smooth rising trend\n",
    "k2 = 2.4**2 * RBF(length_scale=90.0) \\\n",
    "    * ExpSineSquared(length_scale=1.3, periodicity=1.0)  # seasonal component\n",
    "# medium term irregularity\n",
    "k3 = 0.66**2 \\\n",
    "    * RationalQuadratic(length_scale=1.2, alpha=0.78)\n",
    "k4 = 0.18**2 * RBF(length_scale=0.134) \\\n",
    "    + WhiteKernel(noise_level=0.19**2)  # noise terms\n",
    "\n",
    "kernel_gpml = k1 + k2 + k3 + k4\n",
    "\n",
    "gp = GaussianProcessRegressor(kernel=kernel_gpml, alpha=0,\n",
    "                              optimizer=None, normalize_y=True)\n",
    "gp.fit(newX, newy)\n",
    "\n",
    "print(\"GPML kernel: %s\" % gp.kernel_)\n",
    "print(\"Log-marginal-likelihood: %.3f\"\n",
    "      % gp.log_marginal_likelihood(gp.kernel_.theta))\n",
    "\n",
    "# Kernel with optimized parameters\n",
    "k1 = 34.4**2 * RBF(length_scale=41.8)  # long term smooth rising trend\n",
    "k2 = 3.27**2 * RBF(length_scale=180.0) \\\n",
    "    * ExpSineSquared(length_scale=1.88, periodicity=1.0)\n",
    "                     \n",
    "k3 = 0.446**2 * RationalQuadratic(length_scale=0.957, alpha=17.7)\n",
    "k4 = 0.197**2 * RBF(length_scale=0.138) \\\n",
    "    + WhiteKernel(noise_level=0.0336, noise_level_bounds=(1e-08,1e1))\n",
    "#best score -213.388 for 1e-08, 250000\n",
    "#best fit 1e-07,150000\n",
    "#changing noise_level_bounds from 1e-5, np.inf                \n",
    "kernel = k1 + k2 + k3 + k4\n",
    "\n",
    "gp = GaussianProcessRegressor(kernel=kernel, alpha=0,\n",
    "                              normalize_y=True)\n",
    "gp.fit(newX, newy)\n",
    "\n",
    "print(\"\\nLearned kernel: %s\" % gp.kernel_)\n",
    "print(\"Log-marginal-likelihood: %.3f\"\n",
    "      % gp.log_marginal_likelihood(gp.kernel_.theta))\n",
    "\n",
    "X_ = np.linspace(newX.min(), newX.max() + 10, 1000)[:, np.newaxis]\n",
    "y_pred, y_std = gp.predict(X_, return_std=True)\n",
    "\n",
    "# Illustration\n",
    "plt.scatter(newX, newy, c='k')\n",
    "plt.plot(X_, y_pred)\n",
    "plt.fill_between(X_[:, 0], y_pred - y_std, y_pred + y_std,\n",
    "                 alpha=0.5, color='k')\n",
    "plt.xlim(X_.min(), X_.max())\n",
    "plt.xlabel(\"Year\")\n",
    "plt.ylabel(r\"Ozone ppm\")\n",
    "plt.title(r\"Atmospheric Ozone concentration at Los Angeles CA area\")\n",
    "plt.tight_layout()\n",
    "plt.show()"
   ]
  },
  {
   "cell_type": "code",
   "execution_count": null,
   "id": "dd9c8072",
   "metadata": {},
   "outputs": [],
   "source": []
  },
  {
   "cell_type": "code",
   "execution_count": null,
   "id": "b72aa43c",
   "metadata": {},
   "outputs": [],
   "source": []
  }
 ],
 "metadata": {
  "kernelspec": {
   "display_name": "Python [conda env:.conda-Machine_Learning]",
   "language": "python",
   "name": "conda-env-.conda-Machine_Learning-py"
  },
  "language_info": {
   "codemirror_mode": {
    "name": "ipython",
    "version": 3
   },
   "file_extension": ".py",
   "mimetype": "text/x-python",
   "name": "python",
   "nbconvert_exporter": "python",
   "pygments_lexer": "ipython3",
   "version": "3.8.10"
  },
  "widgets": {
   "application/vnd.jupyter.widget-state+json": {
    "state": {},
    "version_major": 2,
    "version_minor": 0
   }
  }
 },
 "nbformat": 4,
 "nbformat_minor": 5
}

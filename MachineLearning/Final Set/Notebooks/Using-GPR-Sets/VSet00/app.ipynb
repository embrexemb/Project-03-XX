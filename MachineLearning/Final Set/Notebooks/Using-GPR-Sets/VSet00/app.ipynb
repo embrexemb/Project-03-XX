{
 "cells": [
  {
   "cell_type": "code",
   "execution_count": 1,
   "id": "8e0f7336",
   "metadata": {},
   "outputs": [],
   "source": [
    "import numpy as np\n",
    "import matplotlib.pyplot as plt\n",
    "from ipywidgets import interactive\n",
    "%matplotlib inline"
   ]
  },
  {
   "cell_type": "code",
   "execution_count": 2,
   "id": "8760ab35",
   "metadata": {},
   "outputs": [
    {
     "ename": "ModuleNotFoundError",
     "evalue": "No module named 'pandas'",
     "output_type": "error",
     "traceback": [
      "\u001b[1;31m---------------------------------------------------------------------------\u001b[0m",
      "\u001b[1;31mModuleNotFoundError\u001b[0m                       Traceback (most recent call last)",
      "\u001b[1;32m~\\AppData\\Local\\Temp/ipykernel_31700/3179903919.py\u001b[0m in \u001b[0;36m<module>\u001b[1;34m\u001b[0m\n\u001b[0;32m      1\u001b[0m \u001b[1;32mimport\u001b[0m \u001b[0mnumpy\u001b[0m \u001b[1;32mas\u001b[0m \u001b[0mnp\u001b[0m\u001b[1;33m\u001b[0m\u001b[1;33m\u001b[0m\u001b[0m\n\u001b[1;32m----> 2\u001b[1;33m \u001b[1;32mimport\u001b[0m \u001b[0mpandas\u001b[0m \u001b[1;32mas\u001b[0m \u001b[0mpd\u001b[0m\u001b[1;33m\u001b[0m\u001b[1;33m\u001b[0m\u001b[0m\n\u001b[0m\u001b[0;32m      3\u001b[0m \u001b[1;32mfrom\u001b[0m \u001b[0mmatplotlib\u001b[0m \u001b[1;32mimport\u001b[0m \u001b[0mpyplot\u001b[0m \u001b[1;32mas\u001b[0m \u001b[0mplt\u001b[0m\u001b[1;33m\u001b[0m\u001b[1;33m\u001b[0m\u001b[0m\n\u001b[0;32m      4\u001b[0m \u001b[1;32mfrom\u001b[0m \u001b[0msklearn\u001b[0m\u001b[1;33m.\u001b[0m\u001b[0mdatasets\u001b[0m \u001b[1;32mimport\u001b[0m \u001b[0mfetch_openml\u001b[0m\u001b[1;33m\u001b[0m\u001b[1;33m\u001b[0m\u001b[0m\n\u001b[0;32m      5\u001b[0m \u001b[1;32mfrom\u001b[0m \u001b[0msklearn\u001b[0m\u001b[1;33m.\u001b[0m\u001b[0mgaussian_process\u001b[0m \u001b[1;32mimport\u001b[0m \u001b[0mGaussianProcessRegressor\u001b[0m\u001b[1;33m\u001b[0m\u001b[1;33m\u001b[0m\u001b[0m\n",
      "\u001b[1;31mModuleNotFoundError\u001b[0m: No module named 'pandas'"
     ]
    }
   ],
   "source": [
    "import numpy as np\n",
    "import pandas as pd\n",
    "from matplotlib import pyplot as plt\n",
    "from sklearn.datasets import fetch_openml\n",
    "from sklearn.gaussian_process import GaussianProcessRegressor\n",
    "from sklearn.gaussian_process.kernels \\\n",
    "    import RBF, WhiteKernel, RationalQuadratic, ExpSineSquared\n",
    "\n",
    "print(__doc__)\n"
   ]
  },
  {
   "cell_type": "code",
   "execution_count": null,
   "id": "08c8aec6",
   "metadata": {
    "scrolled": true
   },
   "outputs": [],
   "source": [
    "def Ozone_prep():\n",
    "    #read the csv file into dataframe\n",
    "    #dataset = pd.read_csv(\"GPR/RaleighLearnNO2GPR.csv\")\n",
    "    dataset = pd.read_csv(\"GPR/KgMerges/WY/WyomingOzoneKg.csv\")\n",
    "    #dataset.head()\n",
    "    #target\n",
    "    y = dataset.iloc[:,0]\n",
    "\n",
    "    #dataset\n",
    "    X = dataset.iloc[:,1:6]\n",
    "    X.columns\n",
    "    #X.drop(['Site Name'],axis=1)\n",
    "\n",
    "    months = []\n",
    "    ppmv_sums = []\n",
    "    counts = []\n",
    "    \n",
    "    m = X['Month']\n",
    "    year = X['Year']\n",
    "    month_float = year + (m - 1) / 12\n",
    "    ppmvs = dataset.iloc[:,0]\n",
    "\n",
    "    for month, ppmv in zip(month_float, ppmvs):\n",
    "            if not months or month != months[-1]:\n",
    "                months.append(month)\n",
    "                ppmv_sums.append(ppmv)\n",
    "                counts.append(1)\n",
    "            else:\n",
    "                # aggregate monthly sum to produce average\n",
    "                ppmv_sums[-1] += ppmv\n",
    "                counts[-1] += 1\n",
    "            \n",
    "    months = np.asarray(months).reshape(-1, 1)\n",
    "    avg_ppmvs = np.asarray(ppmv_sums) / counts\n",
    "    return months, avg_ppmvs\n",
    " \n",
    "newX, newy = Ozone_prep()   \n",
    "\n",
    "# Kernel with parameters given in GPML book\n",
    "k1 = 66.0**2 * RBF(length_scale=67.0)  # long term smooth rising trend\n",
    "k2 = 2.4**2 * RBF(length_scale=90.0) \\\n",
    "    * ExpSineSquared(length_scale=1.3, periodicity=1.0)  # seasonal component\n",
    "# medium term irregularity\n",
    "k3 = 0.66**2 \\\n",
    "    * RationalQuadratic(length_scale=1.2, alpha=0.78)\n",
    "k4 = 0.18**2 * RBF(length_scale=0.134) \\\n",
    "    + WhiteKernel(noise_level=0.19**2)  # noise terms\n",
    "\n",
    "\n",
    "kernel_gpml = k1 + k2 + k3 + k4\n",
    "\n",
    "gp = GaussianProcessRegressor(kernel=kernel_gpml, alpha=0,\n",
    "                              optimizer=None, normalize_y=True)\n",
    "gp.fit(newX, newy)\n",
    "\n",
    "print(\"GPML kernel: %s\" % gp.kernel_)\n",
    "print(\"Log-marginal-likelihood: %.3f\"\n",
    "      % gp.log_marginal_likelihood(gp.kernel_.theta))\n",
    "\n",
    "# Kernel with optimized parameters\n",
    "k1 = 34.4**2 * RBF(length_scale=41.8)  # long term smooth rising trend\n",
    "k2 = 3.27**2 * RBF(length_scale=180.0) \\\n",
    "    * ExpSineSquared(length_scale=1.88, periodicity=1.0)\n",
    "                     \n",
    "k3 = 0.446**2 * RationalQuadratic(length_scale=0.957, alpha=17.7)\n",
    "k4 = 0.197**2 * RBF(length_scale=0.138) \\\n",
    "    + WhiteKernel(noise_level=0.0336)\n",
    "                 \n",
    "kernel = k1 + k2 + k3 + k4\n",
    "\n",
    "gp = GaussianProcessRegressor(kernel=kernel, alpha=0,\n",
    "                              normalize_y=True)\n",
    "gp.fit(newX, newy)\n",
    "\n",
    "print(\"\\nLearned kernel: %s\" % gp.kernel_)\n",
    "print(\"Log-marginal-likelihood: %.3f\"\n",
    "      % gp.log_marginal_likelihood(gp.kernel_.theta))\n",
    "\n",
    "X_ = np.linspace(newX.min(), newX.max() + 10, 1000)[:, np.newaxis]\n",
    "y_pred, y_std = gp.predict(X_, return_std=True)\n",
    "\n",
    "# Illustration\n",
    "plt.scatter(newX, newy, c='k')\n",
    "plt.plot(X_, y_pred)\n",
    "plt.fill_between(X_[:, 0], y_pred - y_std, y_pred + y_std,\n",
    "                 alpha=0.5, color='k')\n",
    "plt.xlim(X_.min(), X_.max())\n",
    "plt.xlabel(\"Year\")\n",
    "plt.ylabel(r\"Ozone ppm\")\n",
    "plt.title(r\"Atmospheric Ozone concentration at Cheyenne, WY area \")\n",
    "plt.tight_layout()\n",
    "plt.show()"
   ]
  },
  {
   "cell_type": "code",
   "execution_count": 3,
   "id": "dd9c8072",
   "metadata": {},
   "outputs": [],
   "source": [
    "# model does not converge but the Log-marginal-likelihood: -192.878\n",
    "# the noise level was reduced but the convergence flag was still triggered"
   ]
  },
  {
   "cell_type": "code",
   "execution_count": null,
   "id": "de098d0a",
   "metadata": {},
   "outputs": [],
   "source": []
  },
  {
   "cell_type": "code",
   "execution_count": null,
   "id": "8d5202e6",
   "metadata": {},
   "outputs": [],
   "source": []
  },
  {
   "cell_type": "code",
   "execution_count": null,
   "id": "9cf719b5",
   "metadata": {},
   "outputs": [],
   "source": []
  }
 ],
 "metadata": {
  "kernelspec": {
   "display_name": "Python [conda env:.conda-volenv]",
   "language": "python",
   "name": "conda-env-.conda-volenv-py"
  },
  "language_info": {
   "codemirror_mode": {
    "name": "ipython",
    "version": 3
   },
   "file_extension": ".py",
   "mimetype": "text/x-python",
   "name": "python",
   "nbconvert_exporter": "python",
   "pygments_lexer": "ipython3",
   "version": "3.7.6"
  },
  "widgets": {
   "application/vnd.jupyter.widget-state+json": {
    "state": {},
    "version_major": 2,
    "version_minor": 0
   }
  }
 },
 "nbformat": 4,
 "nbformat_minor": 5
}

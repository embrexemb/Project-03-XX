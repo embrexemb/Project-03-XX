{
 "cells": [
  {
   "cell_type": "code",
   "execution_count": 1,
   "metadata": {
    "jupyter": {
     "outputs_hidden": false
    }
   },
   "outputs": [],
   "source": [
    "%matplotlib inline"
   ]
  },
  {
   "cell_type": "markdown",
   "metadata": {},
   "source": [
    "\n",
    "# Iso-probability lines for Gaussian Processes classification (GPC)\n",
    "\n",
    "A two-dimensional classification example showing iso-probability lines for\n",
    "the predicted probabilities.\n"
   ]
  },
  {
   "cell_type": "code",
   "execution_count": 2,
   "metadata": {
    "jupyter": {
     "outputs_hidden": false
    }
   },
   "outputs": [
    {
     "name": "stdout",
     "output_type": "stream",
     "text": [
      "Automatically created module for IPython interactive environment\n",
      "Learned kernel: 0.0256**2 * DotProduct(sigma_0=5.72) ** 2 \n"
     ]
    },
    {
     "name": "stderr",
     "output_type": "stream",
     "text": [
      "<ipython-input-2-de8e3b3e5794>:69: MatplotlibDeprecationWarning: The 'norm' parameter to Colorbar has no effect because it is overridden by the mappable; it is deprecated since 3.3 and will be removed two minor releases later.\n",
      "  cb = plt.colorbar(cax, ticks=[0., 0.2, 0.4, 0.6, 0.8, 1.], norm=norm)\n"
     ]
    },
    {
     "data": {
      "image/png": "[encoded data removed]",
      "text/plain": [
       "<Figure size 432x288 with 2 Axes>"
      ]
     },
     "metadata": {
      "needs_background": "light"
     },
     "output_type": "display_data"
    }
   ],
   "source": [
    "print(__doc__)\n",
    "\n",
    "# Author: Vincent Dubourg <vincent.dubourg@gmail.com>\n",
    "# Adapted to GaussianProcessClassifier:\n",
    "#         Jan Hendrik Metzen <jhm@informatik.uni-bremen.de>\n",
    "# License: BSD 3 clause\n",
    "\n",
    "import numpy as np\n",
    "\n",
    "from matplotlib import pyplot as plt\n",
    "from matplotlib import cm\n",
    "\n",
    "from sklearn.gaussian_process import GaussianProcessClassifier\n",
    "from sklearn.gaussian_process.kernels import DotProduct, ConstantKernel as C\n",
    "\n",
    "# A few constants\n",
    "lim = 8\n",
    "\n",
    "\n",
    "def g(x):\n",
    "    \"\"\"The function to predict (classification will then consist in predicting\n",
    "    whether g(x) <= 0 or not)\"\"\"\n",
    "    return 5. - x[:, 1] - .5 * x[:, 0] ** 2.\n",
    "\n",
    "# Design of experiments\n",
    "X = np.array([[-4.61611719, -6.00099547],\n",
    "              [4.10469096, 5.32782448],\n",
    "              [0.00000000, -0.50000000],\n",
    "              [-6.17289014, -4.6984743],\n",
    "              [1.3109306, -6.93271427],\n",
    "              [-5.03823144, 3.10584743],\n",
    "              [-2.87600388, 6.74310541],\n",
    "              [5.21301203, 4.26386883]])\n",
    "\n",
    "# Observations\n",
    "y = np.array(g(X) > 0, dtype=int)\n",
    "\n",
    "# Instantiate and fit Gaussian Process Model\n",
    "kernel = C(0.1, (1e-5, np.inf)) * DotProduct(sigma_0=0.1) ** 2\n",
    "gp = GaussianProcessClassifier(kernel=kernel)\n",
    "gp.fit(X, y)\n",
    "print(\"Learned kernel: %s \" % gp.kernel_)\n",
    "\n",
    "# Evaluate real function and the predicted probability\n",
    "res = 50\n",
    "x1, x2 = np.meshgrid(np.linspace(- lim, lim, res),\n",
    "                     np.linspace(- lim, lim, res))\n",
    "xx = np.vstack([x1.reshape(x1.size), x2.reshape(x2.size)]).T\n",
    "\n",
    "y_true = g(xx)\n",
    "y_prob = gp.predict_proba(xx)[:, 1]\n",
    "y_true = y_true.reshape((res, res))\n",
    "y_prob = y_prob.reshape((res, res))\n",
    "\n",
    "# Plot the probabilistic classification iso-values\n",
    "fig = plt.figure(1)\n",
    "ax = fig.gca()\n",
    "ax.axes.set_aspect('equal')\n",
    "plt.xticks([])\n",
    "plt.yticks([])\n",
    "ax.set_xticklabels([])\n",
    "ax.set_yticklabels([])\n",
    "plt.xlabel('$x_1$')\n",
    "plt.ylabel('$x_2$')\n",
    "\n",
    "cax = plt.imshow(y_prob, cmap=cm.gray_r, alpha=0.8,\n",
    "                 extent=(-lim, lim, -lim, lim))\n",
    "norm = plt.matplotlib.colors.Normalize(vmin=0., vmax=0.9)\n",
    "cb = plt.colorbar(cax, ticks=[0., 0.2, 0.4, 0.6, 0.8, 1.], norm=norm)\n",
    "cb.set_label(r'${\\rm \\mathbb{P}}\\left[\\widehat{G}(\\mathbf{x}) \\leq 0\\right]$')\n",
    "plt.clim(0, 1)\n",
    "\n",
    "plt.plot(X[y <= 0, 0], X[y <= 0, 1], 'r.', markersize=12)\n",
    "\n",
    "plt.plot(X[y > 0, 0], X[y > 0, 1], 'b.', markersize=12)\n",
    "\n",
    "plt.contour(x1, x2, y_true, [0.], colors='k', linestyles='dashdot')\n",
    "\n",
    "cs = plt.contour(x1, x2, y_prob, [0.666], colors='b',\n",
    "                 linestyles='solid')\n",
    "plt.clabel(cs, fontsize=11)\n",
    "\n",
    "cs = plt.contour(x1, x2, y_prob, [0.5], colors='k',\n",
    "                 linestyles='dashed')\n",
    "plt.clabel(cs, fontsize=11)\n",
    "\n",
    "cs = plt.contour(x1, x2, y_prob, [0.334], colors='r',\n",
    "                 linestyles='solid')\n",
    "plt.clabel(cs, fontsize=11)\n",
    "\n",
    "plt.show()"
   ]
  },
  {
   "cell_type": "code",
   "execution_count": null,
   "metadata": {},
   "outputs": [],
   "source": []
  }
 ],
 "metadata": {
  "kernelspec": {
   "display_name": "Python [conda env:.conda-Machine_Learning]",
   "language": "python",
   "name": "conda-env-.conda-Machine_Learning-py"
  },
  "language_info": {
   "codemirror_mode": {
    "name": "ipython",
    "version": 3
   },
   "file_extension": ".py",
   "mimetype": "text/x-python",
   "name": "python",
   "nbconvert_exporter": "python",
   "pygments_lexer": "ipython3",
   "version": "3.8.10"
  }
 },
 "nbformat": 4,
 "nbformat_minor": 4
}

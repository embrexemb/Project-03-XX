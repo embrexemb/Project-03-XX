{
 "cells": [
  {
   "cell_type": "code",
   "execution_count": null,
   "metadata": {
    "jupyter": {
     "outputs_hidden": false
    }
   },
   "outputs": [],
   "source": [
    "%matplotlib inline"
   ]
  },
  {
   "cell_type": "markdown",
   "metadata": {},
   "source": [
    "\n",
    "# Gaussian process regression (GPR) with noise-level estimation\n",
    "\n",
    "This example illustrates that GPR with a sum-kernel including a WhiteKernel can\n",
    "estimate the noise level of data. An illustration of the\n",
    "log-marginal-likelihood (LML) landscape shows that there exist two local\n",
    "maxima of LML. The first corresponds to a model with a high noise level and a\n",
    "large length scale, which explains all variations in the data by noise. The\n",
    "second one has a smaller noise level and shorter length scale, which explains\n",
    "most of the variation by the noise-free functional relationship. The second\n",
    "model has a higher likelihood; however, depending on the initial value for the\n",
    "hyperparameters, the gradient-based optimization might also converge to the\n",
    "high-noise solution. It is thus important to repeat the optimization several\n",
    "times for different initializations.\n"
   ]
  },
  {
   "cell_type": "code",
   "execution_count": null,
   "metadata": {
    "jupyter": {
     "outputs_hidden": false
    }
   },
   "outputs": [],
   "source": [
    "print(__doc__)\n",
    "\n",
    "# Authors: Jan Hendrik Metzen <jhm@informatik.uni-bremen.de>\n",
    "#\n",
    "# License: BSD 3 clause\n",
    "\n",
    "import numpy as np\n",
    "\n",
    "from matplotlib import pyplot as plt\n",
    "from matplotlib.colors import LogNorm\n",
    "\n",
    "from sklearn.gaussian_process import GaussianProcessRegressor\n",
    "from sklearn.gaussian_process.kernels import RBF, WhiteKernel\n",
    "\n",
    "\n",
    "rng = np.random.RandomState(0)\n",
    "X = rng.uniform(0, 5, 20)[:, np.newaxis]\n",
    "y = 0.5 * np.sin(3 * X[:, 0]) + rng.normal(0, 0.5, X.shape[0])\n",
    "\n",
    "# First run\n",
    "plt.figure()\n",
    "kernel = 1.0 * RBF(length_scale=100.0, length_scale_bounds=(1e-2, 1e3)) \\\n",
    "    + WhiteKernel(noise_level=1, noise_level_bounds=(1e-10, 1e+1))\n",
    "gp = GaussianProcessRegressor(kernel=kernel,\n",
    "                              alpha=0.0).fit(X, y)\n",
    "X_ = np.linspace(0, 5, 100)\n",
    "y_mean, y_cov = gp.predict(X_[:, np.newaxis], return_cov=True)\n",
    "plt.plot(X_, y_mean, 'k', lw=3, zorder=9)\n",
    "plt.fill_between(X_, y_mean - np.sqrt(np.diag(y_cov)),\n",
    "                 y_mean + np.sqrt(np.diag(y_cov)),\n",
    "                 alpha=0.5, color='k')\n",
    "plt.plot(X_, 0.5*np.sin(3*X_), 'r', lw=3, zorder=9)\n",
    "plt.scatter(X[:, 0], y, c='r', s=50, zorder=10, edgecolors=(0, 0, 0))\n",
    "plt.title(\"Initial: %s\\nOptimum: %s\\nLog-Marginal-Likelihood: %s\"\n",
    "          % (kernel, gp.kernel_,\n",
    "             gp.log_marginal_likelihood(gp.kernel_.theta)))\n",
    "plt.tight_layout()\n",
    "\n",
    "# Second run\n",
    "plt.figure()\n",
    "kernel = 1.0 * RBF(length_scale=1.0, length_scale_bounds=(1e-2, 1e3)) \\\n",
    "    + WhiteKernel(noise_level=1e-5, noise_level_bounds=(1e-10, 1e+1))\n",
    "gp = GaussianProcessRegressor(kernel=kernel,\n",
    "                              alpha=0.0).fit(X, y)\n",
    "X_ = np.linspace(0, 5, 100)\n",
    "y_mean, y_cov = gp.predict(X_[:, np.newaxis], return_cov=True)\n",
    "plt.plot(X_, y_mean, 'k', lw=3, zorder=9)\n",
    "plt.fill_between(X_, y_mean - np.sqrt(np.diag(y_cov)),\n",
    "                 y_mean + np.sqrt(np.diag(y_cov)),\n",
    "                 alpha=0.5, color='k')\n",
    "plt.plot(X_, 0.5*np.sin(3*X_), 'r', lw=3, zorder=9)\n",
    "plt.scatter(X[:, 0], y, c='r', s=50, zorder=10, edgecolors=(0, 0, 0))\n",
    "plt.title(\"Initial: %s\\nOptimum: %s\\nLog-Marginal-Likelihood: %s\"\n",
    "          % (kernel, gp.kernel_,\n",
    "             gp.log_marginal_likelihood(gp.kernel_.theta)))\n",
    "plt.tight_layout()\n",
    "\n",
    "# Plot LML landscape\n",
    "plt.figure()\n",
    "theta0 = np.logspace(-2, 3, 49)\n",
    "theta1 = np.logspace(-2, 0, 50)\n",
    "Theta0, Theta1 = np.meshgrid(theta0, theta1)\n",
    "LML = [[gp.log_marginal_likelihood(np.log([0.36, Theta0[i, j], Theta1[i, j]]))\n",
    "        for i in range(Theta0.shape[0])] for j in range(Theta0.shape[1])]\n",
    "LML = np.array(LML).T\n",
    "\n",
    "vmin, vmax = (-LML).min(), (-LML).max()\n",
    "vmax = 50\n",
    "level = np.around(np.logspace(np.log10(vmin), np.log10(vmax), 50), decimals=1)\n",
    "plt.contour(Theta0, Theta1, -LML,\n",
    "            levels=level, norm=LogNorm(vmin=vmin, vmax=vmax))\n",
    "plt.colorbar()\n",
    "plt.xscale(\"log\")\n",
    "plt.yscale(\"log\")\n",
    "plt.xlabel(\"Length-scale\")\n",
    "plt.ylabel(\"Noise-level\")\n",
    "plt.title(\"Log-marginal-likelihood\")\n",
    "plt.tight_layout()\n",
    "\n",
    "plt.show()"
   ]
  }
 ],
 "metadata": {
  "kernelspec": {
   "display_name": "Python [conda env:.conda-Machine_Learning]",
   "language": "python",
   "name": "conda-env-.conda-Machine_Learning-py"
  },
  "language_info": {
   "codemirror_mode": {
    "name": "ipython",
    "version": 3
   },
   "file_extension": ".py",
   "mimetype": "text/x-python",
   "name": "python",
   "nbconvert_exporter": "python",
   "pygments_lexer": "ipython3",
   "version": "3.8.10"
  }
 },
 "nbformat": 4,
 "nbformat_minor": 4
}

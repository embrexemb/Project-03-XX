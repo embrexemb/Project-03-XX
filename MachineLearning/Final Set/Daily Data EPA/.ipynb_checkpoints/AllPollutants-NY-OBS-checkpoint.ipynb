{
 "cells": [
  {
   "cell_type": "code",
   "execution_count": 1,
   "id": "1cb2f947",
   "metadata": {},
   "outputs": [],
   "source": [
    "import pandas as pd\n",
    "import numpy as np\n",
    "\n",
    "# Hide warning messages in notebook\n",
    "import warnings\n",
    "warnings.filterwarnings('ignore')"
   ]
  },
  {
   "cell_type": "markdown",
   "id": "07233f7f",
   "metadata": {},
   "source": [
    "2016 Data"
   ]
  },
  {
   "cell_type": "code",
   "execution_count": 2,
   "id": "73982df7",
   "metadata": {},
   "outputs": [
    {
     "data": {
      "text/html": [
       "<div>\n",
       "<style scoped>\n",
       "    .dataframe tbody tr th:only-of-type {\n",
       "        vertical-align: middle;\n",
       "    }\n",
       "\n",
       "    .dataframe tbody tr th {\n",
       "        vertical-align: top;\n",
       "    }\n",
       "\n",
       "    .dataframe thead th {\n",
       "        text-align: right;\n",
       "    }\n",
       "</style>\n",
       "<table border=\"1\" class=\"dataframe\">\n",
       "  <thead>\n",
       "    <tr style=\"text-align: right;\">\n",
       "      <th></th>\n",
       "      <th>Site Name</th>\n",
       "      <th>Date</th>\n",
       "      <th>Daily Mean PM10 Concentration</th>\n",
       "      <th>UNITS</th>\n",
       "      <th>DAILY_AQI_VALUE</th>\n",
       "      <th>DAILY_OBS_COUNT</th>\n",
       "      <th>SITE_LATITUDE</th>\n",
       "      <th>SITE_LONGITUDE</th>\n",
       "    </tr>\n",
       "  </thead>\n",
       "  <tbody>\n",
       "    <tr>\n",
       "      <th>0</th>\n",
       "      <td>Azusa</td>\n",
       "      <td>1/4/2020</td>\n",
       "      <td>25</td>\n",
       "      <td>ug/m3 SC</td>\n",
       "      <td>23</td>\n",
       "      <td>1</td>\n",
       "      <td>34.13650</td>\n",
       "      <td>-117.92391</td>\n",
       "    </tr>\n",
       "    <tr>\n",
       "      <th>1</th>\n",
       "      <td>Azusa</td>\n",
       "      <td>1/10/2020</td>\n",
       "      <td>20</td>\n",
       "      <td>ug/m3 SC</td>\n",
       "      <td>19</td>\n",
       "      <td>1</td>\n",
       "      <td>34.13650</td>\n",
       "      <td>-117.92391</td>\n",
       "    </tr>\n",
       "    <tr>\n",
       "      <th>2</th>\n",
       "      <td>Azusa</td>\n",
       "      <td>1/16/2020</td>\n",
       "      <td>32</td>\n",
       "      <td>ug/m3 SC</td>\n",
       "      <td>30</td>\n",
       "      <td>1</td>\n",
       "      <td>34.13650</td>\n",
       "      <td>-117.92391</td>\n",
       "    </tr>\n",
       "    <tr>\n",
       "      <th>3</th>\n",
       "      <td>Azusa</td>\n",
       "      <td>1/22/2020</td>\n",
       "      <td>21</td>\n",
       "      <td>ug/m3 SC</td>\n",
       "      <td>19</td>\n",
       "      <td>1</td>\n",
       "      <td>34.13650</td>\n",
       "      <td>-117.92391</td>\n",
       "    </tr>\n",
       "    <tr>\n",
       "      <th>4</th>\n",
       "      <td>Azusa</td>\n",
       "      <td>1/28/2020</td>\n",
       "      <td>23</td>\n",
       "      <td>ug/m3 SC</td>\n",
       "      <td>21</td>\n",
       "      <td>1</td>\n",
       "      <td>34.13650</td>\n",
       "      <td>-117.92391</td>\n",
       "    </tr>\n",
       "    <tr>\n",
       "      <th>...</th>\n",
       "      <td>...</td>\n",
       "      <td>...</td>\n",
       "      <td>...</td>\n",
       "      <td>...</td>\n",
       "      <td>...</td>\n",
       "      <td>...</td>\n",
       "      <td>...</td>\n",
       "      <td>...</td>\n",
       "    </tr>\n",
       "    <tr>\n",
       "      <th>1382</th>\n",
       "      <td>Mission Viejo</td>\n",
       "      <td>12/5/2020</td>\n",
       "      <td>16</td>\n",
       "      <td>ug/m3 SC</td>\n",
       "      <td>15</td>\n",
       "      <td>1</td>\n",
       "      <td>33.63003</td>\n",
       "      <td>-117.67593</td>\n",
       "    </tr>\n",
       "    <tr>\n",
       "      <th>1383</th>\n",
       "      <td>Mission Viejo</td>\n",
       "      <td>12/11/2020</td>\n",
       "      <td>17</td>\n",
       "      <td>ug/m3 SC</td>\n",
       "      <td>16</td>\n",
       "      <td>1</td>\n",
       "      <td>33.63003</td>\n",
       "      <td>-117.67593</td>\n",
       "    </tr>\n",
       "    <tr>\n",
       "      <th>1384</th>\n",
       "      <td>Mission Viejo</td>\n",
       "      <td>12/17/2020</td>\n",
       "      <td>11</td>\n",
       "      <td>ug/m3 SC</td>\n",
       "      <td>10</td>\n",
       "      <td>1</td>\n",
       "      <td>33.63003</td>\n",
       "      <td>-117.67593</td>\n",
       "    </tr>\n",
       "    <tr>\n",
       "      <th>1385</th>\n",
       "      <td>Mission Viejo</td>\n",
       "      <td>12/23/2020</td>\n",
       "      <td>22</td>\n",
       "      <td>ug/m3 SC</td>\n",
       "      <td>20</td>\n",
       "      <td>1</td>\n",
       "      <td>33.63003</td>\n",
       "      <td>-117.67593</td>\n",
       "    </tr>\n",
       "    <tr>\n",
       "      <th>1386</th>\n",
       "      <td>Mission Viejo</td>\n",
       "      <td>12/29/2020</td>\n",
       "      <td>4</td>\n",
       "      <td>ug/m3 SC</td>\n",
       "      <td>4</td>\n",
       "      <td>1</td>\n",
       "      <td>33.63003</td>\n",
       "      <td>-117.67593</td>\n",
       "    </tr>\n",
       "  </tbody>\n",
       "</table>\n",
       "<p>1387 rows × 8 columns</p>\n",
       "</div>"
      ],
      "text/plain": [
       "          Site Name        Date  Daily Mean PM10 Concentration     UNITS  \\\n",
       "0             Azusa    1/4/2020                             25  ug/m3 SC   \n",
       "1             Azusa   1/10/2020                             20  ug/m3 SC   \n",
       "2             Azusa   1/16/2020                             32  ug/m3 SC   \n",
       "3             Azusa   1/22/2020                             21  ug/m3 SC   \n",
       "4             Azusa   1/28/2020                             23  ug/m3 SC   \n",
       "...             ...         ...                            ...       ...   \n",
       "1382  Mission Viejo   12/5/2020                             16  ug/m3 SC   \n",
       "1383  Mission Viejo  12/11/2020                             17  ug/m3 SC   \n",
       "1384  Mission Viejo  12/17/2020                             11  ug/m3 SC   \n",
       "1385  Mission Viejo  12/23/2020                             22  ug/m3 SC   \n",
       "1386  Mission Viejo  12/29/2020                              4  ug/m3 SC   \n",
       "\n",
       "      DAILY_AQI_VALUE  DAILY_OBS_COUNT  SITE_LATITUDE  SITE_LONGITUDE  \n",
       "0                  23                1       34.13650      -117.92391  \n",
       "1                  19                1       34.13650      -117.92391  \n",
       "2                  30                1       34.13650      -117.92391  \n",
       "3                  19                1       34.13650      -117.92391  \n",
       "4                  21                1       34.13650      -117.92391  \n",
       "...               ...              ...            ...             ...  \n",
       "1382               15                1       33.63003      -117.67593  \n",
       "1383               16                1       33.63003      -117.67593  \n",
       "1384               10                1       33.63003      -117.67593  \n",
       "1385               20                1       33.63003      -117.67593  \n",
       "1386                4                1       33.63003      -117.67593  \n",
       "\n",
       "[1387 rows x 8 columns]"
      ]
     },
     "execution_count": 2,
     "metadata": {},
     "output_type": "execute_result"
    }
   ],
   "source": [
    "#files to load \n",
    "LA_CO_2020 = \"CO-CarbonMonoxide/2020-LA-CO.csv\"\n",
    "LA_NO_2020 = \"NitrogenDioxide/2020-LA-NO2.csv\"\n",
    "LA_O_2020 = \"Ozone/2020-LA-Ozone.csv\"\n",
    "#no lead for LA\n",
    "LA_PM_2020 = \"PM-ParticulateMatter/2020-LA-PM10.csv\"\n",
    "LA_SO_2020 = \"SulfurDioxide/2020-LA-SO2.csv\"\n",
    "\n",
    "#Read files into Pandas dataframe\n",
    "\n",
    "df_2020_CO = pd.read_csv(LA_CO_2020)\n",
    "df_2020_NO = pd.read_csv(LA_NO_2020)\n",
    "df_2020_O = pd.read_csv(LA_O_2020)\n",
    "df_2020_PM = pd.read_csv(LA_PM_2020)\n",
    "df_2020_SO = pd.read_csv(LA_SO_2020)\n",
    "\n",
    "\n",
    "df_2020_PM=df_2020_PM[['Site Name','Date','Daily Mean PM10 Concentration','UNITS','DAILY_AQI_VALUE', 'DAILY_OBS_COUNT', 'SITE_LATITUDE','SITE_LONGITUDE' ]]\n",
    "\n",
    "df_2020_CO=df_2020_CO[['Site Name','Date','Daily Max 8-hour CO Concentration','UNITS','DAILY_AQI_VALUE','DAILY_OBS_COUNT']]\n",
    "\n",
    "df_2020_NO=df_2020_NO[['Site Name','Date','Daily Max 1-hour NO2 Concentration','UNITS','DAILY_AQI_VALUE','DAILY_OBS_COUNT']]\n",
    "\n",
    "df_2020_O=df_2020_O[['Site Name','Date','Daily Max 8-hour Ozone Concentration','UNITS','DAILY_AQI_VALUE','DAILY_OBS_COUNT']]\n",
    "\n",
    "df_2020_SO=df_2020_SO[['Site Name','Date','Daily Max 1-hour SO2 Concentration','UNITS','DAILY_AQI_VALUE','DAILY_OBS_COUNT']]\n",
    "\n",
    "\n",
    "df_2020_PM\n",
    "\n"
   ]
  },
  {
   "cell_type": "markdown",
   "id": "76ff2ccd",
   "metadata": {},
   "source": [
    "print(df_2016_O.count())\n",
    "print(df_2016_CO.count())\n",
    "print(df_2016_NO.count())\n",
    "print(df_2016_PM.count())\n",
    "print(df_2016_SO.count()) "
   ]
  },
  {
   "cell_type": "markdown",
   "id": "b31c03f3",
   "metadata": {},
   "source": [
    "Scratched\n",
    "#Cheyenne_2016_All = left.join(right, on=['Site Name'])\n",
    "#Cheyenne_2016_All = pd.concat([left, right], axis=1)\n",
    "#Cheyenne_2016_All = pd.merge(left.drop_duplicates(),right, how='inner', on='Site Name', validate='many_to_many')\n",
    "#C_2016=pd.merge(left.drop_duplicates(), right, how = 'inner',on=['col_1','col_2'])\n",
    "#C_2016=pd.concat([left, right],axis=1 )"
   ]
  },
  {
   "cell_type": "code",
   "execution_count": 3,
   "id": "de5e9cd9",
   "metadata": {},
   "outputs": [],
   "source": [
    "left = df_2020_PM\n",
    "right = df_2020_NO\n",
    "LA_2020_All = pd.merge(left, right, on=['Site Name','Date'],how='outer', indicator=True) \n"
   ]
  },
  {
   "cell_type": "code",
   "execution_count": 4,
   "id": "0feb64a3",
   "metadata": {},
   "outputs": [],
   "source": [
    "left = LA_2020_All\n",
    "right = df_2020_O\n",
    "LA_2020_All = pd.merge(left, right, on=['Site Name','Date'],how='outer') \n"
   ]
  },
  {
   "cell_type": "code",
   "execution_count": 5,
   "id": "432b3ca1",
   "metadata": {},
   "outputs": [],
   "source": [
    "left = LA_2020_All\n",
    "right = df_2020_SO\n",
    "LA_2020_All = pd.merge(left, right, on=['Site Name','Date'],how='outer') \n"
   ]
  },
  {
   "cell_type": "code",
   "execution_count": 6,
   "id": "9625eecd",
   "metadata": {},
   "outputs": [],
   "source": [
    "left = LA_2020_All\n",
    "right = df_2020_CO\n",
    "LA_2020_All = pd.merge(left, right, on=['Site Name','Date'],how='outer') \n"
   ]
  },
  {
   "cell_type": "code",
   "execution_count": 7,
   "id": "ff4f01b8",
   "metadata": {},
   "outputs": [],
   "source": [
    "#LA_2016_All.columns\n"
   ]
  },
  {
   "cell_type": "code",
   "execution_count": 8,
   "id": "72add38e",
   "metadata": {},
   "outputs": [],
   "source": [
    "#LA_2016_All.count()\n"
   ]
  },
  {
   "cell_type": "code",
   "execution_count": 9,
   "id": "f68445ee",
   "metadata": {},
   "outputs": [],
   "source": [
    "LA_2020_All.columns=['Site Name','Date','DMean PM10','PM_UNITS','PM10 AQI','PM-WEIGHT','Lat','Lng','DMax NO2','NO2 Units','NO2 AQI','NO2-WEIGHT','Merged','DMax Ozone','Ozone Units','Ozone AQI','OZONE-WEIGHT','DMax SO2','SO2 Units','SO2 AQI','SO2-WEIGHT','DMax CO','CO Units','CO AQI','CO-WEIGHT']\n",
    "\n"
   ]
  },
  {
   "cell_type": "code",
   "execution_count": 10,
   "id": "cd7a52bc",
   "metadata": {},
   "outputs": [],
   "source": [
    "#LA_2016_All.count()\n"
   ]
  },
  {
   "cell_type": "code",
   "execution_count": 11,
   "id": "05c03bf2",
   "metadata": {},
   "outputs": [],
   "source": [
    "LA_2020_All.drop('Merged',axis=1,inplace=True)\n",
    "LA_2020_All.to_csv(\"LA2020DF.csv\")"
   ]
  },
  {
   "cell_type": "code",
   "execution_count": null,
   "id": "40700ceb",
   "metadata": {},
   "outputs": [],
   "source": []
  }
 ],
 "metadata": {
  "kernelspec": {
   "display_name": "Python [conda env:.conda-Machine_Learning]",
   "language": "python",
   "name": "conda-env-.conda-Machine_Learning-py"
  },
  "language_info": {
   "codemirror_mode": {
    "name": "ipython",
    "version": 3
   },
   "file_extension": ".py",
   "mimetype": "text/x-python",
   "name": "python",
   "nbconvert_exporter": "python",
   "pygments_lexer": "ipython3",
   "version": "3.8.10"
  },
  "widgets": {
   "application/vnd.jupyter.widget-state+json": {
    "state": {},
    "version_major": 2,
    "version_minor": 0
   }
  }
 },
 "nbformat": 4,
 "nbformat_minor": 5
}

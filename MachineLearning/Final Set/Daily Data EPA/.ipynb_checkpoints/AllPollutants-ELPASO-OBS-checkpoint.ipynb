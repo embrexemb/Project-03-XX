{
 "cells": [
  {
   "cell_type": "code",
   "execution_count": 1,
   "id": "1cb2f947",
   "metadata": {},
   "outputs": [],
   "source": [
    "import pandas as pd\n",
    "import numpy as np\n",
    "\n",
    "# Hide warning messages in notebook\n",
    "import warnings\n",
    "warnings.filterwarnings('ignore')"
   ]
  },
  {
   "cell_type": "markdown",
   "id": "07233f7f",
   "metadata": {},
   "source": [
    "2016 Data"
   ]
  },
  {
   "cell_type": "code",
   "execution_count": 2,
   "id": "73982df7",
   "metadata": {},
   "outputs": [
    {
     "data": {
      "text/html": [
       "<div>\n",
       "<style scoped>\n",
       "    .dataframe tbody tr th:only-of-type {\n",
       "        vertical-align: middle;\n",
       "    }\n",
       "\n",
       "    .dataframe tbody tr th {\n",
       "        vertical-align: top;\n",
       "    }\n",
       "\n",
       "    .dataframe thead th {\n",
       "        text-align: right;\n",
       "    }\n",
       "</style>\n",
       "<table border=\"1\" class=\"dataframe\">\n",
       "  <thead>\n",
       "    <tr style=\"text-align: right;\">\n",
       "      <th></th>\n",
       "      <th>Site Name</th>\n",
       "      <th>Date</th>\n",
       "      <th>Daily Mean PM10 Concentration</th>\n",
       "      <th>UNITS</th>\n",
       "      <th>DAILY_AQI_VALUE</th>\n",
       "      <th>DAILY_OBS_COUNT</th>\n",
       "      <th>SITE_LATITUDE</th>\n",
       "      <th>SITE_LONGITUDE</th>\n",
       "    </tr>\n",
       "  </thead>\n",
       "  <tbody>\n",
       "    <tr>\n",
       "      <th>0</th>\n",
       "      <td>Cheyenne SLAMS site</td>\n",
       "      <td>1/4/2020</td>\n",
       "      <td>3</td>\n",
       "      <td>ug/m3 SC</td>\n",
       "      <td>3</td>\n",
       "      <td>1</td>\n",
       "      <td>41.136846</td>\n",
       "      <td>-104.818240</td>\n",
       "    </tr>\n",
       "    <tr>\n",
       "      <th>1</th>\n",
       "      <td>Cheyenne SLAMS site</td>\n",
       "      <td>1/10/2020</td>\n",
       "      <td>6</td>\n",
       "      <td>ug/m3 SC</td>\n",
       "      <td>6</td>\n",
       "      <td>1</td>\n",
       "      <td>41.136846</td>\n",
       "      <td>-104.818240</td>\n",
       "    </tr>\n",
       "    <tr>\n",
       "      <th>2</th>\n",
       "      <td>Cheyenne SLAMS site</td>\n",
       "      <td>1/16/2020</td>\n",
       "      <td>27</td>\n",
       "      <td>ug/m3 SC</td>\n",
       "      <td>25</td>\n",
       "      <td>1</td>\n",
       "      <td>41.136846</td>\n",
       "      <td>-104.818240</td>\n",
       "    </tr>\n",
       "    <tr>\n",
       "      <th>3</th>\n",
       "      <td>Cheyenne SLAMS site</td>\n",
       "      <td>1/22/2020</td>\n",
       "      <td>6</td>\n",
       "      <td>ug/m3 SC</td>\n",
       "      <td>6</td>\n",
       "      <td>1</td>\n",
       "      <td>41.136846</td>\n",
       "      <td>-104.818240</td>\n",
       "    </tr>\n",
       "    <tr>\n",
       "      <th>4</th>\n",
       "      <td>Cheyenne SLAMS site</td>\n",
       "      <td>1/28/2020</td>\n",
       "      <td>3</td>\n",
       "      <td>ug/m3 SC</td>\n",
       "      <td>3</td>\n",
       "      <td>1</td>\n",
       "      <td>41.136846</td>\n",
       "      <td>-104.818240</td>\n",
       "    </tr>\n",
       "    <tr>\n",
       "      <th>...</th>\n",
       "      <td>...</td>\n",
       "      <td>...</td>\n",
       "      <td>...</td>\n",
       "      <td>...</td>\n",
       "      <td>...</td>\n",
       "      <td>...</td>\n",
       "      <td>...</td>\n",
       "      <td>...</td>\n",
       "    </tr>\n",
       "    <tr>\n",
       "      <th>608</th>\n",
       "      <td>Cheyenne NCore</td>\n",
       "      <td>12/27/2020</td>\n",
       "      <td>1</td>\n",
       "      <td>ug/m3 SC</td>\n",
       "      <td>1</td>\n",
       "      <td>1</td>\n",
       "      <td>41.182227</td>\n",
       "      <td>-104.778334</td>\n",
       "    </tr>\n",
       "    <tr>\n",
       "      <th>609</th>\n",
       "      <td>Cheyenne NCore</td>\n",
       "      <td>12/28/2020</td>\n",
       "      <td>4</td>\n",
       "      <td>ug/m3 SC</td>\n",
       "      <td>4</td>\n",
       "      <td>1</td>\n",
       "      <td>41.182227</td>\n",
       "      <td>-104.778334</td>\n",
       "    </tr>\n",
       "    <tr>\n",
       "      <th>610</th>\n",
       "      <td>Cheyenne NCore</td>\n",
       "      <td>12/29/2020</td>\n",
       "      <td>2</td>\n",
       "      <td>ug/m3 SC</td>\n",
       "      <td>2</td>\n",
       "      <td>1</td>\n",
       "      <td>41.182227</td>\n",
       "      <td>-104.778334</td>\n",
       "    </tr>\n",
       "    <tr>\n",
       "      <th>611</th>\n",
       "      <td>Cheyenne NCore</td>\n",
       "      <td>12/30/2020</td>\n",
       "      <td>4</td>\n",
       "      <td>ug/m3 SC</td>\n",
       "      <td>4</td>\n",
       "      <td>1</td>\n",
       "      <td>41.182227</td>\n",
       "      <td>-104.778334</td>\n",
       "    </tr>\n",
       "    <tr>\n",
       "      <th>612</th>\n",
       "      <td>Cheyenne NCore</td>\n",
       "      <td>12/31/2020</td>\n",
       "      <td>3</td>\n",
       "      <td>ug/m3 SC</td>\n",
       "      <td>3</td>\n",
       "      <td>1</td>\n",
       "      <td>41.182227</td>\n",
       "      <td>-104.778334</td>\n",
       "    </tr>\n",
       "  </tbody>\n",
       "</table>\n",
       "<p>613 rows × 8 columns</p>\n",
       "</div>"
      ],
      "text/plain": [
       "               Site Name        Date  Daily Mean PM10 Concentration     UNITS  \\\n",
       "0    Cheyenne SLAMS site    1/4/2020                              3  ug/m3 SC   \n",
       "1    Cheyenne SLAMS site   1/10/2020                              6  ug/m3 SC   \n",
       "2    Cheyenne SLAMS site   1/16/2020                             27  ug/m3 SC   \n",
       "3    Cheyenne SLAMS site   1/22/2020                              6  ug/m3 SC   \n",
       "4    Cheyenne SLAMS site   1/28/2020                              3  ug/m3 SC   \n",
       "..                   ...         ...                            ...       ...   \n",
       "608       Cheyenne NCore  12/27/2020                              1  ug/m3 SC   \n",
       "609       Cheyenne NCore  12/28/2020                              4  ug/m3 SC   \n",
       "610       Cheyenne NCore  12/29/2020                              2  ug/m3 SC   \n",
       "611       Cheyenne NCore  12/30/2020                              4  ug/m3 SC   \n",
       "612       Cheyenne NCore  12/31/2020                              3  ug/m3 SC   \n",
       "\n",
       "     DAILY_AQI_VALUE  DAILY_OBS_COUNT  SITE_LATITUDE  SITE_LONGITUDE  \n",
       "0                  3                1      41.136846     -104.818240  \n",
       "1                  6                1      41.136846     -104.818240  \n",
       "2                 25                1      41.136846     -104.818240  \n",
       "3                  6                1      41.136846     -104.818240  \n",
       "4                  3                1      41.136846     -104.818240  \n",
       "..               ...              ...            ...             ...  \n",
       "608                1                1      41.182227     -104.778334  \n",
       "609                4                1      41.182227     -104.778334  \n",
       "610                2                1      41.182227     -104.778334  \n",
       "611                4                1      41.182227     -104.778334  \n",
       "612                3                1      41.182227     -104.778334  \n",
       "\n",
       "[613 rows x 8 columns]"
      ]
     },
     "execution_count": 2,
     "metadata": {},
     "output_type": "execute_result"
    }
   ],
   "source": [
    "#files to load \n",
    "ElPaso_CO_2020 = \"CO-CarbonMonoxide/2020-ElPaso-CO.csv\"\n",
    "ElPaso_NO_2020 = \"NitrogenDioxide/2020-ElPaso-NO2.csv\"\n",
    "ElPaso_O_2020 = \"Ozone/2020-ElPaso-Ozone.csv\"\n",
    "#no lead for ElPaso\n",
    "ElPaso_PM_2020 = \"PM-ParticulateMatter/2020-ElPaso-PM10.csv\"\n",
    "ElPaso_SO_2020 = \"SulfurDioxide/2020-ElPaso-SO2.csv\"\n",
    "\n",
    "#Read files into Pandas dataframe\n",
    "\n",
    "df_2020_CO = pd.read_csv(ElPaso_CO_2020)\n",
    "df_2020_NO = pd.read_csv(ElPaso_NO_2020)\n",
    "df_2020_O = pd.read_csv(ElPaso_O_2020)\n",
    "df_2020_PM = pd.read_csv(ElPaso_PM_2020)\n",
    "df_2020_SO = pd.read_csv(ElPaso_SO_2020)\n",
    "\n",
    "\n",
    "df_2020_PM=df_2020_PM[['Site Name','Date','Daily Mean PM10 Concentration','UNITS','DAILY_AQI_VALUE', 'DAILY_OBS_COUNT', 'SITE_LATITUDE','SITE_LONGITUDE' ]]\n",
    "\n",
    "df_2020_CO=df_2020_CO[['Site Name','Date','Daily Max 8-hour CO Concentration','UNITS','DAILY_AQI_VALUE','DAILY_OBS_COUNT']]\n",
    "\n",
    "df_2020_NO=df_2020_NO[['Site Name','Date','Daily Max 1-hour NO2 Concentration','UNITS','DAILY_AQI_VALUE','DAILY_OBS_COUNT']]\n",
    "\n",
    "df_2020_O=df_2020_O[['Site Name','Date','Daily Max 8-hour Ozone Concentration','UNITS','DAILY_AQI_VALUE','DAILY_OBS_COUNT']]\n",
    "\n",
    "df_2020_SO=df_2020_SO[['Site Name','Date','Daily Max 1-hour SO2 Concentration','UNITS','DAILY_AQI_VALUE','DAILY_OBS_COUNT']]\n",
    "\n",
    "\n",
    "df_2020_PM\n",
    "\n"
   ]
  },
  {
   "cell_type": "markdown",
   "id": "76ff2ccd",
   "metadata": {},
   "source": [
    "print(df_2016_O.count())\n",
    "print(df_2016_CO.count())\n",
    "print(df_2016_NO.count())\n",
    "print(df_2016_PM.count())\n",
    "print(df_2016_SO.count()) "
   ]
  },
  {
   "cell_type": "markdown",
   "id": "b31c03f3",
   "metadata": {},
   "source": [
    "Scratched\n",
    "#Cheyenne_2016_All = left.join(right, on=['Site Name'])\n",
    "#Cheyenne_2016_All = pd.concat([left, right], axis=1)\n",
    "#Cheyenne_2016_All = pd.merge(left.drop_duplicates(),right, how='inner', on='Site Name', validate='many_to_many')\n",
    "#C_2016=pd.merge(left.drop_duplicates(), right, how = 'inner',on=['col_1','col_2'])\n",
    "#C_2016=pd.concat([left, right],axis=1 )"
   ]
  },
  {
   "cell_type": "code",
   "execution_count": 3,
   "id": "de5e9cd9",
   "metadata": {},
   "outputs": [],
   "source": [
    "left = df_2020_PM\n",
    "right = df_2020_NO\n",
    "ElPaso_2020_All = pd.merge(left, right, on=['Site Name','Date'],how='outer', indicator=True) \n"
   ]
  },
  {
   "cell_type": "code",
   "execution_count": 4,
   "id": "0feb64a3",
   "metadata": {},
   "outputs": [],
   "source": [
    "left = ElPaso_2020_All\n",
    "right = df_2020_O\n",
    "ElPaso_2020_All = pd.merge(left, right, on=['Site Name','Date'],how='outer') \n"
   ]
  },
  {
   "cell_type": "code",
   "execution_count": 5,
   "id": "432b3ca1",
   "metadata": {},
   "outputs": [],
   "source": [
    "left = ElPaso_2020_All\n",
    "right = df_2020_SO\n",
    "ElPaso_2020_All = pd.merge(left, right, on=['Site Name','Date'],how='outer') \n"
   ]
  },
  {
   "cell_type": "code",
   "execution_count": 6,
   "id": "9625eecd",
   "metadata": {},
   "outputs": [],
   "source": [
    "left = ElPaso_2020_All\n",
    "right = df_2020_CO\n",
    "ElPaso_2020_All = pd.merge(left, right, on=['Site Name','Date'],how='outer') \n"
   ]
  },
  {
   "cell_type": "code",
   "execution_count": 7,
   "id": "ff4f01b8",
   "metadata": {},
   "outputs": [
    {
     "data": {
      "text/plain": [
       "Index(['Site Name', 'Date', 'Daily Mean PM10 Concentration', 'UNITS_x',\n",
       "       'DAILY_AQI_VALUE_x', 'DAILY_OBS_COUNT_x', 'SITE_LATITUDE',\n",
       "       'SITE_LONGITUDE', 'Daily Max 1-hour NO2 Concentration', 'UNITS_y',\n",
       "       'DAILY_AQI_VALUE_y', 'DAILY_OBS_COUNT_y', '_merge',\n",
       "       'Daily Max 8-hour Ozone Concentration', 'UNITS_x', 'DAILY_AQI_VALUE_x',\n",
       "       'DAILY_OBS_COUNT_x', 'Daily Max 1-hour SO2 Concentration', 'UNITS_y',\n",
       "       'DAILY_AQI_VALUE_y', 'DAILY_OBS_COUNT_y',\n",
       "       'Daily Max 8-hour CO Concentration', 'UNITS', 'DAILY_AQI_VALUE',\n",
       "       'DAILY_OBS_COUNT'],\n",
       "      dtype='object')"
      ]
     },
     "execution_count": 7,
     "metadata": {},
     "output_type": "execute_result"
    }
   ],
   "source": [
    "ElPaso_2020_All.columns\n"
   ]
  },
  {
   "cell_type": "code",
   "execution_count": 8,
   "id": "72add38e",
   "metadata": {},
   "outputs": [
    {
     "data": {
      "text/plain": [
       "Site Name                               623\n",
       "Date                                    623\n",
       "Daily Mean PM10 Concentration           613\n",
       "UNITS_x                                 613\n",
       "DAILY_AQI_VALUE_x                       613\n",
       "DAILY_OBS_COUNT_x                       613\n",
       "SITE_LATITUDE                           613\n",
       "SITE_LONGITUDE                          613\n",
       "Daily Max 1-hour NO2 Concentration      501\n",
       "UNITS_y                                 501\n",
       "DAILY_AQI_VALUE_y                       501\n",
       "DAILY_OBS_COUNT_y                       501\n",
       "_merge                                  622\n",
       "Daily Max 8-hour Ozone Concentration    522\n",
       "UNITS_x                                 522\n",
       "DAILY_AQI_VALUE_x                       522\n",
       "DAILY_OBS_COUNT_x                       522\n",
       "Daily Max 1-hour SO2 Concentration      495\n",
       "UNITS_y                                 495\n",
       "DAILY_AQI_VALUE_y                       495\n",
       "DAILY_OBS_COUNT_y                       495\n",
       "Daily Max 8-hour CO Concentration       341\n",
       "UNITS                                   341\n",
       "DAILY_AQI_VALUE                         341\n",
       "DAILY_OBS_COUNT                         341\n",
       "dtype: int64"
      ]
     },
     "execution_count": 8,
     "metadata": {},
     "output_type": "execute_result"
    }
   ],
   "source": [
    "ElPaso_2020_All.count()\n"
   ]
  },
  {
   "cell_type": "code",
   "execution_count": 9,
   "id": "f68445ee",
   "metadata": {},
   "outputs": [],
   "source": [
    "ElPaso_2020_All.columns=['Site Name','Date','DMean PM10','PM_UNITS','PM10 AQI','PM-WEIGHT','Lat','Lng','DMax NO2','NO2 Units','NO2 AQI','NO2-WEIGHT','Merged','DMax Ozone','Ozone Units','Ozone AQI','OZONE-WEIGHT','DMax SO2','SO2 Units','SO2 AQI','SO2-WEIGHT','DMax CO','CO Units','CO AQI','CO-WEIGHT']\n",
    "\n"
   ]
  },
  {
   "cell_type": "code",
   "execution_count": 10,
   "id": "cd7a52bc",
   "metadata": {},
   "outputs": [
    {
     "data": {
      "text/plain": [
       "Site Name       623\n",
       "Date            623\n",
       "DMean PM10      613\n",
       "PM_UNITS        613\n",
       "PM10 AQI        613\n",
       "PM-WEIGHT       613\n",
       "Lat             613\n",
       "Lng             613\n",
       "DMax NO2        501\n",
       "NO2 Units       501\n",
       "NO2 AQI         501\n",
       "NO2-WEIGHT      501\n",
       "Merged          622\n",
       "DMax Ozone      522\n",
       "Ozone Units     522\n",
       "Ozone AQI       522\n",
       "OZONE-WEIGHT    522\n",
       "DMax SO2        495\n",
       "SO2 Units       495\n",
       "SO2 AQI         495\n",
       "SO2-WEIGHT      495\n",
       "DMax CO         341\n",
       "CO Units        341\n",
       "CO AQI          341\n",
       "CO-WEIGHT       341\n",
       "dtype: int64"
      ]
     },
     "execution_count": 10,
     "metadata": {},
     "output_type": "execute_result"
    }
   ],
   "source": [
    "ElPaso_2020_All.count()\n"
   ]
  },
  {
   "cell_type": "code",
   "execution_count": 11,
   "id": "05c03bf2",
   "metadata": {},
   "outputs": [],
   "source": [
    "ElPaso_2020_All.drop('Merged',axis=1,inplace=True)\n",
    "ElPaso_2020_All.to_csv(\"CH2020DF.csv\")"
   ]
  },
  {
   "cell_type": "code",
   "execution_count": null,
   "id": "40700ceb",
   "metadata": {},
   "outputs": [],
   "source": []
  }
 ],
 "metadata": {
  "kernelspec": {
   "display_name": "Python [conda env:.conda-Machine_Learning]",
   "language": "python",
   "name": "conda-env-.conda-Machine_Learning-py"
  },
  "language_info": {
   "codemirror_mode": {
    "name": "ipython",
    "version": 3
   },
   "file_extension": ".py",
   "mimetype": "text/x-python",
   "name": "python",
   "nbconvert_exporter": "python",
   "pygments_lexer": "ipython3",
   "version": "3.8.10"
  },
  "widgets": {
   "application/vnd.jupyter.widget-state+json": {
    "state": {},
    "version_major": 2,
    "version_minor": 0
   }
  }
 },
 "nbformat": 4,
 "nbformat_minor": 5
}

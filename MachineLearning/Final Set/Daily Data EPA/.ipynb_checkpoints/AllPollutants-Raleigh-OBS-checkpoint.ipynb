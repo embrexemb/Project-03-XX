{
 "cells": [
  {
   "cell_type": "code",
   "execution_count": 1,
   "id": "1cb2f947",
   "metadata": {},
   "outputs": [],
   "source": [
    "import pandas as pd\n",
    "import numpy as np\n",
    "\n",
    "# Hide warning messages in notebook\n",
    "import warnings\n",
    "warnings.filterwarnings('ignore')"
   ]
  },
  {
   "cell_type": "markdown",
   "id": "07233f7f",
   "metadata": {},
   "source": [
    "2016 Data"
   ]
  },
  {
   "cell_type": "code",
   "execution_count": 2,
   "id": "73982df7",
   "metadata": {},
   "outputs": [
    {
     "data": {
      "text/html": [
       "<div>\n",
       "<style scoped>\n",
       "    .dataframe tbody tr th:only-of-type {\n",
       "        vertical-align: middle;\n",
       "    }\n",
       "\n",
       "    .dataframe tbody tr th {\n",
       "        vertical-align: top;\n",
       "    }\n",
       "\n",
       "    .dataframe thead th {\n",
       "        text-align: right;\n",
       "    }\n",
       "</style>\n",
       "<table border=\"1\" class=\"dataframe\">\n",
       "  <thead>\n",
       "    <tr style=\"text-align: right;\">\n",
       "      <th></th>\n",
       "      <th>Site Name</th>\n",
       "      <th>Date</th>\n",
       "      <th>Daily Mean PM10 Concentration</th>\n",
       "      <th>UNITS</th>\n",
       "      <th>DAILY_AQI_VALUE</th>\n",
       "      <th>DAILY_OBS_COUNT</th>\n",
       "      <th>SITE_LATITUDE</th>\n",
       "      <th>SITE_LONGITUDE</th>\n",
       "    </tr>\n",
       "  </thead>\n",
       "  <tbody>\n",
       "    <tr>\n",
       "      <th>0</th>\n",
       "      <td>Newark Firehouse</td>\n",
       "      <td>1/1/2016</td>\n",
       "      <td>3</td>\n",
       "      <td>ug/m3 SC</td>\n",
       "      <td>3</td>\n",
       "      <td>1</td>\n",
       "      <td>40.720989</td>\n",
       "      <td>-74.192892</td>\n",
       "    </tr>\n",
       "    <tr>\n",
       "      <th>1</th>\n",
       "      <td>Newark Firehouse</td>\n",
       "      <td>1/4/2016</td>\n",
       "      <td>4</td>\n",
       "      <td>ug/m3 SC</td>\n",
       "      <td>4</td>\n",
       "      <td>1</td>\n",
       "      <td>40.720989</td>\n",
       "      <td>-74.192892</td>\n",
       "    </tr>\n",
       "    <tr>\n",
       "      <th>2</th>\n",
       "      <td>Newark Firehouse</td>\n",
       "      <td>1/7/2016</td>\n",
       "      <td>45</td>\n",
       "      <td>ug/m3 SC</td>\n",
       "      <td>42</td>\n",
       "      <td>1</td>\n",
       "      <td>40.720989</td>\n",
       "      <td>-74.192892</td>\n",
       "    </tr>\n",
       "    <tr>\n",
       "      <th>3</th>\n",
       "      <td>Newark Firehouse</td>\n",
       "      <td>1/10/2016</td>\n",
       "      <td>12</td>\n",
       "      <td>ug/m3 SC</td>\n",
       "      <td>11</td>\n",
       "      <td>1</td>\n",
       "      <td>40.720989</td>\n",
       "      <td>-74.192892</td>\n",
       "    </tr>\n",
       "    <tr>\n",
       "      <th>4</th>\n",
       "      <td>Newark Firehouse</td>\n",
       "      <td>1/13/2016</td>\n",
       "      <td>10</td>\n",
       "      <td>ug/m3 SC</td>\n",
       "      <td>9</td>\n",
       "      <td>1</td>\n",
       "      <td>40.720989</td>\n",
       "      <td>-74.192892</td>\n",
       "    </tr>\n",
       "    <tr>\n",
       "      <th>...</th>\n",
       "      <td>...</td>\n",
       "      <td>...</td>\n",
       "      <td>...</td>\n",
       "      <td>...</td>\n",
       "      <td>...</td>\n",
       "      <td>...</td>\n",
       "      <td>...</td>\n",
       "      <td>...</td>\n",
       "    </tr>\n",
       "    <tr>\n",
       "      <th>221</th>\n",
       "      <td>Jersey City Firehouse</td>\n",
       "      <td>11/26/2016</td>\n",
       "      <td>14</td>\n",
       "      <td>ug/m3 SC</td>\n",
       "      <td>13</td>\n",
       "      <td>1</td>\n",
       "      <td>40.725413</td>\n",
       "      <td>-74.052293</td>\n",
       "    </tr>\n",
       "    <tr>\n",
       "      <th>222</th>\n",
       "      <td>Jersey City Firehouse</td>\n",
       "      <td>12/2/2016</td>\n",
       "      <td>7</td>\n",
       "      <td>ug/m3 SC</td>\n",
       "      <td>6</td>\n",
       "      <td>1</td>\n",
       "      <td>40.725413</td>\n",
       "      <td>-74.052293</td>\n",
       "    </tr>\n",
       "    <tr>\n",
       "      <th>223</th>\n",
       "      <td>Jersey City Firehouse</td>\n",
       "      <td>12/8/2016</td>\n",
       "      <td>14</td>\n",
       "      <td>ug/m3 SC</td>\n",
       "      <td>13</td>\n",
       "      <td>1</td>\n",
       "      <td>40.725413</td>\n",
       "      <td>-74.052293</td>\n",
       "    </tr>\n",
       "    <tr>\n",
       "      <th>224</th>\n",
       "      <td>Jersey City Firehouse</td>\n",
       "      <td>12/14/2016</td>\n",
       "      <td>19</td>\n",
       "      <td>ug/m3 SC</td>\n",
       "      <td>18</td>\n",
       "      <td>1</td>\n",
       "      <td>40.725413</td>\n",
       "      <td>-74.052293</td>\n",
       "    </tr>\n",
       "    <tr>\n",
       "      <th>225</th>\n",
       "      <td>Jersey City Firehouse</td>\n",
       "      <td>12/26/2016</td>\n",
       "      <td>12</td>\n",
       "      <td>ug/m3 SC</td>\n",
       "      <td>11</td>\n",
       "      <td>1</td>\n",
       "      <td>40.725413</td>\n",
       "      <td>-74.052293</td>\n",
       "    </tr>\n",
       "  </tbody>\n",
       "</table>\n",
       "<p>226 rows × 8 columns</p>\n",
       "</div>"
      ],
      "text/plain": [
       "                 Site Name        Date  Daily Mean PM10 Concentration  \\\n",
       "0         Newark Firehouse    1/1/2016                              3   \n",
       "1         Newark Firehouse    1/4/2016                              4   \n",
       "2         Newark Firehouse    1/7/2016                             45   \n",
       "3         Newark Firehouse   1/10/2016                             12   \n",
       "4         Newark Firehouse   1/13/2016                             10   \n",
       "..                     ...         ...                            ...   \n",
       "221  Jersey City Firehouse  11/26/2016                             14   \n",
       "222  Jersey City Firehouse   12/2/2016                              7   \n",
       "223  Jersey City Firehouse   12/8/2016                             14   \n",
       "224  Jersey City Firehouse  12/14/2016                             19   \n",
       "225  Jersey City Firehouse  12/26/2016                             12   \n",
       "\n",
       "        UNITS  DAILY_AQI_VALUE  DAILY_OBS_COUNT  SITE_LATITUDE  SITE_LONGITUDE  \n",
       "0    ug/m3 SC                3                1      40.720989      -74.192892  \n",
       "1    ug/m3 SC                4                1      40.720989      -74.192892  \n",
       "2    ug/m3 SC               42                1      40.720989      -74.192892  \n",
       "3    ug/m3 SC               11                1      40.720989      -74.192892  \n",
       "4    ug/m3 SC                9                1      40.720989      -74.192892  \n",
       "..        ...              ...              ...            ...             ...  \n",
       "221  ug/m3 SC               13                1      40.725413      -74.052293  \n",
       "222  ug/m3 SC                6                1      40.725413      -74.052293  \n",
       "223  ug/m3 SC               13                1      40.725413      -74.052293  \n",
       "224  ug/m3 SC               18                1      40.725413      -74.052293  \n",
       "225  ug/m3 SC               11                1      40.725413      -74.052293  \n",
       "\n",
       "[226 rows x 8 columns]"
      ]
     },
     "execution_count": 2,
     "metadata": {},
     "output_type": "execute_result"
    }
   ],
   "source": [
    "#files to load \n",
    "NY_CO_2016 = \"CO-CarbonMonoxide/2016-NY-CO.csv\"\n",
    "NY_NO_2016 = \"NitrogenDioxide/2016-NY-NO2.csv\"\n",
    "NY_O_2016 = \"Ozone/2016-NY-Ozone.csv\"\n",
    "#no lead for NY\n",
    "NY_PM_2016 = \"PM-ParticulateMatter/2016-NY-PM10.csv\"\n",
    "NY_SO_2016 = \"SulfurDioxide/2016-NY-SO2.csv\"\n",
    "\n",
    "#Read files into Pandas dataframe\n",
    "\n",
    "df_2016_CO = pd.read_csv(NY_CO_2016)\n",
    "df_2016_NO = pd.read_csv(NY_NO_2016)\n",
    "df_2016_O = pd.read_csv(NY_O_2016)\n",
    "df_2016_PM = pd.read_csv(NY_PM_2016)\n",
    "df_2016_SO = pd.read_csv(NY_SO_2016)\n",
    "\n",
    "\n",
    "df_2016_PM=df_2016_PM[['Site Name','Date','Daily Mean PM10 Concentration','UNITS','DAILY_AQI_VALUE', 'DAILY_OBS_COUNT', 'SITE_LATITUDE','SITE_LONGITUDE' ]]\n",
    "df_2016_CO=df_2016_CO[['Site Name','Date','Daily Max 8-hour CO Concentration','UNITS','DAILY_AQI_VALUE','DAILY_OBS_COUNT']]\n",
    "\n",
    "df_2016_NO=df_2016_NO[['Site Name','Date','Daily Max 1-hour NO2 Concentration','UNITS','DAILY_AQI_VALUE','DAILY_OBS_COUNT']]\n",
    "\n",
    "df_2016_O=df_2016_O[['Site Name','Date','Daily Max 8-hour Ozone Concentration','UNITS','DAILY_AQI_VALUE','DAILY_OBS_COUNT']]\n",
    "\n",
    "df_2016_SO=df_2016_SO[['Site Name','Date','Daily Max 1-hour SO2 Concentration','UNITS','DAILY_AQI_VALUE','DAILY_OBS_COUNT']]\n",
    "\n",
    "\n",
    "df_2016_PM\n",
    "\n"
   ]
  },
  {
   "cell_type": "markdown",
   "id": "76ff2ccd",
   "metadata": {},
   "source": [
    "print(df_2016_O.count())\n",
    "print(df_2016_CO.count())\n",
    "print(df_2016_NO.count())\n",
    "print(df_2016_PM.count())\n",
    "print(df_2016_SO.count()) "
   ]
  },
  {
   "cell_type": "markdown",
   "id": "b31c03f3",
   "metadata": {},
   "source": [
    "Scratched\n",
    "#Cheyenne_2016_All = left.join(right, on=['Site Name'])\n",
    "#Cheyenne_2016_All = pd.concat([left, right], axis=1)\n",
    "#Cheyenne_2016_All = pd.merge(left.drop_duplicates(),right, how='inner', on='Site Name', validate='many_to_many')\n",
    "#C_2016=pd.merge(left.drop_duplicates(), right, how = 'inner',on=['col_1','col_2'])\n",
    "#C_2016=pd.concat([left, right],axis=1 )"
   ]
  },
  {
   "cell_type": "code",
   "execution_count": 3,
   "id": "de5e9cd9",
   "metadata": {},
   "outputs": [],
   "source": [
    "left = df_2016_PM\n",
    "right = df_2016_NO\n",
    "NY_2016_All = pd.merge(left, right, on=['Site Name','Date'],how='outer', indicator=True) \n"
   ]
  },
  {
   "cell_type": "code",
   "execution_count": 4,
   "id": "0feb64a3",
   "metadata": {},
   "outputs": [],
   "source": [
    "left = NY_2016_All\n",
    "right = df_2016_O\n",
    "NY_2016_All = pd.merge(left, right, on=['Site Name','Date'],how='outer') \n"
   ]
  },
  {
   "cell_type": "code",
   "execution_count": 5,
   "id": "432b3ca1",
   "metadata": {},
   "outputs": [],
   "source": [
    "left = NY_2016_All\n",
    "right = df_2016_SO\n",
    "NY_2016_All = pd.merge(left, right, on=['Site Name','Date'],how='outer') \n"
   ]
  },
  {
   "cell_type": "code",
   "execution_count": 6,
   "id": "9625eecd",
   "metadata": {},
   "outputs": [],
   "source": [
    "left = NY_2016_All\n",
    "right = df_2016_CO\n",
    "NY_2016_All = pd.merge(left, right, on=['Site Name','Date'],how='outer') \n"
   ]
  },
  {
   "cell_type": "code",
   "execution_count": 7,
   "id": "ff4f01b8",
   "metadata": {},
   "outputs": [],
   "source": [
    "#LA_2016_All.columns\n"
   ]
  },
  {
   "cell_type": "code",
   "execution_count": 8,
   "id": "72add38e",
   "metadata": {},
   "outputs": [],
   "source": [
    "#LA_2016_All.count()\n"
   ]
  },
  {
   "cell_type": "code",
   "execution_count": 9,
   "id": "f68445ee",
   "metadata": {},
   "outputs": [],
   "source": [
    "NY_2016_All.columns=['Site Name','Date','DMean PM10','PM_UNITS','PM10 AQI','PM-WEIGHT','NYt','Lng','DMax NO2','NO2 Units','NO2 AQI','NO2-WEIGHT','Merged','DMax Ozone','Ozone Units','Ozone AQI','OZONE-WEIGHT','DMax SO2','SO2 Units','SO2 AQI','SO2-WEIGHT','DMax CO','CO Units','CO AQI','CO-WEIGHT']\n",
    "\n"
   ]
  },
  {
   "cell_type": "code",
   "execution_count": 10,
   "id": "cd7a52bc",
   "metadata": {},
   "outputs": [],
   "source": [
    "#LA_2016_All.count()\n"
   ]
  },
  {
   "cell_type": "code",
   "execution_count": 11,
   "id": "05c03bf2",
   "metadata": {},
   "outputs": [],
   "source": [
    "NY_2016_All.drop('Merged',axis=1,inplace=True)\n",
    "NY_2016_All.to_csv(\"NY2016DF.csv\")"
   ]
  },
  {
   "cell_type": "code",
   "execution_count": null,
   "id": "40700ceb",
   "metadata": {},
   "outputs": [],
   "source": []
  }
 ],
 "metadata": {
  "kernelspec": {
   "display_name": "Python [conda env:.conda-Machine_Learning]",
   "language": "python",
   "name": "conda-env-.conda-Machine_Learning-py"
  },
  "language_info": {
   "codemirror_mode": {
    "name": "ipython",
    "version": 3
   },
   "file_extension": ".py",
   "mimetype": "text/x-python",
   "name": "python",
   "nbconvert_exporter": "python",
   "pygments_lexer": "ipython3",
   "version": "3.8.10"
  },
  "widgets": {
   "application/vnd.jupyter.widget-state+json": {
    "state": {},
    "version_major": 2,
    "version_minor": 0
   }
  }
 },
 "nbformat": 4,
 "nbformat_minor": 5
}

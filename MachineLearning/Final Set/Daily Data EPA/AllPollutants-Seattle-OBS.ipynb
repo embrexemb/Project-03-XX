{
 "cells": [
  {
   "cell_type": "code",
   "execution_count": 1,
   "id": "1cb2f947",
   "metadata": {},
   "outputs": [],
   "source": [
    "import pandas as pd\n",
    "import numpy as np\n",
    "\n",
    "# Hide warning messages in notebook\n",
    "import warnings\n",
    "warnings.filterwarnings('ignore')"
   ]
  },
  {
   "cell_type": "markdown",
   "id": "07233f7f",
   "metadata": {},
   "source": [
    "2016 Data"
   ]
  },
  {
   "cell_type": "code",
   "execution_count": 2,
   "id": "73982df7",
   "metadata": {},
   "outputs": [
    {
     "data": {
      "text/html": [
       "<div>\n",
       "<style scoped>\n",
       "    .dataframe tbody tr th:only-of-type {\n",
       "        vertical-align: middle;\n",
       "    }\n",
       "\n",
       "    .dataframe tbody tr th {\n",
       "        vertical-align: top;\n",
       "    }\n",
       "\n",
       "    .dataframe thead th {\n",
       "        text-align: right;\n",
       "    }\n",
       "</style>\n",
       "<table border=\"1\" class=\"dataframe\">\n",
       "  <thead>\n",
       "    <tr style=\"text-align: right;\">\n",
       "      <th></th>\n",
       "      <th>Site Name</th>\n",
       "      <th>Date</th>\n",
       "      <th>Daily Mean PM10 Concentration</th>\n",
       "      <th>UNITS</th>\n",
       "      <th>DAILY_AQI_VALUE</th>\n",
       "      <th>DAILY_OBS_COUNT</th>\n",
       "      <th>SITE_LATITUDE</th>\n",
       "      <th>SITE_LONGITUDE</th>\n",
       "    </tr>\n",
       "  </thead>\n",
       "  <tbody>\n",
       "    <tr>\n",
       "      <th>0</th>\n",
       "      <td>SEATTLE - BEACON HILL</td>\n",
       "      <td>1/2/2018</td>\n",
       "      <td>13</td>\n",
       "      <td>ug/m3 SC</td>\n",
       "      <td>12</td>\n",
       "      <td>1</td>\n",
       "      <td>47.568236</td>\n",
       "      <td>-122.308628</td>\n",
       "    </tr>\n",
       "    <tr>\n",
       "      <th>1</th>\n",
       "      <td>SEATTLE - BEACON HILL</td>\n",
       "      <td>1/5/2018</td>\n",
       "      <td>8</td>\n",
       "      <td>ug/m3 SC</td>\n",
       "      <td>7</td>\n",
       "      <td>1</td>\n",
       "      <td>47.568236</td>\n",
       "      <td>-122.308628</td>\n",
       "    </tr>\n",
       "    <tr>\n",
       "      <th>2</th>\n",
       "      <td>SEATTLE - BEACON HILL</td>\n",
       "      <td>1/11/2018</td>\n",
       "      <td>3</td>\n",
       "      <td>ug/m3 SC</td>\n",
       "      <td>3</td>\n",
       "      <td>1</td>\n",
       "      <td>47.568236</td>\n",
       "      <td>-122.308628</td>\n",
       "    </tr>\n",
       "    <tr>\n",
       "      <th>3</th>\n",
       "      <td>SEATTLE - BEACON HILL</td>\n",
       "      <td>1/14/2018</td>\n",
       "      <td>11</td>\n",
       "      <td>ug/m3 SC</td>\n",
       "      <td>10</td>\n",
       "      <td>1</td>\n",
       "      <td>47.568236</td>\n",
       "      <td>-122.308628</td>\n",
       "    </tr>\n",
       "    <tr>\n",
       "      <th>4</th>\n",
       "      <td>SEATTLE - BEACON HILL</td>\n",
       "      <td>1/20/2018</td>\n",
       "      <td>4</td>\n",
       "      <td>ug/m3 SC</td>\n",
       "      <td>4</td>\n",
       "      <td>1</td>\n",
       "      <td>47.568236</td>\n",
       "      <td>-122.308628</td>\n",
       "    </tr>\n",
       "    <tr>\n",
       "      <th>...</th>\n",
       "      <td>...</td>\n",
       "      <td>...</td>\n",
       "      <td>...</td>\n",
       "      <td>...</td>\n",
       "      <td>...</td>\n",
       "      <td>...</td>\n",
       "      <td>...</td>\n",
       "      <td>...</td>\n",
       "    </tr>\n",
       "    <tr>\n",
       "      <th>98</th>\n",
       "      <td>SEATTLE - BEACON HILL</td>\n",
       "      <td>12/19/2018</td>\n",
       "      <td>11</td>\n",
       "      <td>ug/m3 SC</td>\n",
       "      <td>10</td>\n",
       "      <td>1</td>\n",
       "      <td>47.568236</td>\n",
       "      <td>-122.308628</td>\n",
       "    </tr>\n",
       "    <tr>\n",
       "      <th>99</th>\n",
       "      <td>SEATTLE - BEACON HILL</td>\n",
       "      <td>12/22/2018</td>\n",
       "      <td>8</td>\n",
       "      <td>ug/m3 SC</td>\n",
       "      <td>7</td>\n",
       "      <td>1</td>\n",
       "      <td>47.568236</td>\n",
       "      <td>-122.308628</td>\n",
       "    </tr>\n",
       "    <tr>\n",
       "      <th>100</th>\n",
       "      <td>SEATTLE - BEACON HILL</td>\n",
       "      <td>12/25/2018</td>\n",
       "      <td>9</td>\n",
       "      <td>ug/m3 SC</td>\n",
       "      <td>8</td>\n",
       "      <td>1</td>\n",
       "      <td>47.568236</td>\n",
       "      <td>-122.308628</td>\n",
       "    </tr>\n",
       "    <tr>\n",
       "      <th>101</th>\n",
       "      <td>SEATTLE - BEACON HILL</td>\n",
       "      <td>12/28/2018</td>\n",
       "      <td>4</td>\n",
       "      <td>ug/m3 SC</td>\n",
       "      <td>4</td>\n",
       "      <td>1</td>\n",
       "      <td>47.568236</td>\n",
       "      <td>-122.308628</td>\n",
       "    </tr>\n",
       "    <tr>\n",
       "      <th>102</th>\n",
       "      <td>SEATTLE - BEACON HILL</td>\n",
       "      <td>12/31/2018</td>\n",
       "      <td>7</td>\n",
       "      <td>ug/m3 SC</td>\n",
       "      <td>6</td>\n",
       "      <td>1</td>\n",
       "      <td>47.568236</td>\n",
       "      <td>-122.308628</td>\n",
       "    </tr>\n",
       "  </tbody>\n",
       "</table>\n",
       "<p>103 rows × 8 columns</p>\n",
       "</div>"
      ],
      "text/plain": [
       "                 Site Name        Date  Daily Mean PM10 Concentration  \\\n",
       "0    SEATTLE - BEACON HILL    1/2/2018                             13   \n",
       "1    SEATTLE - BEACON HILL    1/5/2018                              8   \n",
       "2    SEATTLE - BEACON HILL   1/11/2018                              3   \n",
       "3    SEATTLE - BEACON HILL   1/14/2018                             11   \n",
       "4    SEATTLE - BEACON HILL   1/20/2018                              4   \n",
       "..                     ...         ...                            ...   \n",
       "98   SEATTLE - BEACON HILL  12/19/2018                             11   \n",
       "99   SEATTLE - BEACON HILL  12/22/2018                              8   \n",
       "100  SEATTLE - BEACON HILL  12/25/2018                              9   \n",
       "101  SEATTLE - BEACON HILL  12/28/2018                              4   \n",
       "102  SEATTLE - BEACON HILL  12/31/2018                              7   \n",
       "\n",
       "        UNITS  DAILY_AQI_VALUE  DAILY_OBS_COUNT  SITE_LATITUDE  SITE_LONGITUDE  \n",
       "0    ug/m3 SC               12                1      47.568236     -122.308628  \n",
       "1    ug/m3 SC                7                1      47.568236     -122.308628  \n",
       "2    ug/m3 SC                3                1      47.568236     -122.308628  \n",
       "3    ug/m3 SC               10                1      47.568236     -122.308628  \n",
       "4    ug/m3 SC                4                1      47.568236     -122.308628  \n",
       "..        ...              ...              ...            ...             ...  \n",
       "98   ug/m3 SC               10                1      47.568236     -122.308628  \n",
       "99   ug/m3 SC                7                1      47.568236     -122.308628  \n",
       "100  ug/m3 SC                8                1      47.568236     -122.308628  \n",
       "101  ug/m3 SC                4                1      47.568236     -122.308628  \n",
       "102  ug/m3 SC                6                1      47.568236     -122.308628  \n",
       "\n",
       "[103 rows x 8 columns]"
      ]
     },
     "execution_count": 2,
     "metadata": {},
     "output_type": "execute_result"
    }
   ],
   "source": [
    "#files to load \n",
    "Seattle_CO_2018 = \"CO-CarbonMonoxide/2018-Seattle-CO.csv\"\n",
    "Seattle_NO_2018 = \"NitrogenDioxide/2018-Seattle-NO2.csv\"\n",
    "Seattle_O_2018 = \"Ozone/2018-Seattle-Ozone.csv\"\n",
    "#no lead for Seattle\n",
    "Seattle_PM_2018 = \"PM-ParticulateMatter/2018-Seattle-PM10.csv\"\n",
    "Seattle_SO_2018 = \"SulfurDioxide/2018-Seattle-SO2.csv\"\n",
    "\n",
    "#Read files into Pandas dataframe\n",
    "\n",
    "df_2018_CO = pd.read_csv(Seattle_CO_2018)\n",
    "df_2018_NO = pd.read_csv(Seattle_NO_2018)\n",
    "df_2018_O = pd.read_csv(Seattle_O_2018)\n",
    "df_2018_PM = pd.read_csv(Seattle_PM_2018)\n",
    "df_2018_SO = pd.read_csv(Seattle_SO_2018)\n",
    "\n",
    "\n",
    "df_2018_PM=df_2018_PM[['Site Name','Date','Daily Mean PM10 Concentration','UNITS','DAILY_AQI_VALUE', 'DAILY_OBS_COUNT', 'SITE_LATITUDE','SITE_LONGITUDE' ]]\n",
    "df_2018_CO=df_2018_CO[['Site Name','Date','Daily Max 8-hour CO Concentration','UNITS','DAILY_AQI_VALUE','DAILY_OBS_COUNT']]\n",
    "\n",
    "df_2018_NO=df_2018_NO[['Site Name','Date','Daily Max 1-hour NO2 Concentration','UNITS','DAILY_AQI_VALUE','DAILY_OBS_COUNT']]\n",
    "\n",
    "df_2018_O=df_2018_O[['Site Name','Date','Daily Max 8-hour Ozone Concentration','UNITS','DAILY_AQI_VALUE','DAILY_OBS_COUNT']]\n",
    "\n",
    "df_2018_SO=df_2018_SO[['Site Name','Date','Daily Max 1-hour SO2 Concentration','UNITS','DAILY_AQI_VALUE','DAILY_OBS_COUNT']]\n",
    "\n",
    "\n",
    "df_2018_PM\n",
    "\n"
   ]
  },
  {
   "cell_type": "markdown",
   "id": "76ff2ccd",
   "metadata": {},
   "source": [
    "print(df_2016_O.count())\n",
    "print(df_2016_CO.count())\n",
    "print(df_2016_NO.count())\n",
    "print(df_2016_PM.count())\n",
    "print(df_2016_SO.count()) "
   ]
  },
  {
   "cell_type": "markdown",
   "id": "b31c03f3",
   "metadata": {},
   "source": [
    "Scratched\n",
    "#Cheyenne_2016_All = left.join(right, on=['Site Name'])\n",
    "#Cheyenne_2016_All = pd.concat([left, right], axis=1)\n",
    "#Cheyenne_2016_All = pd.merge(left.drop_duplicates(),right, how='inner', on='Site Name', validate='many_to_many')\n",
    "#C_2016=pd.merge(left.drop_duplicates(), right, how = 'inner',on=['col_1','col_2'])\n",
    "#C_2016=pd.concat([left, right],axis=1 )"
   ]
  },
  {
   "cell_type": "code",
   "execution_count": 3,
   "id": "de5e9cd9",
   "metadata": {},
   "outputs": [],
   "source": [
    "left = df_2018_PM\n",
    "right = df_2018_NO\n",
    "Seattle_2018_All = pd.merge(left, right, on=['Site Name','Date'],how='outer', indicator=True) \n"
   ]
  },
  {
   "cell_type": "code",
   "execution_count": 4,
   "id": "0feb64a3",
   "metadata": {},
   "outputs": [],
   "source": [
    "left = Seattle_2018_All\n",
    "right = df_2018_O\n",
    "Seattle_2018_All = pd.merge(left, right, on=['Site Name','Date'],how='outer') \n"
   ]
  },
  {
   "cell_type": "code",
   "execution_count": 5,
   "id": "432b3ca1",
   "metadata": {},
   "outputs": [],
   "source": [
    "left = Seattle_2018_All\n",
    "right = df_2018_SO\n",
    "Seattle_2018_All = pd.merge(left, right, on=['Site Name','Date'],how='outer') \n"
   ]
  },
  {
   "cell_type": "code",
   "execution_count": 6,
   "id": "9625eecd",
   "metadata": {},
   "outputs": [],
   "source": [
    "left = Seattle_2018_All\n",
    "right = df_2018_CO\n",
    "Seattle_2018_All = pd.merge(left, right, on=['Site Name','Date'],how='outer') \n"
   ]
  },
  {
   "cell_type": "code",
   "execution_count": 7,
   "id": "ff4f01b8",
   "metadata": {},
   "outputs": [],
   "source": [
    "#LA_2016_All.columns\n"
   ]
  },
  {
   "cell_type": "code",
   "execution_count": 8,
   "id": "72add38e",
   "metadata": {},
   "outputs": [],
   "source": [
    "#LA_2016_All.count()\n"
   ]
  },
  {
   "cell_type": "code",
   "execution_count": 9,
   "id": "f68445ee",
   "metadata": {},
   "outputs": [],
   "source": [
    "Seattle_2018_All.columns=['Site Name','Date','DMean PM10','PM_UNITS','PM10 AQI','PM-WEIGHT','LAt','Lng','DMax NO2','NO2 Units','NO2 AQI','NO2-WEIGHT','Merged','DMax Ozone','Ozone Units','Ozone AQI','OZONE-WEIGHT','DMax SO2','SO2 Units','SO2 AQI','SO2-WEIGHT','DMax CO','CO Units','CO AQI','CO-WEIGHT']\n",
    "\n"
   ]
  },
  {
   "cell_type": "code",
   "execution_count": 10,
   "id": "cd7a52bc",
   "metadata": {},
   "outputs": [],
   "source": [
    "#LA_2016_All.count()\n"
   ]
  },
  {
   "cell_type": "code",
   "execution_count": 11,
   "id": "05c03bf2",
   "metadata": {},
   "outputs": [],
   "source": [
    "Seattle_2018_All.drop('Merged',axis=1,inplace=True)\n",
    "Seattle_2018_All.to_csv(\"Seattle2018DF.csv\")"
   ]
  },
  {
   "cell_type": "code",
   "execution_count": null,
   "id": "40700ceb",
   "metadata": {},
   "outputs": [],
   "source": []
  }
 ],
 "metadata": {
  "kernelspec": {
   "display_name": "Python [conda env:.conda-Machine_Learning]",
   "language": "python",
   "name": "conda-env-.conda-Machine_Learning-py"
  },
  "language_info": {
   "codemirror_mode": {
    "name": "ipython",
    "version": 3
   },
   "file_extension": ".py",
   "mimetype": "text/x-python",
   "name": "python",
   "nbconvert_exporter": "python",
   "pygments_lexer": "ipython3",
   "version": "3.8.10"
  },
  "widgets": {
   "application/vnd.jupyter.widget-state+json": {
    "state": {},
    "version_major": 2,
    "version_minor": 0
   }
  }
 },
 "nbformat": 4,
 "nbformat_minor": 5
}

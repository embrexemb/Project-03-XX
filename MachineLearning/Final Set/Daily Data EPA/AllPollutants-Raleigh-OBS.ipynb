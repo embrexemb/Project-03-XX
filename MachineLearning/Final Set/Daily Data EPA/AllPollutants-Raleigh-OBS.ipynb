{
 "cells": [
  {
   "cell_type": "code",
   "execution_count": 1,
   "id": "1cb2f947",
   "metadata": {},
   "outputs": [],
   "source": [
    "import pandas as pd\n",
    "import numpy as np\n",
    "\n",
    "# Hide warning messages in notebook\n",
    "import warnings\n",
    "warnings.filterwarnings('ignore')"
   ]
  },
  {
   "cell_type": "markdown",
   "id": "07233f7f",
   "metadata": {},
   "source": [
    "2016 Data"
   ]
  },
  {
   "cell_type": "code",
   "execution_count": 2,
   "id": "73982df7",
   "metadata": {},
   "outputs": [
    {
     "data": {
      "text/html": [
       "<div>\n",
       "<style scoped>\n",
       "    .dataframe tbody tr th:only-of-type {\n",
       "        vertical-align: middle;\n",
       "    }\n",
       "\n",
       "    .dataframe tbody tr th {\n",
       "        vertical-align: top;\n",
       "    }\n",
       "\n",
       "    .dataframe thead th {\n",
       "        text-align: right;\n",
       "    }\n",
       "</style>\n",
       "<table border=\"1\" class=\"dataframe\">\n",
       "  <thead>\n",
       "    <tr style=\"text-align: right;\">\n",
       "      <th></th>\n",
       "      <th>Site Name</th>\n",
       "      <th>Date</th>\n",
       "      <th>Daily Mean PM10 Concentration</th>\n",
       "      <th>UNITS</th>\n",
       "      <th>DAILY_AQI_VALUE</th>\n",
       "      <th>DAILY_OBS_COUNT</th>\n",
       "      <th>SITE_LATITUDE</th>\n",
       "      <th>SITE_LONGITUDE</th>\n",
       "    </tr>\n",
       "  </thead>\n",
       "  <tbody>\n",
       "    <tr>\n",
       "      <th>0</th>\n",
       "      <td>Millbrook School</td>\n",
       "      <td>1/1/2020</td>\n",
       "      <td>8</td>\n",
       "      <td>ug/m3 SC</td>\n",
       "      <td>7</td>\n",
       "      <td>1</td>\n",
       "      <td>35.856111</td>\n",
       "      <td>-78.574167</td>\n",
       "    </tr>\n",
       "    <tr>\n",
       "      <th>1</th>\n",
       "      <td>Millbrook School</td>\n",
       "      <td>1/2/2020</td>\n",
       "      <td>13</td>\n",
       "      <td>ug/m3 SC</td>\n",
       "      <td>12</td>\n",
       "      <td>1</td>\n",
       "      <td>35.856111</td>\n",
       "      <td>-78.574167</td>\n",
       "    </tr>\n",
       "    <tr>\n",
       "      <th>2</th>\n",
       "      <td>Millbrook School</td>\n",
       "      <td>1/3/2020</td>\n",
       "      <td>12</td>\n",
       "      <td>ug/m3 SC</td>\n",
       "      <td>11</td>\n",
       "      <td>1</td>\n",
       "      <td>35.856111</td>\n",
       "      <td>-78.574167</td>\n",
       "    </tr>\n",
       "    <tr>\n",
       "      <th>3</th>\n",
       "      <td>Millbrook School</td>\n",
       "      <td>1/4/2020</td>\n",
       "      <td>3</td>\n",
       "      <td>ug/m3 SC</td>\n",
       "      <td>3</td>\n",
       "      <td>1</td>\n",
       "      <td>35.856111</td>\n",
       "      <td>-78.574167</td>\n",
       "    </tr>\n",
       "    <tr>\n",
       "      <th>4</th>\n",
       "      <td>Millbrook School</td>\n",
       "      <td>1/5/2020</td>\n",
       "      <td>6</td>\n",
       "      <td>ug/m3 SC</td>\n",
       "      <td>6</td>\n",
       "      <td>1</td>\n",
       "      <td>35.856111</td>\n",
       "      <td>-78.574167</td>\n",
       "    </tr>\n",
       "    <tr>\n",
       "      <th>...</th>\n",
       "      <td>...</td>\n",
       "      <td>...</td>\n",
       "      <td>...</td>\n",
       "      <td>...</td>\n",
       "      <td>...</td>\n",
       "      <td>...</td>\n",
       "      <td>...</td>\n",
       "      <td>...</td>\n",
       "    </tr>\n",
       "    <tr>\n",
       "      <th>693</th>\n",
       "      <td>Millbrook School</td>\n",
       "      <td>12/27/2020</td>\n",
       "      <td>19</td>\n",
       "      <td>ug/m3 SC</td>\n",
       "      <td>18</td>\n",
       "      <td>1</td>\n",
       "      <td>35.856111</td>\n",
       "      <td>-78.574167</td>\n",
       "    </tr>\n",
       "    <tr>\n",
       "      <th>694</th>\n",
       "      <td>Millbrook School</td>\n",
       "      <td>12/28/2020</td>\n",
       "      <td>18</td>\n",
       "      <td>ug/m3 SC</td>\n",
       "      <td>17</td>\n",
       "      <td>1</td>\n",
       "      <td>35.856111</td>\n",
       "      <td>-78.574167</td>\n",
       "    </tr>\n",
       "    <tr>\n",
       "      <th>695</th>\n",
       "      <td>Millbrook School</td>\n",
       "      <td>12/29/2020</td>\n",
       "      <td>13</td>\n",
       "      <td>ug/m3 SC</td>\n",
       "      <td>12</td>\n",
       "      <td>1</td>\n",
       "      <td>35.856111</td>\n",
       "      <td>-78.574167</td>\n",
       "    </tr>\n",
       "    <tr>\n",
       "      <th>696</th>\n",
       "      <td>Millbrook School</td>\n",
       "      <td>12/30/2020</td>\n",
       "      <td>12</td>\n",
       "      <td>ug/m3 SC</td>\n",
       "      <td>11</td>\n",
       "      <td>1</td>\n",
       "      <td>35.856111</td>\n",
       "      <td>-78.574167</td>\n",
       "    </tr>\n",
       "    <tr>\n",
       "      <th>697</th>\n",
       "      <td>Millbrook School</td>\n",
       "      <td>12/31/2020</td>\n",
       "      <td>14</td>\n",
       "      <td>ug/m3 SC</td>\n",
       "      <td>13</td>\n",
       "      <td>1</td>\n",
       "      <td>35.856111</td>\n",
       "      <td>-78.574167</td>\n",
       "    </tr>\n",
       "  </tbody>\n",
       "</table>\n",
       "<p>698 rows × 8 columns</p>\n",
       "</div>"
      ],
      "text/plain": [
       "            Site Name        Date  Daily Mean PM10 Concentration     UNITS  \\\n",
       "0    Millbrook School    1/1/2020                              8  ug/m3 SC   \n",
       "1    Millbrook School    1/2/2020                             13  ug/m3 SC   \n",
       "2    Millbrook School    1/3/2020                             12  ug/m3 SC   \n",
       "3    Millbrook School    1/4/2020                              3  ug/m3 SC   \n",
       "4    Millbrook School    1/5/2020                              6  ug/m3 SC   \n",
       "..                ...         ...                            ...       ...   \n",
       "693  Millbrook School  12/27/2020                             19  ug/m3 SC   \n",
       "694  Millbrook School  12/28/2020                             18  ug/m3 SC   \n",
       "695  Millbrook School  12/29/2020                             13  ug/m3 SC   \n",
       "696  Millbrook School  12/30/2020                             12  ug/m3 SC   \n",
       "697  Millbrook School  12/31/2020                             14  ug/m3 SC   \n",
       "\n",
       "     DAILY_AQI_VALUE  DAILY_OBS_COUNT  SITE_LATITUDE  SITE_LONGITUDE  \n",
       "0                  7                1      35.856111      -78.574167  \n",
       "1                 12                1      35.856111      -78.574167  \n",
       "2                 11                1      35.856111      -78.574167  \n",
       "3                  3                1      35.856111      -78.574167  \n",
       "4                  6                1      35.856111      -78.574167  \n",
       "..               ...              ...            ...             ...  \n",
       "693               18                1      35.856111      -78.574167  \n",
       "694               17                1      35.856111      -78.574167  \n",
       "695               12                1      35.856111      -78.574167  \n",
       "696               11                1      35.856111      -78.574167  \n",
       "697               13                1      35.856111      -78.574167  \n",
       "\n",
       "[698 rows x 8 columns]"
      ]
     },
     "execution_count": 2,
     "metadata": {},
     "output_type": "execute_result"
    }
   ],
   "source": [
    "#files to load \n",
    "Raleigh_CO_2020 = \"CO-CarbonMonoxide/2020-Raleigh-CO.csv\"\n",
    "Raleigh_NO_2020 = \"NitrogenDioxide/2020-Raleigh-NO2.csv\"\n",
    "Raleigh_O_2020 = \"Ozone/2020-Raleigh-Ozone.csv\"\n",
    "#no lead for Raleigh\n",
    "Raleigh_PM_2020 = \"PM-ParticulateMatter/2020-Raleigh-PM10.csv\"\n",
    "Raleigh_SO_2020 = \"SulfurDioxide/2020-Raleigh-SO2.csv\"\n",
    "\n",
    "#Read files into Pandas dataframe\n",
    "\n",
    "df_2020_CO = pd.read_csv(Raleigh_CO_2020)\n",
    "df_2020_NO = pd.read_csv(Raleigh_NO_2020)\n",
    "df_2020_O = pd.read_csv(Raleigh_O_2020)\n",
    "df_2020_PM = pd.read_csv(Raleigh_PM_2020)\n",
    "df_2020_SO = pd.read_csv(Raleigh_SO_2020)\n",
    "\n",
    "\n",
    "df_2020_PM=df_2020_PM[['Site Name','Date','Daily Mean PM10 Concentration','UNITS','DAILY_AQI_VALUE', 'DAILY_OBS_COUNT', 'SITE_LATITUDE','SITE_LONGITUDE' ]]\n",
    "df_2020_CO=df_2020_CO[['Site Name','Date','Daily Max 8-hour CO Concentration','UNITS','DAILY_AQI_VALUE','DAILY_OBS_COUNT']]\n",
    "\n",
    "df_2020_NO=df_2020_NO[['Site Name','Date','Daily Max 1-hour NO2 Concentration','UNITS','DAILY_AQI_VALUE','DAILY_OBS_COUNT']]\n",
    "\n",
    "df_2020_O=df_2020_O[['Site Name','Date','Daily Max 8-hour Ozone Concentration','UNITS','DAILY_AQI_VALUE','DAILY_OBS_COUNT']]\n",
    "\n",
    "df_2020_SO=df_2020_SO[['Site Name','Date','Daily Max 1-hour SO2 Concentration','UNITS','DAILY_AQI_VALUE','DAILY_OBS_COUNT']]\n",
    "\n",
    "\n",
    "df_2020_PM\n",
    "\n"
   ]
  },
  {
   "cell_type": "markdown",
   "id": "76ff2ccd",
   "metadata": {},
   "source": [
    "print(df_2016_O.count())\n",
    "print(df_2016_CO.count())\n",
    "print(df_2016_NO.count())\n",
    "print(df_2016_PM.count())\n",
    "print(df_2016_SO.count()) "
   ]
  },
  {
   "cell_type": "markdown",
   "id": "b31c03f3",
   "metadata": {},
   "source": [
    "Scratched\n",
    "#Cheyenne_2016_All = left.join(right, on=['Site Name'])\n",
    "#Cheyenne_2016_All = pd.concat([left, right], axis=1)\n",
    "#Cheyenne_2016_All = pd.merge(left.drop_duplicates(),right, how='inner', on='Site Name', validate='many_to_many')\n",
    "#C_2016=pd.merge(left.drop_duplicates(), right, how = 'inner',on=['col_1','col_2'])\n",
    "#C_2016=pd.concat([left, right],axis=1 )"
   ]
  },
  {
   "cell_type": "code",
   "execution_count": 3,
   "id": "de5e9cd9",
   "metadata": {},
   "outputs": [],
   "source": [
    "left = df_2020_PM\n",
    "right = df_2020_NO\n",
    "Raleigh_2020_All = pd.merge(left, right, on=['Site Name','Date'],how='outer', indicator=True) \n"
   ]
  },
  {
   "cell_type": "code",
   "execution_count": 4,
   "id": "0feb64a3",
   "metadata": {},
   "outputs": [],
   "source": [
    "left = Raleigh_2020_All\n",
    "right = df_2020_O\n",
    "Raleigh_2020_All = pd.merge(left, right, on=['Site Name','Date'],how='outer') \n"
   ]
  },
  {
   "cell_type": "code",
   "execution_count": 5,
   "id": "432b3ca1",
   "metadata": {},
   "outputs": [],
   "source": [
    "left = Raleigh_2020_All\n",
    "right = df_2020_SO\n",
    "Raleigh_2020_All = pd.merge(left, right, on=['Site Name','Date'],how='outer') \n"
   ]
  },
  {
   "cell_type": "code",
   "execution_count": 6,
   "id": "9625eecd",
   "metadata": {},
   "outputs": [],
   "source": [
    "left = Raleigh_2020_All\n",
    "right = df_2020_CO\n",
    "Raleigh_2020_All = pd.merge(left, right, on=['Site Name','Date'],how='outer') \n"
   ]
  },
  {
   "cell_type": "code",
   "execution_count": 7,
   "id": "ff4f01b8",
   "metadata": {},
   "outputs": [],
   "source": [
    "#LA_2016_All.columns\n"
   ]
  },
  {
   "cell_type": "code",
   "execution_count": 8,
   "id": "72add38e",
   "metadata": {},
   "outputs": [],
   "source": [
    "#LA_2016_All.count()\n"
   ]
  },
  {
   "cell_type": "code",
   "execution_count": 9,
   "id": "f68445ee",
   "metadata": {},
   "outputs": [],
   "source": [
    "Raleigh_2020_All.columns=['Site Name','Date','DMean PM10','PM_UNITS','PM10 AQI','PM-WEIGHT','LAt','Lng','DMax NO2','NO2 Units','NO2 AQI','NO2-WEIGHT','Merged','DMax Ozone','Ozone Units','Ozone AQI','OZONE-WEIGHT','DMax SO2','SO2 Units','SO2 AQI','SO2-WEIGHT','DMax CO','CO Units','CO AQI','CO-WEIGHT']\n",
    "\n"
   ]
  },
  {
   "cell_type": "code",
   "execution_count": 10,
   "id": "cd7a52bc",
   "metadata": {},
   "outputs": [],
   "source": [
    "#LA_2016_All.count()\n"
   ]
  },
  {
   "cell_type": "code",
   "execution_count": 11,
   "id": "05c03bf2",
   "metadata": {},
   "outputs": [],
   "source": [
    "Raleigh_2020_All.drop('Merged',axis=1,inplace=True)\n",
    "Raleigh_2020_All.to_csv(\"Raleigh2020DF.csv\")"
   ]
  },
  {
   "cell_type": "code",
   "execution_count": null,
   "id": "40700ceb",
   "metadata": {},
   "outputs": [],
   "source": []
  }
 ],
 "metadata": {
  "kernelspec": {
   "display_name": "Python [conda env:.conda-Machine_Learning]",
   "language": "python",
   "name": "conda-env-.conda-Machine_Learning-py"
  },
  "language_info": {
   "codemirror_mode": {
    "name": "ipython",
    "version": 3
   },
   "file_extension": ".py",
   "mimetype": "text/x-python",
   "name": "python",
   "nbconvert_exporter": "python",
   "pygments_lexer": "ipython3",
   "version": "3.8.10"
  },
  "widgets": {
   "application/vnd.jupyter.widget-state+json": {
    "state": {},
    "version_major": 2,
    "version_minor": 0
   }
  }
 },
 "nbformat": 4,
 "nbformat_minor": 5
}

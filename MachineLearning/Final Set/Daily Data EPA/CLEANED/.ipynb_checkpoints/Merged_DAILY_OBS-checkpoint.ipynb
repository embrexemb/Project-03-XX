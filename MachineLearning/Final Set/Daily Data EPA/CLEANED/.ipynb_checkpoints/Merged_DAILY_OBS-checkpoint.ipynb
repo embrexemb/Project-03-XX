{
 "cells": [
  {
   "cell_type": "code",
   "execution_count": null,
   "id": "51d717ff",
   "metadata": {},
   "outputs": [],
   "source": [
    "import pandas as pd\n",
    "import io\n",
    "from io import StringIO "
   ]
  },
  {
   "cell_type": "markdown",
   "id": "b0f9cc3d",
   "metadata": {},
   "source": [
    "READ THE CSV AND PERFORM BASIC DATA CLEANING"
   ]
  },
  {
   "cell_type": "code",
   "execution_count": null,
   "id": "4c21d46b",
   "metadata": {},
   "outputs": [],
   "source": [
    "df_01 = pd.read_csv(\"EP2016DF.csv\")\n",
    "#print(df_01.count())\n",
    "#print(df_01)\n",
    "#drop the null rows\n",
    "df_01 = df_01.dropna()\n",
    "#print(df_01.count())\n",
    "print(df_01['Site Name'].unique())"
   ]
  },
  {
   "cell_type": "code",
   "execution_count": null,
   "id": "dc0cef85",
   "metadata": {},
   "outputs": [],
   "source": [
    "#print(df_01.head())\n",
    "#pd.read_csv(io.StringIO(df_01.to_csv(index=False)))\n",
    "test_df=df_01.iloc[:,1:]\n",
    "test_df"
   ]
  },
  {
   "cell_type": "code",
   "execution_count": null,
   "id": "e7dcf108",
   "metadata": {},
   "outputs": [],
   "source": [
    "df_02 = pd.read_csv(\"EP2018DF.csv\")\n",
    "#print(df_02.count())\n",
    "#drop the null rows\n",
    "df_02 = df_02.dropna()\n",
    "#print(df_02['Site Name'].unique())"
   ]
  },
  {
   "cell_type": "code",
   "execution_count": null,
   "id": "9b6faf5c",
   "metadata": {},
   "outputs": [],
   "source": [
    "#print(df_02.head())\n",
    "#pd.read_csv(io.StringIO(df_01.to_csv(index=False)))\n",
    "test2_df=df_02.iloc[:,1:]\n",
    "test2_df"
   ]
  },
  {
   "cell_type": "code",
   "execution_count": null,
   "id": "0322eca2",
   "metadata": {},
   "outputs": [],
   "source": [
    "df_03 = pd.read_csv(\"EP2020DF.csv\")\n",
    "#print(df_01.count())\n",
    "#drop the null rows\n",
    "df_03 = df_03.dropna()\n",
    "print(df_03['Site Name'].unique())"
   ]
  },
  {
   "cell_type": "code",
   "execution_count": null,
   "id": "c201763e",
   "metadata": {
    "scrolled": true
   },
   "outputs": [],
   "source": [
    "#print(df_03.head())\n",
    "#pd.read_csv(io.StringIO(df_01.to_csv(index=False)))\n",
    "test3_df=df_03.iloc[:,1:]\n",
    "test3_df"
   ]
  },
  {
   "cell_type": "code",
   "execution_count": null,
   "id": "a49ed39f",
   "metadata": {},
   "outputs": [],
   "source": [
    "AllData=pd.DataFrame()\n",
    "AllData=AllData.append(test_df)\n"
   ]
  },
  {
   "cell_type": "code",
   "execution_count": null,
   "id": "129512fd",
   "metadata": {},
   "outputs": [],
   "source": [
    "AllData=AllData.append(test2_df)"
   ]
  },
  {
   "cell_type": "code",
   "execution_count": null,
   "id": "4cdf914e",
   "metadata": {},
   "outputs": [],
   "source": [
    "AllData=AllData.append(test3_df)"
   ]
  },
  {
   "cell_type": "code",
   "execution_count": null,
   "id": "1d6dcae7",
   "metadata": {},
   "outputs": [],
   "source": [
    "AllData.to_csv(\"CHMerged.csv\")"
   ]
  },
  {
   "cell_type": "code",
   "execution_count": null,
   "id": "adcaf842",
   "metadata": {},
   "outputs": [],
   "source": [
    "AllData"
   ]
  },
  {
   "cell_type": "code",
   "execution_count": null,
   "id": "25a95dbe",
   "metadata": {},
   "outputs": [],
   "source": []
  }
 ],
 "metadata": {
  "kernelspec": {
   "display_name": "Python [conda env:.conda-Machine_Learning]",
   "language": "python",
   "name": "conda-env-.conda-Machine_Learning-py"
  },
  "language_info": {
   "codemirror_mode": {
    "name": "ipython",
    "version": 3
   },
   "file_extension": ".py",
   "mimetype": "text/x-python",
   "name": "python",
   "nbconvert_exporter": "python",
   "pygments_lexer": "ipython3",
   "version": "3.8.10"
  },
  "widgets": {
   "application/vnd.jupyter.widget-state+json": {
    "state": {},
    "version_major": 2,
    "version_minor": 0
   }
  }
 },
 "nbformat": 4,
 "nbformat_minor": 5
}

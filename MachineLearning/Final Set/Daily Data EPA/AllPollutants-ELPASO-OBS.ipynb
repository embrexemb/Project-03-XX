{
 "cells": [
  {
   "cell_type": "code",
   "execution_count": 1,
   "id": "1cb2f947",
   "metadata": {},
   "outputs": [],
   "source": [
    "import pandas as pd\n",
    "import numpy as np\n",
    "\n",
    "# Hide warning messages in notebook\n",
    "import warnings\n",
    "warnings.filterwarnings('ignore')"
   ]
  },
  {
   "cell_type": "markdown",
   "id": "07233f7f",
   "metadata": {},
   "source": [
    "2016 Data"
   ]
  },
  {
   "cell_type": "code",
   "execution_count": 2,
   "id": "73982df7",
   "metadata": {},
   "outputs": [
    {
     "data": {
      "text/html": [
       "<div>\n",
       "<style scoped>\n",
       "    .dataframe tbody tr th:only-of-type {\n",
       "        vertical-align: middle;\n",
       "    }\n",
       "\n",
       "    .dataframe tbody tr th {\n",
       "        vertical-align: top;\n",
       "    }\n",
       "\n",
       "    .dataframe thead th {\n",
       "        text-align: right;\n",
       "    }\n",
       "</style>\n",
       "<table border=\"1\" class=\"dataframe\">\n",
       "  <thead>\n",
       "    <tr style=\"text-align: right;\">\n",
       "      <th></th>\n",
       "      <th>Site Name</th>\n",
       "      <th>Date</th>\n",
       "      <th>Daily Mean PM10 Concentration</th>\n",
       "      <th>UNITS</th>\n",
       "      <th>DAILY_AQI_VALUE</th>\n",
       "      <th>DAILY_OBS_COUNT</th>\n",
       "      <th>SITE_LATITUDE</th>\n",
       "      <th>SITE_LONGITUDE</th>\n",
       "    </tr>\n",
       "  </thead>\n",
       "  <tbody>\n",
       "    <tr>\n",
       "      <th>0</th>\n",
       "      <td>Ivanhoe</td>\n",
       "      <td>10/27/2016</td>\n",
       "      <td>16</td>\n",
       "      <td>ug/m3 SC</td>\n",
       "      <td>15</td>\n",
       "      <td>1</td>\n",
       "      <td>31.785769</td>\n",
       "      <td>-106.323578</td>\n",
       "    </tr>\n",
       "    <tr>\n",
       "      <th>1</th>\n",
       "      <td>Ivanhoe</td>\n",
       "      <td>11/2/2016</td>\n",
       "      <td>13</td>\n",
       "      <td>ug/m3 SC</td>\n",
       "      <td>12</td>\n",
       "      <td>1</td>\n",
       "      <td>31.785769</td>\n",
       "      <td>-106.323578</td>\n",
       "    </tr>\n",
       "    <tr>\n",
       "      <th>2</th>\n",
       "      <td>Ivanhoe</td>\n",
       "      <td>11/8/2016</td>\n",
       "      <td>7</td>\n",
       "      <td>ug/m3 SC</td>\n",
       "      <td>6</td>\n",
       "      <td>1</td>\n",
       "      <td>31.785769</td>\n",
       "      <td>-106.323578</td>\n",
       "    </tr>\n",
       "    <tr>\n",
       "      <th>3</th>\n",
       "      <td>Ivanhoe</td>\n",
       "      <td>11/14/2016</td>\n",
       "      <td>25</td>\n",
       "      <td>ug/m3 SC</td>\n",
       "      <td>23</td>\n",
       "      <td>1</td>\n",
       "      <td>31.785769</td>\n",
       "      <td>-106.323578</td>\n",
       "    </tr>\n",
       "    <tr>\n",
       "      <th>4</th>\n",
       "      <td>Ivanhoe</td>\n",
       "      <td>11/20/2016</td>\n",
       "      <td>18</td>\n",
       "      <td>ug/m3 SC</td>\n",
       "      <td>17</td>\n",
       "      <td>1</td>\n",
       "      <td>31.785769</td>\n",
       "      <td>-106.323578</td>\n",
       "    </tr>\n",
       "    <tr>\n",
       "      <th>...</th>\n",
       "      <td>...</td>\n",
       "      <td>...</td>\n",
       "      <td>...</td>\n",
       "      <td>...</td>\n",
       "      <td>...</td>\n",
       "      <td>...</td>\n",
       "      <td>...</td>\n",
       "      <td>...</td>\n",
       "    </tr>\n",
       "    <tr>\n",
       "      <th>147</th>\n",
       "      <td>Ojo De Agua</td>\n",
       "      <td>10/27/2016</td>\n",
       "      <td>27</td>\n",
       "      <td>ug/m3 SC</td>\n",
       "      <td>25</td>\n",
       "      <td>1</td>\n",
       "      <td>31.862470</td>\n",
       "      <td>-106.547300</td>\n",
       "    </tr>\n",
       "    <tr>\n",
       "      <th>148</th>\n",
       "      <td>Ojo De Agua</td>\n",
       "      <td>11/8/2016</td>\n",
       "      <td>10</td>\n",
       "      <td>ug/m3 SC</td>\n",
       "      <td>9</td>\n",
       "      <td>1</td>\n",
       "      <td>31.862470</td>\n",
       "      <td>-106.547300</td>\n",
       "    </tr>\n",
       "    <tr>\n",
       "      <th>149</th>\n",
       "      <td>Ojo De Agua</td>\n",
       "      <td>12/2/2016</td>\n",
       "      <td>31</td>\n",
       "      <td>ug/m3 SC</td>\n",
       "      <td>29</td>\n",
       "      <td>1</td>\n",
       "      <td>31.862470</td>\n",
       "      <td>-106.547300</td>\n",
       "    </tr>\n",
       "    <tr>\n",
       "      <th>150</th>\n",
       "      <td>Ojo De Agua</td>\n",
       "      <td>12/14/2016</td>\n",
       "      <td>7</td>\n",
       "      <td>ug/m3 SC</td>\n",
       "      <td>6</td>\n",
       "      <td>1</td>\n",
       "      <td>31.862470</td>\n",
       "      <td>-106.547300</td>\n",
       "    </tr>\n",
       "    <tr>\n",
       "      <th>151</th>\n",
       "      <td>Ojo De Agua</td>\n",
       "      <td>12/26/2016</td>\n",
       "      <td>6</td>\n",
       "      <td>ug/m3 SC</td>\n",
       "      <td>6</td>\n",
       "      <td>1</td>\n",
       "      <td>31.862470</td>\n",
       "      <td>-106.547300</td>\n",
       "    </tr>\n",
       "  </tbody>\n",
       "</table>\n",
       "<p>152 rows × 8 columns</p>\n",
       "</div>"
      ],
      "text/plain": [
       "       Site Name        Date  Daily Mean PM10 Concentration     UNITS  \\\n",
       "0        Ivanhoe  10/27/2016                             16  ug/m3 SC   \n",
       "1        Ivanhoe   11/2/2016                             13  ug/m3 SC   \n",
       "2        Ivanhoe   11/8/2016                              7  ug/m3 SC   \n",
       "3        Ivanhoe  11/14/2016                             25  ug/m3 SC   \n",
       "4        Ivanhoe  11/20/2016                             18  ug/m3 SC   \n",
       "..           ...         ...                            ...       ...   \n",
       "147  Ojo De Agua  10/27/2016                             27  ug/m3 SC   \n",
       "148  Ojo De Agua   11/8/2016                             10  ug/m3 SC   \n",
       "149  Ojo De Agua   12/2/2016                             31  ug/m3 SC   \n",
       "150  Ojo De Agua  12/14/2016                              7  ug/m3 SC   \n",
       "151  Ojo De Agua  12/26/2016                              6  ug/m3 SC   \n",
       "\n",
       "     DAILY_AQI_VALUE  DAILY_OBS_COUNT  SITE_LATITUDE  SITE_LONGITUDE  \n",
       "0                 15                1      31.785769     -106.323578  \n",
       "1                 12                1      31.785769     -106.323578  \n",
       "2                  6                1      31.785769     -106.323578  \n",
       "3                 23                1      31.785769     -106.323578  \n",
       "4                 17                1      31.785769     -106.323578  \n",
       "..               ...              ...            ...             ...  \n",
       "147               25                1      31.862470     -106.547300  \n",
       "148                9                1      31.862470     -106.547300  \n",
       "149               29                1      31.862470     -106.547300  \n",
       "150                6                1      31.862470     -106.547300  \n",
       "151                6                1      31.862470     -106.547300  \n",
       "\n",
       "[152 rows x 8 columns]"
      ]
     },
     "execution_count": 2,
     "metadata": {},
     "output_type": "execute_result"
    }
   ],
   "source": [
    "#files to load \n",
    "ElPaso_CO_2016 = \"CO-CarbonMonoxide/2016-ElPaso-CO.csv\"\n",
    "ElPaso_NO_2016 = \"NitrogenDioxide/2016-ElPaso-NO2.csv\"\n",
    "ElPaso_O_2016 = \"Ozone/2016-ElPaso-Ozone.csv\"\n",
    "#no lead for ElPaso\n",
    "ElPaso_PM_2016 = \"PM-ParticulateMatter/2016-ElPaso-PM10.csv\"\n",
    "ElPaso_SO_2016 = \"SulfurDioxide/2016-ElPaso-SO2.csv\"\n",
    "\n",
    "#Read files into Pandas dataframe\n",
    "\n",
    "df_2016_CO = pd.read_csv(ElPaso_CO_2016)\n",
    "df_2016_NO = pd.read_csv(ElPaso_NO_2016)\n",
    "df_2016_O = pd.read_csv(ElPaso_O_2016)\n",
    "df_2016_PM = pd.read_csv(ElPaso_PM_2016)\n",
    "df_2016_SO = pd.read_csv(ElPaso_SO_2016)\n",
    "\n",
    "\n",
    "df_2016_PM=df_2016_PM[['Site Name','Date','Daily Mean PM10 Concentration','UNITS','DAILY_AQI_VALUE', 'DAILY_OBS_COUNT', 'SITE_LATITUDE','SITE_LONGITUDE' ]]\n",
    "\n",
    "df_2016_CO=df_2016_CO[['Site Name','Date','Daily Max 8-hour CO Concentration','UNITS','DAILY_AQI_VALUE','DAILY_OBS_COUNT']]\n",
    "\n",
    "df_2016_NO=df_2016_NO[['Site Name','Date','Daily Max 1-hour NO2 Concentration','UNITS','DAILY_AQI_VALUE','DAILY_OBS_COUNT']]\n",
    "\n",
    "df_2016_O=df_2016_O[['Site Name','Date','Daily Max 8-hour Ozone Concentration','UNITS','DAILY_AQI_VALUE','DAILY_OBS_COUNT']]\n",
    "\n",
    "df_2016_SO=df_2016_SO[['Site Name','Date','Daily Max 1-hour SO2 Concentration','UNITS','DAILY_AQI_VALUE','DAILY_OBS_COUNT']]\n",
    "\n",
    "\n",
    "df_2016_PM\n",
    "\n"
   ]
  },
  {
   "cell_type": "markdown",
   "id": "76ff2ccd",
   "metadata": {},
   "source": [
    "print(df_2016_O.count())\n",
    "print(df_2016_CO.count())\n",
    "print(df_2016_NO.count())\n",
    "print(df_2016_PM.count())\n",
    "print(df_2016_SO.count()) "
   ]
  },
  {
   "cell_type": "markdown",
   "id": "b31c03f3",
   "metadata": {},
   "source": [
    "Scratched\n",
    "#Cheyenne_2016_All = left.join(right, on=['Site Name'])\n",
    "#Cheyenne_2016_All = pd.concat([left, right], axis=1)\n",
    "#Cheyenne_2016_All = pd.merge(left.drop_duplicates(),right, how='inner', on='Site Name', validate='many_to_many')\n",
    "#C_2016=pd.merge(left.drop_duplicates(), right, how = 'inner',on=['col_1','col_2'])\n",
    "#C_2016=pd.concat([left, right],axis=1 )"
   ]
  },
  {
   "cell_type": "code",
   "execution_count": 3,
   "id": "de5e9cd9",
   "metadata": {},
   "outputs": [],
   "source": [
    "left = df_2016_PM\n",
    "right = df_2016_NO\n",
    "ElPaso_2016_All = pd.merge(left, right, on=['Site Name','Date'],how='outer', indicator=True) \n"
   ]
  },
  {
   "cell_type": "code",
   "execution_count": 4,
   "id": "0feb64a3",
   "metadata": {},
   "outputs": [],
   "source": [
    "left = ElPaso_2016_All\n",
    "right = df_2016_O\n",
    "ElPaso_2016_All = pd.merge(left, right, on=['Site Name','Date'],how='outer') \n"
   ]
  },
  {
   "cell_type": "code",
   "execution_count": 5,
   "id": "432b3ca1",
   "metadata": {},
   "outputs": [],
   "source": [
    "left = ElPaso_2016_All\n",
    "right = df_2016_SO\n",
    "ElPaso_2016_All = pd.merge(left, right, on=['Site Name','Date'],how='outer') \n"
   ]
  },
  {
   "cell_type": "code",
   "execution_count": 6,
   "id": "9625eecd",
   "metadata": {},
   "outputs": [],
   "source": [
    "left = ElPaso_2016_All\n",
    "right = df_2016_CO\n",
    "ElPaso_2016_All = pd.merge(left, right, on=['Site Name','Date'],how='outer') \n"
   ]
  },
  {
   "cell_type": "code",
   "execution_count": 7,
   "id": "ff4f01b8",
   "metadata": {},
   "outputs": [
    {
     "data": {
      "text/plain": [
       "Index(['Site Name', 'Date', 'Daily Mean PM10 Concentration', 'UNITS_x',\n",
       "       'DAILY_AQI_VALUE_x', 'DAILY_OBS_COUNT_x', 'SITE_LATITUDE',\n",
       "       'SITE_LONGITUDE', 'Daily Max 1-hour NO2 Concentration', 'UNITS_y',\n",
       "       'DAILY_AQI_VALUE_y', 'DAILY_OBS_COUNT_y', '_merge',\n",
       "       'Daily Max 8-hour Ozone Concentration', 'UNITS_x', 'DAILY_AQI_VALUE_x',\n",
       "       'DAILY_OBS_COUNT_x', 'Daily Max 1-hour SO2 Concentration', 'UNITS_y',\n",
       "       'DAILY_AQI_VALUE_y', 'DAILY_OBS_COUNT_y',\n",
       "       'Daily Max 8-hour CO Concentration', 'UNITS', 'DAILY_AQI_VALUE',\n",
       "       'DAILY_OBS_COUNT'],\n",
       "      dtype='object')"
      ]
     },
     "execution_count": 7,
     "metadata": {},
     "output_type": "execute_result"
    }
   ],
   "source": [
    "ElPaso_2016_All.columns\n"
   ]
  },
  {
   "cell_type": "code",
   "execution_count": 8,
   "id": "72add38e",
   "metadata": {},
   "outputs": [
    {
     "data": {
      "text/plain": [
       "Site Name                               2576\n",
       "Date                                    2576\n",
       "Daily Mean PM10 Concentration            152\n",
       "UNITS_x                                  152\n",
       "DAILY_AQI_VALUE_x                        152\n",
       "DAILY_OBS_COUNT_x                        152\n",
       "SITE_LATITUDE                            152\n",
       "SITE_LONGITUDE                           152\n",
       "Daily Max 1-hour NO2 Concentration       972\n",
       "UNITS_y                                  972\n",
       "DAILY_AQI_VALUE_y                        972\n",
       "DAILY_OBS_COUNT_y                        972\n",
       "_merge                                  1124\n",
       "Daily Max 8-hour Ozone Concentration    2179\n",
       "UNITS_x                                 2179\n",
       "DAILY_AQI_VALUE_x                       2179\n",
       "DAILY_OBS_COUNT_x                       2179\n",
       "Daily Max 1-hour SO2 Concentration       874\n",
       "UNITS_y                                  874\n",
       "DAILY_AQI_VALUE_y                        874\n",
       "DAILY_OBS_COUNT_y                        874\n",
       "Daily Max 8-hour CO Concentration        873\n",
       "UNITS                                    873\n",
       "DAILY_AQI_VALUE                          873\n",
       "DAILY_OBS_COUNT                          873\n",
       "dtype: int64"
      ]
     },
     "execution_count": 8,
     "metadata": {},
     "output_type": "execute_result"
    }
   ],
   "source": [
    "ElPaso_2016_All.count()\n"
   ]
  },
  {
   "cell_type": "code",
   "execution_count": 9,
   "id": "f68445ee",
   "metadata": {},
   "outputs": [],
   "source": [
    "ElPaso_2016_All.columns=['Site Name','Date','DMean PM10','PM_UNITS','PM10 AQI','PM-WEIGHT','Lat','Lng','DMax NO2','NO2 Units','NO2 AQI','NO2-WEIGHT','Merged','DMax Ozone','Ozone Units','Ozone AQI','OZONE-WEIGHT','DMax SO2','SO2 Units','SO2 AQI','SO2-WEIGHT','DMax CO','CO Units','CO AQI','CO-WEIGHT']\n",
    "\n"
   ]
  },
  {
   "cell_type": "code",
   "execution_count": 10,
   "id": "cd7a52bc",
   "metadata": {},
   "outputs": [
    {
     "data": {
      "text/plain": [
       "Site Name       2576\n",
       "Date            2576\n",
       "DMean PM10       152\n",
       "PM_UNITS         152\n",
       "PM10 AQI         152\n",
       "PM-WEIGHT        152\n",
       "Lat              152\n",
       "Lng              152\n",
       "DMax NO2         972\n",
       "NO2 Units        972\n",
       "NO2 AQI          972\n",
       "NO2-WEIGHT       972\n",
       "Merged          1124\n",
       "DMax Ozone      2179\n",
       "Ozone Units     2179\n",
       "Ozone AQI       2179\n",
       "OZONE-WEIGHT    2179\n",
       "DMax SO2         874\n",
       "SO2 Units        874\n",
       "SO2 AQI          874\n",
       "SO2-WEIGHT       874\n",
       "DMax CO          873\n",
       "CO Units         873\n",
       "CO AQI           873\n",
       "CO-WEIGHT        873\n",
       "dtype: int64"
      ]
     },
     "execution_count": 10,
     "metadata": {},
     "output_type": "execute_result"
    }
   ],
   "source": [
    "ElPaso_2016_All.count()\n"
   ]
  },
  {
   "cell_type": "code",
   "execution_count": 11,
   "id": "05c03bf2",
   "metadata": {},
   "outputs": [],
   "source": [
    "ElPaso_2016_All.drop('Merged',axis=1,inplace=True)\n",
    "ElPaso_2016_All.to_csv(\"EP2016DF.csv\")"
   ]
  },
  {
   "cell_type": "code",
   "execution_count": null,
   "id": "40700ceb",
   "metadata": {},
   "outputs": [],
   "source": []
  }
 ],
 "metadata": {
  "kernelspec": {
   "display_name": "Python [conda env:.conda-Machine_Learning]",
   "language": "python",
   "name": "conda-env-.conda-Machine_Learning-py"
  },
  "language_info": {
   "codemirror_mode": {
    "name": "ipython",
    "version": 3
   },
   "file_extension": ".py",
   "mimetype": "text/x-python",
   "name": "python",
   "nbconvert_exporter": "python",
   "pygments_lexer": "ipython3",
   "version": "3.8.10"
  },
  "widgets": {
   "application/vnd.jupyter.widget-state+json": {
    "state": {},
    "version_major": 2,
    "version_minor": 0
   }
  }
 },
 "nbformat": 4,
 "nbformat_minor": 5
}
